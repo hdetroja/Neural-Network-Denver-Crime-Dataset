{
 "cells": [
  {
   "cell_type": "markdown",
   "metadata": {},
   "source": [
    "# Assignment #3 - Neural Networks"
   ]
  },
  {
   "cell_type": "markdown",
   "metadata": {},
   "source": [
    "<font color=\"blue\"> <h3>Heet Detroja</h3></font>"
   ]
  },
  {
   "cell_type": "markdown",
   "metadata": {},
   "source": [
    "# I. Overview\n",
    "\n",
    "The objective here is to train a Neural Network for regression on the regression data we already used on Assign1, we will use  5-fold cross validation to find out the best neural network parameters and present them. The neural network will predict the appliances usage depending on the features in the dataset. We also implemented the Neural Network for Non-Linear Logistic Regression on the classification dataset we used in Assign2, we will again use 5-fold cross validation and find the best parameter and present the cross validation accuracies. Here, the neural network will classify if a reported incident is crime or not on the Denver dataset."
   ]
  },
  {
   "cell_type": "markdown",
   "metadata": {},
   "source": [
    "# II. Data"
   ]
  },
  {
   "cell_type": "markdown",
   "metadata": {},
   "source": [
    "## Description of Data\n",
    "\n",
    "The dataset used here for regression is appliances energy prediction dataset from the UCI machine learning repository.The dataset consists of 19735 data samples and 29 feature values,they are used to predict the energy consumption of appliances.The data samples were recorded for 4.5 months with time difference of 10 mins between each sample.The feature values of the data set are:\n",
    "<br>\n",
    "Date and time\n",
    "<br>\n",
    "Appliances energy consumption in Wh\n",
    "<br>\n",
    "Lights energy consumption in Wh\n",
    "<br>\n",
    "T1 = temperature in kitchen area in celsius\n",
    "<br>\n",
    "RH_1 = humidity in kitchen area in percentage\n",
    "<br>\n",
    "T2 = temperature in living room area in celsius\n",
    "<br>\n",
    "RH_2 = humidity in living room area in percentage\n",
    "<br>\n",
    "T3 = temperature in laundary room area in celsius\n",
    "<br>\n",
    "RH_3 = humidity in laundary room area in percentage\n",
    "<br>\n",
    "T4 = temperature in office room in celsius\n",
    "<br>\n",
    "RH_4 = humidity in office room in percentage\n",
    "<br>\n",
    "T5 = temperature in bathroom in celsius\n",
    "<br>\n",
    "RH_5 = humidity in bathroom in percentage\n",
    "<br>\n",
    "T6 = temperature outside the building (north side) in celsius\n",
    "<br>\n",
    "RH_6 = humidity outside the building (north side) in percentage\n",
    "<br>\n",
    "T7 = temperature in ironing room in celsius\n",
    "<br>\n",
    "RH_7 = humidity in ironing room in percentage\n",
    "<br>\n",
    "T8 = temperature in teenager room in celsius\n",
    "<br>\n",
    "RH_8 = humidity in teenager room in percentage\n",
    "<br>\n",
    "T9 = temperature in parents room in celsius\n",
    "<br>\n",
    "RH_9 = humidity in parents room in percentage\n",
    "<br>\n",
    "T_out = Temperature outside (from Chievres weather station) in degree Celsius\n",
    "<br>\n",
    "Press_mm_hg = Pressure (from Chievres weather station) in mm Hg\n",
    "<br>\n",
    "RH_out = Humidity outside (from Chievres weather station) in percentage\n",
    "<br>\n",
    "Wind speed =  (from Chievres weather station) in m/s\n",
    "<br>\n",
    "Visibility = (from Chievres weather station) in km\n",
    "<br>\n",
    "Tdewpoint = (from Chievres weather station) degree celsius\n",
    "<br>\n",
    "rv1 = Random variable 1\n",
    "<br>\n",
    "rv2 = Random variable 2\n",
    "<br>\n",
    "the two random variables are taken for testing the model and to filter out non predictive attributes.\n",
    "The dataset and information is available on UCI machine learning repository.\n"
   ]
  },
  {
   "cell_type": "markdown",
   "metadata": {},
   "source": [
    "### Reading the Data\n",
    "\n",
    "Reading the .csv file for processing the data."
   ]
  },
  {
   "cell_type": "code",
   "execution_count": 1,
   "metadata": {},
   "outputs": [],
   "source": [
    "import matplotlib.pyplot as plt\n",
    "import pandas as pd\n",
    "\n",
    "dataset=pd.read_csv('energydata_complete.csv')"
   ]
  },
  {
   "cell_type": "markdown",
   "metadata": {},
   "source": [
    "### Preprocessing the Data\n",
    "\n",
    "Taking the mean of temperature and humidity for all the rooms to plot it on graph."
   ]
  },
  {
   "cell_type": "code",
   "execution_count": 2,
   "metadata": {},
   "outputs": [],
   "source": [
    "import numpy as np\n",
    "import pandas as pd\n",
    "dataset = pd.read_csv('energydata_complete.csv')\n",
    "col1 = dataset.loc[:,'T1']\n",
    "col2 = dataset.loc[:,'T2']\n",
    "col3 = dataset.loc[:,'T3']\n",
    "col4 = dataset.loc[:,'T4']\n",
    "col5 = dataset.loc[:,'T5']\n",
    "col6 = dataset.loc[:,'T6']\n",
    "col7 = dataset.loc[:,'T7']\n",
    "col8 = dataset.loc[:,'T8']\n",
    "col9 = dataset.loc[:,'T9']\n",
    "tempmean = (col1+col2+col3+col4+col5+col6+col7+col8+col9)/9\n",
    "col1 = dataset.loc[:,'RH_1']\n",
    "col2 = dataset.loc[:,'RH_2']\n",
    "col3 = dataset.loc[:,'RH_3']\n",
    "col4 = dataset.loc[:,'RH_4']\n",
    "col5 = dataset.loc[:,'RH_5']\n",
    "col6 = dataset.loc[:,'RH_6']\n",
    "col7 = dataset.loc[:,'RH_7']\n",
    "col8 = dataset.loc[:,'RH_8']\n",
    "col9 = dataset.loc[:,'RH_9']\n",
    "hummean = (col1+col2+col3+col4+col5+col6+col7+col8+col9)/9"
   ]
  },
  {
   "cell_type": "markdown",
   "metadata": {},
   "source": [
    "Checking for missing data"
   ]
  },
  {
   "cell_type": "code",
   "execution_count": 3,
   "metadata": {
    "scrolled": false
   },
   "outputs": [
    {
     "data": {
      "text/plain": [
       "date           0\n",
       "Appliances     0\n",
       "lights         0\n",
       "T1             0\n",
       "RH_1           0\n",
       "T2             0\n",
       "RH_2           0\n",
       "T3             0\n",
       "RH_3           0\n",
       "T4             0\n",
       "RH_4           0\n",
       "T5             0\n",
       "RH_5           0\n",
       "T6             0\n",
       "RH_6           0\n",
       "T7             0\n",
       "RH_7           0\n",
       "T8             0\n",
       "RH_8           0\n",
       "T9             0\n",
       "RH_9           0\n",
       "T_out          0\n",
       "Press_mm_hg    0\n",
       "RH_out         0\n",
       "Windspeed      0\n",
       "Visibility     0\n",
       "Tdewpoint      0\n",
       "rv1            0\n",
       "rv2            0\n",
       "dtype: int64"
      ]
     },
     "execution_count": 3,
     "metadata": {},
     "output_type": "execute_result"
    }
   ],
   "source": [
    "dataset.isnull().sum()"
   ]
  },
  {
   "cell_type": "markdown",
   "metadata": {},
   "source": [
    "## Plots to Visualize Data,Reading and Analyzing the plots"
   ]
  },
  {
   "cell_type": "code",
   "execution_count": 4,
   "metadata": {},
   "outputs": [
    {
     "data": {
      "image/png": "[encoded data removed]",
      "text/plain": [
       "<Figure size 432x288 with 1 Axes>"
      ]
     },
     "metadata": {
      "needs_background": "light"
     },
     "output_type": "display_data"
    }
   ],
   "source": [
    "plt.scatter(tempmean,dataset[\"Appliances\"],color='red')\n",
    "plt.title(\"Inside Temperature vs Appliances\")\n",
    "plt.xlabel(\"Temperature\")\n",
    "plt.ylabel(\"Appliances\")\n",
    "plt.show()"
   ]
  },
  {
   "cell_type": "markdown",
   "metadata": {},
   "source": [
    "### Inside Temperature vs Appliances\n",
    "This scatter plots shows the effects of the temperatures of all the rooms on the appliances energy consumption,as we see few observations at 16 degree celcius have energy consumption as high as 1000 Wh this may be due to use of appliances like air condition to keep the low temperatures. "
   ]
  },
  {
   "cell_type": "code",
   "execution_count": 5,
   "metadata": {},
   "outputs": [
    {
     "data": {
      "image/png": "[encoded data removed]",
      "text/plain": [
       "<Figure size 432x288 with 1 Axes>"
      ]
     },
     "metadata": {
      "needs_background": "light"
     },
     "output_type": "display_data"
    }
   ],
   "source": [
    "plt.scatter(hummean,dataset[\"Appliances\"],color='blue')\n",
    "plt.title(\"Inside Humidity vs Appliances\")\n",
    "plt.xlabel(\"Humidity\")\n",
    "plt.ylabel(\"Appliances\")\n",
    "plt.show()"
   ]
  },
  {
   "cell_type": "markdown",
   "metadata": {},
   "source": [
    "### Inside Humidity vs Appliances\n",
    "This scatter plots shows the effects of the humidity of all the rooms on the appliances energy consumption,as we see with humidity the appliance usage increases at 40 - 45 %. \n"
   ]
  },
  {
   "cell_type": "code",
   "execution_count": 6,
   "metadata": {},
   "outputs": [
    {
     "data": {
      "image/png": "[encoded data removed]",
      "text/plain": [
       "<Figure size 432x288 with 1 Axes>"
      ]
     },
     "metadata": {
      "needs_background": "light"
     },
     "output_type": "display_data"
    }
   ],
   "source": [
    "plt.scatter(dataset[\"T_out\"],dataset[\"Appliances\"],color='green')\n",
    "plt.title(\"Outside Temperature vs Appliances\")\n",
    "plt.xlabel(\"Temperature\")\n",
    "plt.ylabel(\"Appliances\")\n",
    "plt.show()"
   ]
  },
  {
   "cell_type": "markdown",
   "metadata": {},
   "source": [
    "### Outside Temperature vs Appliances\n",
    "This scatter plots shows the effects of the outside temperature on the appliances energy consumption,as we see few observations at low temp have energy consumption as high as 1000 Wh this may be due to use of heater in low temperatures. "
   ]
  },
  {
   "cell_type": "code",
   "execution_count": 7,
   "metadata": {},
   "outputs": [
    {
     "data": {
      "image/png": "[encoded data removed]",
      "text/plain": [
       "<Figure size 432x288 with 1 Axes>"
      ]
     },
     "metadata": {
      "needs_background": "light"
     },
     "output_type": "display_data"
    }
   ],
   "source": [
    "plt.scatter(dataset[\"RH_out\"],dataset[\"Appliances\"],color='brown')\n",
    "plt.title(\"Outside Humidity vs Appliances\")\n",
    "plt.xlabel(\"Humidity\")\n",
    "plt.ylabel(\"Appliances\")\n",
    "plt.show()"
   ]
  },
  {
   "cell_type": "markdown",
   "metadata": {},
   "source": [
    "### Outside Humidity vs Appliances\n",
    "This scatter plots shows the effects of outside humidity on the appliances energy consumption,as we see with the increase in humidity the energy usage increases to keep the inside humidity and temperature at desired condition. "
   ]
  },
  {
   "cell_type": "code",
   "execution_count": 8,
   "metadata": {},
   "outputs": [
    {
     "data": {
      "image/png": "[encoded data removed]",
      "text/plain": [
       "<Figure size 432x288 with 1 Axes>"
      ]
     },
     "metadata": {
      "needs_background": "light"
     },
     "output_type": "display_data"
    }
   ],
   "source": [
    "plt.scatter(dataset[\"Visibility\"],dataset[\"Appliances\"],color='orange')\n",
    "plt.title(\"Outside Visibility vs Appliances\")\n",
    "plt.xlabel(\"Visibility\")\n",
    "plt.ylabel(\"Appliances\")\n",
    "plt.show()"
   ]
  },
  {
   "cell_type": "markdown",
   "metadata": {},
   "source": [
    "### Outside Visibility vs Appliances\n",
    "This scatter plots shows the effects of outside visibility on the appliances energy consumption,as we see with the visibilty changes with day and night the energy usage changes as lights will be used more during night and during day it would be less. "
   ]
  },
  {
   "cell_type": "markdown",
   "metadata": {},
   "source": [
    "Reading the data and preprocessing."
   ]
  },
  {
   "cell_type": "code",
   "execution_count": 9,
   "metadata": {},
   "outputs": [
    {
     "data": {
      "text/html": [
       "<div>\n",
       "<style scoped>\n",
       "    .dataframe tbody tr th:only-of-type {\n",
       "        vertical-align: middle;\n",
       "    }\n",
       "\n",
       "    .dataframe tbody tr th {\n",
       "        vertical-align: top;\n",
       "    }\n",
       "\n",
       "    .dataframe thead th {\n",
       "        text-align: right;\n",
       "    }\n",
       "</style>\n",
       "<table border=\"1\" class=\"dataframe\">\n",
       "  <thead>\n",
       "    <tr style=\"text-align: right;\">\n",
       "      <th></th>\n",
       "      <th>lights</th>\n",
       "      <th>T1</th>\n",
       "      <th>RH_1</th>\n",
       "      <th>T2</th>\n",
       "      <th>RH_2</th>\n",
       "      <th>T3</th>\n",
       "      <th>RH_3</th>\n",
       "      <th>T4</th>\n",
       "      <th>RH_4</th>\n",
       "      <th>T5</th>\n",
       "      <th>...</th>\n",
       "      <th>RH_7</th>\n",
       "      <th>T8</th>\n",
       "      <th>RH_8</th>\n",
       "      <th>T9</th>\n",
       "      <th>RH_9</th>\n",
       "      <th>T_out</th>\n",
       "      <th>RH_out</th>\n",
       "      <th>Windspeed</th>\n",
       "      <th>Visibility</th>\n",
       "      <th>Tdewpoint</th>\n",
       "    </tr>\n",
       "  </thead>\n",
       "  <tbody>\n",
       "    <tr>\n",
       "      <th>0</th>\n",
       "      <td>30</td>\n",
       "      <td>19.89</td>\n",
       "      <td>47.596667</td>\n",
       "      <td>19.2</td>\n",
       "      <td>44.790000</td>\n",
       "      <td>19.79</td>\n",
       "      <td>44.730000</td>\n",
       "      <td>19.000000</td>\n",
       "      <td>45.566667</td>\n",
       "      <td>17.166667</td>\n",
       "      <td>...</td>\n",
       "      <td>41.626667</td>\n",
       "      <td>18.2</td>\n",
       "      <td>48.900000</td>\n",
       "      <td>17.033333</td>\n",
       "      <td>45.53</td>\n",
       "      <td>6.600000</td>\n",
       "      <td>92.0</td>\n",
       "      <td>7.000000</td>\n",
       "      <td>63.000000</td>\n",
       "      <td>5.3</td>\n",
       "    </tr>\n",
       "    <tr>\n",
       "      <th>1</th>\n",
       "      <td>30</td>\n",
       "      <td>19.89</td>\n",
       "      <td>46.693333</td>\n",
       "      <td>19.2</td>\n",
       "      <td>44.722500</td>\n",
       "      <td>19.79</td>\n",
       "      <td>44.790000</td>\n",
       "      <td>19.000000</td>\n",
       "      <td>45.992500</td>\n",
       "      <td>17.166667</td>\n",
       "      <td>...</td>\n",
       "      <td>41.560000</td>\n",
       "      <td>18.2</td>\n",
       "      <td>48.863333</td>\n",
       "      <td>17.066667</td>\n",
       "      <td>45.56</td>\n",
       "      <td>6.483333</td>\n",
       "      <td>92.0</td>\n",
       "      <td>6.666667</td>\n",
       "      <td>59.166667</td>\n",
       "      <td>5.2</td>\n",
       "    </tr>\n",
       "    <tr>\n",
       "      <th>2</th>\n",
       "      <td>30</td>\n",
       "      <td>19.89</td>\n",
       "      <td>46.300000</td>\n",
       "      <td>19.2</td>\n",
       "      <td>44.626667</td>\n",
       "      <td>19.79</td>\n",
       "      <td>44.933333</td>\n",
       "      <td>18.926667</td>\n",
       "      <td>45.890000</td>\n",
       "      <td>17.166667</td>\n",
       "      <td>...</td>\n",
       "      <td>41.433333</td>\n",
       "      <td>18.2</td>\n",
       "      <td>48.730000</td>\n",
       "      <td>17.000000</td>\n",
       "      <td>45.50</td>\n",
       "      <td>6.366667</td>\n",
       "      <td>92.0</td>\n",
       "      <td>6.333333</td>\n",
       "      <td>55.333333</td>\n",
       "      <td>5.1</td>\n",
       "    </tr>\n",
       "    <tr>\n",
       "      <th>3</th>\n",
       "      <td>40</td>\n",
       "      <td>19.89</td>\n",
       "      <td>46.066667</td>\n",
       "      <td>19.2</td>\n",
       "      <td>44.590000</td>\n",
       "      <td>19.79</td>\n",
       "      <td>45.000000</td>\n",
       "      <td>18.890000</td>\n",
       "      <td>45.723333</td>\n",
       "      <td>17.166667</td>\n",
       "      <td>...</td>\n",
       "      <td>41.290000</td>\n",
       "      <td>18.1</td>\n",
       "      <td>48.590000</td>\n",
       "      <td>17.000000</td>\n",
       "      <td>45.40</td>\n",
       "      <td>6.250000</td>\n",
       "      <td>92.0</td>\n",
       "      <td>6.000000</td>\n",
       "      <td>51.500000</td>\n",
       "      <td>5.0</td>\n",
       "    </tr>\n",
       "    <tr>\n",
       "      <th>4</th>\n",
       "      <td>40</td>\n",
       "      <td>19.89</td>\n",
       "      <td>46.333333</td>\n",
       "      <td>19.2</td>\n",
       "      <td>44.530000</td>\n",
       "      <td>19.79</td>\n",
       "      <td>45.000000</td>\n",
       "      <td>18.890000</td>\n",
       "      <td>45.530000</td>\n",
       "      <td>17.200000</td>\n",
       "      <td>...</td>\n",
       "      <td>41.230000</td>\n",
       "      <td>18.1</td>\n",
       "      <td>48.590000</td>\n",
       "      <td>17.000000</td>\n",
       "      <td>45.40</td>\n",
       "      <td>6.133333</td>\n",
       "      <td>92.0</td>\n",
       "      <td>5.666667</td>\n",
       "      <td>47.666667</td>\n",
       "      <td>4.9</td>\n",
       "    </tr>\n",
       "  </tbody>\n",
       "</table>\n",
       "<p>5 rows × 24 columns</p>\n",
       "</div>"
      ],
      "text/plain": [
       "   lights     T1       RH_1    T2       RH_2     T3       RH_3         T4  \\\n",
       "0      30  19.89  47.596667  19.2  44.790000  19.79  44.730000  19.000000   \n",
       "1      30  19.89  46.693333  19.2  44.722500  19.79  44.790000  19.000000   \n",
       "2      30  19.89  46.300000  19.2  44.626667  19.79  44.933333  18.926667   \n",
       "3      40  19.89  46.066667  19.2  44.590000  19.79  45.000000  18.890000   \n",
       "4      40  19.89  46.333333  19.2  44.530000  19.79  45.000000  18.890000   \n",
       "\n",
       "        RH_4         T5  ...       RH_7    T8       RH_8         T9   RH_9  \\\n",
       "0  45.566667  17.166667  ...  41.626667  18.2  48.900000  17.033333  45.53   \n",
       "1  45.992500  17.166667  ...  41.560000  18.2  48.863333  17.066667  45.56   \n",
       "2  45.890000  17.166667  ...  41.433333  18.2  48.730000  17.000000  45.50   \n",
       "3  45.723333  17.166667  ...  41.290000  18.1  48.590000  17.000000  45.40   \n",
       "4  45.530000  17.200000  ...  41.230000  18.1  48.590000  17.000000  45.40   \n",
       "\n",
       "      T_out  RH_out  Windspeed  Visibility  Tdewpoint  \n",
       "0  6.600000    92.0   7.000000   63.000000        5.3  \n",
       "1  6.483333    92.0   6.666667   59.166667        5.2  \n",
       "2  6.366667    92.0   6.333333   55.333333        5.1  \n",
       "3  6.250000    92.0   6.000000   51.500000        5.0  \n",
       "4  6.133333    92.0   5.666667   47.666667        4.9  \n",
       "\n",
       "[5 rows x 24 columns]"
      ]
     },
     "execution_count": 9,
     "metadata": {},
     "output_type": "execute_result"
    }
   ],
   "source": [
    "dt=pd.DataFrame(dataset.iloc[:,1])\n",
    "d1=dataset.drop(['date','Appliances','rv1','rv2','Press_mm_hg'],axis=1)\n",
    "d1.head()"
   ]
  },
  {
   "cell_type": "markdown",
   "metadata": {},
   "source": [
    "# III,IV. Methods and Results\n",
    "## Summary for 5-fold Cross Validation\n",
    "\n",
    "Cross-validation is a statistical method used to estimate the skill of machine learning models. It has a single parameter k that refers to number of samples the given dataset is going to be divided into. Here we choosing k=5 therefore it is 5-fold cross validation.After splitting the dataset into 5 parts we will choose one portion as testing sample and the rest as training sample, we will repeat the same process with each k-fold and get the best suited parameter for the neural network which gives the best results."
   ]
  },
  {
   "cell_type": "code",
   "execution_count": 10,
   "metadata": {},
   "outputs": [],
   "source": [
    "K=5\n",
    "nfold=0\n",
    "res=[]\n",
    "testErrs=[]\n",
    "def partition(x):\n",
    "    partition= len (x)//K\n",
    "    a=x[0:partition]\n",
    "    b=x[partition:partition*2]\n",
    "    c=x[partition*2:partition*3]\n",
    "    d=x[partition*3:partition*4]\n",
    "    e=x[partition*4:partition*5]\n",
    "    partdata = [a,b,c,d,e]\n",
    "    return partdata\n",
    "\n",
    "bparameter=[]\n",
    "final=[]\n",
    "bparamlist=[]\n",
    "\n",
    "def cross_validatation(X, Y, parameters):\n",
    "    x_parti = partition(X)\n",
    "    y_parti = partition(Y)\n",
    " \n",
    "    for i in range(K): \n",
    "        x_test = x_parti[i]\n",
    "        y_test = y_parti[i]\n",
    "        rmse=[]\n",
    "        params=[] \n",
    "        \n",
    "        for j in range(K): \n",
    "            print(\"K is : \",j)\n",
    "            if i == j: \n",
    "                continue \n",
    "            x_i = x_parti[j]\n",
    "            y_i = y_parti[j]\n",
    "            x_train = x_parti[not i and not j]\n",
    "            y_train = y_parti[not i and not j]\n",
    "\n",
    "            for param in parameters:\n",
    "                model = NeuralNet(param)\n",
    "                model.train(x_train, y_train)\n",
    "                predicted = model.use(x_i)\n",
    "                \n",
    "                err = np.sqrt(mean_squared_error(y_i, predicted))\n",
    "                testErrs.append(err)\n",
    "                res.append(param)\n",
    "                \n",
    "            print(res)\n",
    "            print(testErrs)\n",
    "            print(min(testErrs))\n",
    "            print(res[np.argmin(testErrs)])\n",
    "            rmse.append(min(testErrs))\n",
    "            params.append(res[np.argmin(testErrs)])\n",
    "         \n",
    "        print(params)\n",
    "        print(rmse)\n",
    "        print(res[np.argmin(rmse)])\n",
    "        bparameter=res[np.argmin(rmse)]\n",
    "        bmodel = NeuralNet(bparameter)\n",
    "        \n",
    "        x_train = x_parti[not i]\n",
    "        y_train = y_parti[not i]\n",
    "        bmodel.train(x_train, y_train)\n",
    "\n",
    "        fpred = bmodel.use(x_test)\n",
    "        ferr = np.sqrt(mean_squared_error(y_test,fpred))\n",
    "        final.append(ferr)\n",
    "        bparamlist.append(bparameter)\n",
    "\n",
    "    return final,bparamlist"
   ]
  },
  {
   "cell_type": "markdown",
   "metadata": {},
   "source": [
    "### Explanation of Code \n",
    "\n",
    "Here we have two functions partition() and cross_validation(). The partition() is used to divide the data into k number of folds , here we have given k as 5 so the function will divide the dataset into 5 parts. The cross_validation() will first take the input data and partition the target as well as features into train and test dataset of 5 parts. Then we will iterate through the data ,first for loop iterates through the 5 parts of the data to get one part as the test dataset and the rest as training.Next for loop will iterate and take the data which will be used for validation part ,so the rest of the data will used of training, after this we will use all the parameters passed to see which parameter gives the best results in the NeuralNet class on that training data. We will store all these parameters and results and get the best one from it.Then we will again call the NeuralNet class with the best parameter. This will iterate through all the 5 folds and get the best parameters for the NeuralNet."
   ]
  },
  {
   "cell_type": "markdown",
   "metadata": {},
   "source": [
    "## B. Summary of Nonlinear Regression \n",
    "\n",
    "Nonlinear regression is a regression in which the dependent or criterion variables are modeled as a non-linear function of model parameters and one or more independent variables.While a linear equation has one basic form, nonlinear equations can take many different forms. Nonlinear regression is a form of regression analysis in which observational data are modeled by a function which is a nonlinear combination of the model parameters and depends on one or more independent variables.Our goal is to minimize the sum of all squares.The best-fit curve is often assumed to be that which minimizes the sum of squared residuals. This is the ordinary least squares (OLS) approach. However, in cases where the dependent variable does not have constant variance, a sum of weighted squared residuals may be minimized; see weighted least squares. Each weight should ideally be equal to the reciprocal of the variance of the observation, but weights may be recomputed on each iteration, in an iteratively weighted least squares algorithm."
   ]
  },
  {
   "cell_type": "markdown",
   "metadata": {},
   "source": [
    "## Neural Network"
   ]
  },
  {
   "cell_type": "code",
   "execution_count": 11,
   "metadata": {},
   "outputs": [],
   "source": [
    "# standardization class\n",
    "class Standardizer: \n",
    "    \"\"\" class version of standardization \"\"\"\n",
    "    def __init__(self, X, explore=False):\n",
    "        self._mu = np.mean(X,0)  \n",
    "        self._sigma = np.std(X,0)\n",
    "        if explore:\n",
    "            print (\"mean: \", self._mu)\n",
    "            print (\"sigma: \", self._sigma)\n",
    "            print (\"min: \", np.min(X,0))\n",
    "            print (\"max: \", np.max(X,0))\n",
    "\n",
    "    def set_sigma(self, s):\n",
    "        self._sigma[:] = s\n",
    "\n",
    "    def standardize(self,X):\n",
    "        return (X - self._mu) / self._sigma \n",
    "\n",
    "    def unstandardize(self,X):\n",
    "        return (X * self._sigma) + self._mu "
   ]
  },
  {
   "cell_type": "code",
   "execution_count": 12,
   "metadata": {},
   "outputs": [],
   "source": [
    "from grad import scg, steepest\n",
    "from copy import copy\n",
    "\n",
    "\n",
    "class NeuralNet:\n",
    "    \"\"\" neural network class for regression\n",
    "        \n",
    "        Parameters\n",
    "        ----------\n",
    "        nunits: list\n",
    "            the number of inputs, hidden units, and outputs\n",
    "\n",
    "        Methods\n",
    "        -------\n",
    "        set_hunit    \n",
    "            update/initiate weights\n",
    "\n",
    "        pack \n",
    "            pack multiple weights of each layer into one vector\n",
    "\n",
    "        forward\n",
    "            forward processing of neural network\n",
    "\n",
    "        backward\n",
    "            back-propagation of neural network\n",
    "\n",
    "        train\n",
    "            train the neural network\n",
    "\n",
    "        use\n",
    "            appply the trained network for prediction\n",
    "\n",
    "        Attributes\n",
    "        ----------\n",
    "        _nLayers\n",
    "            the number of hidden unit layers \n",
    "\n",
    "        rho\n",
    "            learning rate\n",
    "\n",
    "        _W\n",
    "            weights\n",
    "        _weights\n",
    "            weights in one dimension (_W is referencing _weight)\n",
    "\n",
    "        stdX\n",
    "            standardization class for data\n",
    "        stdT\n",
    "            standardization class for target\n",
    "\n",
    "        Notes\n",
    "        -----\n",
    "        \n",
    "    \"\"\"\n",
    "\n",
    "    def __init__(self, nunits):\n",
    "        self._nLayers=len(nunits)-1\n",
    "        self.rho = [1] * self._nLayers\n",
    "        self._W = []\n",
    "        wdims = []\n",
    "        lenweights = 0\n",
    "        for i in range(self._nLayers):\n",
    "            nwr = nunits[i] + 1\n",
    "            nwc = nunits[i+1]\n",
    "            wdims.append((nwr, nwc))\n",
    "            lenweights = lenweights + nwr * nwc\n",
    "\n",
    "        self._weights = np.random.uniform(-0.1,0.1, lenweights) \n",
    "        start = 0  # fixed index error 20110107\n",
    "        for i in range(self._nLayers):\n",
    "            end = start + wdims[i][0] * wdims[i][1] \n",
    "            self._W.append(self._weights[start:end])\n",
    "            self._W[i].resize(wdims[i])\n",
    "            start = end\n",
    "\n",
    "        self.stdX = None\n",
    "        self.stdT = None\n",
    "        self.stdTarget = True\n",
    "\n",
    "    def add_ones(self, w):\n",
    "        return np.hstack((np.ones((w.shape[0], 1)), w))\n",
    "\n",
    "    def get_nlayers(self):\n",
    "        return self._nLayers\n",
    "\n",
    "    def set_hunit(self, w):\n",
    "        for i in range(self._nLayers-1):\n",
    "            if w[i].shape != self._W[i].shape:\n",
    "                print(\"set_hunit: shapes do not match!\")\n",
    "                break\n",
    "            else:\n",
    "                self._W[i][:] = w[i][:]\n",
    "\n",
    "    def pack(self, w):\n",
    "        return np.hstack(map(np.ravel, w))\n",
    "\n",
    "    def unpack(self, weights):\n",
    "        self._weights[:] = weights[:]  # unpack\n",
    "\n",
    "    def cp_weight(self):\n",
    "        return copy(self._weights)\n",
    "\n",
    "    def RBF(self, X, m=None,s=None):\n",
    "        if m is None: m = np.mean(X)\n",
    "        if s is None: s = 2 #np.std(X)\n",
    "        r = 1. / (np.sqrt(2*np.pi)* s)  \n",
    "        return r * np.exp(-(X - m) ** 2 / (2 * s ** 2))\n",
    "    \n",
    "    def Sigma(self, X):\n",
    "        return (1/(1+(np.exp(-(X)))))\n",
    "\n",
    "    def forward(self,X):\n",
    "        t = X \n",
    "        Z = []\n",
    "\n",
    "        for i in range(self._nLayers):\n",
    "            Z.append(t) \n",
    "            if i == self._nLayers - 1:\n",
    "                t = np.dot(self.add_ones(t), self._W[i])\n",
    "            else:\n",
    "                #import pdb;pdb.set_trace()\n",
    "                t = np.tanh(np.dot(self.add_ones(t), self._W[i]))\n",
    "                \n",
    "        return (t, Z)\n",
    "        \n",
    "    def backward(self, error, Z, T, lmb=0):\n",
    "        delta = error\n",
    "        N = T.size\n",
    "        dws = []\n",
    "        for i in range(self._nLayers - 1, -1, -1):\n",
    "            rh = float(self.rho[i]) / N\n",
    "            if i==0:\n",
    "                lmbterm = 0\n",
    "            else:\n",
    "                lmbterm = lmb * np.vstack((np.zeros((1, self._W[i].shape[1])),\n",
    "                            self._W[i][1:,]))\n",
    "                \n",
    "            #print(Z[i].T.shape)\n",
    "            dws.insert(0,(-rh * np.dot(self.add_ones(Z[i]).T, delta) + lmbterm))\n",
    "            if i != 0:\n",
    "                delta = np.dot(delta, self._W[i][1:, :].T) * (1 - Z[i]**2)\n",
    "        return self.pack(dws)\n",
    "\n",
    "    def _errorf(self, T, Y):\n",
    "        return T - Y\n",
    "        \n",
    "    def _objectf(self, T, Y, wpenalty):\n",
    "        return 0.5 * np.mean(np.square(T - Y)) + wpenalty\n",
    "\n",
    "    def train(self, X, T, **params):\n",
    "\n",
    "        verbose = params.pop('verbose', False)\n",
    "        # training parameters\n",
    "        _lambda = params.pop('Lambda', 0.)\n",
    "\n",
    "        #parameters for scg\n",
    "        niter = params.pop('niter', 1000)\n",
    "        wprecision = params.pop('wprecision', 1e-10)\n",
    "        fprecision = params.pop('fprecision', 1e-10)\n",
    "        wtracep = params.pop('wtracep', False)\n",
    "        ftracep = params.pop('ftracep', False)\n",
    "\n",
    "        # optimization\n",
    "        optim = params.pop('optim', 'scg')\n",
    "\n",
    "        if self.stdX == None:\n",
    "            explore = params.pop('explore', False)\n",
    "            self.stdX = Standardizer(X, explore)\n",
    "        Xs = self.stdX.standardize(X)\n",
    "        if self.stdT == None and self.stdTarget:\n",
    "            self.stdT = Standardizer(T)\n",
    "            T = self.stdT.standardize(T)\n",
    "        \n",
    "        def gradientf(weights):\n",
    "            self.unpack(weights)\n",
    "            Y,Z = self.forward(Xs)\n",
    "            \n",
    "            error = self._errorf(T, Y)\n",
    "            return self.backward(error, Z, T, _lambda)\n",
    "            \n",
    "        def optimtargetf(weights):\n",
    "            \"\"\" optimization target function : MSE \n",
    "            \"\"\"\n",
    "            self.unpack(weights)\n",
    "            #self._weights[:] = weights[:]  # unpack\n",
    "            Y,_ = self.forward(Xs)\n",
    "            Wnb=np.array([])\n",
    "            for i in range(self._nLayers):\n",
    "                if len(Wnb)==0: Wnb=self._W[i][1:,].reshape(self._W[i].size-self._W[i][0,].size,1)\n",
    "                else: Wnb = np.vstack((Wnb,self._W[i][1:,].reshape(self._W[i].size-self._W[i][0,].size,1)))\n",
    "            wpenalty = _lambda * np.dot(Wnb.flat ,Wnb.flat)\n",
    "            return self._objectf(T, Y, wpenalty)\n",
    "\n",
    "        if optim == 'scg':\n",
    "            #import pdb;pdb.set_trace()\n",
    "            result = scg(self.cp_weight(), gradientf, optimtargetf,\n",
    "                                        wPrecision=wprecision, fPrecision=fprecision, \n",
    "                                        nIterations=niter,\n",
    "                                        wtracep=wtracep, ftracep=ftracep,\n",
    "                                        verbose=False)\n",
    "            self.unpack(result['w'][:])\n",
    "            self.f = result['f']\n",
    "        elif optim == 'steepest':\n",
    "            result = steepest(self.cp_weight(), gradientf, optimtargetf,\n",
    "                                nIterations=niter,\n",
    "                                xPrecision=wprecision, fPrecision=fprecision,\n",
    "                                xtracep=wtracep, ftracep=ftracep )\n",
    "            self.unpack(result['w'][:])\n",
    "        if ftracep:\n",
    "            self.ftrace = result['ftrace']\n",
    "        if 'reason' in result.keys() and verbose:\n",
    "            print(result['reason'])\n",
    "\n",
    "        return result\n",
    "\n",
    "    def use(self, X, retZ=False):\n",
    "        if self.stdX:\n",
    "            Xs = self.stdX.standardize(X)\n",
    "        else:\n",
    "            Xs = X\n",
    "        Y, Z = self.forward(Xs)\n",
    "        if self.stdT is not None:\n",
    "            Y = self.stdT.unstandardize(Y)\n",
    "        if retZ:\n",
    "            return Y, Z\n",
    "        return Y"
   ]
  },
  {
   "cell_type": "markdown",
   "metadata": {},
   "source": [
    "## Explanation of Codes\n",
    "\n",
    "Here we have two classes Standardizer class and NeuralNet class. Standardizer class will normalize all the values. The NeuralNet class will build a neural network that will give the predictions.<br>\n",
    "nlayers is number of hidden units,rho is the learning rate,W is the weights.<br>\n",
    "The nunit will take number of input,hidden and output units, the pack and unpack functions will take the weights of all layers and turns into one vector and vice versa respectively.Forward pass will propagate the network by multiplying the weights with the input layer further the activation function will make the network non-linear.The backward pass will take the target and error as input and the weights are updated accordingly.<br>\n",
    "The train funtion will take in the input features and target data, gradientf will unpack the weights then calls the forward pass function, further it calculates the error based on forward pass after which back propagation takes target and error as input and updates the weights.<br>"
   ]
  },
  {
   "cell_type": "markdown",
   "metadata": {},
   "source": [
    "## Presentation of CV Results and Non-Linear Regression Results"
   ]
  },
  {
   "cell_type": "code",
   "execution_count": 13,
   "metadata": {},
   "outputs": [],
   "source": [
    "from sklearn.metrics import mean_squared_error\n",
    "from sklearn.model_selection import train_test_split\n",
    "dataset=pd.read_csv('energydata_complete.csv')\n",
    "dt=pd.DataFrame(dataset.iloc[:,1])\n",
    "d1=dataset.drop(['date','Appliances','rv1','rv2','Press_mm_hg'],axis=1)\n",
    "x_train, x_test, y_train, y_test = train_test_split(np.array(d1),np.array(dt), test_size=0.25, random_state=42)"
   ]
  },
  {
   "cell_type": "code",
   "execution_count": 14,
   "metadata": {
    "scrolled": false
   },
   "outputs": [
    {
     "name": "stdout",
     "output_type": "stream",
     "text": [
      "K is :  0\n",
      "K is :  1\n",
      "[[24, 12, 1], [24, 16, 1], [24, 20, 1], [24, 24, 1], [24, 28, 1]]\n",
      "[179.46059920141047, 210.30540616112427, 242.48666751727544, 220.48241882102667, 271.6398947623063]\n",
      "179.46059920141047\n",
      "[24, 12, 1]\n",
      "K is :  2\n",
      "[[24, 12, 1], [24, 16, 1], [24, 20, 1], [24, 24, 1], [24, 28, 1], [24, 12, 1], [24, 16, 1], [24, 20, 1], [24, 24, 1], [24, 28, 1]]\n",
      "[179.46059920141047, 210.30540616112427, 242.48666751727544, 220.48241882102667, 271.6398947623063, 237.84858440797402, 259.83400435945276, 212.50108638157653, 287.7939188324346, 316.26148046216804]\n",
      "179.46059920141047\n",
      "[24, 12, 1]\n",
      "K is :  3\n",
      "[[24, 12, 1], [24, 16, 1], [24, 20, 1], [24, 24, 1], [24, 28, 1], [24, 12, 1], [24, 16, 1], [24, 20, 1], [24, 24, 1], [24, 28, 1], [24, 12, 1], [24, 16, 1], [24, 20, 1], [24, 24, 1], [24, 28, 1]]\n",
      "[179.46059920141047, 210.30540616112427, 242.48666751727544, 220.48241882102667, 271.6398947623063, 237.84858440797402, 259.83400435945276, 212.50108638157653, 287.7939188324346, 316.26148046216804, 181.84972486745204, 246.18050726861452, 359.2611631982336, 261.11530391464146, 206.7074739504034]\n",
      "179.46059920141047\n",
      "[24, 12, 1]\n",
      "K is :  4\n",
      "[[24, 12, 1], [24, 16, 1], [24, 20, 1], [24, 24, 1], [24, 28, 1], [24, 12, 1], [24, 16, 1], [24, 20, 1], [24, 24, 1], [24, 28, 1], [24, 12, 1], [24, 16, 1], [24, 20, 1], [24, 24, 1], [24, 28, 1], [24, 12, 1], [24, 16, 1], [24, 20, 1], [24, 24, 1], [24, 28, 1]]\n",
      "[179.46059920141047, 210.30540616112427, 242.48666751727544, 220.48241882102667, 271.6398947623063, 237.84858440797402, 259.83400435945276, 212.50108638157653, 287.7939188324346, 316.26148046216804, 181.84972486745204, 246.18050726861452, 359.2611631982336, 261.11530391464146, 206.7074739504034, 189.4054735805792, 192.20169192167634, 322.74421448848057, 357.04290693851215, 224.66019996106297]\n",
      "179.46059920141047\n",
      "[24, 12, 1]\n",
      "[[24, 12, 1], [24, 12, 1], [24, 12, 1], [24, 12, 1]]\n",
      "[179.46059920141047, 179.46059920141047, 179.46059920141047, 179.46059920141047]\n",
      "[24, 12, 1]\n",
      "K is :  0\n",
      "[[24, 12, 1], [24, 16, 1], [24, 20, 1], [24, 24, 1], [24, 28, 1], [24, 12, 1], [24, 16, 1], [24, 20, 1], [24, 24, 1], [24, 28, 1], [24, 12, 1], [24, 16, 1], [24, 20, 1], [24, 24, 1], [24, 28, 1], [24, 12, 1], [24, 16, 1], [24, 20, 1], [24, 24, 1], [24, 28, 1], [24, 12, 1], [24, 16, 1], [24, 20, 1], [24, 24, 1], [24, 28, 1]]\n",
      "[179.46059920141047, 210.30540616112427, 242.48666751727544, 220.48241882102667, 271.6398947623063, 237.84858440797402, 259.83400435945276, 212.50108638157653, 287.7939188324346, 316.26148046216804, 181.84972486745204, 246.18050726861452, 359.2611631982336, 261.11530391464146, 206.7074739504034, 189.4054735805792, 192.20169192167634, 322.74421448848057, 357.04290693851215, 224.66019996106297, 67.28883240311542, 59.15402005434761, 53.770326177829425, 50.49823062632352, 48.76753336004218]\n",
      "48.76753336004218\n",
      "[24, 28, 1]\n",
      "K is :  1\n",
      "K is :  2\n",
      "[[24, 12, 1], [24, 16, 1], [24, 20, 1], [24, 24, 1], [24, 28, 1], [24, 12, 1], [24, 16, 1], [24, 20, 1], [24, 24, 1], [24, 28, 1], [24, 12, 1], [24, 16, 1], [24, 20, 1], [24, 24, 1], [24, 28, 1], [24, 12, 1], [24, 16, 1], [24, 20, 1], [24, 24, 1], [24, 28, 1], [24, 12, 1], [24, 16, 1], [24, 20, 1], [24, 24, 1], [24, 28, 1], [24, 12, 1], [24, 16, 1], [24, 20, 1], [24, 24, 1], [24, 28, 1]]\n",
      "[179.46059920141047, 210.30540616112427, 242.48666751727544, 220.48241882102667, 271.6398947623063, 237.84858440797402, 259.83400435945276, 212.50108638157653, 287.7939188324346, 316.26148046216804, 181.84972486745204, 246.18050726861452, 359.2611631982336, 261.11530391464146, 206.7074739504034, 189.4054735805792, 192.20169192167634, 322.74421448848057, 357.04290693851215, 224.66019996106297, 67.28883240311542, 59.15402005434761, 53.770326177829425, 50.49823062632352, 48.76753336004218, 149.11401751564134, 233.73784447300272, 286.4647880875753, 288.55270511427784, 235.98118672046297]\n",
      "48.76753336004218\n",
      "[24, 28, 1]\n",
      "K is :  3\n",
      "[[24, 12, 1], [24, 16, 1], [24, 20, 1], [24, 24, 1], [24, 28, 1], [24, 12, 1], [24, 16, 1], [24, 20, 1], [24, 24, 1], [24, 28, 1], [24, 12, 1], [24, 16, 1], [24, 20, 1], [24, 24, 1], [24, 28, 1], [24, 12, 1], [24, 16, 1], [24, 20, 1], [24, 24, 1], [24, 28, 1], [24, 12, 1], [24, 16, 1], [24, 20, 1], [24, 24, 1], [24, 28, 1], [24, 12, 1], [24, 16, 1], [24, 20, 1], [24, 24, 1], [24, 28, 1], [24, 12, 1], [24, 16, 1], [24, 20, 1], [24, 24, 1], [24, 28, 1]]\n",
      "[179.46059920141047, 210.30540616112427, 242.48666751727544, 220.48241882102667, 271.6398947623063, 237.84858440797402, 259.83400435945276, 212.50108638157653, 287.7939188324346, 316.26148046216804, 181.84972486745204, 246.18050726861452, 359.2611631982336, 261.11530391464146, 206.7074739504034, 189.4054735805792, 192.20169192167634, 322.74421448848057, 357.04290693851215, 224.66019996106297, 67.28883240311542, 59.15402005434761, 53.770326177829425, 50.49823062632352, 48.76753336004218, 149.11401751564134, 233.73784447300272, 286.4647880875753, 288.55270511427784, 235.98118672046297, 228.54853832769393, 179.76698076860626, 207.1990468460984, 470.9529442444468, 324.56901237539256]\n",
      "48.76753336004218\n",
      "[24, 28, 1]\n",
      "K is :  4\n",
      "[[24, 12, 1], [24, 16, 1], [24, 20, 1], [24, 24, 1], [24, 28, 1], [24, 12, 1], [24, 16, 1], [24, 20, 1], [24, 24, 1], [24, 28, 1], [24, 12, 1], [24, 16, 1], [24, 20, 1], [24, 24, 1], [24, 28, 1], [24, 12, 1], [24, 16, 1], [24, 20, 1], [24, 24, 1], [24, 28, 1], [24, 12, 1], [24, 16, 1], [24, 20, 1], [24, 24, 1], [24, 28, 1], [24, 12, 1], [24, 16, 1], [24, 20, 1], [24, 24, 1], [24, 28, 1], [24, 12, 1], [24, 16, 1], [24, 20, 1], [24, 24, 1], [24, 28, 1], [24, 12, 1], [24, 16, 1], [24, 20, 1], [24, 24, 1], [24, 28, 1]]\n",
      "[179.46059920141047, 210.30540616112427, 242.48666751727544, 220.48241882102667, 271.6398947623063, 237.84858440797402, 259.83400435945276, 212.50108638157653, 287.7939188324346, 316.26148046216804, 181.84972486745204, 246.18050726861452, 359.2611631982336, 261.11530391464146, 206.7074739504034, 189.4054735805792, 192.20169192167634, 322.74421448848057, 357.04290693851215, 224.66019996106297, 67.28883240311542, 59.15402005434761, 53.770326177829425, 50.49823062632352, 48.76753336004218, 149.11401751564134, 233.73784447300272, 286.4647880875753, 288.55270511427784, 235.98118672046297, 228.54853832769393, 179.76698076860626, 207.1990468460984, 470.9529442444468, 324.56901237539256, 206.22156031788995, 199.83699230547643, 192.80241524566802, 226.9553437341834, 338.41826168570174]\n",
      "48.76753336004218\n",
      "[24, 28, 1]\n",
      "[[24, 28, 1], [24, 28, 1], [24, 28, 1], [24, 28, 1]]\n",
      "[48.76753336004218, 48.76753336004218, 48.76753336004218, 48.76753336004218]\n",
      "[24, 12, 1]\n",
      "K is :  0\n",
      "[[24, 12, 1], [24, 16, 1], [24, 20, 1], [24, 24, 1], [24, 28, 1], [24, 12, 1], [24, 16, 1], [24, 20, 1], [24, 24, 1], [24, 28, 1], [24, 12, 1], [24, 16, 1], [24, 20, 1], [24, 24, 1], [24, 28, 1], [24, 12, 1], [24, 16, 1], [24, 20, 1], [24, 24, 1], [24, 28, 1], [24, 12, 1], [24, 16, 1], [24, 20, 1], [24, 24, 1], [24, 28, 1], [24, 12, 1], [24, 16, 1], [24, 20, 1], [24, 24, 1], [24, 28, 1], [24, 12, 1], [24, 16, 1], [24, 20, 1], [24, 24, 1], [24, 28, 1], [24, 12, 1], [24, 16, 1], [24, 20, 1], [24, 24, 1], [24, 28, 1], [24, 12, 1], [24, 16, 1], [24, 20, 1], [24, 24, 1], [24, 28, 1]]\n",
      "[179.46059920141047, 210.30540616112427, 242.48666751727544, 220.48241882102667, 271.6398947623063, 237.84858440797402, 259.83400435945276, 212.50108638157653, 287.7939188324346, 316.26148046216804, 181.84972486745204, 246.18050726861452, 359.2611631982336, 261.11530391464146, 206.7074739504034, 189.4054735805792, 192.20169192167634, 322.74421448848057, 357.04290693851215, 224.66019996106297, 67.28883240311542, 59.15402005434761, 53.770326177829425, 50.49823062632352, 48.76753336004218, 149.11401751564134, 233.73784447300272, 286.4647880875753, 288.55270511427784, 235.98118672046297, 228.54853832769393, 179.76698076860626, 207.1990468460984, 470.9529442444468, 324.56901237539256, 206.22156031788995, 199.83699230547643, 192.80241524566802, 226.9553437341834, 338.41826168570174, 65.37694229746941, 60.18134070010857, 56.50768727099056, 51.52940310540809, 47.6265595417159]\n",
      "47.6265595417159\n",
      "[24, 28, 1]\n",
      "K is :  1\n",
      "[[24, 12, 1], [24, 16, 1], [24, 20, 1], [24, 24, 1], [24, 28, 1], [24, 12, 1], [24, 16, 1], [24, 20, 1], [24, 24, 1], [24, 28, 1], [24, 12, 1], [24, 16, 1], [24, 20, 1], [24, 24, 1], [24, 28, 1], [24, 12, 1], [24, 16, 1], [24, 20, 1], [24, 24, 1], [24, 28, 1], [24, 12, 1], [24, 16, 1], [24, 20, 1], [24, 24, 1], [24, 28, 1], [24, 12, 1], [24, 16, 1], [24, 20, 1], [24, 24, 1], [24, 28, 1], [24, 12, 1], [24, 16, 1], [24, 20, 1], [24, 24, 1], [24, 28, 1], [24, 12, 1], [24, 16, 1], [24, 20, 1], [24, 24, 1], [24, 28, 1], [24, 12, 1], [24, 16, 1], [24, 20, 1], [24, 24, 1], [24, 28, 1], [24, 12, 1], [24, 16, 1], [24, 20, 1], [24, 24, 1], [24, 28, 1]]\n",
      "[179.46059920141047, 210.30540616112427, 242.48666751727544, 220.48241882102667, 271.6398947623063, 237.84858440797402, 259.83400435945276, 212.50108638157653, 287.7939188324346, 316.26148046216804, 181.84972486745204, 246.18050726861452, 359.2611631982336, 261.11530391464146, 206.7074739504034, 189.4054735805792, 192.20169192167634, 322.74421448848057, 357.04290693851215, 224.66019996106297, 67.28883240311542, 59.15402005434761, 53.770326177829425, 50.49823062632352, 48.76753336004218, 149.11401751564134, 233.73784447300272, 286.4647880875753, 288.55270511427784, 235.98118672046297, 228.54853832769393, 179.76698076860626, 207.1990468460984, 470.9529442444468, 324.56901237539256, 206.22156031788995, 199.83699230547643, 192.80241524566802, 226.9553437341834, 338.41826168570174, 65.37694229746941, 60.18134070010857, 56.50768727099056, 51.52940310540809, 47.6265595417159, 184.26231820554392, 259.4613785139987, 243.25655827412692, 231.32435467733575, 274.8135447497937]\n",
      "47.6265595417159\n",
      "[24, 28, 1]\n",
      "K is :  2\n",
      "K is :  3\n"
     ]
    },
    {
     "name": "stdout",
     "output_type": "stream",
     "text": [
      "[[24, 12, 1], [24, 16, 1], [24, 20, 1], [24, 24, 1], [24, 28, 1], [24, 12, 1], [24, 16, 1], [24, 20, 1], [24, 24, 1], [24, 28, 1], [24, 12, 1], [24, 16, 1], [24, 20, 1], [24, 24, 1], [24, 28, 1], [24, 12, 1], [24, 16, 1], [24, 20, 1], [24, 24, 1], [24, 28, 1], [24, 12, 1], [24, 16, 1], [24, 20, 1], [24, 24, 1], [24, 28, 1], [24, 12, 1], [24, 16, 1], [24, 20, 1], [24, 24, 1], [24, 28, 1], [24, 12, 1], [24, 16, 1], [24, 20, 1], [24, 24, 1], [24, 28, 1], [24, 12, 1], [24, 16, 1], [24, 20, 1], [24, 24, 1], [24, 28, 1], [24, 12, 1], [24, 16, 1], [24, 20, 1], [24, 24, 1], [24, 28, 1], [24, 12, 1], [24, 16, 1], [24, 20, 1], [24, 24, 1], [24, 28, 1], [24, 12, 1], [24, 16, 1], [24, 20, 1], [24, 24, 1], [24, 28, 1]]\n",
      "[179.46059920141047, 210.30540616112427, 242.48666751727544, 220.48241882102667, 271.6398947623063, 237.84858440797402, 259.83400435945276, 212.50108638157653, 287.7939188324346, 316.26148046216804, 181.84972486745204, 246.18050726861452, 359.2611631982336, 261.11530391464146, 206.7074739504034, 189.4054735805792, 192.20169192167634, 322.74421448848057, 357.04290693851215, 224.66019996106297, 67.28883240311542, 59.15402005434761, 53.770326177829425, 50.49823062632352, 48.76753336004218, 149.11401751564134, 233.73784447300272, 286.4647880875753, 288.55270511427784, 235.98118672046297, 228.54853832769393, 179.76698076860626, 207.1990468460984, 470.9529442444468, 324.56901237539256, 206.22156031788995, 199.83699230547643, 192.80241524566802, 226.9553437341834, 338.41826168570174, 65.37694229746941, 60.18134070010857, 56.50768727099056, 51.52940310540809, 47.6265595417159, 184.26231820554392, 259.4613785139987, 243.25655827412692, 231.32435467733575, 274.8135447497937, 167.04196916235782, 192.75334053295336, 286.94656734095025, 348.3185629947013, 249.96127649547404]\n",
      "47.6265595417159\n",
      "[24, 28, 1]\n",
      "K is :  4\n",
      "[[24, 12, 1], [24, 16, 1], [24, 20, 1], [24, 24, 1], [24, 28, 1], [24, 12, 1], [24, 16, 1], [24, 20, 1], [24, 24, 1], [24, 28, 1], [24, 12, 1], [24, 16, 1], [24, 20, 1], [24, 24, 1], [24, 28, 1], [24, 12, 1], [24, 16, 1], [24, 20, 1], [24, 24, 1], [24, 28, 1], [24, 12, 1], [24, 16, 1], [24, 20, 1], [24, 24, 1], [24, 28, 1], [24, 12, 1], [24, 16, 1], [24, 20, 1], [24, 24, 1], [24, 28, 1], [24, 12, 1], [24, 16, 1], [24, 20, 1], [24, 24, 1], [24, 28, 1], [24, 12, 1], [24, 16, 1], [24, 20, 1], [24, 24, 1], [24, 28, 1], [24, 12, 1], [24, 16, 1], [24, 20, 1], [24, 24, 1], [24, 28, 1], [24, 12, 1], [24, 16, 1], [24, 20, 1], [24, 24, 1], [24, 28, 1], [24, 12, 1], [24, 16, 1], [24, 20, 1], [24, 24, 1], [24, 28, 1], [24, 12, 1], [24, 16, 1], [24, 20, 1], [24, 24, 1], [24, 28, 1]]\n",
      "[179.46059920141047, 210.30540616112427, 242.48666751727544, 220.48241882102667, 271.6398947623063, 237.84858440797402, 259.83400435945276, 212.50108638157653, 287.7939188324346, 316.26148046216804, 181.84972486745204, 246.18050726861452, 359.2611631982336, 261.11530391464146, 206.7074739504034, 189.4054735805792, 192.20169192167634, 322.74421448848057, 357.04290693851215, 224.66019996106297, 67.28883240311542, 59.15402005434761, 53.770326177829425, 50.49823062632352, 48.76753336004218, 149.11401751564134, 233.73784447300272, 286.4647880875753, 288.55270511427784, 235.98118672046297, 228.54853832769393, 179.76698076860626, 207.1990468460984, 470.9529442444468, 324.56901237539256, 206.22156031788995, 199.83699230547643, 192.80241524566802, 226.9553437341834, 338.41826168570174, 65.37694229746941, 60.18134070010857, 56.50768727099056, 51.52940310540809, 47.6265595417159, 184.26231820554392, 259.4613785139987, 243.25655827412692, 231.32435467733575, 274.8135447497937, 167.04196916235782, 192.75334053295336, 286.94656734095025, 348.3185629947013, 249.96127649547404, 289.7784003500421, 173.48520246715574, 249.40335105516516, 212.58371647024853, 269.18959346772635]\n",
      "47.6265595417159\n",
      "[24, 28, 1]\n",
      "[[24, 28, 1], [24, 28, 1], [24, 28, 1], [24, 28, 1]]\n",
      "[47.6265595417159, 47.6265595417159, 47.6265595417159, 47.6265595417159]\n",
      "[24, 12, 1]\n",
      "K is :  0\n",
      "[[24, 12, 1], [24, 16, 1], [24, 20, 1], [24, 24, 1], [24, 28, 1], [24, 12, 1], [24, 16, 1], [24, 20, 1], [24, 24, 1], [24, 28, 1], [24, 12, 1], [24, 16, 1], [24, 20, 1], [24, 24, 1], [24, 28, 1], [24, 12, 1], [24, 16, 1], [24, 20, 1], [24, 24, 1], [24, 28, 1], [24, 12, 1], [24, 16, 1], [24, 20, 1], [24, 24, 1], [24, 28, 1], [24, 12, 1], [24, 16, 1], [24, 20, 1], [24, 24, 1], [24, 28, 1], [24, 12, 1], [24, 16, 1], [24, 20, 1], [24, 24, 1], [24, 28, 1], [24, 12, 1], [24, 16, 1], [24, 20, 1], [24, 24, 1], [24, 28, 1], [24, 12, 1], [24, 16, 1], [24, 20, 1], [24, 24, 1], [24, 28, 1], [24, 12, 1], [24, 16, 1], [24, 20, 1], [24, 24, 1], [24, 28, 1], [24, 12, 1], [24, 16, 1], [24, 20, 1], [24, 24, 1], [24, 28, 1], [24, 12, 1], [24, 16, 1], [24, 20, 1], [24, 24, 1], [24, 28, 1], [24, 12, 1], [24, 16, 1], [24, 20, 1], [24, 24, 1], [24, 28, 1]]\n",
      "[179.46059920141047, 210.30540616112427, 242.48666751727544, 220.48241882102667, 271.6398947623063, 237.84858440797402, 259.83400435945276, 212.50108638157653, 287.7939188324346, 316.26148046216804, 181.84972486745204, 246.18050726861452, 359.2611631982336, 261.11530391464146, 206.7074739504034, 189.4054735805792, 192.20169192167634, 322.74421448848057, 357.04290693851215, 224.66019996106297, 67.28883240311542, 59.15402005434761, 53.770326177829425, 50.49823062632352, 48.76753336004218, 149.11401751564134, 233.73784447300272, 286.4647880875753, 288.55270511427784, 235.98118672046297, 228.54853832769393, 179.76698076860626, 207.1990468460984, 470.9529442444468, 324.56901237539256, 206.22156031788995, 199.83699230547643, 192.80241524566802, 226.9553437341834, 338.41826168570174, 65.37694229746941, 60.18134070010857, 56.50768727099056, 51.52940310540809, 47.6265595417159, 184.26231820554392, 259.4613785139987, 243.25655827412692, 231.32435467733575, 274.8135447497937, 167.04196916235782, 192.75334053295336, 286.94656734095025, 348.3185629947013, 249.96127649547404, 289.7784003500421, 173.48520246715574, 249.40335105516516, 212.58371647024853, 269.18959346772635, 65.99086757280604, 59.261875684250086, 54.870709616692594, 51.98927396283286, 47.84502966658489]\n",
      "47.6265595417159\n",
      "[24, 28, 1]\n",
      "K is :  1\n",
      "[[24, 12, 1], [24, 16, 1], [24, 20, 1], [24, 24, 1], [24, 28, 1], [24, 12, 1], [24, 16, 1], [24, 20, 1], [24, 24, 1], [24, 28, 1], [24, 12, 1], [24, 16, 1], [24, 20, 1], [24, 24, 1], [24, 28, 1], [24, 12, 1], [24, 16, 1], [24, 20, 1], [24, 24, 1], [24, 28, 1], [24, 12, 1], [24, 16, 1], [24, 20, 1], [24, 24, 1], [24, 28, 1], [24, 12, 1], [24, 16, 1], [24, 20, 1], [24, 24, 1], [24, 28, 1], [24, 12, 1], [24, 16, 1], [24, 20, 1], [24, 24, 1], [24, 28, 1], [24, 12, 1], [24, 16, 1], [24, 20, 1], [24, 24, 1], [24, 28, 1], [24, 12, 1], [24, 16, 1], [24, 20, 1], [24, 24, 1], [24, 28, 1], [24, 12, 1], [24, 16, 1], [24, 20, 1], [24, 24, 1], [24, 28, 1], [24, 12, 1], [24, 16, 1], [24, 20, 1], [24, 24, 1], [24, 28, 1], [24, 12, 1], [24, 16, 1], [24, 20, 1], [24, 24, 1], [24, 28, 1], [24, 12, 1], [24, 16, 1], [24, 20, 1], [24, 24, 1], [24, 28, 1], [24, 12, 1], [24, 16, 1], [24, 20, 1], [24, 24, 1], [24, 28, 1]]\n",
      "[179.46059920141047, 210.30540616112427, 242.48666751727544, 220.48241882102667, 271.6398947623063, 237.84858440797402, 259.83400435945276, 212.50108638157653, 287.7939188324346, 316.26148046216804, 181.84972486745204, 246.18050726861452, 359.2611631982336, 261.11530391464146, 206.7074739504034, 189.4054735805792, 192.20169192167634, 322.74421448848057, 357.04290693851215, 224.66019996106297, 67.28883240311542, 59.15402005434761, 53.770326177829425, 50.49823062632352, 48.76753336004218, 149.11401751564134, 233.73784447300272, 286.4647880875753, 288.55270511427784, 235.98118672046297, 228.54853832769393, 179.76698076860626, 207.1990468460984, 470.9529442444468, 324.56901237539256, 206.22156031788995, 199.83699230547643, 192.80241524566802, 226.9553437341834, 338.41826168570174, 65.37694229746941, 60.18134070010857, 56.50768727099056, 51.52940310540809, 47.6265595417159, 184.26231820554392, 259.4613785139987, 243.25655827412692, 231.32435467733575, 274.8135447497937, 167.04196916235782, 192.75334053295336, 286.94656734095025, 348.3185629947013, 249.96127649547404, 289.7784003500421, 173.48520246715574, 249.40335105516516, 212.58371647024853, 269.18959346772635, 65.99086757280604, 59.261875684250086, 54.870709616692594, 51.98927396283286, 47.84502966658489, 181.80711335621245, 288.9440982251841, 234.39625221650957, 283.2563551656521, 288.67728546379294]\n",
      "47.6265595417159\n",
      "[24, 28, 1]\n",
      "K is :  2\n"
     ]
    },
    {
     "name": "stdout",
     "output_type": "stream",
     "text": [
      "[[24, 12, 1], [24, 16, 1], [24, 20, 1], [24, 24, 1], [24, 28, 1], [24, 12, 1], [24, 16, 1], [24, 20, 1], [24, 24, 1], [24, 28, 1], [24, 12, 1], [24, 16, 1], [24, 20, 1], [24, 24, 1], [24, 28, 1], [24, 12, 1], [24, 16, 1], [24, 20, 1], [24, 24, 1], [24, 28, 1], [24, 12, 1], [24, 16, 1], [24, 20, 1], [24, 24, 1], [24, 28, 1], [24, 12, 1], [24, 16, 1], [24, 20, 1], [24, 24, 1], [24, 28, 1], [24, 12, 1], [24, 16, 1], [24, 20, 1], [24, 24, 1], [24, 28, 1], [24, 12, 1], [24, 16, 1], [24, 20, 1], [24, 24, 1], [24, 28, 1], [24, 12, 1], [24, 16, 1], [24, 20, 1], [24, 24, 1], [24, 28, 1], [24, 12, 1], [24, 16, 1], [24, 20, 1], [24, 24, 1], [24, 28, 1], [24, 12, 1], [24, 16, 1], [24, 20, 1], [24, 24, 1], [24, 28, 1], [24, 12, 1], [24, 16, 1], [24, 20, 1], [24, 24, 1], [24, 28, 1], [24, 12, 1], [24, 16, 1], [24, 20, 1], [24, 24, 1], [24, 28, 1], [24, 12, 1], [24, 16, 1], [24, 20, 1], [24, 24, 1], [24, 28, 1], [24, 12, 1], [24, 16, 1], [24, 20, 1], [24, 24, 1], [24, 28, 1]]\n",
      "[179.46059920141047, 210.30540616112427, 242.48666751727544, 220.48241882102667, 271.6398947623063, 237.84858440797402, 259.83400435945276, 212.50108638157653, 287.7939188324346, 316.26148046216804, 181.84972486745204, 246.18050726861452, 359.2611631982336, 261.11530391464146, 206.7074739504034, 189.4054735805792, 192.20169192167634, 322.74421448848057, 357.04290693851215, 224.66019996106297, 67.28883240311542, 59.15402005434761, 53.770326177829425, 50.49823062632352, 48.76753336004218, 149.11401751564134, 233.73784447300272, 286.4647880875753, 288.55270511427784, 235.98118672046297, 228.54853832769393, 179.76698076860626, 207.1990468460984, 470.9529442444468, 324.56901237539256, 206.22156031788995, 199.83699230547643, 192.80241524566802, 226.9553437341834, 338.41826168570174, 65.37694229746941, 60.18134070010857, 56.50768727099056, 51.52940310540809, 47.6265595417159, 184.26231820554392, 259.4613785139987, 243.25655827412692, 231.32435467733575, 274.8135447497937, 167.04196916235782, 192.75334053295336, 286.94656734095025, 348.3185629947013, 249.96127649547404, 289.7784003500421, 173.48520246715574, 249.40335105516516, 212.58371647024853, 269.18959346772635, 65.99086757280604, 59.261875684250086, 54.870709616692594, 51.98927396283286, 47.84502966658489, 181.80711335621245, 288.9440982251841, 234.39625221650957, 283.2563551656521, 288.67728546379294, 218.5572387391706, 254.54739059032823, 249.85668227199494, 382.63971232339276, 253.5439062180013]\n",
      "47.6265595417159\n",
      "[24, 28, 1]\n",
      "K is :  3\n",
      "K is :  4\n",
      "[[24, 12, 1], [24, 16, 1], [24, 20, 1], [24, 24, 1], [24, 28, 1], [24, 12, 1], [24, 16, 1], [24, 20, 1], [24, 24, 1], [24, 28, 1], [24, 12, 1], [24, 16, 1], [24, 20, 1], [24, 24, 1], [24, 28, 1], [24, 12, 1], [24, 16, 1], [24, 20, 1], [24, 24, 1], [24, 28, 1], [24, 12, 1], [24, 16, 1], [24, 20, 1], [24, 24, 1], [24, 28, 1], [24, 12, 1], [24, 16, 1], [24, 20, 1], [24, 24, 1], [24, 28, 1], [24, 12, 1], [24, 16, 1], [24, 20, 1], [24, 24, 1], [24, 28, 1], [24, 12, 1], [24, 16, 1], [24, 20, 1], [24, 24, 1], [24, 28, 1], [24, 12, 1], [24, 16, 1], [24, 20, 1], [24, 24, 1], [24, 28, 1], [24, 12, 1], [24, 16, 1], [24, 20, 1], [24, 24, 1], [24, 28, 1], [24, 12, 1], [24, 16, 1], [24, 20, 1], [24, 24, 1], [24, 28, 1], [24, 12, 1], [24, 16, 1], [24, 20, 1], [24, 24, 1], [24, 28, 1], [24, 12, 1], [24, 16, 1], [24, 20, 1], [24, 24, 1], [24, 28, 1], [24, 12, 1], [24, 16, 1], [24, 20, 1], [24, 24, 1], [24, 28, 1], [24, 12, 1], [24, 16, 1], [24, 20, 1], [24, 24, 1], [24, 28, 1], [24, 12, 1], [24, 16, 1], [24, 20, 1], [24, 24, 1], [24, 28, 1]]\n",
      "[179.46059920141047, 210.30540616112427, 242.48666751727544, 220.48241882102667, 271.6398947623063, 237.84858440797402, 259.83400435945276, 212.50108638157653, 287.7939188324346, 316.26148046216804, 181.84972486745204, 246.18050726861452, 359.2611631982336, 261.11530391464146, 206.7074739504034, 189.4054735805792, 192.20169192167634, 322.74421448848057, 357.04290693851215, 224.66019996106297, 67.28883240311542, 59.15402005434761, 53.770326177829425, 50.49823062632352, 48.76753336004218, 149.11401751564134, 233.73784447300272, 286.4647880875753, 288.55270511427784, 235.98118672046297, 228.54853832769393, 179.76698076860626, 207.1990468460984, 470.9529442444468, 324.56901237539256, 206.22156031788995, 199.83699230547643, 192.80241524566802, 226.9553437341834, 338.41826168570174, 65.37694229746941, 60.18134070010857, 56.50768727099056, 51.52940310540809, 47.6265595417159, 184.26231820554392, 259.4613785139987, 243.25655827412692, 231.32435467733575, 274.8135447497937, 167.04196916235782, 192.75334053295336, 286.94656734095025, 348.3185629947013, 249.96127649547404, 289.7784003500421, 173.48520246715574, 249.40335105516516, 212.58371647024853, 269.18959346772635, 65.99086757280604, 59.261875684250086, 54.870709616692594, 51.98927396283286, 47.84502966658489, 181.80711335621245, 288.9440982251841, 234.39625221650957, 283.2563551656521, 288.67728546379294, 218.5572387391706, 254.54739059032823, 249.85668227199494, 382.63971232339276, 253.5439062180013, 168.8415824242838, 163.29189127086676, 461.0988622971931, 211.720511082708, 273.0016649838981]\n",
      "47.6265595417159\n",
      "[24, 28, 1]\n",
      "[[24, 28, 1], [24, 28, 1], [24, 28, 1], [24, 28, 1]]\n",
      "[47.6265595417159, 47.6265595417159, 47.6265595417159, 47.6265595417159]\n",
      "[24, 12, 1]\n",
      "K is :  0\n",
      "[[24, 12, 1], [24, 16, 1], [24, 20, 1], [24, 24, 1], [24, 28, 1], [24, 12, 1], [24, 16, 1], [24, 20, 1], [24, 24, 1], [24, 28, 1], [24, 12, 1], [24, 16, 1], [24, 20, 1], [24, 24, 1], [24, 28, 1], [24, 12, 1], [24, 16, 1], [24, 20, 1], [24, 24, 1], [24, 28, 1], [24, 12, 1], [24, 16, 1], [24, 20, 1], [24, 24, 1], [24, 28, 1], [24, 12, 1], [24, 16, 1], [24, 20, 1], [24, 24, 1], [24, 28, 1], [24, 12, 1], [24, 16, 1], [24, 20, 1], [24, 24, 1], [24, 28, 1], [24, 12, 1], [24, 16, 1], [24, 20, 1], [24, 24, 1], [24, 28, 1], [24, 12, 1], [24, 16, 1], [24, 20, 1], [24, 24, 1], [24, 28, 1], [24, 12, 1], [24, 16, 1], [24, 20, 1], [24, 24, 1], [24, 28, 1], [24, 12, 1], [24, 16, 1], [24, 20, 1], [24, 24, 1], [24, 28, 1], [24, 12, 1], [24, 16, 1], [24, 20, 1], [24, 24, 1], [24, 28, 1], [24, 12, 1], [24, 16, 1], [24, 20, 1], [24, 24, 1], [24, 28, 1], [24, 12, 1], [24, 16, 1], [24, 20, 1], [24, 24, 1], [24, 28, 1], [24, 12, 1], [24, 16, 1], [24, 20, 1], [24, 24, 1], [24, 28, 1], [24, 12, 1], [24, 16, 1], [24, 20, 1], [24, 24, 1], [24, 28, 1], [24, 12, 1], [24, 16, 1], [24, 20, 1], [24, 24, 1], [24, 28, 1]]\n",
      "[179.46059920141047, 210.30540616112427, 242.48666751727544, 220.48241882102667, 271.6398947623063, 237.84858440797402, 259.83400435945276, 212.50108638157653, 287.7939188324346, 316.26148046216804, 181.84972486745204, 246.18050726861452, 359.2611631982336, 261.11530391464146, 206.7074739504034, 189.4054735805792, 192.20169192167634, 322.74421448848057, 357.04290693851215, 224.66019996106297, 67.28883240311542, 59.15402005434761, 53.770326177829425, 50.49823062632352, 48.76753336004218, 149.11401751564134, 233.73784447300272, 286.4647880875753, 288.55270511427784, 235.98118672046297, 228.54853832769393, 179.76698076860626, 207.1990468460984, 470.9529442444468, 324.56901237539256, 206.22156031788995, 199.83699230547643, 192.80241524566802, 226.9553437341834, 338.41826168570174, 65.37694229746941, 60.18134070010857, 56.50768727099056, 51.52940310540809, 47.6265595417159, 184.26231820554392, 259.4613785139987, 243.25655827412692, 231.32435467733575, 274.8135447497937, 167.04196916235782, 192.75334053295336, 286.94656734095025, 348.3185629947013, 249.96127649547404, 289.7784003500421, 173.48520246715574, 249.40335105516516, 212.58371647024853, 269.18959346772635, 65.99086757280604, 59.261875684250086, 54.870709616692594, 51.98927396283286, 47.84502966658489, 181.80711335621245, 288.9440982251841, 234.39625221650957, 283.2563551656521, 288.67728546379294, 218.5572387391706, 254.54739059032823, 249.85668227199494, 382.63971232339276, 253.5439062180013, 168.8415824242838, 163.29189127086676, 461.0988622971931, 211.720511082708, 273.0016649838981, 66.43571065522968, 61.23775709589401, 55.0309113481175, 51.31146689407936, 48.55421325788418]\n",
      "47.6265595417159\n",
      "[24, 28, 1]\n",
      "K is :  1\n",
      "[[24, 12, 1], [24, 16, 1], [24, 20, 1], [24, 24, 1], [24, 28, 1], [24, 12, 1], [24, 16, 1], [24, 20, 1], [24, 24, 1], [24, 28, 1], [24, 12, 1], [24, 16, 1], [24, 20, 1], [24, 24, 1], [24, 28, 1], [24, 12, 1], [24, 16, 1], [24, 20, 1], [24, 24, 1], [24, 28, 1], [24, 12, 1], [24, 16, 1], [24, 20, 1], [24, 24, 1], [24, 28, 1], [24, 12, 1], [24, 16, 1], [24, 20, 1], [24, 24, 1], [24, 28, 1], [24, 12, 1], [24, 16, 1], [24, 20, 1], [24, 24, 1], [24, 28, 1], [24, 12, 1], [24, 16, 1], [24, 20, 1], [24, 24, 1], [24, 28, 1], [24, 12, 1], [24, 16, 1], [24, 20, 1], [24, 24, 1], [24, 28, 1], [24, 12, 1], [24, 16, 1], [24, 20, 1], [24, 24, 1], [24, 28, 1], [24, 12, 1], [24, 16, 1], [24, 20, 1], [24, 24, 1], [24, 28, 1], [24, 12, 1], [24, 16, 1], [24, 20, 1], [24, 24, 1], [24, 28, 1], [24, 12, 1], [24, 16, 1], [24, 20, 1], [24, 24, 1], [24, 28, 1], [24, 12, 1], [24, 16, 1], [24, 20, 1], [24, 24, 1], [24, 28, 1], [24, 12, 1], [24, 16, 1], [24, 20, 1], [24, 24, 1], [24, 28, 1], [24, 12, 1], [24, 16, 1], [24, 20, 1], [24, 24, 1], [24, 28, 1], [24, 12, 1], [24, 16, 1], [24, 20, 1], [24, 24, 1], [24, 28, 1], [24, 12, 1], [24, 16, 1], [24, 20, 1], [24, 24, 1], [24, 28, 1]]\n",
      "[179.46059920141047, 210.30540616112427, 242.48666751727544, 220.48241882102667, 271.6398947623063, 237.84858440797402, 259.83400435945276, 212.50108638157653, 287.7939188324346, 316.26148046216804, 181.84972486745204, 246.18050726861452, 359.2611631982336, 261.11530391464146, 206.7074739504034, 189.4054735805792, 192.20169192167634, 322.74421448848057, 357.04290693851215, 224.66019996106297, 67.28883240311542, 59.15402005434761, 53.770326177829425, 50.49823062632352, 48.76753336004218, 149.11401751564134, 233.73784447300272, 286.4647880875753, 288.55270511427784, 235.98118672046297, 228.54853832769393, 179.76698076860626, 207.1990468460984, 470.9529442444468, 324.56901237539256, 206.22156031788995, 199.83699230547643, 192.80241524566802, 226.9553437341834, 338.41826168570174, 65.37694229746941, 60.18134070010857, 56.50768727099056, 51.52940310540809, 47.6265595417159, 184.26231820554392, 259.4613785139987, 243.25655827412692, 231.32435467733575, 274.8135447497937, 167.04196916235782, 192.75334053295336, 286.94656734095025, 348.3185629947013, 249.96127649547404, 289.7784003500421, 173.48520246715574, 249.40335105516516, 212.58371647024853, 269.18959346772635, 65.99086757280604, 59.261875684250086, 54.870709616692594, 51.98927396283286, 47.84502966658489, 181.80711335621245, 288.9440982251841, 234.39625221650957, 283.2563551656521, 288.67728546379294, 218.5572387391706, 254.54739059032823, 249.85668227199494, 382.63971232339276, 253.5439062180013, 168.8415824242838, 163.29189127086676, 461.0988622971931, 211.720511082708, 273.0016649838981, 66.43571065522968, 61.23775709589401, 55.0309113481175, 51.31146689407936, 48.55421325788418, 178.3252799615438, 286.9578503873477, 313.91192384923227, 309.6711724356397, 272.9054245727188]\n",
      "47.6265595417159\n",
      "[24, 28, 1]\n",
      "K is :  2\n"
     ]
    },
    {
     "name": "stdout",
     "output_type": "stream",
     "text": [
      "[[24, 12, 1], [24, 16, 1], [24, 20, 1], [24, 24, 1], [24, 28, 1], [24, 12, 1], [24, 16, 1], [24, 20, 1], [24, 24, 1], [24, 28, 1], [24, 12, 1], [24, 16, 1], [24, 20, 1], [24, 24, 1], [24, 28, 1], [24, 12, 1], [24, 16, 1], [24, 20, 1], [24, 24, 1], [24, 28, 1], [24, 12, 1], [24, 16, 1], [24, 20, 1], [24, 24, 1], [24, 28, 1], [24, 12, 1], [24, 16, 1], [24, 20, 1], [24, 24, 1], [24, 28, 1], [24, 12, 1], [24, 16, 1], [24, 20, 1], [24, 24, 1], [24, 28, 1], [24, 12, 1], [24, 16, 1], [24, 20, 1], [24, 24, 1], [24, 28, 1], [24, 12, 1], [24, 16, 1], [24, 20, 1], [24, 24, 1], [24, 28, 1], [24, 12, 1], [24, 16, 1], [24, 20, 1], [24, 24, 1], [24, 28, 1], [24, 12, 1], [24, 16, 1], [24, 20, 1], [24, 24, 1], [24, 28, 1], [24, 12, 1], [24, 16, 1], [24, 20, 1], [24, 24, 1], [24, 28, 1], [24, 12, 1], [24, 16, 1], [24, 20, 1], [24, 24, 1], [24, 28, 1], [24, 12, 1], [24, 16, 1], [24, 20, 1], [24, 24, 1], [24, 28, 1], [24, 12, 1], [24, 16, 1], [24, 20, 1], [24, 24, 1], [24, 28, 1], [24, 12, 1], [24, 16, 1], [24, 20, 1], [24, 24, 1], [24, 28, 1], [24, 12, 1], [24, 16, 1], [24, 20, 1], [24, 24, 1], [24, 28, 1], [24, 12, 1], [24, 16, 1], [24, 20, 1], [24, 24, 1], [24, 28, 1], [24, 12, 1], [24, 16, 1], [24, 20, 1], [24, 24, 1], [24, 28, 1]]\n",
      "[179.46059920141047, 210.30540616112427, 242.48666751727544, 220.48241882102667, 271.6398947623063, 237.84858440797402, 259.83400435945276, 212.50108638157653, 287.7939188324346, 316.26148046216804, 181.84972486745204, 246.18050726861452, 359.2611631982336, 261.11530391464146, 206.7074739504034, 189.4054735805792, 192.20169192167634, 322.74421448848057, 357.04290693851215, 224.66019996106297, 67.28883240311542, 59.15402005434761, 53.770326177829425, 50.49823062632352, 48.76753336004218, 149.11401751564134, 233.73784447300272, 286.4647880875753, 288.55270511427784, 235.98118672046297, 228.54853832769393, 179.76698076860626, 207.1990468460984, 470.9529442444468, 324.56901237539256, 206.22156031788995, 199.83699230547643, 192.80241524566802, 226.9553437341834, 338.41826168570174, 65.37694229746941, 60.18134070010857, 56.50768727099056, 51.52940310540809, 47.6265595417159, 184.26231820554392, 259.4613785139987, 243.25655827412692, 231.32435467733575, 274.8135447497937, 167.04196916235782, 192.75334053295336, 286.94656734095025, 348.3185629947013, 249.96127649547404, 289.7784003500421, 173.48520246715574, 249.40335105516516, 212.58371647024853, 269.18959346772635, 65.99086757280604, 59.261875684250086, 54.870709616692594, 51.98927396283286, 47.84502966658489, 181.80711335621245, 288.9440982251841, 234.39625221650957, 283.2563551656521, 288.67728546379294, 218.5572387391706, 254.54739059032823, 249.85668227199494, 382.63971232339276, 253.5439062180013, 168.8415824242838, 163.29189127086676, 461.0988622971931, 211.720511082708, 273.0016649838981, 66.43571065522968, 61.23775709589401, 55.0309113481175, 51.31146689407936, 48.55421325788418, 178.3252799615438, 286.9578503873477, 313.91192384923227, 309.6711724356397, 272.9054245727188, 153.91418698995727, 242.31881633441387, 288.4717536571858, 282.7089191145038, 310.6386728317177]\n",
      "47.6265595417159\n",
      "[24, 28, 1]\n",
      "K is :  3\n",
      "[[24, 12, 1], [24, 16, 1], [24, 20, 1], [24, 24, 1], [24, 28, 1], [24, 12, 1], [24, 16, 1], [24, 20, 1], [24, 24, 1], [24, 28, 1], [24, 12, 1], [24, 16, 1], [24, 20, 1], [24, 24, 1], [24, 28, 1], [24, 12, 1], [24, 16, 1], [24, 20, 1], [24, 24, 1], [24, 28, 1], [24, 12, 1], [24, 16, 1], [24, 20, 1], [24, 24, 1], [24, 28, 1], [24, 12, 1], [24, 16, 1], [24, 20, 1], [24, 24, 1], [24, 28, 1], [24, 12, 1], [24, 16, 1], [24, 20, 1], [24, 24, 1], [24, 28, 1], [24, 12, 1], [24, 16, 1], [24, 20, 1], [24, 24, 1], [24, 28, 1], [24, 12, 1], [24, 16, 1], [24, 20, 1], [24, 24, 1], [24, 28, 1], [24, 12, 1], [24, 16, 1], [24, 20, 1], [24, 24, 1], [24, 28, 1], [24, 12, 1], [24, 16, 1], [24, 20, 1], [24, 24, 1], [24, 28, 1], [24, 12, 1], [24, 16, 1], [24, 20, 1], [24, 24, 1], [24, 28, 1], [24, 12, 1], [24, 16, 1], [24, 20, 1], [24, 24, 1], [24, 28, 1], [24, 12, 1], [24, 16, 1], [24, 20, 1], [24, 24, 1], [24, 28, 1], [24, 12, 1], [24, 16, 1], [24, 20, 1], [24, 24, 1], [24, 28, 1], [24, 12, 1], [24, 16, 1], [24, 20, 1], [24, 24, 1], [24, 28, 1], [24, 12, 1], [24, 16, 1], [24, 20, 1], [24, 24, 1], [24, 28, 1], [24, 12, 1], [24, 16, 1], [24, 20, 1], [24, 24, 1], [24, 28, 1], [24, 12, 1], [24, 16, 1], [24, 20, 1], [24, 24, 1], [24, 28, 1], [24, 12, 1], [24, 16, 1], [24, 20, 1], [24, 24, 1], [24, 28, 1]]\n",
      "[179.46059920141047, 210.30540616112427, 242.48666751727544, 220.48241882102667, 271.6398947623063, 237.84858440797402, 259.83400435945276, 212.50108638157653, 287.7939188324346, 316.26148046216804, 181.84972486745204, 246.18050726861452, 359.2611631982336, 261.11530391464146, 206.7074739504034, 189.4054735805792, 192.20169192167634, 322.74421448848057, 357.04290693851215, 224.66019996106297, 67.28883240311542, 59.15402005434761, 53.770326177829425, 50.49823062632352, 48.76753336004218, 149.11401751564134, 233.73784447300272, 286.4647880875753, 288.55270511427784, 235.98118672046297, 228.54853832769393, 179.76698076860626, 207.1990468460984, 470.9529442444468, 324.56901237539256, 206.22156031788995, 199.83699230547643, 192.80241524566802, 226.9553437341834, 338.41826168570174, 65.37694229746941, 60.18134070010857, 56.50768727099056, 51.52940310540809, 47.6265595417159, 184.26231820554392, 259.4613785139987, 243.25655827412692, 231.32435467733575, 274.8135447497937, 167.04196916235782, 192.75334053295336, 286.94656734095025, 348.3185629947013, 249.96127649547404, 289.7784003500421, 173.48520246715574, 249.40335105516516, 212.58371647024853, 269.18959346772635, 65.99086757280604, 59.261875684250086, 54.870709616692594, 51.98927396283286, 47.84502966658489, 181.80711335621245, 288.9440982251841, 234.39625221650957, 283.2563551656521, 288.67728546379294, 218.5572387391706, 254.54739059032823, 249.85668227199494, 382.63971232339276, 253.5439062180013, 168.8415824242838, 163.29189127086676, 461.0988622971931, 211.720511082708, 273.0016649838981, 66.43571065522968, 61.23775709589401, 55.0309113481175, 51.31146689407936, 48.55421325788418, 178.3252799615438, 286.9578503873477, 313.91192384923227, 309.6711724356397, 272.9054245727188, 153.91418698995727, 242.31881633441387, 288.4717536571858, 282.7089191145038, 310.6386728317177, 228.99260996008087, 304.8178323381234, 291.71408956513113, 232.1879221650092, 255.56077052460756]\n",
      "47.6265595417159\n",
      "[24, 28, 1]\n",
      "K is :  4\n",
      "[[24, 28, 1], [24, 28, 1], [24, 28, 1], [24, 28, 1]]\n",
      "[47.6265595417159, 47.6265595417159, 47.6265595417159, 47.6265595417159]\n",
      "[24, 12, 1]\n"
     ]
    }
   ],
   "source": [
    "import warnings \n",
    "warnings.filterwarnings('ignore')\n",
    "models = [[24,12,1],[24,16,1],[24,20,1], [24,24,1], [24,28,1]]\n",
    "\n",
    "bestAccuracy,bestParam = cross_validatation(np.array(d1), np.array(dt), models)"
   ]
  },
  {
   "cell_type": "code",
   "execution_count": 15,
   "metadata": {
    "scrolled": true
   },
   "outputs": [
    {
     "name": "stdout",
     "output_type": "stream",
     "text": [
      "[149.56837609322474, 188.81547776320244, 209.06961122221043, 151.65943930001058, 155.1318722779833] [[24, 12, 1], [24, 12, 1], [24, 12, 1], [24, 12, 1], [24, 12, 1]]\n"
     ]
    }
   ],
   "source": [
    "print(bestAccuracy,bestParam)"
   ]
  },
  {
   "cell_type": "code",
   "execution_count": 16,
   "metadata": {},
   "outputs": [],
   "source": [
    "from sklearn.metrics import mean_squared_error\n",
    "x_train, x_test, y_train, y_test = train_test_split(np.array(d1),np.array(dt), test_size=0.25, random_state=42)"
   ]
  },
  {
   "cell_type": "code",
   "execution_count": 17,
   "metadata": {},
   "outputs": [
    {
     "data": {
      "text/plain": [
       "{'w': array([ 4.51896308e+00,  5.76674683e+00,  8.87224726e-01,  1.84848640e+00,\n",
       "        -7.92854247e-01, -4.42393782e-01, -8.36883557e-01,  1.48873901e+00,\n",
       "         7.33031810e-01, -1.37104524e+00,  5.03779817e-01,  9.09845495e-01,\n",
       "        -8.80645679e-01, -2.71154855e-01, -8.77657150e-02,  3.52310108e-01,\n",
       "         2.02344596e-02, -3.23317173e-01,  1.87159448e-01, -3.34066297e-01,\n",
       "        -9.61875121e-02,  3.02942272e-01, -6.81256177e-02, -4.02490835e-01,\n",
       "        -5.52936026e-01,  1.82134383e+00, -1.89079404e+00,  1.13708824e+00,\n",
       "         4.88104618e-01,  4.94229178e-01,  1.93983442e+00, -8.16959885e-01,\n",
       "         1.13654347e+00,  7.29048203e-01,  1.28254561e+00,  3.56978335e-01,\n",
       "        -4.18692046e+00, -9.95660574e-01, -6.06152024e-01,  2.82144272e-01,\n",
       "         2.13424680e+00, -8.39235358e-01,  6.69010533e-01, -2.89494989e-01,\n",
       "        -2.43311293e+00,  3.73909727e-01, -2.48455571e+00, -1.98991167e+00,\n",
       "         3.77167268e+00,  3.86541939e+00,  1.51480124e+00, -1.88703085e+00,\n",
       "        -1.21950489e+00, -7.62174807e-01, -1.71485932e+00, -2.28689454e+00,\n",
       "        -1.57740034e-02,  2.31028202e+00,  1.53441721e-01,  2.96796604e+00,\n",
       "         7.01845175e+00, -2.50639935e+00,  2.91896125e-01, -1.15209434e+00,\n",
       "         1.59377625e+00,  3.28535771e-01, -5.03722366e-01, -3.59590798e+00,\n",
       "         9.60918003e-01,  3.48246658e+00,  1.03313901e+00, -1.78398415e+00,\n",
       "        -2.65603002e+00, -4.41750673e-01, -6.13011831e-01,  4.06251540e-01,\n",
       "        -1.66362217e+00,  1.51534859e-01,  5.80336457e-01,  4.36295699e-01,\n",
       "         1.65109483e+00,  3.18499632e-02,  1.46116734e+00,  2.13928214e+00,\n",
       "        -1.33636079e+00, -2.95042832e+00,  7.89430308e-01,  1.23940876e+00,\n",
       "        -1.33103196e+00, -3.09753390e-02, -4.54515528e-01,  8.47264255e-02,\n",
       "         2.68448593e-01, -4.21940488e-01, -1.18284096e-01, -2.90984974e+00,\n",
       "        -6.25507585e-01, -1.08798418e+00,  5.72793503e-01, -1.23476317e+00,\n",
       "         3.42997467e-01, -3.45796939e-01, -3.87475264e-01,  3.34344758e-01,\n",
       "        -2.32174403e-01, -2.60711393e-01, -8.24828569e-02, -3.73753036e-01,\n",
       "        -4.62190771e+00,  2.05826435e+00, -6.07921467e-01, -1.56045260e+00,\n",
       "         5.96922685e+00, -4.65386437e-01,  5.21877375e-01, -3.25354231e+00,\n",
       "         2.29077504e-01,  3.52506581e+00,  3.92468987e-01,  1.01509182e+00,\n",
       "         1.65607606e-01, -9.47265174e-01, -2.92686003e-01,  7.25215679e-01,\n",
       "         5.64567369e-01,  1.90220033e-01,  2.89382325e-01,  6.26153037e-01,\n",
       "         4.10487060e+00, -9.42962338e-01,  3.74557600e+00,  1.42175498e-01,\n",
       "         7.58978366e-01, -1.81702005e-01, -2.00289839e-01,  1.25443714e-01,\n",
       "         7.36909746e-02, -1.00874426e-01,  1.78929312e-01, -1.09497040e+00,\n",
       "         2.01838444e-03,  1.22005073e+00, -1.97063917e-02, -5.45714545e+00,\n",
       "         7.78868653e-01, -1.12368668e+00,  6.02087891e-01, -2.25883436e+00,\n",
       "         1.01849376e+00, -1.20282819e+00, -6.51290451e-01,  2.66400591e+00,\n",
       "        -6.84197940e-01, -2.31621921e+00, -6.27797506e-01, -1.59360298e+00,\n",
       "         4.03481478e-01,  2.09665867e-01, -1.81847992e-01, -1.01536542e+00,\n",
       "        -5.28560289e+00, -3.01962338e-01,  3.75962134e-01, -8.46059226e-01,\n",
       "        -1.30495712e+00,  1.01371357e+00, -1.37761847e+00,  1.50087902e+00,\n",
       "        -3.22808759e+00,  3.34238684e+00,  1.05658082e+00, -1.04252313e+00,\n",
       "        -1.84877356e+00,  3.44525123e-02, -9.94691599e-01, -6.42990537e-01,\n",
       "        -3.03917145e+00,  1.01624766e+00, -2.93271038e+00,  2.72678698e+00,\n",
       "         1.90612532e+00,  1.65859370e+00,  4.34882935e-01, -3.42098632e-01,\n",
       "         1.92660020e+00,  4.25189989e-01, -5.88443121e-01, -8.41197333e-01,\n",
       "         1.52191856e-01,  7.03412530e-01,  2.58600991e-01,  2.39531142e+00,\n",
       "         9.80245360e-01, -3.32324200e+00, -2.75266389e-01,  1.33661063e+00,\n",
       "        -5.01618924e-01,  4.83257909e-01,  1.86906535e-01,  1.03506550e+00,\n",
       "        -1.08220187e+00, -1.13083574e+00, -9.34762954e-01, -9.23823895e-01,\n",
       "         1.02128682e+00,  1.47274981e+00, -9.08507297e-02,  2.27179992e+00,\n",
       "        -2.06008558e+00,  6.25813584e-01,  1.33251869e-01, -3.02890101e+00,\n",
       "         1.21235746e-01,  2.92304326e+00,  3.00809218e-01,  2.13742055e-01,\n",
       "         2.79141302e+00,  8.75231394e-01, -1.72973229e+00,  6.49803335e-01,\n",
       "         4.55010867e+00, -8.19832763e-01,  1.77619076e+00,  4.00383606e-01,\n",
       "         1.91658063e+00, -7.14599026e-01,  1.70014536e+00, -9.50828225e-01,\n",
       "         1.40408154e-01, -1.35622108e+00, -2.96749520e-01,  2.04330938e-01,\n",
       "        -5.93077842e-01,  1.49772690e-01,  1.99133727e-01,  1.65875396e+00,\n",
       "        -2.27949676e+00, -1.52182823e+00, -2.29589311e+00, -5.07946088e+00,\n",
       "         2.97879171e-01, -1.34737216e-01, -2.47152686e+00,  1.67497371e+00,\n",
       "         4.30070161e-01,  1.56660287e+00,  2.41843776e+00, -1.76134279e+00,\n",
       "         2.50302998e+00,  1.27856288e+00,  2.22433548e+00, -7.89366477e-01,\n",
       "        -5.68631931e-01,  9.66068974e-01, -1.64479027e+00,  4.03490883e-01,\n",
       "         4.89870876e-01,  3.71776307e-01,  1.59954612e+00,  1.39259953e+00,\n",
       "         1.76228140e+00, -1.44270100e+00,  1.80157619e+00,  2.46653204e-01,\n",
       "        -4.20224620e-01,  7.21762192e-01,  2.93881306e-01,  2.57912575e-01,\n",
       "        -1.39760047e+00,  3.63777390e-02, -2.33900769e-01,  1.50542897e+00,\n",
       "        -1.28671040e+00, -1.43176918e+00, -1.11986427e+00, -1.00927742e+00,\n",
       "        -1.43655657e-01,  1.77422131e-01, -5.30536802e-02,  5.19550706e-02,\n",
       "         3.56322626e-01,  4.01204818e-02,  2.92752859e-02, -7.03543936e-01,\n",
       "         1.96271354e-02,  7.14727700e-01,  2.20353280e-03,  5.35206665e-01,\n",
       "        -6.01188702e-01, -4.02231734e-01,  1.65062267e+00, -1.96703851e-01,\n",
       "        -4.07233877e+00, -4.57475325e-01, -1.49225027e+00,  1.66682128e+00,\n",
       "        -2.00124008e+00, -1.52229213e+00, -2.04798071e+00,  3.85052932e-01,\n",
       "         2.33689325e-01, -5.37167624e-01, -3.77679230e-01, -2.45503635e+00,\n",
       "         4.85694906e-01, -2.40466125e-01, -7.00425938e-01, -2.54251044e+00,\n",
       "         3.55956576e+00,  2.66489073e+00,  3.59758393e+00, -2.71267247e+00,\n",
       "         2.05406149e-01]),\n",
       " 'f': 0.31230140474552315,\n",
       " 'reason': 'reached limit of nIterations',\n",
       " 'wtrace': None,\n",
       " 'ftrace': None}"
      ]
     },
     "execution_count": 17,
     "metadata": {},
     "output_type": "execute_result"
    }
   ],
   "source": [
    "import warnings \n",
    "warnings.filterwarnings('ignore')\n",
    "model=NeuralNet([24,12,1])  \n",
    "model.train(x_train,y_train,niter=1000)"
   ]
  },
  {
   "cell_type": "code",
   "execution_count": 18,
   "metadata": {},
   "outputs": [],
   "source": [
    "y_pred=model.use(x_test)"
   ]
  },
  {
   "cell_type": "markdown",
   "metadata": {},
   "source": [
    "## Discussions about parameter/network structure choice\n",
    "\n",
    "Here we have 3 layers of neural network.Input layer of size 24 as we have 24 features and output layer of 1 unit as we are predicting one target variable. In cross validation we have repeated the training of neural network with different number of hidden units on different parts of the data. Here we see that we have most of the best results with the hidden units size as 12 and we can observe that the as the number of hidden units increase the model does not improve hence we can say that the model is not performing well. These are the best values and their parameters we received [149.56837609322474, 188.81547776320244, 209.06961122221043, 151.65943930001058, 155.1318722779833] [[24, 12, 1], [24, 12, 1], [24, 12, 1], [24, 12, 1], [24, 12, 1]]"
   ]
  },
  {
   "cell_type": "markdown",
   "metadata": {},
   "source": [
    "## Plots for results"
   ]
  },
  {
   "cell_type": "code",
   "execution_count": 19,
   "metadata": {},
   "outputs": [
    {
     "name": "stdout",
     "output_type": "stream",
     "text": [
      "RMSE: 85.15650383258128\n"
     ]
    }
   ],
   "source": [
    "from sklearn.metrics import r2_score\n",
    "from sklearn.metrics import mean_squared_error\n",
    "print('RMSE:', np.sqrt(mean_squared_error(y_test, y_pred)))"
   ]
  },
  {
   "cell_type": "code",
   "execution_count": 20,
   "metadata": {
    "scrolled": true
   },
   "outputs": [
    {
     "data": {
      "image/png": "[encoded data removed]",
      "text/plain": [
       "<Figure size 432x288 with 1 Axes>"
      ]
     },
     "metadata": {
      "needs_background": "light"
     },
     "output_type": "display_data"
    }
   ],
   "source": [
    "plt.plot(y_test)\n",
    "plt.plot(y_pred)\n",
    "plt.title(\"Actual vs Predicted\")\n",
    "plt.show()"
   ]
  },
  {
   "cell_type": "code",
   "execution_count": 21,
   "metadata": {
    "scrolled": true
   },
   "outputs": [
    {
     "data": {
      "image/png": "[encoded data removed]",
      "text/plain": [
       "<Figure size 432x288 with 1 Axes>"
      ]
     },
     "metadata": {
      "needs_background": "light"
     },
     "output_type": "display_data"
    }
   ],
   "source": [
    "plt.plot(y_pred)\n",
    "plt.title(\"NN model predictions\")\n",
    "plt.show()"
   ]
  },
  {
   "cell_type": "markdown",
   "metadata": {},
   "source": [
    "## Discussion about the prediction results\n",
    "\n",
    "We have RMSE value of 85.15650383258128 after performing nonlinear regression using neural network on the regression dataset. These were the results with 24 input units , 12 hidden units and 1 output unit. We chose 12 number of hidden units as it gave the best results in cross validation and suits our data.We have tanh activation function . If we increase the number of hidden units the model does not perform well, hence using just 12 hidden units.We can see the plot out predictions really fits our actual data.So we got the best parameters from the cross validation."
   ]
  },
  {
   "cell_type": "markdown",
   "metadata": {},
   "source": [
    "\n",
    "##  Nonlinear Logistic Regression"
   ]
  },
  {
   "cell_type": "markdown",
   "metadata": {},
   "source": [
    "## Data Description\n",
    "\n",
    "The Dataset used here is Denver Crime Data from Kaggle datasets.The dataset consists of 35000+ data samples and 11 feature values.The data here classifies whether the offense was a crime or not.<br>\n",
    "\n",
    "OFFENSE_ID : it is a unique id for each offense.<br>\n",
    "INCIDENT_ID : it is a unique id for an occurence of offenses.<br>\n",
    "OFFENSE_CODE : it is a unique id for a particular type of offense.<br>\n",
    "OFFENSE_CODE_EXTENSION : it is used to describe a subset of another type crime.<br>\n",
    "OFFENSE_TYPE_ID : provides the actual name for the offense in lamens terms.<br>\n",
    "OFFENSE_CATEGORY_ID : provides a more general categorization for crimes.<br>\n",
    "FIRST_OCCURENCE_DATE : is the first possible date/time of the offense.<br>\n",
    "LAST_OCCURENCE_DATE : is the last possible time of the offense.<br>\n",
    "REPORTED_DATE : is the time at which the offense was reported to the police.<br>\n",
    "INCIDENT_ADDRESS : is the location of the offense.<br>\n",
    "GEO_X : is the state plane (city of Denver standard projection) for the offense location.<br>\n",
    "GEO_Y : is the state plane (city of Denver standard projection) for the offense location.<br>\n",
    "GEO_LON : is the longitude of the location of the offense.<br>\n",
    "GEO_LAT : is the latitudes of the location of the offense.<br>\n",
    "DISTRICT_ID : is the district in charge of handling the offense.<br>\n",
    "PRECINCT_ID : is the precinct in charge of handling the offense.<br>\n",
    "NEIGHBORHOOD_ID : is the neighborhood the offense occurred in.<br>\n",
    "IS_CRIME : states whether the offense was a crime.<br>\n",
    "IS_TRAFFIC : states whether offense is traffic accident or not.<br>"
   ]
  },
  {
   "cell_type": "markdown",
   "metadata": {},
   "source": [
    "### Reading the Data \n",
    "\n",
    "Reading the .csv file."
   ]
  },
  {
   "cell_type": "code",
   "execution_count": 22,
   "metadata": {},
   "outputs": [],
   "source": [
    "import matplotlib.pyplot as plt\n",
    "import pandas as pd\n",
    "import seaborn as sns\n",
    "\n",
    "dataset=pd.read_csv('crime.csv')"
   ]
  },
  {
   "cell_type": "markdown",
   "metadata": {},
   "source": [
    "## Plots for Understanding or Analysis"
   ]
  },
  {
   "cell_type": "code",
   "execution_count": 23,
   "metadata": {},
   "outputs": [
    {
     "data": {
      "image/png": "[encoded data removed]",
      "text/plain": [
       "<Figure size 432x288 with 1 Axes>"
      ]
     },
     "metadata": {
      "needs_background": "light"
     },
     "output_type": "display_data"
    }
   ],
   "source": [
    "sns.countplot(dataset['IS_CRIME'],label=\"Count\")\n",
    "plt.show()"
   ]
  },
  {
   "cell_type": "code",
   "execution_count": 24,
   "metadata": {},
   "outputs": [
    {
     "data": {
      "image/png": "[encoded data removed]",
      "text/plain": [
       "<Figure size 360x360 with 1 Axes>"
      ]
     },
     "metadata": {
      "needs_background": "light"
     },
     "output_type": "display_data"
    }
   ],
   "source": [
    "sns.catplot(x='DISTRICT_ID',y='IS_CRIME',data=dataset,kind='bar').set_axis_labels(\"District\",\"Crime\")\n",
    "plt.show()"
   ]
  },
  {
   "cell_type": "code",
   "execution_count": 25,
   "metadata": {},
   "outputs": [
    {
     "data": {
      "image/png": "[encoded data removed]",
      "text/plain": [
       "<Figure size 432x288 with 1 Axes>"
      ]
     },
     "metadata": {
      "needs_background": "light"
     },
     "output_type": "display_data"
    }
   ],
   "source": [
    "dataset['DISTRICT_ID'].value_counts().plot(kind='bar')\n",
    "plt.xlabel('District')\n",
    "plt.ylabel('Total Crimes 2014-2018')\n",
    "plt.show()"
   ]
  },
  {
   "cell_type": "code",
   "execution_count": 26,
   "metadata": {},
   "outputs": [
    {
     "data": {
      "image/png": "[encoded data removed]",
      "text/plain": [
       "<Figure size 432x288 with 1 Axes>"
      ]
     },
     "metadata": {
      "needs_background": "light"
     },
     "output_type": "display_data"
    }
   ],
   "source": [
    "dataset['PRECINCT_ID'].value_counts().head(10).plot(kind='bar')\n",
    "plt.xlabel('Presinct')\n",
    "plt.ylabel('Total Crimes 2014-2018')\n",
    "plt.show()"
   ]
  },
  {
   "cell_type": "code",
   "execution_count": 27,
   "metadata": {},
   "outputs": [
    {
     "data": {
      "image/png": "[encoded data removed]",
      "text/plain": [
       "<Figure size 432x288 with 1 Axes>"
      ]
     },
     "metadata": {
      "needs_background": "light"
     },
     "output_type": "display_data"
    }
   ],
   "source": [
    "dataset['OFFENSE_CATEGORY_ID'].value_counts().plot(kind='bar')\n",
    "plt.title('Crimes Committed by Type')\n",
    "plt.xlabel('Offense')\n",
    "plt.ylabel('Total Offenses 2014-2018')\n",
    "plt.show()"
   ]
  },
  {
   "cell_type": "code",
   "execution_count": 28,
   "metadata": {},
   "outputs": [
    {
     "data": {
      "image/png": "[encoded data removed]",
      "text/plain": [
       "<Figure size 432x288 with 1 Axes>"
      ]
     },
     "metadata": {
      "needs_background": "light"
     },
     "output_type": "display_data"
    }
   ],
   "source": [
    "dataset['NEIGHBORHOOD_ID'].value_counts().head(30).plot(kind='bar')\n",
    "plt.xlabel('Neighbourhood')\n",
    "plt.ylabel('Total Crimes 2014-2018')\n",
    "plt.show()"
   ]
  },
  {
   "cell_type": "markdown",
   "metadata": {},
   "source": [
    "## Preliminary Observation\n",
    "\n",
    "The Plots above show us that:\n",
    "\n",
    "1.<b>Countplot for crime</b> : The first graph is the countplot for crime.This shows how many offenses are crime under the law.It can be observed that most of the offenses reported are crimes.<br>\n",
    "\n",
    "2.<b>Plot for district</b> : This plot shows the probability of the offense being a crime in the different districts.We can observe that district 6 has the highest probability of the offenses being reported in the area as crime while district 3 has the lowest probability of the offense being reported a crime.<br>\n",
    "\n",
    "3.<b>Plot for crime(2014-2018)</b> : This graph shows the crimes of different districts through 4 years.We can observe that district 3 has most number of crimes while district 7 has the least number of crimes.While districts 2,4 and 5 have almost the same number of crimes in 4 years.<br>\n",
    "\n",
    "4.<b>Plot for crime(2014-2018) for presinct</b> : This is graph for number of crimes in past 4 years in the different presinct.We can observe that presint 611 which falls under district 6 has the most number of crimes while presinct 323 under district 3 and presinct 621 under district 6 have the lowest number of crimes.<br>\n",
    "\n",
    "5.<b>Plot for offense</b> : This graph shows the different offense types in last 4 years.We can observe that traffic-accident is the leading offense in this while murder is the lowest offense classified as crime in last 4 years.<br>\n",
    "\n",
    "6.<b>Plot for Neighbourhood</b> : This graph shows different neighbourhood and the number of crimes that happened in last 4 years.We can see that five point and stapleton has two of the highest number of crimes reported while globeville,hampden and north-capitol-hill neighbourhoods have lowest reported crimes in last 4 years.<br>"
   ]
  },
  {
   "cell_type": "markdown",
   "metadata": {},
   "source": [
    "## Summary for Non-Linear Logistic  Regression\n",
    "\n",
    "Logistic regression is a statistical method for predicting binary classes. It is a special type of regression in which the goal is to model the probability of something as a function of other variables. In Linear Regression, the output is the weighted sum of inputs. Logistic Regression is a generalized Linear Regression in the sense that we don’t output the weighted sum of inputs directly, but we pass it through a activation function that can map any real value between 0 and 1. In nonlinear logistic regression we add extra layers the hidden layers with which the softmax function is used in the last layer. Till then the input layer passes its output to hidden layer, then the hidden layer to another hidden layer or softmax function and the softmax function then gives the output."
   ]
  },
  {
   "cell_type": "code",
   "execution_count": 29,
   "metadata": {},
   "outputs": [],
   "source": [
    "from nn import NeuralNet\n",
    "\n",
    "class NeuralNetLogReg(NeuralNet):\n",
    "    \"\"\" Nonlinear Logistic Regression\n",
    "    \"\"\"\n",
    "\n",
    "    # if you think, you need additional items to initialize here,\n",
    "    # add your code for it here\n",
    "    def __init__(self, nunits):\n",
    "        NeuralNet.__init__(self, nunits)\n",
    "\n",
    "    def softmax(self,z):\n",
    "        if not isinstance(z, np.ndarray):\n",
    "            z = np.asarray(z)\n",
    "        f = np.exp(z) \n",
    "        return f / (np.sum(f, axis=1, keepdims=True) if len(z.shape) == 2 else np.sum(f))\n",
    "\n",
    "\n",
    "    \n",
    "    def forward(self,X):\n",
    "        t = X \n",
    "        Z = []\n",
    "\n",
    "        for i in range(self._nLayers):\n",
    "            Z.append(t) \n",
    "            if i == self._nLayers - 1:\n",
    "                t = np.dot(self.add_ones(t), self._W[i])\n",
    "            else:\n",
    "                t = np.tanh(np.dot(self.add_ones(t), self._W[i]))\n",
    "                #t = self.RBF(np.dot(np.hstack((np.ones((t.shape[0],1)),t)),self._W[i]))\n",
    "        return (t, Z)\n",
    "\n",
    "    def _objectf(self, T, Y, wpenalty):\n",
    "        return 0.5 * np.mean(np.square(T - Y)) + wpenalty\n",
    "\n",
    "    def train(self, X, T, **params):\n",
    "\n",
    "        verbose = params.pop('verbose', False)\n",
    "        # training parameters\n",
    "        _lambda = params.pop('Lambda', 0.)\n",
    "\n",
    "        #parameters for scg\n",
    "        niter = params.pop('niter', 1000)\n",
    "        wprecision = params.pop('wprecision', 1e-10)\n",
    "        fprecision = params.pop('fprecision', 1e-10)\n",
    "        wtracep = params.pop('wtracep', False)\n",
    "        ftracep = params.pop('ftracep', False)\n",
    "\n",
    "        # optimization\n",
    "        optim = params.pop('optim', 'scg')\n",
    "\n",
    "        if self.stdX == None:\n",
    "            explore = params.pop('explore', False)\n",
    "            self.stdX = Standardizer(X, explore)\n",
    "        Xs = self.stdX.standardize(X)\n",
    "        if self.stdT == None and self.stdTarget:\n",
    "            self.stdT = Standardizer(T)\n",
    "            T = self.stdT.standardize(T)\n",
    "                \n",
    "        def gradientf(weights):\n",
    "            self.unpack(weights)\n",
    "            Y,Z = self.forward(Xs)\n",
    "            error = self._errorf(T, Y)\n",
    "            return self.backward(error, Z, T, _lambda)\n",
    "            \n",
    "        def optimtargetf(weights):\n",
    "            \"\"\" optimization target function : MSE \n",
    "            \"\"\"\n",
    "            self.unpack(weights)\n",
    "            #self._weights[:] = weights[:]  # unpack\n",
    "            Y,_ = self.forward(Xs)\n",
    "            Wnb=np.array([])\n",
    "            for i in range(self._nLayers):\n",
    "                if len(Wnb)==0: Wnb=self._W[i][1:,].reshape(self._W[i].size-self._W[i][0,].size,1)\n",
    "                else: Wnb = np.vstack((Wnb,self._W[i][1:,].reshape(self._W[i].size-self._W[i][0,].size,1)))\n",
    "            wpenalty = _lambda * np.dot(Wnb.flat ,Wnb.flat)\n",
    "            return self._objectf(T, Y, wpenalty)\n",
    "\n",
    "        if optim == 'scg':\n",
    "            result = scg(self.cp_weight(), gradientf, optimtargetf,\n",
    "                                        wPrecision=wprecision, fPrecision=fprecision, \n",
    "                                        nIterations=niter,\n",
    "                                        wtracep=wtracep, ftracep=ftracep,\n",
    "                                        verbose=False)\n",
    "            self.unpack(result['w'][:])\n",
    "            self.f = result['f']\n",
    "        elif optim == 'steepest':\n",
    "            result = steepest(self.cp_weight(), gradientf, optimtargetf,\n",
    "                                nIterations=niter,\n",
    "                                xPrecision=wprecision, fPrecision=fprecision,\n",
    "                                xtracep=wtracep, ftracep=ftracep )\n",
    "            self.unpack(result['w'][:])\n",
    "        if ftracep:\n",
    "            self.ftrace = result['ftrace']\n",
    "        if 'reason' in result.keys() and verbose:\n",
    "            print(result['reason'])\n",
    "\n",
    "        return result        \n",
    "    def use(self, X):\n",
    "        Y, Z = self.forward(X)\n",
    "        l=np.argmax(Y,1)\n",
    "        return Y,l"
   ]
  },
  {
   "cell_type": "markdown",
   "metadata": {},
   "source": [
    "## Explanation of Code\n",
    "\n",
    "Here we have NeuralNetLogReg class which has a call to the consturctor for initializing the values to nLayers.Where,<br>\n",
    "nLayer is the number of layers.<br>\n",
    "rho is the learning rate.<br>\n",
    "W is the weights.<br>\n",
    "The train funcion here will take the features data which are 3 and and the target as input.Similar to previous NeuralNet class the gradientf() will unpack the weights by callin unpack.Then similar to NeuralNet class we will call the forward() which will multiply the weights with the input and update them after which back propagation is called which will take the target and error as input.The use() will call forward() to update the weights and give the predicted probablity and labels ."
   ]
  },
  {
   "cell_type": "code",
   "execution_count": 30,
   "metadata": {},
   "outputs": [],
   "source": [
    "from sklearn.metrics import precision_score, recall_score, confusion_matrix, classification_report, accuracy_score, f1_score\n",
    "from sklearn.preprocessing import StandardScaler\n",
    "sc=StandardScaler()\n",
    "from sklearn.metrics import roc_curve, auc"
   ]
  },
  {
   "cell_type": "markdown",
   "metadata": {},
   "source": [
    "## Examination of Correct Implementation with toy data"
   ]
  },
  {
   "cell_type": "code",
   "execution_count": 31,
   "metadata": {},
   "outputs": [
    {
     "data": {
      "text/plain": [
       "Text(0.5, 1.0, 'test data set')"
      ]
     },
     "execution_count": 31,
     "metadata": {},
     "output_type": "execute_result"
    },
    {
     "data": {
      "image/png": "[encoded data removed]",
      "text/plain": [
       "<Figure size 432x288 with 1 Axes>"
      ]
     },
     "metadata": {
      "needs_background": "light"
     },
     "output_type": "display_data"
    },
    {
     "data": {
      "image/png": "[encoded data removed]",
      "text/plain": [
       "<Figure size 432x288 with 1 Axes>"
      ]
     },
     "metadata": {
      "needs_background": "light"
     },
     "output_type": "display_data"
    }
   ],
   "source": [
    "# Data for testing\n",
    "N1 = 50\n",
    "N2 = 50\n",
    "N = N1 + N2\n",
    "D = 2\n",
    "K = 2\n",
    "\n",
    "mu1 = [-1, -1]\n",
    "cov1 = np.eye(2)\n",
    "\n",
    "mu2 = [2,3]\n",
    "cov2 = np.eye(2) * 3\n",
    "\n",
    "#\n",
    "#  Train Data\n",
    "#\n",
    "C1 = np.random.multivariate_normal(mu1, cov1, N1)\n",
    "C2 = np.random.multivariate_normal(mu2, cov2, N2)\n",
    "\n",
    "plt.plot(C1[:, 0], C1[:, 1], 'or')\n",
    "plt.plot(C2[:, 0], C2[:, 1], 'xb')\n",
    "\n",
    "plt.xlim([-3, 6])\n",
    "plt.ylim([-3, 7])\n",
    "plt.title(\"training data set\")\n",
    "\n",
    "Xtrain = np.vstack((C1, C2))\n",
    "Ttrain = np.zeros((N, 1))\n",
    "Ttrain[50:, :] = 1  # labels are zero or one\n",
    "\n",
    "means, stds = np.mean(Xtrain, 0), np.std(Xtrain, 0)\n",
    "# normalize inputs\n",
    "Xtrains = (Xtrain - means) / stds\n",
    "\n",
    "#\n",
    "#  Test Data\n",
    "#\n",
    "Ct1 = np.random.multivariate_normal(mu1, cov1, 20)\n",
    "Ct2 = np.random.multivariate_normal(mu2, cov2, 20)\n",
    "\n",
    "Xtest = np.vstack((Ct1, Ct2))\n",
    "Ttest = np.zeros((40, 1))\n",
    "Ttest[20:, :] = 1\n",
    "\n",
    "# normalize inputs\n",
    "Xtests = (Xtrain - means) / stds\n",
    "\n",
    "\n",
    "plt.figure()\n",
    "plt.plot(Ct1[:, 0], Ct1[:, 1], 'or')\n",
    "plt.plot(Ct2[:, 0], Ct2[:, 1], 'xb')\n",
    "\n",
    "plt.xlim([-3, 6])\n",
    "plt.ylim([-3, 7])\n",
    "plt.title(\"test data set\")"
   ]
  },
  {
   "cell_type": "code",
   "execution_count": 32,
   "metadata": {},
   "outputs": [],
   "source": [
    "# Apply Nonlinear Logistic Regression\n",
    "from imp import reload\n",
    "#import warnings \n",
    "#warnings.filterwarnings('ignore')\n",
    "\n",
    "clsf = NeuralNetLogReg([2, 4, 2])\n",
    "clsf.train(Xtrain, Ttrain)\n",
    "classes, Y = clsf.use(Xtest)"
   ]
  },
  {
   "cell_type": "code",
   "execution_count": 33,
   "metadata": {},
   "outputs": [
    {
     "data": {
      "text/plain": [
       "array([[-0.95628069, -0.95536402],\n",
       "       [-0.95948432, -0.95867052],\n",
       "       [-0.77333395, -0.78086788],\n",
       "       [-0.95431006, -0.95797078],\n",
       "       [-0.94137602, -0.94047417],\n",
       "       [-0.95635493, -0.9554385 ],\n",
       "       [-0.95321206, -0.9523764 ],\n",
       "       [-0.95351659, -0.95268518],\n",
       "       [ 1.14167927,  1.13850968],\n",
       "       [-1.00832126, -1.01196065],\n",
       "       [-0.95684817, -0.95593094],\n",
       "       [-0.9991579 , -1.00279921],\n",
       "       [-0.95539051, -0.95450765],\n",
       "       [ 1.24771293,  1.24925414],\n",
       "       [-0.68610268, -0.68545435],\n",
       "       [-0.98658091, -0.98653554],\n",
       "       [-0.47603803, -0.47891039],\n",
       "       [-0.91076371, -0.91485133],\n",
       "       [-1.00750593, -1.01114668],\n",
       "       [ 0.33375991,  0.33335262],\n",
       "       [ 1.0134223 ,  1.00789364],\n",
       "       [ 1.2041896 ,  1.21534988],\n",
       "       [ 1.02043078,  1.01477343],\n",
       "       [ 1.0132392 ,  1.00758897],\n",
       "       [ 1.0193949 ,  1.01378368],\n",
       "       [ 1.07531652,  1.07421546],\n",
       "       [ 1.01965384,  1.01399723],\n",
       "       [ 1.02043256,  1.01477518],\n",
       "       [ 1.01876221,  1.01313673],\n",
       "       [ 1.02043256,  1.01477518],\n",
       "       [ 1.02042754,  1.01477016],\n",
       "       [ 1.02043242,  1.01477504],\n",
       "       [ 1.01522912,  1.00966693],\n",
       "       [ 1.01595284,  1.01038554],\n",
       "       [ 1.02043256,  1.01477518],\n",
       "       [ 1.31500539,  1.3227304 ],\n",
       "       [ 0.93876696,  0.93479576],\n",
       "       [ 1.01971832,  1.0140747 ],\n",
       "       [ 0.48362033,  0.48783021],\n",
       "       [ 1.01469006,  1.00933076]])"
      ]
     },
     "execution_count": 33,
     "metadata": {},
     "output_type": "execute_result"
    }
   ],
   "source": [
    "classes"
   ]
  },
  {
   "cell_type": "code",
   "execution_count": 34,
   "metadata": {},
   "outputs": [
    {
     "data": {
      "text/plain": [
       "array([1, 1, 0, 0, 1, 1, 1, 1, 0, 0, 1, 0, 1, 1, 1, 1, 0, 0, 0, 0, 0, 1,\n",
       "       0, 0, 0, 0, 0, 0, 0, 0, 0, 0, 0, 0, 0, 1, 0, 0, 1, 0], dtype=int64)"
      ]
     },
     "execution_count": 34,
     "metadata": {},
     "output_type": "execute_result"
    }
   ],
   "source": [
    "Y"
   ]
  },
  {
   "cell_type": "code",
   "execution_count": 35,
   "metadata": {},
   "outputs": [
    {
     "name": "stdout",
     "output_type": "stream",
     "text": [
      "Accuracy:  50.0 %\n"
     ]
    },
    {
     "data": {
      "image/png": "[encoded data removed]",
      "text/plain": [
       "<Figure size 432x288 with 1 Axes>"
      ]
     },
     "metadata": {
      "needs_background": "light"
     },
     "output_type": "display_data"
    }
   ],
   "source": [
    "plt.plot(Ttest)\n",
    "plt.plot(Y)\n",
    "\n",
    "print(\"Accuracy: \", 100 - np.mean(np.abs(Ttest - Y)) * 100, \"%\")"
   ]
  },
  {
   "cell_type": "code",
   "execution_count": 36,
   "metadata": {},
   "outputs": [
    {
     "data": {
      "text/plain": [
       "[<matplotlib.lines.Line2D at 0x1c0306e4ef0>]"
      ]
     },
     "execution_count": 36,
     "metadata": {},
     "output_type": "execute_result"
    },
    {
     "data": {
      "image/png": "[encoded data removed]",
      "text/plain": [
       "<Figure size 432x432 with 1 Axes>"
      ]
     },
     "metadata": {
      "needs_background": "light"
     },
     "output_type": "display_data"
    }
   ],
   "source": [
    "# show me the boundary\n",
    "\n",
    "x = np.linspace(-3, 6, 1000)\n",
    "y = np.linspace(-3, 7, 1000)\n",
    "\n",
    "xs, ys = np.meshgrid(x, y)\n",
    "\n",
    "X = np.vstack((xs.flat, ys.flat)).T\n",
    "classes, _ = clsf.use(X)\n",
    "zs = _.reshape(xs.shape)\n",
    "\n",
    "plt.figure(figsize=(6,6))\n",
    "plt.contourf(xs, ys, zs.reshape(xs.shape))\n",
    "plt.title(\"Decision Boundary\")\n",
    "\n",
    "plt.plot(Ct1[:, 0], Ct1[:, 1], 'or')\n",
    "plt.plot(Ct2[:, 0], Ct2[:, 1], 'xb')"
   ]
  },
  {
   "cell_type": "markdown",
   "metadata": {},
   "source": [
    "## Discussion about Dummy Data\n",
    "\n",
    "We tested the code with dummy data it worked fine with an accuracy of 50%."
   ]
  },
  {
   "cell_type": "markdown",
   "metadata": {},
   "source": [
    "## Cross Validation for Non-Linear Logistic Regression"
   ]
  },
  {
   "cell_type": "code",
   "execution_count": 37,
   "metadata": {},
   "outputs": [],
   "source": [
    "from sklearn.metrics import accuracy_score\n",
    "K=5\n",
    "nfold=0\n",
    "res=[]\n",
    "testErrs=[]\n",
    "def partition(x):\n",
    "    partition= len (x)//K\n",
    "    a=x[0:partition]\n",
    "    b=x[partition:partition*2]\n",
    "    c=x[partition*2:partition*3]\n",
    "    d=x[partition*3:partition*4]\n",
    "    e=x[partition*4:partition*5]\n",
    "    partdata = [a,b,c,d,e]\n",
    "    return partdata\n",
    "\n",
    "best_parameter=[]\n",
    "final=[]\n",
    "\n",
    "def cross_validatation(X, Y, parameters):\n",
    "    x_parti = partition(X)\n",
    "    y_parti = partition(Y)\n",
    " \n",
    "    for i in range(K): \n",
    "        print(\"Number: \",i)\n",
    "        x_test = x_parti[i]\n",
    "        y_test = y_parti[i]\n",
    "\n",
    "        rmse=[]\n",
    "        params=[] \n",
    "        \n",
    "        for j in range(K): \n",
    "            print(\"K is : \",j)\n",
    "            if i == j: \n",
    "                continue \n",
    "            x_i = x_parti[j]\n",
    "            y_i = y_parti[j]\n",
    "            x_train = x_parti[not i and not j]\n",
    "            y_train = y_parti[not i and not j]\n",
    "            paramlist=[]\n",
    "            acclist=[]\n",
    "            for param in parameters:\n",
    "                model = NeuralNetLogReg(param)\n",
    "                model.train(x_train, y_train)\n",
    "                prob,label = model.use(x_i)\n",
    "                T=y_i[:,1]\n",
    "                T=np.where(T==0,1,0)\n",
    "                T=T.astype(int)\n",
    "                acc = accuracy_score(T, label)\n",
    "                acclist.append(acc)\n",
    "                res.append(param)\n",
    "                \n",
    "            print(res)\n",
    "            print(acclist)\n",
    "            print(max(acclist))\n",
    "            print(res[np.argmax(acclist)])\n",
    "            acclist.append((acc))\n",
    "            params.append(res[np.argmax(acclist)])\n",
    "         \n",
    "        print(params)\n",
    "        print(acc)\n",
    "        print(res[np.argmax(acc)])\n",
    "        bparameter=res[np.argmax(acc)]\n",
    "        bmodel = NeuralNetLogReg(bparameter)\n",
    "        \n",
    "        x_train = x_parti[not i]\n",
    "        y_train = y_parti[not i]\n",
    "        bmodel.train(x_train, y_train)\n",
    "\n",
    "        final_prob,flabel = bmodel.use(x_test)\n",
    "        Ttest=y_test[:,0]\n",
    "        Ttest=np.where(Ttest==0,1,0)\n",
    "        Ttest=Ttest.astype(int)\n",
    "        final_acc= accuracy_score(Ttest, flabel)\n",
    "\n",
    "    return final_acc"
   ]
  },
  {
   "cell_type": "markdown",
   "metadata": {},
   "source": [
    "Explanation of Code at beginning of the section."
   ]
  },
  {
   "cell_type": "markdown",
   "metadata": {},
   "source": [
    "## Presentation of CV  results"
   ]
  },
  {
   "cell_type": "code",
   "execution_count": 38,
   "metadata": {},
   "outputs": [],
   "source": [
    "from sklearn.model_selection import train_test_split\n",
    "import pandas as pd\n",
    "dataset1=pd.read_csv('crime.csv')\n",
    "dt1=pd.DataFrame(dataset1.iloc[:,-1])\n",
    "d11=dataset1[['DISTRICT_ID','PRECINCT_ID','OFFENSE_CODE']]\n",
    "XTrain, XTest, YTrain, YTest = train_test_split(np.asarray(d11), np.asarray(dt1), test_size=0.25, random_state=42)"
   ]
  },
  {
   "cell_type": "code",
   "execution_count": 39,
   "metadata": {},
   "outputs": [],
   "source": [
    "def add_ones(w):\n",
    "    return np.hstack((np.ones((w.shape[0], 1)), w))"
   ]
  },
  {
   "cell_type": "code",
   "execution_count": 40,
   "metadata": {},
   "outputs": [],
   "source": [
    "T = add_ones(np.array(dt1).reshape(-1,1))\n",
    "a=(np.ones((YTrain.shape[0], 1)))\n",
    "b=a[:,0]==1\n",
    "T=np.asmatrix(T)\n",
    "T[:,1]=T[:,0]\n",
    "(T[:,1])[T[:,1]==0]=1\n",
    "(T[:,0])[T[:,0]==1]=0\n",
    "T=T.astype(int)"
   ]
  },
  {
   "cell_type": "code",
   "execution_count": 41,
   "metadata": {
    "scrolled": false
   },
   "outputs": [
    {
     "name": "stdout",
     "output_type": "stream",
     "text": [
      "Number:  0\n",
      "K is :  0\n",
      "K is :  1\n",
      "[[3, 6, 2], [3, 9, 2], [3, 12, 2], [3, 15, 2]]\n",
      "[1.0, 1.0, 0.0, 0.0]\n",
      "1.0\n",
      "[3, 6, 2]\n",
      "K is :  2\n",
      "[[3, 6, 2], [3, 9, 2], [3, 12, 2], [3, 15, 2], [3, 6, 2], [3, 9, 2], [3, 12, 2], [3, 15, 2]]\n",
      "[1.0, 1.0, 1.0, 1.0]\n",
      "1.0\n",
      "[3, 6, 2]\n",
      "K is :  3\n",
      "[[3, 6, 2], [3, 9, 2], [3, 12, 2], [3, 15, 2], [3, 6, 2], [3, 9, 2], [3, 12, 2], [3, 15, 2], [3, 6, 2], [3, 9, 2], [3, 12, 2], [3, 15, 2]]\n",
      "[1.0, 0.0, 0.0, 0.0]\n",
      "1.0\n",
      "[3, 6, 2]\n",
      "K is :  4\n",
      "[[3, 6, 2], [3, 9, 2], [3, 12, 2], [3, 15, 2], [3, 6, 2], [3, 9, 2], [3, 12, 2], [3, 15, 2], [3, 6, 2], [3, 9, 2], [3, 12, 2], [3, 15, 2], [3, 6, 2], [3, 9, 2], [3, 12, 2], [3, 15, 2]]\n",
      "[0.180744403241313, 0.0, 1.0, 1.0]\n",
      "1.0\n",
      "[3, 12, 2]\n",
      "[[3, 6, 2], [3, 6, 2], [3, 6, 2], [3, 12, 2]]\n",
      "1.0\n",
      "[3, 6, 2]\n",
      "Number:  1\n",
      "K is :  0\n",
      "[[3, 6, 2], [3, 9, 2], [3, 12, 2], [3, 15, 2], [3, 6, 2], [3, 9, 2], [3, 12, 2], [3, 15, 2], [3, 6, 2], [3, 9, 2], [3, 12, 2], [3, 15, 2], [3, 6, 2], [3, 9, 2], [3, 12, 2], [3, 15, 2], [3, 6, 2], [3, 9, 2], [3, 12, 2], [3, 15, 2]]\n",
      "[0.0, 0.0, 0.0, 0.17181705809641531]\n",
      "0.17181705809641531\n",
      "[3, 15, 2]\n",
      "K is :  1\n",
      "K is :  2\n",
      "[[3, 6, 2], [3, 9, 2], [3, 12, 2], [3, 15, 2], [3, 6, 2], [3, 9, 2], [3, 12, 2], [3, 15, 2], [3, 6, 2], [3, 9, 2], [3, 12, 2], [3, 15, 2], [3, 6, 2], [3, 9, 2], [3, 12, 2], [3, 15, 2], [3, 6, 2], [3, 9, 2], [3, 12, 2], [3, 15, 2], [3, 6, 2], [3, 9, 2], [3, 12, 2], [3, 15, 2]]\n",
      "[0.9997253124570801, 0.0, 1.0, 0.0]\n",
      "1.0\n",
      "[3, 12, 2]\n",
      "K is :  3\n",
      "[[3, 6, 2], [3, 9, 2], [3, 12, 2], [3, 15, 2], [3, 6, 2], [3, 9, 2], [3, 12, 2], [3, 15, 2], [3, 6, 2], [3, 9, 2], [3, 12, 2], [3, 15, 2], [3, 6, 2], [3, 9, 2], [3, 12, 2], [3, 15, 2], [3, 6, 2], [3, 9, 2], [3, 12, 2], [3, 15, 2], [3, 6, 2], [3, 9, 2], [3, 12, 2], [3, 15, 2], [3, 6, 2], [3, 9, 2], [3, 12, 2], [3, 15, 2]]\n",
      "[0.953852492789452, 1.0, 0.0, 0.27990660623540725]\n",
      "1.0\n",
      "[3, 9, 2]\n",
      "K is :  4\n",
      "[[3, 6, 2], [3, 9, 2], [3, 12, 2], [3, 15, 2], [3, 6, 2], [3, 9, 2], [3, 12, 2], [3, 15, 2], [3, 6, 2], [3, 9, 2], [3, 12, 2], [3, 15, 2], [3, 6, 2], [3, 9, 2], [3, 12, 2], [3, 15, 2], [3, 6, 2], [3, 9, 2], [3, 12, 2], [3, 15, 2], [3, 6, 2], [3, 9, 2], [3, 12, 2], [3, 15, 2], [3, 6, 2], [3, 9, 2], [3, 12, 2], [3, 15, 2], [3, 6, 2], [3, 9, 2], [3, 12, 2], [3, 15, 2]]\n",
      "[0.0, 0.0, 1.0, 1.0]\n",
      "1.0\n",
      "[3, 12, 2]\n",
      "[[3, 15, 2], [3, 12, 2], [3, 9, 2], [3, 12, 2]]\n",
      "1.0\n",
      "[3, 6, 2]\n",
      "Number:  2\n",
      "K is :  0\n",
      "[[3, 6, 2], [3, 9, 2], [3, 12, 2], [3, 15, 2], [3, 6, 2], [3, 9, 2], [3, 12, 2], [3, 15, 2], [3, 6, 2], [3, 9, 2], [3, 12, 2], [3, 15, 2], [3, 6, 2], [3, 9, 2], [3, 12, 2], [3, 15, 2], [3, 6, 2], [3, 9, 2], [3, 12, 2], [3, 15, 2], [3, 6, 2], [3, 9, 2], [3, 12, 2], [3, 15, 2], [3, 6, 2], [3, 9, 2], [3, 12, 2], [3, 15, 2], [3, 6, 2], [3, 9, 2], [3, 12, 2], [3, 15, 2], [3, 6, 2], [3, 9, 2], [3, 12, 2], [3, 15, 2]]\n",
      "[1.0, 1.0, 0.0, 0.0]\n",
      "1.0\n",
      "[3, 6, 2]\n",
      "K is :  1\n",
      "[[3, 6, 2], [3, 9, 2], [3, 12, 2], [3, 15, 2], [3, 6, 2], [3, 9, 2], [3, 12, 2], [3, 15, 2], [3, 6, 2], [3, 9, 2], [3, 12, 2], [3, 15, 2], [3, 6, 2], [3, 9, 2], [3, 12, 2], [3, 15, 2], [3, 6, 2], [3, 9, 2], [3, 12, 2], [3, 15, 2], [3, 6, 2], [3, 9, 2], [3, 12, 2], [3, 15, 2], [3, 6, 2], [3, 9, 2], [3, 12, 2], [3, 15, 2], [3, 6, 2], [3, 9, 2], [3, 12, 2], [3, 15, 2], [3, 6, 2], [3, 9, 2], [3, 12, 2], [3, 15, 2], [3, 6, 2], [3, 9, 2], [3, 12, 2], [3, 15, 2]]\n",
      "[0.9951929679989012, 1.0, 1.0, 1.0]\n",
      "1.0\n",
      "[3, 9, 2]\n",
      "K is :  2\n",
      "K is :  3\n",
      "[[3, 6, 2], [3, 9, 2], [3, 12, 2], [3, 15, 2], [3, 6, 2], [3, 9, 2], [3, 12, 2], [3, 15, 2], [3, 6, 2], [3, 9, 2], [3, 12, 2], [3, 15, 2], [3, 6, 2], [3, 9, 2], [3, 12, 2], [3, 15, 2], [3, 6, 2], [3, 9, 2], [3, 12, 2], [3, 15, 2], [3, 6, 2], [3, 9, 2], [3, 12, 2], [3, 15, 2], [3, 6, 2], [3, 9, 2], [3, 12, 2], [3, 15, 2], [3, 6, 2], [3, 9, 2], [3, 12, 2], [3, 15, 2], [3, 6, 2], [3, 9, 2], [3, 12, 2], [3, 15, 2], [3, 6, 2], [3, 9, 2], [3, 12, 2], [3, 15, 2], [3, 6, 2], [3, 9, 2], [3, 12, 2], [3, 15, 2]]\n",
      "[0.0, 0.00041203131437989287, 1.0, 0.9649773382777092]\n",
      "1.0\n",
      "[3, 12, 2]\n",
      "K is :  4\n",
      "[[3, 6, 2], [3, 9, 2], [3, 12, 2], [3, 15, 2], [3, 6, 2], [3, 9, 2], [3, 12, 2], [3, 15, 2], [3, 6, 2], [3, 9, 2], [3, 12, 2], [3, 15, 2], [3, 6, 2], [3, 9, 2], [3, 12, 2], [3, 15, 2], [3, 6, 2], [3, 9, 2], [3, 12, 2], [3, 15, 2], [3, 6, 2], [3, 9, 2], [3, 12, 2], [3, 15, 2], [3, 6, 2], [3, 9, 2], [3, 12, 2], [3, 15, 2], [3, 6, 2], [3, 9, 2], [3, 12, 2], [3, 15, 2], [3, 6, 2], [3, 9, 2], [3, 12, 2], [3, 15, 2], [3, 6, 2], [3, 9, 2], [3, 12, 2], [3, 15, 2], [3, 6, 2], [3, 9, 2], [3, 12, 2], [3, 15, 2], [3, 6, 2], [3, 9, 2], [3, 12, 2], [3, 15, 2]]\n",
      "[0.2249690976514215, 0.0, 0.0, 0.0]\n",
      "0.2249690976514215\n",
      "[3, 6, 2]\n",
      "[[3, 6, 2], [3, 9, 2], [3, 12, 2], [3, 6, 2]]\n",
      "0.0\n",
      "[3, 6, 2]\n",
      "Number:  3\n",
      "K is :  0\n",
      "[[3, 6, 2], [3, 9, 2], [3, 12, 2], [3, 15, 2], [3, 6, 2], [3, 9, 2], [3, 12, 2], [3, 15, 2], [3, 6, 2], [3, 9, 2], [3, 12, 2], [3, 15, 2], [3, 6, 2], [3, 9, 2], [3, 12, 2], [3, 15, 2], [3, 6, 2], [3, 9, 2], [3, 12, 2], [3, 15, 2], [3, 6, 2], [3, 9, 2], [3, 12, 2], [3, 15, 2], [3, 6, 2], [3, 9, 2], [3, 12, 2], [3, 15, 2], [3, 6, 2], [3, 9, 2], [3, 12, 2], [3, 15, 2], [3, 6, 2], [3, 9, 2], [3, 12, 2], [3, 15, 2], [3, 6, 2], [3, 9, 2], [3, 12, 2], [3, 15, 2], [3, 6, 2], [3, 9, 2], [3, 12, 2], [3, 15, 2], [3, 6, 2], [3, 9, 2], [3, 12, 2], [3, 15, 2], [3, 6, 2], [3, 9, 2], [3, 12, 2], [3, 15, 2]]\n",
      "[0.0026095316577393213, 1.0, 0.005631094629858536, 0.0]\n",
      "1.0\n",
      "[3, 9, 2]\n",
      "K is :  1\n",
      "[[3, 6, 2], [3, 9, 2], [3, 12, 2], [3, 15, 2], [3, 6, 2], [3, 9, 2], [3, 12, 2], [3, 15, 2], [3, 6, 2], [3, 9, 2], [3, 12, 2], [3, 15, 2], [3, 6, 2], [3, 9, 2], [3, 12, 2], [3, 15, 2], [3, 6, 2], [3, 9, 2], [3, 12, 2], [3, 15, 2], [3, 6, 2], [3, 9, 2], [3, 12, 2], [3, 15, 2], [3, 6, 2], [3, 9, 2], [3, 12, 2], [3, 15, 2], [3, 6, 2], [3, 9, 2], [3, 12, 2], [3, 15, 2], [3, 6, 2], [3, 9, 2], [3, 12, 2], [3, 15, 2], [3, 6, 2], [3, 9, 2], [3, 12, 2], [3, 15, 2], [3, 6, 2], [3, 9, 2], [3, 12, 2], [3, 15, 2], [3, 6, 2], [3, 9, 2], [3, 12, 2], [3, 15, 2], [3, 6, 2], [3, 9, 2], [3, 12, 2], [3, 15, 2], [3, 6, 2], [3, 9, 2], [3, 12, 2], [3, 15, 2]]\n",
      "[0.9951929679989012, 0.0, 0.9413542095865952, 1.0]\n",
      "1.0\n",
      "[3, 15, 2]\n",
      "K is :  2\n",
      "[[3, 6, 2], [3, 9, 2], [3, 12, 2], [3, 15, 2], [3, 6, 2], [3, 9, 2], [3, 12, 2], [3, 15, 2], [3, 6, 2], [3, 9, 2], [3, 12, 2], [3, 15, 2], [3, 6, 2], [3, 9, 2], [3, 12, 2], [3, 15, 2], [3, 6, 2], [3, 9, 2], [3, 12, 2], [3, 15, 2], [3, 6, 2], [3, 9, 2], [3, 12, 2], [3, 15, 2], [3, 6, 2], [3, 9, 2], [3, 12, 2], [3, 15, 2], [3, 6, 2], [3, 9, 2], [3, 12, 2], [3, 15, 2], [3, 6, 2], [3, 9, 2], [3, 12, 2], [3, 15, 2], [3, 6, 2], [3, 9, 2], [3, 12, 2], [3, 15, 2], [3, 6, 2], [3, 9, 2], [3, 12, 2], [3, 15, 2], [3, 6, 2], [3, 9, 2], [3, 12, 2], [3, 15, 2], [3, 6, 2], [3, 9, 2], [3, 12, 2], [3, 15, 2], [3, 6, 2], [3, 9, 2], [3, 12, 2], [3, 15, 2], [3, 6, 2], [3, 9, 2], [3, 12, 2], [3, 15, 2]]\n",
      "[0.0, 0.009339376459277572, 0.0, 0.0]\n",
      "0.009339376459277572\n",
      "[3, 9, 2]\n",
      "K is :  3\n",
      "K is :  4\n",
      "[[3, 6, 2], [3, 9, 2], [3, 12, 2], [3, 15, 2], [3, 6, 2], [3, 9, 2], [3, 12, 2], [3, 15, 2], [3, 6, 2], [3, 9, 2], [3, 12, 2], [3, 15, 2], [3, 6, 2], [3, 9, 2], [3, 12, 2], [3, 15, 2], [3, 6, 2], [3, 9, 2], [3, 12, 2], [3, 15, 2], [3, 6, 2], [3, 9, 2], [3, 12, 2], [3, 15, 2], [3, 6, 2], [3, 9, 2], [3, 12, 2], [3, 15, 2], [3, 6, 2], [3, 9, 2], [3, 12, 2], [3, 15, 2], [3, 6, 2], [3, 9, 2], [3, 12, 2], [3, 15, 2], [3, 6, 2], [3, 9, 2], [3, 12, 2], [3, 15, 2], [3, 6, 2], [3, 9, 2], [3, 12, 2], [3, 15, 2], [3, 6, 2], [3, 9, 2], [3, 12, 2], [3, 15, 2], [3, 6, 2], [3, 9, 2], [3, 12, 2], [3, 15, 2], [3, 6, 2], [3, 9, 2], [3, 12, 2], [3, 15, 2], [3, 6, 2], [3, 9, 2], [3, 12, 2], [3, 15, 2], [3, 6, 2], [3, 9, 2], [3, 12, 2], [3, 15, 2]]\n",
      "[0.0, 1.0, 0.009476720230737536, 0.5121549237742068]\n",
      "1.0\n",
      "[3, 9, 2]\n",
      "[[3, 9, 2], [3, 15, 2], [3, 9, 2], [3, 9, 2]]\n",
      "0.5121549237742068\n",
      "[3, 6, 2]\n",
      "Number:  4\n",
      "K is :  0\n",
      "[[3, 6, 2], [3, 9, 2], [3, 12, 2], [3, 15, 2], [3, 6, 2], [3, 9, 2], [3, 12, 2], [3, 15, 2], [3, 6, 2], [3, 9, 2], [3, 12, 2], [3, 15, 2], [3, 6, 2], [3, 9, 2], [3, 12, 2], [3, 15, 2], [3, 6, 2], [3, 9, 2], [3, 12, 2], [3, 15, 2], [3, 6, 2], [3, 9, 2], [3, 12, 2], [3, 15, 2], [3, 6, 2], [3, 9, 2], [3, 12, 2], [3, 15, 2], [3, 6, 2], [3, 9, 2], [3, 12, 2], [3, 15, 2], [3, 6, 2], [3, 9, 2], [3, 12, 2], [3, 15, 2], [3, 6, 2], [3, 9, 2], [3, 12, 2], [3, 15, 2], [3, 6, 2], [3, 9, 2], [3, 12, 2], [3, 15, 2], [3, 6, 2], [3, 9, 2], [3, 12, 2], [3, 15, 2], [3, 6, 2], [3, 9, 2], [3, 12, 2], [3, 15, 2], [3, 6, 2], [3, 9, 2], [3, 12, 2], [3, 15, 2], [3, 6, 2], [3, 9, 2], [3, 12, 2], [3, 15, 2], [3, 6, 2], [3, 9, 2], [3, 12, 2], [3, 15, 2], [3, 6, 2], [3, 9, 2], [3, 12, 2], [3, 15, 2]]\n",
      "[1.0, 0.0, 1.0, 0.0]\n",
      "1.0\n",
      "[3, 6, 2]\n",
      "K is :  1\n"
     ]
    },
    {
     "name": "stdout",
     "output_type": "stream",
     "text": [
      "[[3, 6, 2], [3, 9, 2], [3, 12, 2], [3, 15, 2], [3, 6, 2], [3, 9, 2], [3, 12, 2], [3, 15, 2], [3, 6, 2], [3, 9, 2], [3, 12, 2], [3, 15, 2], [3, 6, 2], [3, 9, 2], [3, 12, 2], [3, 15, 2], [3, 6, 2], [3, 9, 2], [3, 12, 2], [3, 15, 2], [3, 6, 2], [3, 9, 2], [3, 12, 2], [3, 15, 2], [3, 6, 2], [3, 9, 2], [3, 12, 2], [3, 15, 2], [3, 6, 2], [3, 9, 2], [3, 12, 2], [3, 15, 2], [3, 6, 2], [3, 9, 2], [3, 12, 2], [3, 15, 2], [3, 6, 2], [3, 9, 2], [3, 12, 2], [3, 15, 2], [3, 6, 2], [3, 9, 2], [3, 12, 2], [3, 15, 2], [3, 6, 2], [3, 9, 2], [3, 12, 2], [3, 15, 2], [3, 6, 2], [3, 9, 2], [3, 12, 2], [3, 15, 2], [3, 6, 2], [3, 9, 2], [3, 12, 2], [3, 15, 2], [3, 6, 2], [3, 9, 2], [3, 12, 2], [3, 15, 2], [3, 6, 2], [3, 9, 2], [3, 12, 2], [3, 15, 2], [3, 6, 2], [3, 9, 2], [3, 12, 2], [3, 15, 2], [3, 6, 2], [3, 9, 2], [3, 12, 2], [3, 15, 2]]\n",
      "[0.049855789039967034, 1.0, 0.9324268644416975, 0.21109737673396511]\n",
      "1.0\n",
      "[3, 9, 2]\n",
      "K is :  2\n",
      "[[3, 6, 2], [3, 9, 2], [3, 12, 2], [3, 15, 2], [3, 6, 2], [3, 9, 2], [3, 12, 2], [3, 15, 2], [3, 6, 2], [3, 9, 2], [3, 12, 2], [3, 15, 2], [3, 6, 2], [3, 9, 2], [3, 12, 2], [3, 15, 2], [3, 6, 2], [3, 9, 2], [3, 12, 2], [3, 15, 2], [3, 6, 2], [3, 9, 2], [3, 12, 2], [3, 15, 2], [3, 6, 2], [3, 9, 2], [3, 12, 2], [3, 15, 2], [3, 6, 2], [3, 9, 2], [3, 12, 2], [3, 15, 2], [3, 6, 2], [3, 9, 2], [3, 12, 2], [3, 15, 2], [3, 6, 2], [3, 9, 2], [3, 12, 2], [3, 15, 2], [3, 6, 2], [3, 9, 2], [3, 12, 2], [3, 15, 2], [3, 6, 2], [3, 9, 2], [3, 12, 2], [3, 15, 2], [3, 6, 2], [3, 9, 2], [3, 12, 2], [3, 15, 2], [3, 6, 2], [3, 9, 2], [3, 12, 2], [3, 15, 2], [3, 6, 2], [3, 9, 2], [3, 12, 2], [3, 15, 2], [3, 6, 2], [3, 9, 2], [3, 12, 2], [3, 15, 2], [3, 6, 2], [3, 9, 2], [3, 12, 2], [3, 15, 2], [3, 6, 2], [3, 9, 2], [3, 12, 2], [3, 15, 2], [3, 6, 2], [3, 9, 2], [3, 12, 2], [3, 15, 2]]\n",
      "[1.0, 1.0, 0.9335256146133772, 0.7545666804010438]\n",
      "1.0\n",
      "[3, 6, 2]\n",
      "K is :  3\n",
      "[[3, 6, 2], [3, 9, 2], [3, 12, 2], [3, 15, 2], [3, 6, 2], [3, 9, 2], [3, 12, 2], [3, 15, 2], [3, 6, 2], [3, 9, 2], [3, 12, 2], [3, 15, 2], [3, 6, 2], [3, 9, 2], [3, 12, 2], [3, 15, 2], [3, 6, 2], [3, 9, 2], [3, 12, 2], [3, 15, 2], [3, 6, 2], [3, 9, 2], [3, 12, 2], [3, 15, 2], [3, 6, 2], [3, 9, 2], [3, 12, 2], [3, 15, 2], [3, 6, 2], [3, 9, 2], [3, 12, 2], [3, 15, 2], [3, 6, 2], [3, 9, 2], [3, 12, 2], [3, 15, 2], [3, 6, 2], [3, 9, 2], [3, 12, 2], [3, 15, 2], [3, 6, 2], [3, 9, 2], [3, 12, 2], [3, 15, 2], [3, 6, 2], [3, 9, 2], [3, 12, 2], [3, 15, 2], [3, 6, 2], [3, 9, 2], [3, 12, 2], [3, 15, 2], [3, 6, 2], [3, 9, 2], [3, 12, 2], [3, 15, 2], [3, 6, 2], [3, 9, 2], [3, 12, 2], [3, 15, 2], [3, 6, 2], [3, 9, 2], [3, 12, 2], [3, 15, 2], [3, 6, 2], [3, 9, 2], [3, 12, 2], [3, 15, 2], [3, 6, 2], [3, 9, 2], [3, 12, 2], [3, 15, 2], [3, 6, 2], [3, 9, 2], [3, 12, 2], [3, 15, 2], [3, 6, 2], [3, 9, 2], [3, 12, 2], [3, 15, 2]]\n",
      "[1.0, 0.0, 1.0, 1.0]\n",
      "1.0\n",
      "[3, 6, 2]\n",
      "K is :  4\n",
      "[[3, 6, 2], [3, 9, 2], [3, 6, 2], [3, 6, 2]]\n",
      "1.0\n",
      "[3, 6, 2]\n"
     ]
    }
   ],
   "source": [
    "models = [[3,6,2], [3,9,2],[3,12,2], [3,15,2]]\n",
    "bestAccuracy = (cross_validatation(np.array(d11),np.asarray(T), models))"
   ]
  },
  {
   "cell_type": "markdown",
   "metadata": {},
   "source": [
    "## Non-Linear Logistic Regression Results"
   ]
  },
  {
   "cell_type": "code",
   "execution_count": 42,
   "metadata": {},
   "outputs": [],
   "source": [
    "T = add_ones(np.array(YTrain).reshape(-1,1))\n",
    "a=(np.ones((YTrain.shape[0], 1)))\n",
    "b=a[:,0]==1\n",
    "T=np.asmatrix(T)\n",
    "T[:,1]=T[:,0]\n",
    "(T[:,1])[T[:,1]==0]=1\n",
    "(T[:,0])[T[:,0]==1]=0\n",
    "T=T.astype(int)"
   ]
  },
  {
   "cell_type": "code",
   "execution_count": 43,
   "metadata": {},
   "outputs": [],
   "source": [
    "nn = NeuralNetLogReg([3,15,2])\n",
    "nn.train(sc.fit_transform(XTrain), np.asarray(T),optim='scg') \n",
    "p,label1 = nn.use(sc.fit_transform(XTest))"
   ]
  },
  {
   "cell_type": "code",
   "execution_count": 44,
   "metadata": {},
   "outputs": [
    {
     "name": "stdout",
     "output_type": "stream",
     "text": [
      "Accuracy: 0.7424741814985717\n"
     ]
    }
   ],
   "source": [
    "y_pred1=label1\n",
    "y_test1=np.where(YTest==1,0,1)\n",
    "print('Accuracy:', accuracy_score(y_test1, y_pred1))"
   ]
  },
  {
   "cell_type": "markdown",
   "metadata": {},
   "source": [
    "## Discussions about parameter/network structure choice\n",
    "\n",
    "Here we have a neural network of 3 layers with 3 number of input units as their as three feature values in the dataset and 2 output units as we are prediction the probability and the labels. We have taken different number of hidden layers using cross validation tested it on the data. We got the best result with 15 hidden layers which is accuracy of 100% , as we increase the number of hidden layers the accuracy goes on increasing as we got an accuracy of 74% with 5 units and 9 hidden units gave an accuracy of 96% hence we can say that the model is overfitting the data. The model is not learning but it is memorizing and predicting the output. Finally, we have used [3,15,2] as the best parameter which gave best results."
   ]
  },
  {
   "cell_type": "markdown",
   "metadata": {},
   "source": [
    "## Plots for Results"
   ]
  },
  {
   "cell_type": "code",
   "execution_count": 45,
   "metadata": {},
   "outputs": [],
   "source": [
    "cf3=confusion_matrix(y_test1, label1)\n",
    "cf3\n",
    "TP=cf3[1][0]\n",
    "TN=cf3[0][0]\n",
    "FN=cf3[1][0]\n",
    "FP=cf3[0][1]\n"
   ]
  },
  {
   "cell_type": "code",
   "execution_count": 46,
   "metadata": {},
   "outputs": [],
   "source": [
    "precision=TP/(TP+FP)\n",
    "specificity=TN/(TN+FP)\n",
    "recall=TP/(TP+FN)"
   ]
  },
  {
   "cell_type": "code",
   "execution_count": 47,
   "metadata": {},
   "outputs": [
    {
     "name": "stdout",
     "output_type": "stream",
     "text": [
      "Precision:  1.0\n",
      "Recall:  0.5\n"
     ]
    }
   ],
   "source": [
    "print('Precision: ' ,precision)\n",
    "print('Recall: ' ,recall)"
   ]
  },
  {
   "cell_type": "code",
   "execution_count": 48,
   "metadata": {},
   "outputs": [
    {
     "data": {
      "text/plain": [
       "Text(0.5, 1, 'Confusion Matrix')"
      ]
     },
     "execution_count": 48,
     "metadata": {},
     "output_type": "execute_result"
    },
    {
     "data": {
      "image/png": "[encoded data removed]",
      "text/plain": [
       "<Figure size 432x288 with 2 Axes>"
      ]
     },
     "metadata": {
      "needs_background": "light"
     },
     "output_type": "display_data"
    }
   ],
   "source": [
    "ax= plt.subplot()\n",
    "sns.heatmap(cf3, annot=True, ax = ax);\n",
    "\n",
    "ax.set_xlabel('Predicted labels');\n",
    "ax.set_ylabel('True labels'); \n",
    "ax.set_title('Confusion Matrix')"
   ]
  },
  {
   "cell_type": "code",
   "execution_count": 49,
   "metadata": {},
   "outputs": [
    {
     "data": {
      "image/png": "[encoded data removed]",
      "text/plain": [
       "<Figure size 432x288 with 1 Axes>"
      ]
     },
     "metadata": {
      "needs_background": "light"
     },
     "output_type": "display_data"
    }
   ],
   "source": [
    "plt.title(\"Y prediction\")\n",
    "plt.plot(label1[0:100])\n",
    "plt.plot(np.array(y_test[0:100]))\n",
    "plt.show()"
   ]
  },
  {
   "cell_type": "markdown",
   "metadata": {},
   "source": [
    "## Discussion about the prediction results\n",
    "\n",
    "We have performed Nonlinear logistic regression using neural networks. We trained the neural network with 12 hidden units as it was the best fit for our model as it gave good results we have Precision of 1.0 Recall of 0.5 on our dataset.We chose these parameters as it gave best results on cross validation.On increasing the number of units the accuracy of the model kept on increasing. The Neural net gave an accuracy of 74% with 12 hidden units in our data. "
   ]
  },
  {
   "cell_type": "markdown",
   "metadata": {},
   "source": [
    "# Conclusions\n",
    "\n",
    "Here we have implemented Neural Networks. We have learned to implement K-fold Cross Validation on our data, which taught us to select best parameters for our network for which we got the best accuracy.We have also implemented different activation fucntions which showed us the difference an activation function can make to our neural network.Challenges faced in the assignment were to implement K-fold cross validation as we had to implement it without using any libraries.  "
   ]
  },
  {
   "cell_type": "markdown",
   "metadata": {},
   "source": [
    "# References\n",
    "\n",
    "[1] https://archive.ics.uci.edu/ml/datasets/Appliances+energy+prediction\n",
    "<br>\n",
    "[2] Mooney, Paul. Denver Crime Data. 9 Jan. 2019, https://www.kaggle.com/paultimothymooney/denver-crime-data.\n",
    "<br>\n",
    "[3] Lee, Prof. Minwoo Jake. \"Notebook on ML Methodology.\" Jupyter Notebook Viewer, https://nbviewer.jupyter.org/url/webpages.uncc.edu/mlee173/teach/itcs6156/notebooks/notes/Note-ML-Methodology.ipynb.\n",
    "<br>\n",
    "[4] Lee, Prof. Minwoo Jake. \"Notebook on Neural  Networks.\" Jupyter Notebook Viewer, https://nbviewer.jupyter.org/url/webpages.uncc.edu/mlee173/teach/itcs6156/notebooks/notes/Note-Neural-Networks.ipynb.\n",
    "<br>\n",
    "[5] Lee, Prof. Minwoo Jake. \"Notebook on NonlinearLogReg.\" Jupyter Notebook Viewer, https://nbviewer.jupyter.org/url/webpages.uncc.edu/mlee173/teach/itcs6156/notebooks/notes/Note-NonlinearLogReg.ipynb.\n",
    "<br>\n",
    "[6] Stephanie. Nonlinear Regression: Simple Definition & Examples. 9 Dec. 2017, https://www.statisticshowto.datasciencecentral.com/nonlinear-regression/.\n",
    "<br>\n",
    "[7] Nonlinear Regression. https://www.statisticssolutions.com/regression-analysis-nonlinear-regression/."
   ]
  },
  {
   "cell_type": "markdown",
   "metadata": {},
   "source": [
    "# Extra Credit\n",
    "\n",
    "Now you are testing various **activation functions** in this section. Use the best neural network structure and explore 3 different activation functions of your choice (one should be *tanh* that you used in the previous sections). \n",
    "You should use cross validation to discover the best model (with activation function)."
   ]
  },
  {
   "cell_type": "code",
   "execution_count": 50,
   "metadata": {},
   "outputs": [],
   "source": [
    "dataset=pd.read_csv('energydata_complete.csv')\n",
    "dt=pd.DataFrame(dataset.iloc[:,1])\n",
    "d1=dataset.drop(['date','Appliances','rv1','rv2','Press_mm_hg'],axis=1)"
   ]
  },
  {
   "cell_type": "markdown",
   "metadata": {},
   "source": [
    "# Tanh"
   ]
  },
  {
   "cell_type": "code",
   "execution_count": 51,
   "metadata": {},
   "outputs": [],
   "source": [
    "from grad import scg, steepest\n",
    "from copy import copy\n",
    "\n",
    "\n",
    "class NeuralNet:\n",
    "    \"\"\" neural network class for regression\n",
    "        \n",
    "        Parameters\n",
    "        ----------\n",
    "        nunits: list\n",
    "            the number of inputs, hidden units, and outputs\n",
    "\n",
    "        Methods\n",
    "        -------\n",
    "        set_hunit    \n",
    "            update/initiate weights\n",
    "\n",
    "        pack \n",
    "            pack multiple weights of each layer into one vector\n",
    "\n",
    "        forward\n",
    "            forward processing of neural network\n",
    "\n",
    "        backward\n",
    "            back-propagation of neural network\n",
    "\n",
    "        train\n",
    "            train the neural network\n",
    "\n",
    "        use\n",
    "            appply the trained network for prediction\n",
    "\n",
    "        Attributes\n",
    "        ----------\n",
    "        _nLayers\n",
    "            the number of hidden unit layers \n",
    "\n",
    "        rho\n",
    "            learning rate\n",
    "\n",
    "        _W\n",
    "            weights\n",
    "        _weights\n",
    "            weights in one dimension (_W is referencing _weight)\n",
    "\n",
    "        stdX\n",
    "            standardization class for data\n",
    "        stdT\n",
    "            standardization class for target\n",
    "\n",
    "        Notes\n",
    "        -----\n",
    "        \n",
    "    \"\"\"\n",
    "\n",
    "    def __init__(self, nunits):\n",
    "        self._nLayers=len(nunits)-1\n",
    "        self.rho = [1] * self._nLayers\n",
    "        self._W = []\n",
    "        wdims = []\n",
    "        lenweights = 0\n",
    "        for i in range(self._nLayers):\n",
    "            nwr = nunits[i] + 1\n",
    "            nwc = nunits[i+1]\n",
    "            wdims.append((nwr, nwc))\n",
    "            lenweights = lenweights + nwr * nwc\n",
    "\n",
    "        self._weights = np.random.uniform(-0.1,0.1, lenweights) \n",
    "        start = 0  # fixed index error 20110107\n",
    "        for i in range(self._nLayers):\n",
    "            end = start + wdims[i][0] * wdims[i][1] \n",
    "            self._W.append(self._weights[start:end])\n",
    "            self._W[i].resize(wdims[i])\n",
    "            start = end\n",
    "\n",
    "        self.stdX = None\n",
    "        self.stdT = None\n",
    "        self.stdTarget = True\n",
    "\n",
    "    def add_ones(self, w):\n",
    "        return np.hstack((np.ones((w.shape[0], 1)), w))\n",
    "\n",
    "    def get_nlayers(self):\n",
    "        return self._nLayers\n",
    "\n",
    "    def set_hunit(self, w):\n",
    "        for i in range(self._nLayers-1):\n",
    "            if w[i].shape != self._W[i].shape:\n",
    "                print(\"set_hunit: shapes do not match!\")\n",
    "                break\n",
    "            else:\n",
    "                self._W[i][:] = w[i][:]\n",
    "\n",
    "    def pack(self, w):\n",
    "        return np.hstack(map(np.ravel, w))\n",
    "\n",
    "    def unpack(self, weights):\n",
    "        self._weights[:] = weights[:]  # unpack\n",
    "\n",
    "    def cp_weight(self):\n",
    "        return copy(self._weights)\n",
    "\n",
    "    def RBF(self, X, m=None,s=None):\n",
    "        if m is None: m = np.mean(X)\n",
    "        if s is None: s = 2 #np.std(X)\n",
    "        r = 1. / (np.sqrt(2*np.pi)* s)  \n",
    "        return r * np.exp(-(X - m) ** 2 / (2 * s ** 2))\n",
    "    \n",
    "    def Sigma(self, X):\n",
    "        return (1/(1+(np.exp(-(X)))))\n",
    "\n",
    "    def forward(self,X):\n",
    "        t = X \n",
    "        Z = []\n",
    "\n",
    "        for i in range(self._nLayers):\n",
    "            Z.append(t) \n",
    "            if i == self._nLayers - 1:\n",
    "                t = np.dot(self.add_ones(t), self._W[i])\n",
    "            else:\n",
    "                t = np.tanh(np.dot(self.add_ones(t), self._W[i]))\n",
    "                \n",
    "        return (t, Z)\n",
    "        \n",
    "    def backward(self, error, Z, T, lmb=0):\n",
    "        delta = error\n",
    "        N = T.size\n",
    "        dws = []\n",
    "        for i in range(self._nLayers - 1, -1, -1):\n",
    "            rh = float(self.rho[i]) / N\n",
    "            if i==0:\n",
    "                lmbterm = 0\n",
    "            else:\n",
    "                lmbterm = lmb * np.vstack((np.zeros((1, self._W[i].shape[1])),\n",
    "                            self._W[i][1:,]))\n",
    "                \n",
    "            #print(Z[i].T.shape)\n",
    "            dws.insert(0,(-rh * np.dot(self.add_ones(Z[i]).T, delta) + lmbterm))\n",
    "            if i != 0:\n",
    "                delta = np.dot(delta, self._W[i][1:, :].T) * (1 - Z[i]**2)\n",
    "        return self.pack(dws)\n",
    "\n",
    "    def _errorf(self, T, Y):\n",
    "        return T - Y\n",
    "        \n",
    "    def _objectf(self, T, Y, wpenalty):\n",
    "        return 0.5 * np.mean(np.square(T - Y)) + wpenalty\n",
    "\n",
    "    def train(self, X, T, **params):\n",
    "\n",
    "        verbose = params.pop('verbose', False)\n",
    "        # training parameters\n",
    "        _lambda = params.pop('Lambda', 0.)\n",
    "\n",
    "        #parameters for scg\n",
    "        niter = params.pop('niter', 1000)\n",
    "        wprecision = params.pop('wprecision', 1e-10)\n",
    "        fprecision = params.pop('fprecision', 1e-10)\n",
    "        wtracep = params.pop('wtracep', False)\n",
    "        ftracep = params.pop('ftracep', False)\n",
    "\n",
    "        # optimization\n",
    "        optim = params.pop('optim', 'scg')\n",
    "\n",
    "        if self.stdX == None:\n",
    "            explore = params.pop('explore', False)\n",
    "            self.stdX = Standardizer(X, explore)\n",
    "        Xs = self.stdX.standardize(X)\n",
    "        if self.stdT == None and self.stdTarget:\n",
    "            self.stdT = Standardizer(T)\n",
    "            T = self.stdT.standardize(T)\n",
    "        \n",
    "        def gradientf(weights):\n",
    "            self.unpack(weights)\n",
    "            Y,Z = self.forward(Xs)\n",
    "            \n",
    "            error = self._errorf(T, Y)\n",
    "            return self.backward(error, Z, T, _lambda)\n",
    "            \n",
    "        def optimtargetf(weights):\n",
    "            \"\"\" optimization target function : MSE \n",
    "            \"\"\"\n",
    "            self.unpack(weights)\n",
    "            #self._weights[:] = weights[:]  # unpack\n",
    "            Y,_ = self.forward(Xs)\n",
    "            Wnb=np.array([])\n",
    "            for i in range(self._nLayers):\n",
    "                if len(Wnb)==0: Wnb=self._W[i][1:,].reshape(self._W[i].size-self._W[i][0,].size,1)\n",
    "                else: Wnb = np.vstack((Wnb,self._W[i][1:,].reshape(self._W[i].size-self._W[i][0,].size,1)))\n",
    "            wpenalty = _lambda * np.dot(Wnb.flat ,Wnb.flat)\n",
    "            return self._objectf(T, Y, wpenalty)\n",
    "\n",
    "        if optim == 'scg':\n",
    "            result = scg(self.cp_weight(), gradientf, optimtargetf,\n",
    "                                        wPrecision=wprecision, fPrecision=fprecision, \n",
    "                                        nIterations=niter,\n",
    "                                        wtracep=wtracep, ftracep=ftracep,\n",
    "                                        verbose=False)\n",
    "            self.unpack(result['w'][:])\n",
    "            self.f = result['f']\n",
    "        elif optim == 'steepest':\n",
    "            result = steepest(self.cp_weight(), gradientf, optimtargetf,\n",
    "                                nIterations=niter,\n",
    "                                xPrecision=wprecision, fPrecision=fprecision,\n",
    "                                xtracep=wtracep, ftracep=ftracep )\n",
    "            self.unpack(result['w'][:])\n",
    "        if ftracep:\n",
    "            self.ftrace = result['ftrace']\n",
    "        if 'reason' in result.keys() and verbose:\n",
    "            print(result['reason'])\n",
    "\n",
    "        return result\n",
    "\n",
    "    def use(self, X, retZ=False):\n",
    "        if self.stdX:\n",
    "            Xs = self.stdX.standardize(X)\n",
    "        else:\n",
    "            Xs = X\n",
    "        Y, Z = self.forward(Xs)\n",
    "        if self.stdT is not None:\n",
    "            Y = self.stdT.unstandardize(Y)\n",
    "        if retZ:\n",
    "            return Y, Z\n",
    "        return Y"
   ]
  },
  {
   "cell_type": "code",
   "execution_count": 52,
   "metadata": {},
   "outputs": [],
   "source": [
    "K=5\n",
    "nfold=0\n",
    "res=[]\n",
    "testErrs=[]\n",
    "def partition(x):\n",
    "    partition= len (x)//K\n",
    "    a=x[0:partition]\n",
    "    b=x[partition:partition*2]\n",
    "    c=x[partition*2:partition*3]\n",
    "    d=x[partition*3:partition*4]\n",
    "    e=x[partition*4:partition*5]\n",
    "    partdata = [a,b,c,d,e]\n",
    "    return partdata\n",
    "\n",
    "best_parameter=[]\n",
    "final=[]\n",
    "best_paramlist=[]\n",
    "\n",
    "def cross_validatation(X, Y, parameters):\n",
    "    x_parti = partition(X)\n",
    "    y_parti = partition(Y)\n",
    " \n",
    "    for i in range(K): \n",
    "        x_test = x_parti[i]\n",
    "        y_test = y_parti[i]\n",
    "        rmse=[]\n",
    "        params=[] \n",
    "        \n",
    "        for j in range(K): \n",
    "            print(\"K is : \",j) \n",
    "            x_i = x_parti[j]\n",
    "            y_i = y_parti[j]\n",
    "            x_train = x_parti[not i and not j]\n",
    "            y_train = y_parti[not i and not j]\n",
    "            \n",
    "            for param in parameters:\n",
    "                model = NeuralNet(param)\n",
    "                model.train(x_train, y_train)\n",
    "                predicted = model.use(x_i)\n",
    "                \n",
    "                err = np.sqrt(mean_squared_error(y_i, predicted))\n",
    "                testErrs.append(err)\n",
    "                res.append(param)\n",
    "                \n",
    "            print(res)\n",
    "            print(testErrs)\n",
    "            print(min(testErrs))\n",
    "            print(res[np.argmin(testErrs)])\n",
    "            rmse.append(min(testErrs))\n",
    "            params.append(res[np.argmin(testErrs)])\n",
    "         \n",
    "        print(params)\n",
    "        print(rmse)\n",
    "        print(res[np.argmin(rmse)])\n",
    "        bparameter=res[np.argmin(rmse)]\n",
    "        bmodel = NeuralNet(bparameter)\n",
    "        \n",
    "        x_train = x_parti[not i]\n",
    "        y_train = y_parti[not i]\n",
    "        bmodel.train(x_train, y_train)\n",
    "\n",
    "        fpred = bmodel.use(x_test)\n",
    "        ferr = np.sqrt(mean_squared_error(y_test,fpred))\n",
    "        final.append(ferr)\n",
    "        bparamlist.append(bparameter)\n",
    "\n",
    "    return final,bparamlist"
   ]
  },
  {
   "cell_type": "code",
   "execution_count": 53,
   "metadata": {
    "scrolled": false
   },
   "outputs": [
    {
     "name": "stdout",
     "output_type": "stream",
     "text": [
      "K is :  0\n",
      "[[24, 12, 1], [24, 16, 1], [24, 20, 1], [24, 24, 1], [24, 28, 1]]\n",
      "[150.17780233530772, 185.7226647728936, 198.87158140215473, 183.41618353148633, 243.47439515928963]\n",
      "150.17780233530772\n",
      "[24, 12, 1]\n",
      "K is :  1\n",
      "[[24, 12, 1], [24, 16, 1], [24, 20, 1], [24, 24, 1], [24, 28, 1], [24, 12, 1], [24, 16, 1], [24, 20, 1], [24, 24, 1], [24, 28, 1]]\n",
      "[150.17780233530772, 185.7226647728936, 198.87158140215473, 183.41618353148633, 243.47439515928963, 188.87588216420596, 205.13556209351603, 208.582880790772, 301.70383696901513, 230.64752535702536]\n",
      "150.17780233530772\n",
      "[24, 12, 1]\n",
      "K is :  2\n",
      "[[24, 12, 1], [24, 16, 1], [24, 20, 1], [24, 24, 1], [24, 28, 1], [24, 12, 1], [24, 16, 1], [24, 20, 1], [24, 24, 1], [24, 28, 1], [24, 12, 1], [24, 16, 1], [24, 20, 1], [24, 24, 1], [24, 28, 1]]\n",
      "[150.17780233530772, 185.7226647728936, 198.87158140215473, 183.41618353148633, 243.47439515928963, 188.87588216420596, 205.13556209351603, 208.582880790772, 301.70383696901513, 230.64752535702536, 297.04385307757815, 184.4796903413164, 212.9879969180214, 223.73146722480163, 283.93413445558303]\n",
      "150.17780233530772\n",
      "[24, 12, 1]\n",
      "K is :  3\n",
      "[[24, 12, 1], [24, 16, 1], [24, 20, 1], [24, 24, 1], [24, 28, 1], [24, 12, 1], [24, 16, 1], [24, 20, 1], [24, 24, 1], [24, 28, 1], [24, 12, 1], [24, 16, 1], [24, 20, 1], [24, 24, 1], [24, 28, 1], [24, 12, 1], [24, 16, 1], [24, 20, 1], [24, 24, 1], [24, 28, 1]]\n",
      "[150.17780233530772, 185.7226647728936, 198.87158140215473, 183.41618353148633, 243.47439515928963, 188.87588216420596, 205.13556209351603, 208.582880790772, 301.70383696901513, 230.64752535702536, 297.04385307757815, 184.4796903413164, 212.9879969180214, 223.73146722480163, 283.93413445558303, 158.67068257228178, 252.95827134105778, 285.138053354505, 261.835075431226, 231.6658507725647]\n",
      "150.17780233530772\n",
      "[24, 12, 1]\n",
      "K is :  4\n",
      "[[24, 12, 1], [24, 16, 1], [24, 20, 1], [24, 24, 1], [24, 28, 1], [24, 12, 1], [24, 16, 1], [24, 20, 1], [24, 24, 1], [24, 28, 1], [24, 12, 1], [24, 16, 1], [24, 20, 1], [24, 24, 1], [24, 28, 1], [24, 12, 1], [24, 16, 1], [24, 20, 1], [24, 24, 1], [24, 28, 1], [24, 12, 1], [24, 16, 1], [24, 20, 1], [24, 24, 1], [24, 28, 1]]\n",
      "[150.17780233530772, 185.7226647728936, 198.87158140215473, 183.41618353148633, 243.47439515928963, 188.87588216420596, 205.13556209351603, 208.582880790772, 301.70383696901513, 230.64752535702536, 297.04385307757815, 184.4796903413164, 212.9879969180214, 223.73146722480163, 283.93413445558303, 158.67068257228178, 252.95827134105778, 285.138053354505, 261.835075431226, 231.6658507725647, 230.91947516475562, 202.99710094244864, 251.25688870393205, 192.6216456635261, 311.1308993479967]\n",
      "150.17780233530772\n",
      "[24, 12, 1]\n",
      "[[24, 12, 1], [24, 12, 1], [24, 12, 1], [24, 12, 1], [24, 12, 1]]\n",
      "[150.17780233530772, 150.17780233530772, 150.17780233530772, 150.17780233530772, 150.17780233530772]\n",
      "[24, 12, 1]\n",
      "K is :  0\n",
      "[[24, 12, 1], [24, 16, 1], [24, 20, 1], [24, 24, 1], [24, 28, 1], [24, 12, 1], [24, 16, 1], [24, 20, 1], [24, 24, 1], [24, 28, 1], [24, 12, 1], [24, 16, 1], [24, 20, 1], [24, 24, 1], [24, 28, 1], [24, 12, 1], [24, 16, 1], [24, 20, 1], [24, 24, 1], [24, 28, 1], [24, 12, 1], [24, 16, 1], [24, 20, 1], [24, 24, 1], [24, 28, 1], [24, 12, 1], [24, 16, 1], [24, 20, 1], [24, 24, 1], [24, 28, 1]]\n",
      "[150.17780233530772, 185.7226647728936, 198.87158140215473, 183.41618353148633, 243.47439515928963, 188.87588216420596, 205.13556209351603, 208.582880790772, 301.70383696901513, 230.64752535702536, 297.04385307757815, 184.4796903413164, 212.9879969180214, 223.73146722480163, 283.93413445558303, 158.67068257228178, 252.95827134105778, 285.138053354505, 261.835075431226, 231.6658507725647, 230.91947516475562, 202.99710094244864, 251.25688870393205, 192.6216456635261, 311.1308993479967, 66.50910594233581, 60.48837475037678, 54.74409590977094, 52.14382271124496, 48.71966059738533]\n",
      "48.71966059738533\n",
      "[24, 28, 1]\n",
      "K is :  1\n",
      "[[24, 12, 1], [24, 16, 1], [24, 20, 1], [24, 24, 1], [24, 28, 1], [24, 12, 1], [24, 16, 1], [24, 20, 1], [24, 24, 1], [24, 28, 1], [24, 12, 1], [24, 16, 1], [24, 20, 1], [24, 24, 1], [24, 28, 1], [24, 12, 1], [24, 16, 1], [24, 20, 1], [24, 24, 1], [24, 28, 1], [24, 12, 1], [24, 16, 1], [24, 20, 1], [24, 24, 1], [24, 28, 1], [24, 12, 1], [24, 16, 1], [24, 20, 1], [24, 24, 1], [24, 28, 1], [24, 12, 1], [24, 16, 1], [24, 20, 1], [24, 24, 1], [24, 28, 1]]\n",
      "[150.17780233530772, 185.7226647728936, 198.87158140215473, 183.41618353148633, 243.47439515928963, 188.87588216420596, 205.13556209351603, 208.582880790772, 301.70383696901513, 230.64752535702536, 297.04385307757815, 184.4796903413164, 212.9879969180214, 223.73146722480163, 283.93413445558303, 158.67068257228178, 252.95827134105778, 285.138053354505, 261.835075431226, 231.6658507725647, 230.91947516475562, 202.99710094244864, 251.25688870393205, 192.6216456635261, 311.1308993479967, 66.50910594233581, 60.48837475037678, 54.74409590977094, 52.14382271124496, 48.71966059738533, 235.48790942592228, 197.47283406644067, 257.9498866928938, 267.8072887960646, 257.33097451484826]\n",
      "48.71966059738533\n",
      "[24, 28, 1]\n",
      "K is :  2\n",
      "[[24, 12, 1], [24, 16, 1], [24, 20, 1], [24, 24, 1], [24, 28, 1], [24, 12, 1], [24, 16, 1], [24, 20, 1], [24, 24, 1], [24, 28, 1], [24, 12, 1], [24, 16, 1], [24, 20, 1], [24, 24, 1], [24, 28, 1], [24, 12, 1], [24, 16, 1], [24, 20, 1], [24, 24, 1], [24, 28, 1], [24, 12, 1], [24, 16, 1], [24, 20, 1], [24, 24, 1], [24, 28, 1], [24, 12, 1], [24, 16, 1], [24, 20, 1], [24, 24, 1], [24, 28, 1], [24, 12, 1], [24, 16, 1], [24, 20, 1], [24, 24, 1], [24, 28, 1], [24, 12, 1], [24, 16, 1], [24, 20, 1], [24, 24, 1], [24, 28, 1]]\n",
      "[150.17780233530772, 185.7226647728936, 198.87158140215473, 183.41618353148633, 243.47439515928963, 188.87588216420596, 205.13556209351603, 208.582880790772, 301.70383696901513, 230.64752535702536, 297.04385307757815, 184.4796903413164, 212.9879969180214, 223.73146722480163, 283.93413445558303, 158.67068257228178, 252.95827134105778, 285.138053354505, 261.835075431226, 231.6658507725647, 230.91947516475562, 202.99710094244864, 251.25688870393205, 192.6216456635261, 311.1308993479967, 66.50910594233581, 60.48837475037678, 54.74409590977094, 52.14382271124496, 48.71966059738533, 235.48790942592228, 197.47283406644067, 257.9498866928938, 267.8072887960646, 257.33097451484826, 252.56244845476755, 295.59908546672057, 244.2027975496937, 250.73479345968968, 292.95457284572336]\n",
      "48.71966059738533\n",
      "[24, 28, 1]\n",
      "K is :  3\n",
      "[[24, 12, 1], [24, 16, 1], [24, 20, 1], [24, 24, 1], [24, 28, 1], [24, 12, 1], [24, 16, 1], [24, 20, 1], [24, 24, 1], [24, 28, 1], [24, 12, 1], [24, 16, 1], [24, 20, 1], [24, 24, 1], [24, 28, 1], [24, 12, 1], [24, 16, 1], [24, 20, 1], [24, 24, 1], [24, 28, 1], [24, 12, 1], [24, 16, 1], [24, 20, 1], [24, 24, 1], [24, 28, 1], [24, 12, 1], [24, 16, 1], [24, 20, 1], [24, 24, 1], [24, 28, 1], [24, 12, 1], [24, 16, 1], [24, 20, 1], [24, 24, 1], [24, 28, 1], [24, 12, 1], [24, 16, 1], [24, 20, 1], [24, 24, 1], [24, 28, 1], [24, 12, 1], [24, 16, 1], [24, 20, 1], [24, 24, 1], [24, 28, 1]]\n",
      "[150.17780233530772, 185.7226647728936, 198.87158140215473, 183.41618353148633, 243.47439515928963, 188.87588216420596, 205.13556209351603, 208.582880790772, 301.70383696901513, 230.64752535702536, 297.04385307757815, 184.4796903413164, 212.9879969180214, 223.73146722480163, 283.93413445558303, 158.67068257228178, 252.95827134105778, 285.138053354505, 261.835075431226, 231.6658507725647, 230.91947516475562, 202.99710094244864, 251.25688870393205, 192.6216456635261, 311.1308993479967, 66.50910594233581, 60.48837475037678, 54.74409590977094, 52.14382271124496, 48.71966059738533, 235.48790942592228, 197.47283406644067, 257.9498866928938, 267.8072887960646, 257.33097451484826, 252.56244845476755, 295.59908546672057, 244.2027975496937, 250.73479345968968, 292.95457284572336, 134.33926128170174, 194.62095765980652, 249.38343413040954, 330.5628795143968, 336.5321308952127]\n",
      "48.71966059738533\n",
      "[24, 28, 1]\n",
      "K is :  4\n",
      "[[24, 12, 1], [24, 16, 1], [24, 20, 1], [24, 24, 1], [24, 28, 1], [24, 12, 1], [24, 16, 1], [24, 20, 1], [24, 24, 1], [24, 28, 1], [24, 12, 1], [24, 16, 1], [24, 20, 1], [24, 24, 1], [24, 28, 1], [24, 12, 1], [24, 16, 1], [24, 20, 1], [24, 24, 1], [24, 28, 1], [24, 12, 1], [24, 16, 1], [24, 20, 1], [24, 24, 1], [24, 28, 1], [24, 12, 1], [24, 16, 1], [24, 20, 1], [24, 24, 1], [24, 28, 1], [24, 12, 1], [24, 16, 1], [24, 20, 1], [24, 24, 1], [24, 28, 1], [24, 12, 1], [24, 16, 1], [24, 20, 1], [24, 24, 1], [24, 28, 1], [24, 12, 1], [24, 16, 1], [24, 20, 1], [24, 24, 1], [24, 28, 1], [24, 12, 1], [24, 16, 1], [24, 20, 1], [24, 24, 1], [24, 28, 1]]\n",
      "[150.17780233530772, 185.7226647728936, 198.87158140215473, 183.41618353148633, 243.47439515928963, 188.87588216420596, 205.13556209351603, 208.582880790772, 301.70383696901513, 230.64752535702536, 297.04385307757815, 184.4796903413164, 212.9879969180214, 223.73146722480163, 283.93413445558303, 158.67068257228178, 252.95827134105778, 285.138053354505, 261.835075431226, 231.6658507725647, 230.91947516475562, 202.99710094244864, 251.25688870393205, 192.6216456635261, 311.1308993479967, 66.50910594233581, 60.48837475037678, 54.74409590977094, 52.14382271124496, 48.71966059738533, 235.48790942592228, 197.47283406644067, 257.9498866928938, 267.8072887960646, 257.33097451484826, 252.56244845476755, 295.59908546672057, 244.2027975496937, 250.73479345968968, 292.95457284572336, 134.33926128170174, 194.62095765980652, 249.38343413040954, 330.5628795143968, 336.5321308952127, 166.13327581322784, 163.9133205436963, 219.30914768370835, 321.7282759858911, 317.9271906265123]\n",
      "48.71966059738533\n",
      "[24, 28, 1]\n",
      "[[24, 28, 1], [24, 28, 1], [24, 28, 1], [24, 28, 1], [24, 28, 1]]\n",
      "[48.71966059738533, 48.71966059738533, 48.71966059738533, 48.71966059738533, 48.71966059738533]\n",
      "[24, 12, 1]\n"
     ]
    },
    {
     "name": "stdout",
     "output_type": "stream",
     "text": [
      "K is :  0\n",
      "[[24, 12, 1], [24, 16, 1], [24, 20, 1], [24, 24, 1], [24, 28, 1], [24, 12, 1], [24, 16, 1], [24, 20, 1], [24, 24, 1], [24, 28, 1], [24, 12, 1], [24, 16, 1], [24, 20, 1], [24, 24, 1], [24, 28, 1], [24, 12, 1], [24, 16, 1], [24, 20, 1], [24, 24, 1], [24, 28, 1], [24, 12, 1], [24, 16, 1], [24, 20, 1], [24, 24, 1], [24, 28, 1], [24, 12, 1], [24, 16, 1], [24, 20, 1], [24, 24, 1], [24, 28, 1], [24, 12, 1], [24, 16, 1], [24, 20, 1], [24, 24, 1], [24, 28, 1], [24, 12, 1], [24, 16, 1], [24, 20, 1], [24, 24, 1], [24, 28, 1], [24, 12, 1], [24, 16, 1], [24, 20, 1], [24, 24, 1], [24, 28, 1], [24, 12, 1], [24, 16, 1], [24, 20, 1], [24, 24, 1], [24, 28, 1], [24, 12, 1], [24, 16, 1], [24, 20, 1], [24, 24, 1], [24, 28, 1]]\n",
      "[150.17780233530772, 185.7226647728936, 198.87158140215473, 183.41618353148633, 243.47439515928963, 188.87588216420596, 205.13556209351603, 208.582880790772, 301.70383696901513, 230.64752535702536, 297.04385307757815, 184.4796903413164, 212.9879969180214, 223.73146722480163, 283.93413445558303, 158.67068257228178, 252.95827134105778, 285.138053354505, 261.835075431226, 231.6658507725647, 230.91947516475562, 202.99710094244864, 251.25688870393205, 192.6216456635261, 311.1308993479967, 66.50910594233581, 60.48837475037678, 54.74409590977094, 52.14382271124496, 48.71966059738533, 235.48790942592228, 197.47283406644067, 257.9498866928938, 267.8072887960646, 257.33097451484826, 252.56244845476755, 295.59908546672057, 244.2027975496937, 250.73479345968968, 292.95457284572336, 134.33926128170174, 194.62095765980652, 249.38343413040954, 330.5628795143968, 336.5321308952127, 166.13327581322784, 163.9133205436963, 219.30914768370835, 321.7282759858911, 317.9271906265123, 67.9043277058502, 59.660813290807866, 53.353904142399855, 50.25884362879719, 48.33071138143787]\n",
      "48.33071138143787\n",
      "[24, 28, 1]\n",
      "K is :  1\n",
      "[[24, 12, 1], [24, 16, 1], [24, 20, 1], [24, 24, 1], [24, 28, 1], [24, 12, 1], [24, 16, 1], [24, 20, 1], [24, 24, 1], [24, 28, 1], [24, 12, 1], [24, 16, 1], [24, 20, 1], [24, 24, 1], [24, 28, 1], [24, 12, 1], [24, 16, 1], [24, 20, 1], [24, 24, 1], [24, 28, 1], [24, 12, 1], [24, 16, 1], [24, 20, 1], [24, 24, 1], [24, 28, 1], [24, 12, 1], [24, 16, 1], [24, 20, 1], [24, 24, 1], [24, 28, 1], [24, 12, 1], [24, 16, 1], [24, 20, 1], [24, 24, 1], [24, 28, 1], [24, 12, 1], [24, 16, 1], [24, 20, 1], [24, 24, 1], [24, 28, 1], [24, 12, 1], [24, 16, 1], [24, 20, 1], [24, 24, 1], [24, 28, 1], [24, 12, 1], [24, 16, 1], [24, 20, 1], [24, 24, 1], [24, 28, 1], [24, 12, 1], [24, 16, 1], [24, 20, 1], [24, 24, 1], [24, 28, 1], [24, 12, 1], [24, 16, 1], [24, 20, 1], [24, 24, 1], [24, 28, 1]]\n",
      "[150.17780233530772, 185.7226647728936, 198.87158140215473, 183.41618353148633, 243.47439515928963, 188.87588216420596, 205.13556209351603, 208.582880790772, 301.70383696901513, 230.64752535702536, 297.04385307757815, 184.4796903413164, 212.9879969180214, 223.73146722480163, 283.93413445558303, 158.67068257228178, 252.95827134105778, 285.138053354505, 261.835075431226, 231.6658507725647, 230.91947516475562, 202.99710094244864, 251.25688870393205, 192.6216456635261, 311.1308993479967, 66.50910594233581, 60.48837475037678, 54.74409590977094, 52.14382271124496, 48.71966059738533, 235.48790942592228, 197.47283406644067, 257.9498866928938, 267.8072887960646, 257.33097451484826, 252.56244845476755, 295.59908546672057, 244.2027975496937, 250.73479345968968, 292.95457284572336, 134.33926128170174, 194.62095765980652, 249.38343413040954, 330.5628795143968, 336.5321308952127, 166.13327581322784, 163.9133205436963, 219.30914768370835, 321.7282759858911, 317.9271906265123, 67.9043277058502, 59.660813290807866, 53.353904142399855, 50.25884362879719, 48.33071138143787, 188.11053951003888, 230.5188136323577, 241.97823358947124, 265.9209194840696, 271.76099688462494]\n",
      "48.33071138143787\n",
      "[24, 28, 1]\n",
      "K is :  2\n",
      "[[24, 12, 1], [24, 16, 1], [24, 20, 1], [24, 24, 1], [24, 28, 1], [24, 12, 1], [24, 16, 1], [24, 20, 1], [24, 24, 1], [24, 28, 1], [24, 12, 1], [24, 16, 1], [24, 20, 1], [24, 24, 1], [24, 28, 1], [24, 12, 1], [24, 16, 1], [24, 20, 1], [24, 24, 1], [24, 28, 1], [24, 12, 1], [24, 16, 1], [24, 20, 1], [24, 24, 1], [24, 28, 1], [24, 12, 1], [24, 16, 1], [24, 20, 1], [24, 24, 1], [24, 28, 1], [24, 12, 1], [24, 16, 1], [24, 20, 1], [24, 24, 1], [24, 28, 1], [24, 12, 1], [24, 16, 1], [24, 20, 1], [24, 24, 1], [24, 28, 1], [24, 12, 1], [24, 16, 1], [24, 20, 1], [24, 24, 1], [24, 28, 1], [24, 12, 1], [24, 16, 1], [24, 20, 1], [24, 24, 1], [24, 28, 1], [24, 12, 1], [24, 16, 1], [24, 20, 1], [24, 24, 1], [24, 28, 1], [24, 12, 1], [24, 16, 1], [24, 20, 1], [24, 24, 1], [24, 28, 1], [24, 12, 1], [24, 16, 1], [24, 20, 1], [24, 24, 1], [24, 28, 1]]\n",
      "[150.17780233530772, 185.7226647728936, 198.87158140215473, 183.41618353148633, 243.47439515928963, 188.87588216420596, 205.13556209351603, 208.582880790772, 301.70383696901513, 230.64752535702536, 297.04385307757815, 184.4796903413164, 212.9879969180214, 223.73146722480163, 283.93413445558303, 158.67068257228178, 252.95827134105778, 285.138053354505, 261.835075431226, 231.6658507725647, 230.91947516475562, 202.99710094244864, 251.25688870393205, 192.6216456635261, 311.1308993479967, 66.50910594233581, 60.48837475037678, 54.74409590977094, 52.14382271124496, 48.71966059738533, 235.48790942592228, 197.47283406644067, 257.9498866928938, 267.8072887960646, 257.33097451484826, 252.56244845476755, 295.59908546672057, 244.2027975496937, 250.73479345968968, 292.95457284572336, 134.33926128170174, 194.62095765980652, 249.38343413040954, 330.5628795143968, 336.5321308952127, 166.13327581322784, 163.9133205436963, 219.30914768370835, 321.7282759858911, 317.9271906265123, 67.9043277058502, 59.660813290807866, 53.353904142399855, 50.25884362879719, 48.33071138143787, 188.11053951003888, 230.5188136323577, 241.97823358947124, 265.9209194840696, 271.76099688462494, 290.6231403114667, 254.7258566311448, 202.4953082662134, 240.6192943764827, 508.3378792020988]\n",
      "48.33071138143787\n",
      "[24, 28, 1]\n",
      "K is :  3\n",
      "[[24, 12, 1], [24, 16, 1], [24, 20, 1], [24, 24, 1], [24, 28, 1], [24, 12, 1], [24, 16, 1], [24, 20, 1], [24, 24, 1], [24, 28, 1], [24, 12, 1], [24, 16, 1], [24, 20, 1], [24, 24, 1], [24, 28, 1], [24, 12, 1], [24, 16, 1], [24, 20, 1], [24, 24, 1], [24, 28, 1], [24, 12, 1], [24, 16, 1], [24, 20, 1], [24, 24, 1], [24, 28, 1], [24, 12, 1], [24, 16, 1], [24, 20, 1], [24, 24, 1], [24, 28, 1], [24, 12, 1], [24, 16, 1], [24, 20, 1], [24, 24, 1], [24, 28, 1], [24, 12, 1], [24, 16, 1], [24, 20, 1], [24, 24, 1], [24, 28, 1], [24, 12, 1], [24, 16, 1], [24, 20, 1], [24, 24, 1], [24, 28, 1], [24, 12, 1], [24, 16, 1], [24, 20, 1], [24, 24, 1], [24, 28, 1], [24, 12, 1], [24, 16, 1], [24, 20, 1], [24, 24, 1], [24, 28, 1], [24, 12, 1], [24, 16, 1], [24, 20, 1], [24, 24, 1], [24, 28, 1], [24, 12, 1], [24, 16, 1], [24, 20, 1], [24, 24, 1], [24, 28, 1], [24, 12, 1], [24, 16, 1], [24, 20, 1], [24, 24, 1], [24, 28, 1]]\n",
      "[150.17780233530772, 185.7226647728936, 198.87158140215473, 183.41618353148633, 243.47439515928963, 188.87588216420596, 205.13556209351603, 208.582880790772, 301.70383696901513, 230.64752535702536, 297.04385307757815, 184.4796903413164, 212.9879969180214, 223.73146722480163, 283.93413445558303, 158.67068257228178, 252.95827134105778, 285.138053354505, 261.835075431226, 231.6658507725647, 230.91947516475562, 202.99710094244864, 251.25688870393205, 192.6216456635261, 311.1308993479967, 66.50910594233581, 60.48837475037678, 54.74409590977094, 52.14382271124496, 48.71966059738533, 235.48790942592228, 197.47283406644067, 257.9498866928938, 267.8072887960646, 257.33097451484826, 252.56244845476755, 295.59908546672057, 244.2027975496937, 250.73479345968968, 292.95457284572336, 134.33926128170174, 194.62095765980652, 249.38343413040954, 330.5628795143968, 336.5321308952127, 166.13327581322784, 163.9133205436963, 219.30914768370835, 321.7282759858911, 317.9271906265123, 67.9043277058502, 59.660813290807866, 53.353904142399855, 50.25884362879719, 48.33071138143787, 188.11053951003888, 230.5188136323577, 241.97823358947124, 265.9209194840696, 271.76099688462494, 290.6231403114667, 254.7258566311448, 202.4953082662134, 240.6192943764827, 508.3378792020988, 337.18719298825266, 224.6552913192706, 293.92389986622743, 240.7849901868698, 357.19733528052217]\n",
      "48.33071138143787\n",
      "[24, 28, 1]\n",
      "K is :  4\n"
     ]
    },
    {
     "name": "stdout",
     "output_type": "stream",
     "text": [
      "[[24, 12, 1], [24, 16, 1], [24, 20, 1], [24, 24, 1], [24, 28, 1], [24, 12, 1], [24, 16, 1], [24, 20, 1], [24, 24, 1], [24, 28, 1], [24, 12, 1], [24, 16, 1], [24, 20, 1], [24, 24, 1], [24, 28, 1], [24, 12, 1], [24, 16, 1], [24, 20, 1], [24, 24, 1], [24, 28, 1], [24, 12, 1], [24, 16, 1], [24, 20, 1], [24, 24, 1], [24, 28, 1], [24, 12, 1], [24, 16, 1], [24, 20, 1], [24, 24, 1], [24, 28, 1], [24, 12, 1], [24, 16, 1], [24, 20, 1], [24, 24, 1], [24, 28, 1], [24, 12, 1], [24, 16, 1], [24, 20, 1], [24, 24, 1], [24, 28, 1], [24, 12, 1], [24, 16, 1], [24, 20, 1], [24, 24, 1], [24, 28, 1], [24, 12, 1], [24, 16, 1], [24, 20, 1], [24, 24, 1], [24, 28, 1], [24, 12, 1], [24, 16, 1], [24, 20, 1], [24, 24, 1], [24, 28, 1], [24, 12, 1], [24, 16, 1], [24, 20, 1], [24, 24, 1], [24, 28, 1], [24, 12, 1], [24, 16, 1], [24, 20, 1], [24, 24, 1], [24, 28, 1], [24, 12, 1], [24, 16, 1], [24, 20, 1], [24, 24, 1], [24, 28, 1], [24, 12, 1], [24, 16, 1], [24, 20, 1], [24, 24, 1], [24, 28, 1]]\n",
      "[150.17780233530772, 185.7226647728936, 198.87158140215473, 183.41618353148633, 243.47439515928963, 188.87588216420596, 205.13556209351603, 208.582880790772, 301.70383696901513, 230.64752535702536, 297.04385307757815, 184.4796903413164, 212.9879969180214, 223.73146722480163, 283.93413445558303, 158.67068257228178, 252.95827134105778, 285.138053354505, 261.835075431226, 231.6658507725647, 230.91947516475562, 202.99710094244864, 251.25688870393205, 192.6216456635261, 311.1308993479967, 66.50910594233581, 60.48837475037678, 54.74409590977094, 52.14382271124496, 48.71966059738533, 235.48790942592228, 197.47283406644067, 257.9498866928938, 267.8072887960646, 257.33097451484826, 252.56244845476755, 295.59908546672057, 244.2027975496937, 250.73479345968968, 292.95457284572336, 134.33926128170174, 194.62095765980652, 249.38343413040954, 330.5628795143968, 336.5321308952127, 166.13327581322784, 163.9133205436963, 219.30914768370835, 321.7282759858911, 317.9271906265123, 67.9043277058502, 59.660813290807866, 53.353904142399855, 50.25884362879719, 48.33071138143787, 188.11053951003888, 230.5188136323577, 241.97823358947124, 265.9209194840696, 271.76099688462494, 290.6231403114667, 254.7258566311448, 202.4953082662134, 240.6192943764827, 508.3378792020988, 337.18719298825266, 224.6552913192706, 293.92389986622743, 240.7849901868698, 357.19733528052217, 232.8645043649788, 188.99580502993055, 273.2668277414134, 233.81218869803007, 229.65108195001238]\n",
      "48.33071138143787\n",
      "[24, 28, 1]\n",
      "[[24, 28, 1], [24, 28, 1], [24, 28, 1], [24, 28, 1], [24, 28, 1]]\n",
      "[48.33071138143787, 48.33071138143787, 48.33071138143787, 48.33071138143787, 48.33071138143787]\n",
      "[24, 12, 1]\n",
      "K is :  0\n",
      "[[24, 12, 1], [24, 16, 1], [24, 20, 1], [24, 24, 1], [24, 28, 1], [24, 12, 1], [24, 16, 1], [24, 20, 1], [24, 24, 1], [24, 28, 1], [24, 12, 1], [24, 16, 1], [24, 20, 1], [24, 24, 1], [24, 28, 1], [24, 12, 1], [24, 16, 1], [24, 20, 1], [24, 24, 1], [24, 28, 1], [24, 12, 1], [24, 16, 1], [24, 20, 1], [24, 24, 1], [24, 28, 1], [24, 12, 1], [24, 16, 1], [24, 20, 1], [24, 24, 1], [24, 28, 1], [24, 12, 1], [24, 16, 1], [24, 20, 1], [24, 24, 1], [24, 28, 1], [24, 12, 1], [24, 16, 1], [24, 20, 1], [24, 24, 1], [24, 28, 1], [24, 12, 1], [24, 16, 1], [24, 20, 1], [24, 24, 1], [24, 28, 1], [24, 12, 1], [24, 16, 1], [24, 20, 1], [24, 24, 1], [24, 28, 1], [24, 12, 1], [24, 16, 1], [24, 20, 1], [24, 24, 1], [24, 28, 1], [24, 12, 1], [24, 16, 1], [24, 20, 1], [24, 24, 1], [24, 28, 1], [24, 12, 1], [24, 16, 1], [24, 20, 1], [24, 24, 1], [24, 28, 1], [24, 12, 1], [24, 16, 1], [24, 20, 1], [24, 24, 1], [24, 28, 1], [24, 12, 1], [24, 16, 1], [24, 20, 1], [24, 24, 1], [24, 28, 1], [24, 12, 1], [24, 16, 1], [24, 20, 1], [24, 24, 1], [24, 28, 1]]\n",
      "[150.17780233530772, 185.7226647728936, 198.87158140215473, 183.41618353148633, 243.47439515928963, 188.87588216420596, 205.13556209351603, 208.582880790772, 301.70383696901513, 230.64752535702536, 297.04385307757815, 184.4796903413164, 212.9879969180214, 223.73146722480163, 283.93413445558303, 158.67068257228178, 252.95827134105778, 285.138053354505, 261.835075431226, 231.6658507725647, 230.91947516475562, 202.99710094244864, 251.25688870393205, 192.6216456635261, 311.1308993479967, 66.50910594233581, 60.48837475037678, 54.74409590977094, 52.14382271124496, 48.71966059738533, 235.48790942592228, 197.47283406644067, 257.9498866928938, 267.8072887960646, 257.33097451484826, 252.56244845476755, 295.59908546672057, 244.2027975496937, 250.73479345968968, 292.95457284572336, 134.33926128170174, 194.62095765980652, 249.38343413040954, 330.5628795143968, 336.5321308952127, 166.13327581322784, 163.9133205436963, 219.30914768370835, 321.7282759858911, 317.9271906265123, 67.9043277058502, 59.660813290807866, 53.353904142399855, 50.25884362879719, 48.33071138143787, 188.11053951003888, 230.5188136323577, 241.97823358947124, 265.9209194840696, 271.76099688462494, 290.6231403114667, 254.7258566311448, 202.4953082662134, 240.6192943764827, 508.3378792020988, 337.18719298825266, 224.6552913192706, 293.92389986622743, 240.7849901868698, 357.19733528052217, 232.8645043649788, 188.99580502993055, 273.2668277414134, 233.81218869803007, 229.65108195001238, 65.22105992519899, 60.76356793191535, 57.21251619941768, 51.897157050228046, 47.63245994121218]\n",
      "47.63245994121218\n",
      "[24, 28, 1]\n",
      "K is :  1\n",
      "[[24, 12, 1], [24, 16, 1], [24, 20, 1], [24, 24, 1], [24, 28, 1], [24, 12, 1], [24, 16, 1], [24, 20, 1], [24, 24, 1], [24, 28, 1], [24, 12, 1], [24, 16, 1], [24, 20, 1], [24, 24, 1], [24, 28, 1], [24, 12, 1], [24, 16, 1], [24, 20, 1], [24, 24, 1], [24, 28, 1], [24, 12, 1], [24, 16, 1], [24, 20, 1], [24, 24, 1], [24, 28, 1], [24, 12, 1], [24, 16, 1], [24, 20, 1], [24, 24, 1], [24, 28, 1], [24, 12, 1], [24, 16, 1], [24, 20, 1], [24, 24, 1], [24, 28, 1], [24, 12, 1], [24, 16, 1], [24, 20, 1], [24, 24, 1], [24, 28, 1], [24, 12, 1], [24, 16, 1], [24, 20, 1], [24, 24, 1], [24, 28, 1], [24, 12, 1], [24, 16, 1], [24, 20, 1], [24, 24, 1], [24, 28, 1], [24, 12, 1], [24, 16, 1], [24, 20, 1], [24, 24, 1], [24, 28, 1], [24, 12, 1], [24, 16, 1], [24, 20, 1], [24, 24, 1], [24, 28, 1], [24, 12, 1], [24, 16, 1], [24, 20, 1], [24, 24, 1], [24, 28, 1], [24, 12, 1], [24, 16, 1], [24, 20, 1], [24, 24, 1], [24, 28, 1], [24, 12, 1], [24, 16, 1], [24, 20, 1], [24, 24, 1], [24, 28, 1], [24, 12, 1], [24, 16, 1], [24, 20, 1], [24, 24, 1], [24, 28, 1], [24, 12, 1], [24, 16, 1], [24, 20, 1], [24, 24, 1], [24, 28, 1]]\n",
      "[150.17780233530772, 185.7226647728936, 198.87158140215473, 183.41618353148633, 243.47439515928963, 188.87588216420596, 205.13556209351603, 208.582880790772, 301.70383696901513, 230.64752535702536, 297.04385307757815, 184.4796903413164, 212.9879969180214, 223.73146722480163, 283.93413445558303, 158.67068257228178, 252.95827134105778, 285.138053354505, 261.835075431226, 231.6658507725647, 230.91947516475562, 202.99710094244864, 251.25688870393205, 192.6216456635261, 311.1308993479967, 66.50910594233581, 60.48837475037678, 54.74409590977094, 52.14382271124496, 48.71966059738533, 235.48790942592228, 197.47283406644067, 257.9498866928938, 267.8072887960646, 257.33097451484826, 252.56244845476755, 295.59908546672057, 244.2027975496937, 250.73479345968968, 292.95457284572336, 134.33926128170174, 194.62095765980652, 249.38343413040954, 330.5628795143968, 336.5321308952127, 166.13327581322784, 163.9133205436963, 219.30914768370835, 321.7282759858911, 317.9271906265123, 67.9043277058502, 59.660813290807866, 53.353904142399855, 50.25884362879719, 48.33071138143787, 188.11053951003888, 230.5188136323577, 241.97823358947124, 265.9209194840696, 271.76099688462494, 290.6231403114667, 254.7258566311448, 202.4953082662134, 240.6192943764827, 508.3378792020988, 337.18719298825266, 224.6552913192706, 293.92389986622743, 240.7849901868698, 357.19733528052217, 232.8645043649788, 188.99580502993055, 273.2668277414134, 233.81218869803007, 229.65108195001238, 65.22105992519899, 60.76356793191535, 57.21251619941768, 51.897157050228046, 47.63245994121218, 160.6951627093047, 263.1307919935698, 213.29802587198918, 246.77770863225993, 264.00686179206656]\n",
      "47.63245994121218\n",
      "[24, 28, 1]\n",
      "K is :  2\n",
      "[[24, 12, 1], [24, 16, 1], [24, 20, 1], [24, 24, 1], [24, 28, 1], [24, 12, 1], [24, 16, 1], [24, 20, 1], [24, 24, 1], [24, 28, 1], [24, 12, 1], [24, 16, 1], [24, 20, 1], [24, 24, 1], [24, 28, 1], [24, 12, 1], [24, 16, 1], [24, 20, 1], [24, 24, 1], [24, 28, 1], [24, 12, 1], [24, 16, 1], [24, 20, 1], [24, 24, 1], [24, 28, 1], [24, 12, 1], [24, 16, 1], [24, 20, 1], [24, 24, 1], [24, 28, 1], [24, 12, 1], [24, 16, 1], [24, 20, 1], [24, 24, 1], [24, 28, 1], [24, 12, 1], [24, 16, 1], [24, 20, 1], [24, 24, 1], [24, 28, 1], [24, 12, 1], [24, 16, 1], [24, 20, 1], [24, 24, 1], [24, 28, 1], [24, 12, 1], [24, 16, 1], [24, 20, 1], [24, 24, 1], [24, 28, 1], [24, 12, 1], [24, 16, 1], [24, 20, 1], [24, 24, 1], [24, 28, 1], [24, 12, 1], [24, 16, 1], [24, 20, 1], [24, 24, 1], [24, 28, 1], [24, 12, 1], [24, 16, 1], [24, 20, 1], [24, 24, 1], [24, 28, 1], [24, 12, 1], [24, 16, 1], [24, 20, 1], [24, 24, 1], [24, 28, 1], [24, 12, 1], [24, 16, 1], [24, 20, 1], [24, 24, 1], [24, 28, 1], [24, 12, 1], [24, 16, 1], [24, 20, 1], [24, 24, 1], [24, 28, 1], [24, 12, 1], [24, 16, 1], [24, 20, 1], [24, 24, 1], [24, 28, 1], [24, 12, 1], [24, 16, 1], [24, 20, 1], [24, 24, 1], [24, 28, 1]]\n",
      "[150.17780233530772, 185.7226647728936, 198.87158140215473, 183.41618353148633, 243.47439515928963, 188.87588216420596, 205.13556209351603, 208.582880790772, 301.70383696901513, 230.64752535702536, 297.04385307757815, 184.4796903413164, 212.9879969180214, 223.73146722480163, 283.93413445558303, 158.67068257228178, 252.95827134105778, 285.138053354505, 261.835075431226, 231.6658507725647, 230.91947516475562, 202.99710094244864, 251.25688870393205, 192.6216456635261, 311.1308993479967, 66.50910594233581, 60.48837475037678, 54.74409590977094, 52.14382271124496, 48.71966059738533, 235.48790942592228, 197.47283406644067, 257.9498866928938, 267.8072887960646, 257.33097451484826, 252.56244845476755, 295.59908546672057, 244.2027975496937, 250.73479345968968, 292.95457284572336, 134.33926128170174, 194.62095765980652, 249.38343413040954, 330.5628795143968, 336.5321308952127, 166.13327581322784, 163.9133205436963, 219.30914768370835, 321.7282759858911, 317.9271906265123, 67.9043277058502, 59.660813290807866, 53.353904142399855, 50.25884362879719, 48.33071138143787, 188.11053951003888, 230.5188136323577, 241.97823358947124, 265.9209194840696, 271.76099688462494, 290.6231403114667, 254.7258566311448, 202.4953082662134, 240.6192943764827, 508.3378792020988, 337.18719298825266, 224.6552913192706, 293.92389986622743, 240.7849901868698, 357.19733528052217, 232.8645043649788, 188.99580502993055, 273.2668277414134, 233.81218869803007, 229.65108195001238, 65.22105992519899, 60.76356793191535, 57.21251619941768, 51.897157050228046, 47.63245994121218, 160.6951627093047, 263.1307919935698, 213.29802587198918, 246.77770863225993, 264.00686179206656, 183.49287575053845, 278.21779912831056, 347.5968262188292, 335.1495601067485, 343.88176172687145]\n",
      "47.63245994121218\n",
      "[24, 28, 1]\n",
      "K is :  3\n"
     ]
    },
    {
     "name": "stdout",
     "output_type": "stream",
     "text": [
      "[[24, 12, 1], [24, 16, 1], [24, 20, 1], [24, 24, 1], [24, 28, 1], [24, 12, 1], [24, 16, 1], [24, 20, 1], [24, 24, 1], [24, 28, 1], [24, 12, 1], [24, 16, 1], [24, 20, 1], [24, 24, 1], [24, 28, 1], [24, 12, 1], [24, 16, 1], [24, 20, 1], [24, 24, 1], [24, 28, 1], [24, 12, 1], [24, 16, 1], [24, 20, 1], [24, 24, 1], [24, 28, 1], [24, 12, 1], [24, 16, 1], [24, 20, 1], [24, 24, 1], [24, 28, 1], [24, 12, 1], [24, 16, 1], [24, 20, 1], [24, 24, 1], [24, 28, 1], [24, 12, 1], [24, 16, 1], [24, 20, 1], [24, 24, 1], [24, 28, 1], [24, 12, 1], [24, 16, 1], [24, 20, 1], [24, 24, 1], [24, 28, 1], [24, 12, 1], [24, 16, 1], [24, 20, 1], [24, 24, 1], [24, 28, 1], [24, 12, 1], [24, 16, 1], [24, 20, 1], [24, 24, 1], [24, 28, 1], [24, 12, 1], [24, 16, 1], [24, 20, 1], [24, 24, 1], [24, 28, 1], [24, 12, 1], [24, 16, 1], [24, 20, 1], [24, 24, 1], [24, 28, 1], [24, 12, 1], [24, 16, 1], [24, 20, 1], [24, 24, 1], [24, 28, 1], [24, 12, 1], [24, 16, 1], [24, 20, 1], [24, 24, 1], [24, 28, 1], [24, 12, 1], [24, 16, 1], [24, 20, 1], [24, 24, 1], [24, 28, 1], [24, 12, 1], [24, 16, 1], [24, 20, 1], [24, 24, 1], [24, 28, 1], [24, 12, 1], [24, 16, 1], [24, 20, 1], [24, 24, 1], [24, 28, 1], [24, 12, 1], [24, 16, 1], [24, 20, 1], [24, 24, 1], [24, 28, 1]]\n",
      "[150.17780233530772, 185.7226647728936, 198.87158140215473, 183.41618353148633, 243.47439515928963, 188.87588216420596, 205.13556209351603, 208.582880790772, 301.70383696901513, 230.64752535702536, 297.04385307757815, 184.4796903413164, 212.9879969180214, 223.73146722480163, 283.93413445558303, 158.67068257228178, 252.95827134105778, 285.138053354505, 261.835075431226, 231.6658507725647, 230.91947516475562, 202.99710094244864, 251.25688870393205, 192.6216456635261, 311.1308993479967, 66.50910594233581, 60.48837475037678, 54.74409590977094, 52.14382271124496, 48.71966059738533, 235.48790942592228, 197.47283406644067, 257.9498866928938, 267.8072887960646, 257.33097451484826, 252.56244845476755, 295.59908546672057, 244.2027975496937, 250.73479345968968, 292.95457284572336, 134.33926128170174, 194.62095765980652, 249.38343413040954, 330.5628795143968, 336.5321308952127, 166.13327581322784, 163.9133205436963, 219.30914768370835, 321.7282759858911, 317.9271906265123, 67.9043277058502, 59.660813290807866, 53.353904142399855, 50.25884362879719, 48.33071138143787, 188.11053951003888, 230.5188136323577, 241.97823358947124, 265.9209194840696, 271.76099688462494, 290.6231403114667, 254.7258566311448, 202.4953082662134, 240.6192943764827, 508.3378792020988, 337.18719298825266, 224.6552913192706, 293.92389986622743, 240.7849901868698, 357.19733528052217, 232.8645043649788, 188.99580502993055, 273.2668277414134, 233.81218869803007, 229.65108195001238, 65.22105992519899, 60.76356793191535, 57.21251619941768, 51.897157050228046, 47.63245994121218, 160.6951627093047, 263.1307919935698, 213.29802587198918, 246.77770863225993, 264.00686179206656, 183.49287575053845, 278.21779912831056, 347.5968262188292, 335.1495601067485, 343.88176172687145, 166.7399565741747, 190.8242216255543, 353.340834231623, 296.8950671258608, 290.526646918215]\n",
      "47.63245994121218\n",
      "[24, 28, 1]\n",
      "K is :  4\n",
      "[[24, 12, 1], [24, 16, 1], [24, 20, 1], [24, 24, 1], [24, 28, 1], [24, 12, 1], [24, 16, 1], [24, 20, 1], [24, 24, 1], [24, 28, 1], [24, 12, 1], [24, 16, 1], [24, 20, 1], [24, 24, 1], [24, 28, 1], [24, 12, 1], [24, 16, 1], [24, 20, 1], [24, 24, 1], [24, 28, 1], [24, 12, 1], [24, 16, 1], [24, 20, 1], [24, 24, 1], [24, 28, 1], [24, 12, 1], [24, 16, 1], [24, 20, 1], [24, 24, 1], [24, 28, 1], [24, 12, 1], [24, 16, 1], [24, 20, 1], [24, 24, 1], [24, 28, 1], [24, 12, 1], [24, 16, 1], [24, 20, 1], [24, 24, 1], [24, 28, 1], [24, 12, 1], [24, 16, 1], [24, 20, 1], [24, 24, 1], [24, 28, 1], [24, 12, 1], [24, 16, 1], [24, 20, 1], [24, 24, 1], [24, 28, 1], [24, 12, 1], [24, 16, 1], [24, 20, 1], [24, 24, 1], [24, 28, 1], [24, 12, 1], [24, 16, 1], [24, 20, 1], [24, 24, 1], [24, 28, 1], [24, 12, 1], [24, 16, 1], [24, 20, 1], [24, 24, 1], [24, 28, 1], [24, 12, 1], [24, 16, 1], [24, 20, 1], [24, 24, 1], [24, 28, 1], [24, 12, 1], [24, 16, 1], [24, 20, 1], [24, 24, 1], [24, 28, 1], [24, 12, 1], [24, 16, 1], [24, 20, 1], [24, 24, 1], [24, 28, 1], [24, 12, 1], [24, 16, 1], [24, 20, 1], [24, 24, 1], [24, 28, 1], [24, 12, 1], [24, 16, 1], [24, 20, 1], [24, 24, 1], [24, 28, 1], [24, 12, 1], [24, 16, 1], [24, 20, 1], [24, 24, 1], [24, 28, 1], [24, 12, 1], [24, 16, 1], [24, 20, 1], [24, 24, 1], [24, 28, 1]]\n",
      "[150.17780233530772, 185.7226647728936, 198.87158140215473, 183.41618353148633, 243.47439515928963, 188.87588216420596, 205.13556209351603, 208.582880790772, 301.70383696901513, 230.64752535702536, 297.04385307757815, 184.4796903413164, 212.9879969180214, 223.73146722480163, 283.93413445558303, 158.67068257228178, 252.95827134105778, 285.138053354505, 261.835075431226, 231.6658507725647, 230.91947516475562, 202.99710094244864, 251.25688870393205, 192.6216456635261, 311.1308993479967, 66.50910594233581, 60.48837475037678, 54.74409590977094, 52.14382271124496, 48.71966059738533, 235.48790942592228, 197.47283406644067, 257.9498866928938, 267.8072887960646, 257.33097451484826, 252.56244845476755, 295.59908546672057, 244.2027975496937, 250.73479345968968, 292.95457284572336, 134.33926128170174, 194.62095765980652, 249.38343413040954, 330.5628795143968, 336.5321308952127, 166.13327581322784, 163.9133205436963, 219.30914768370835, 321.7282759858911, 317.9271906265123, 67.9043277058502, 59.660813290807866, 53.353904142399855, 50.25884362879719, 48.33071138143787, 188.11053951003888, 230.5188136323577, 241.97823358947124, 265.9209194840696, 271.76099688462494, 290.6231403114667, 254.7258566311448, 202.4953082662134, 240.6192943764827, 508.3378792020988, 337.18719298825266, 224.6552913192706, 293.92389986622743, 240.7849901868698, 357.19733528052217, 232.8645043649788, 188.99580502993055, 273.2668277414134, 233.81218869803007, 229.65108195001238, 65.22105992519899, 60.76356793191535, 57.21251619941768, 51.897157050228046, 47.63245994121218, 160.6951627093047, 263.1307919935698, 213.29802587198918, 246.77770863225993, 264.00686179206656, 183.49287575053845, 278.21779912831056, 347.5968262188292, 335.1495601067485, 343.88176172687145, 166.7399565741747, 190.8242216255543, 353.340834231623, 296.8950671258608, 290.526646918215, 192.05590411835485, 180.96113066179896, 167.223582774094, 268.833379090618, 266.9931326821848]\n",
      "47.63245994121218\n",
      "[24, 28, 1]\n",
      "[[24, 28, 1], [24, 28, 1], [24, 28, 1], [24, 28, 1], [24, 28, 1]]\n",
      "[47.63245994121218, 47.63245994121218, 47.63245994121218, 47.63245994121218, 47.63245994121218]\n",
      "[24, 12, 1]\n",
      "K is :  0\n",
      "[[24, 12, 1], [24, 16, 1], [24, 20, 1], [24, 24, 1], [24, 28, 1], [24, 12, 1], [24, 16, 1], [24, 20, 1], [24, 24, 1], [24, 28, 1], [24, 12, 1], [24, 16, 1], [24, 20, 1], [24, 24, 1], [24, 28, 1], [24, 12, 1], [24, 16, 1], [24, 20, 1], [24, 24, 1], [24, 28, 1], [24, 12, 1], [24, 16, 1], [24, 20, 1], [24, 24, 1], [24, 28, 1], [24, 12, 1], [24, 16, 1], [24, 20, 1], [24, 24, 1], [24, 28, 1], [24, 12, 1], [24, 16, 1], [24, 20, 1], [24, 24, 1], [24, 28, 1], [24, 12, 1], [24, 16, 1], [24, 20, 1], [24, 24, 1], [24, 28, 1], [24, 12, 1], [24, 16, 1], [24, 20, 1], [24, 24, 1], [24, 28, 1], [24, 12, 1], [24, 16, 1], [24, 20, 1], [24, 24, 1], [24, 28, 1], [24, 12, 1], [24, 16, 1], [24, 20, 1], [24, 24, 1], [24, 28, 1], [24, 12, 1], [24, 16, 1], [24, 20, 1], [24, 24, 1], [24, 28, 1], [24, 12, 1], [24, 16, 1], [24, 20, 1], [24, 24, 1], [24, 28, 1], [24, 12, 1], [24, 16, 1], [24, 20, 1], [24, 24, 1], [24, 28, 1], [24, 12, 1], [24, 16, 1], [24, 20, 1], [24, 24, 1], [24, 28, 1], [24, 12, 1], [24, 16, 1], [24, 20, 1], [24, 24, 1], [24, 28, 1], [24, 12, 1], [24, 16, 1], [24, 20, 1], [24, 24, 1], [24, 28, 1], [24, 12, 1], [24, 16, 1], [24, 20, 1], [24, 24, 1], [24, 28, 1], [24, 12, 1], [24, 16, 1], [24, 20, 1], [24, 24, 1], [24, 28, 1], [24, 12, 1], [24, 16, 1], [24, 20, 1], [24, 24, 1], [24, 28, 1], [24, 12, 1], [24, 16, 1], [24, 20, 1], [24, 24, 1], [24, 28, 1]]\n",
      "[150.17780233530772, 185.7226647728936, 198.87158140215473, 183.41618353148633, 243.47439515928963, 188.87588216420596, 205.13556209351603, 208.582880790772, 301.70383696901513, 230.64752535702536, 297.04385307757815, 184.4796903413164, 212.9879969180214, 223.73146722480163, 283.93413445558303, 158.67068257228178, 252.95827134105778, 285.138053354505, 261.835075431226, 231.6658507725647, 230.91947516475562, 202.99710094244864, 251.25688870393205, 192.6216456635261, 311.1308993479967, 66.50910594233581, 60.48837475037678, 54.74409590977094, 52.14382271124496, 48.71966059738533, 235.48790942592228, 197.47283406644067, 257.9498866928938, 267.8072887960646, 257.33097451484826, 252.56244845476755, 295.59908546672057, 244.2027975496937, 250.73479345968968, 292.95457284572336, 134.33926128170174, 194.62095765980652, 249.38343413040954, 330.5628795143968, 336.5321308952127, 166.13327581322784, 163.9133205436963, 219.30914768370835, 321.7282759858911, 317.9271906265123, 67.9043277058502, 59.660813290807866, 53.353904142399855, 50.25884362879719, 48.33071138143787, 188.11053951003888, 230.5188136323577, 241.97823358947124, 265.9209194840696, 271.76099688462494, 290.6231403114667, 254.7258566311448, 202.4953082662134, 240.6192943764827, 508.3378792020988, 337.18719298825266, 224.6552913192706, 293.92389986622743, 240.7849901868698, 357.19733528052217, 232.8645043649788, 188.99580502993055, 273.2668277414134, 233.81218869803007, 229.65108195001238, 65.22105992519899, 60.76356793191535, 57.21251619941768, 51.897157050228046, 47.63245994121218, 160.6951627093047, 263.1307919935698, 213.29802587198918, 246.77770863225993, 264.00686179206656, 183.49287575053845, 278.21779912831056, 347.5968262188292, 335.1495601067485, 343.88176172687145, 166.7399565741747, 190.8242216255543, 353.340834231623, 296.8950671258608, 290.526646918215, 192.05590411835485, 180.96113066179896, 167.223582774094, 268.833379090618, 266.9931326821848, 65.26026640028459, 60.668933988243275, 55.0478935090281, 51.59908834134932, 47.83848772414277]\n",
      "47.63245994121218\n",
      "[24, 28, 1]\n",
      "K is :  1\n"
     ]
    },
    {
     "name": "stdout",
     "output_type": "stream",
     "text": [
      "[[24, 12, 1], [24, 16, 1], [24, 20, 1], [24, 24, 1], [24, 28, 1], [24, 12, 1], [24, 16, 1], [24, 20, 1], [24, 24, 1], [24, 28, 1], [24, 12, 1], [24, 16, 1], [24, 20, 1], [24, 24, 1], [24, 28, 1], [24, 12, 1], [24, 16, 1], [24, 20, 1], [24, 24, 1], [24, 28, 1], [24, 12, 1], [24, 16, 1], [24, 20, 1], [24, 24, 1], [24, 28, 1], [24, 12, 1], [24, 16, 1], [24, 20, 1], [24, 24, 1], [24, 28, 1], [24, 12, 1], [24, 16, 1], [24, 20, 1], [24, 24, 1], [24, 28, 1], [24, 12, 1], [24, 16, 1], [24, 20, 1], [24, 24, 1], [24, 28, 1], [24, 12, 1], [24, 16, 1], [24, 20, 1], [24, 24, 1], [24, 28, 1], [24, 12, 1], [24, 16, 1], [24, 20, 1], [24, 24, 1], [24, 28, 1], [24, 12, 1], [24, 16, 1], [24, 20, 1], [24, 24, 1], [24, 28, 1], [24, 12, 1], [24, 16, 1], [24, 20, 1], [24, 24, 1], [24, 28, 1], [24, 12, 1], [24, 16, 1], [24, 20, 1], [24, 24, 1], [24, 28, 1], [24, 12, 1], [24, 16, 1], [24, 20, 1], [24, 24, 1], [24, 28, 1], [24, 12, 1], [24, 16, 1], [24, 20, 1], [24, 24, 1], [24, 28, 1], [24, 12, 1], [24, 16, 1], [24, 20, 1], [24, 24, 1], [24, 28, 1], [24, 12, 1], [24, 16, 1], [24, 20, 1], [24, 24, 1], [24, 28, 1], [24, 12, 1], [24, 16, 1], [24, 20, 1], [24, 24, 1], [24, 28, 1], [24, 12, 1], [24, 16, 1], [24, 20, 1], [24, 24, 1], [24, 28, 1], [24, 12, 1], [24, 16, 1], [24, 20, 1], [24, 24, 1], [24, 28, 1], [24, 12, 1], [24, 16, 1], [24, 20, 1], [24, 24, 1], [24, 28, 1], [24, 12, 1], [24, 16, 1], [24, 20, 1], [24, 24, 1], [24, 28, 1]]\n",
      "[150.17780233530772, 185.7226647728936, 198.87158140215473, 183.41618353148633, 243.47439515928963, 188.87588216420596, 205.13556209351603, 208.582880790772, 301.70383696901513, 230.64752535702536, 297.04385307757815, 184.4796903413164, 212.9879969180214, 223.73146722480163, 283.93413445558303, 158.67068257228178, 252.95827134105778, 285.138053354505, 261.835075431226, 231.6658507725647, 230.91947516475562, 202.99710094244864, 251.25688870393205, 192.6216456635261, 311.1308993479967, 66.50910594233581, 60.48837475037678, 54.74409590977094, 52.14382271124496, 48.71966059738533, 235.48790942592228, 197.47283406644067, 257.9498866928938, 267.8072887960646, 257.33097451484826, 252.56244845476755, 295.59908546672057, 244.2027975496937, 250.73479345968968, 292.95457284572336, 134.33926128170174, 194.62095765980652, 249.38343413040954, 330.5628795143968, 336.5321308952127, 166.13327581322784, 163.9133205436963, 219.30914768370835, 321.7282759858911, 317.9271906265123, 67.9043277058502, 59.660813290807866, 53.353904142399855, 50.25884362879719, 48.33071138143787, 188.11053951003888, 230.5188136323577, 241.97823358947124, 265.9209194840696, 271.76099688462494, 290.6231403114667, 254.7258566311448, 202.4953082662134, 240.6192943764827, 508.3378792020988, 337.18719298825266, 224.6552913192706, 293.92389986622743, 240.7849901868698, 357.19733528052217, 232.8645043649788, 188.99580502993055, 273.2668277414134, 233.81218869803007, 229.65108195001238, 65.22105992519899, 60.76356793191535, 57.21251619941768, 51.897157050228046, 47.63245994121218, 160.6951627093047, 263.1307919935698, 213.29802587198918, 246.77770863225993, 264.00686179206656, 183.49287575053845, 278.21779912831056, 347.5968262188292, 335.1495601067485, 343.88176172687145, 166.7399565741747, 190.8242216255543, 353.340834231623, 296.8950671258608, 290.526646918215, 192.05590411835485, 180.96113066179896, 167.223582774094, 268.833379090618, 266.9931326821848, 65.26026640028459, 60.668933988243275, 55.0478935090281, 51.59908834134932, 47.83848772414277, 168.4697803356551, 238.617550873027, 227.68037968491686, 247.69511587564784, 257.55616043770453]\n",
      "47.63245994121218\n",
      "[24, 28, 1]\n",
      "K is :  2\n",
      "[[24, 12, 1], [24, 16, 1], [24, 20, 1], [24, 24, 1], [24, 28, 1], [24, 12, 1], [24, 16, 1], [24, 20, 1], [24, 24, 1], [24, 28, 1], [24, 12, 1], [24, 16, 1], [24, 20, 1], [24, 24, 1], [24, 28, 1], [24, 12, 1], [24, 16, 1], [24, 20, 1], [24, 24, 1], [24, 28, 1], [24, 12, 1], [24, 16, 1], [24, 20, 1], [24, 24, 1], [24, 28, 1], [24, 12, 1], [24, 16, 1], [24, 20, 1], [24, 24, 1], [24, 28, 1], [24, 12, 1], [24, 16, 1], [24, 20, 1], [24, 24, 1], [24, 28, 1], [24, 12, 1], [24, 16, 1], [24, 20, 1], [24, 24, 1], [24, 28, 1], [24, 12, 1], [24, 16, 1], [24, 20, 1], [24, 24, 1], [24, 28, 1], [24, 12, 1], [24, 16, 1], [24, 20, 1], [24, 24, 1], [24, 28, 1], [24, 12, 1], [24, 16, 1], [24, 20, 1], [24, 24, 1], [24, 28, 1], [24, 12, 1], [24, 16, 1], [24, 20, 1], [24, 24, 1], [24, 28, 1], [24, 12, 1], [24, 16, 1], [24, 20, 1], [24, 24, 1], [24, 28, 1], [24, 12, 1], [24, 16, 1], [24, 20, 1], [24, 24, 1], [24, 28, 1], [24, 12, 1], [24, 16, 1], [24, 20, 1], [24, 24, 1], [24, 28, 1], [24, 12, 1], [24, 16, 1], [24, 20, 1], [24, 24, 1], [24, 28, 1], [24, 12, 1], [24, 16, 1], [24, 20, 1], [24, 24, 1], [24, 28, 1], [24, 12, 1], [24, 16, 1], [24, 20, 1], [24, 24, 1], [24, 28, 1], [24, 12, 1], [24, 16, 1], [24, 20, 1], [24, 24, 1], [24, 28, 1], [24, 12, 1], [24, 16, 1], [24, 20, 1], [24, 24, 1], [24, 28, 1], [24, 12, 1], [24, 16, 1], [24, 20, 1], [24, 24, 1], [24, 28, 1], [24, 12, 1], [24, 16, 1], [24, 20, 1], [24, 24, 1], [24, 28, 1], [24, 12, 1], [24, 16, 1], [24, 20, 1], [24, 24, 1], [24, 28, 1]]\n",
      "[150.17780233530772, 185.7226647728936, 198.87158140215473, 183.41618353148633, 243.47439515928963, 188.87588216420596, 205.13556209351603, 208.582880790772, 301.70383696901513, 230.64752535702536, 297.04385307757815, 184.4796903413164, 212.9879969180214, 223.73146722480163, 283.93413445558303, 158.67068257228178, 252.95827134105778, 285.138053354505, 261.835075431226, 231.6658507725647, 230.91947516475562, 202.99710094244864, 251.25688870393205, 192.6216456635261, 311.1308993479967, 66.50910594233581, 60.48837475037678, 54.74409590977094, 52.14382271124496, 48.71966059738533, 235.48790942592228, 197.47283406644067, 257.9498866928938, 267.8072887960646, 257.33097451484826, 252.56244845476755, 295.59908546672057, 244.2027975496937, 250.73479345968968, 292.95457284572336, 134.33926128170174, 194.62095765980652, 249.38343413040954, 330.5628795143968, 336.5321308952127, 166.13327581322784, 163.9133205436963, 219.30914768370835, 321.7282759858911, 317.9271906265123, 67.9043277058502, 59.660813290807866, 53.353904142399855, 50.25884362879719, 48.33071138143787, 188.11053951003888, 230.5188136323577, 241.97823358947124, 265.9209194840696, 271.76099688462494, 290.6231403114667, 254.7258566311448, 202.4953082662134, 240.6192943764827, 508.3378792020988, 337.18719298825266, 224.6552913192706, 293.92389986622743, 240.7849901868698, 357.19733528052217, 232.8645043649788, 188.99580502993055, 273.2668277414134, 233.81218869803007, 229.65108195001238, 65.22105992519899, 60.76356793191535, 57.21251619941768, 51.897157050228046, 47.63245994121218, 160.6951627093047, 263.1307919935698, 213.29802587198918, 246.77770863225993, 264.00686179206656, 183.49287575053845, 278.21779912831056, 347.5968262188292, 335.1495601067485, 343.88176172687145, 166.7399565741747, 190.8242216255543, 353.340834231623, 296.8950671258608, 290.526646918215, 192.05590411835485, 180.96113066179896, 167.223582774094, 268.833379090618, 266.9931326821848, 65.26026640028459, 60.668933988243275, 55.0478935090281, 51.59908834134932, 47.83848772414277, 168.4697803356551, 238.617550873027, 227.68037968491686, 247.69511587564784, 257.55616043770453, 192.92127735173483, 289.9315358959417, 241.3007642824679, 285.01938561950476, 383.8918516586717]\n",
      "47.63245994121218\n",
      "[24, 28, 1]\n",
      "K is :  3\n",
      "[[24, 12, 1], [24, 16, 1], [24, 20, 1], [24, 24, 1], [24, 28, 1], [24, 12, 1], [24, 16, 1], [24, 20, 1], [24, 24, 1], [24, 28, 1], [24, 12, 1], [24, 16, 1], [24, 20, 1], [24, 24, 1], [24, 28, 1], [24, 12, 1], [24, 16, 1], [24, 20, 1], [24, 24, 1], [24, 28, 1], [24, 12, 1], [24, 16, 1], [24, 20, 1], [24, 24, 1], [24, 28, 1], [24, 12, 1], [24, 16, 1], [24, 20, 1], [24, 24, 1], [24, 28, 1], [24, 12, 1], [24, 16, 1], [24, 20, 1], [24, 24, 1], [24, 28, 1], [24, 12, 1], [24, 16, 1], [24, 20, 1], [24, 24, 1], [24, 28, 1], [24, 12, 1], [24, 16, 1], [24, 20, 1], [24, 24, 1], [24, 28, 1], [24, 12, 1], [24, 16, 1], [24, 20, 1], [24, 24, 1], [24, 28, 1], [24, 12, 1], [24, 16, 1], [24, 20, 1], [24, 24, 1], [24, 28, 1], [24, 12, 1], [24, 16, 1], [24, 20, 1], [24, 24, 1], [24, 28, 1], [24, 12, 1], [24, 16, 1], [24, 20, 1], [24, 24, 1], [24, 28, 1], [24, 12, 1], [24, 16, 1], [24, 20, 1], [24, 24, 1], [24, 28, 1], [24, 12, 1], [24, 16, 1], [24, 20, 1], [24, 24, 1], [24, 28, 1], [24, 12, 1], [24, 16, 1], [24, 20, 1], [24, 24, 1], [24, 28, 1], [24, 12, 1], [24, 16, 1], [24, 20, 1], [24, 24, 1], [24, 28, 1], [24, 12, 1], [24, 16, 1], [24, 20, 1], [24, 24, 1], [24, 28, 1], [24, 12, 1], [24, 16, 1], [24, 20, 1], [24, 24, 1], [24, 28, 1], [24, 12, 1], [24, 16, 1], [24, 20, 1], [24, 24, 1], [24, 28, 1], [24, 12, 1], [24, 16, 1], [24, 20, 1], [24, 24, 1], [24, 28, 1], [24, 12, 1], [24, 16, 1], [24, 20, 1], [24, 24, 1], [24, 28, 1], [24, 12, 1], [24, 16, 1], [24, 20, 1], [24, 24, 1], [24, 28, 1], [24, 12, 1], [24, 16, 1], [24, 20, 1], [24, 24, 1], [24, 28, 1]]\n",
      "[150.17780233530772, 185.7226647728936, 198.87158140215473, 183.41618353148633, 243.47439515928963, 188.87588216420596, 205.13556209351603, 208.582880790772, 301.70383696901513, 230.64752535702536, 297.04385307757815, 184.4796903413164, 212.9879969180214, 223.73146722480163, 283.93413445558303, 158.67068257228178, 252.95827134105778, 285.138053354505, 261.835075431226, 231.6658507725647, 230.91947516475562, 202.99710094244864, 251.25688870393205, 192.6216456635261, 311.1308993479967, 66.50910594233581, 60.48837475037678, 54.74409590977094, 52.14382271124496, 48.71966059738533, 235.48790942592228, 197.47283406644067, 257.9498866928938, 267.8072887960646, 257.33097451484826, 252.56244845476755, 295.59908546672057, 244.2027975496937, 250.73479345968968, 292.95457284572336, 134.33926128170174, 194.62095765980652, 249.38343413040954, 330.5628795143968, 336.5321308952127, 166.13327581322784, 163.9133205436963, 219.30914768370835, 321.7282759858911, 317.9271906265123, 67.9043277058502, 59.660813290807866, 53.353904142399855, 50.25884362879719, 48.33071138143787, 188.11053951003888, 230.5188136323577, 241.97823358947124, 265.9209194840696, 271.76099688462494, 290.6231403114667, 254.7258566311448, 202.4953082662134, 240.6192943764827, 508.3378792020988, 337.18719298825266, 224.6552913192706, 293.92389986622743, 240.7849901868698, 357.19733528052217, 232.8645043649788, 188.99580502993055, 273.2668277414134, 233.81218869803007, 229.65108195001238, 65.22105992519899, 60.76356793191535, 57.21251619941768, 51.897157050228046, 47.63245994121218, 160.6951627093047, 263.1307919935698, 213.29802587198918, 246.77770863225993, 264.00686179206656, 183.49287575053845, 278.21779912831056, 347.5968262188292, 335.1495601067485, 343.88176172687145, 166.7399565741747, 190.8242216255543, 353.340834231623, 296.8950671258608, 290.526646918215, 192.05590411835485, 180.96113066179896, 167.223582774094, 268.833379090618, 266.9931326821848, 65.26026640028459, 60.668933988243275, 55.0478935090281, 51.59908834134932, 47.83848772414277, 168.4697803356551, 238.617550873027, 227.68037968491686, 247.69511587564784, 257.55616043770453, 192.92127735173483, 289.9315358959417, 241.3007642824679, 285.01938561950476, 383.8918516586717, 188.28990841564087, 268.9062465863185, 278.88637058836326, 249.09444857835487, 302.63370925232795]\n",
      "47.63245994121218\n",
      "[24, 28, 1]\n",
      "K is :  4\n"
     ]
    },
    {
     "name": "stdout",
     "output_type": "stream",
     "text": [
      "[[24, 12, 1], [24, 16, 1], [24, 20, 1], [24, 24, 1], [24, 28, 1], [24, 12, 1], [24, 16, 1], [24, 20, 1], [24, 24, 1], [24, 28, 1], [24, 12, 1], [24, 16, 1], [24, 20, 1], [24, 24, 1], [24, 28, 1], [24, 12, 1], [24, 16, 1], [24, 20, 1], [24, 24, 1], [24, 28, 1], [24, 12, 1], [24, 16, 1], [24, 20, 1], [24, 24, 1], [24, 28, 1], [24, 12, 1], [24, 16, 1], [24, 20, 1], [24, 24, 1], [24, 28, 1], [24, 12, 1], [24, 16, 1], [24, 20, 1], [24, 24, 1], [24, 28, 1], [24, 12, 1], [24, 16, 1], [24, 20, 1], [24, 24, 1], [24, 28, 1], [24, 12, 1], [24, 16, 1], [24, 20, 1], [24, 24, 1], [24, 28, 1], [24, 12, 1], [24, 16, 1], [24, 20, 1], [24, 24, 1], [24, 28, 1], [24, 12, 1], [24, 16, 1], [24, 20, 1], [24, 24, 1], [24, 28, 1], [24, 12, 1], [24, 16, 1], [24, 20, 1], [24, 24, 1], [24, 28, 1], [24, 12, 1], [24, 16, 1], [24, 20, 1], [24, 24, 1], [24, 28, 1], [24, 12, 1], [24, 16, 1], [24, 20, 1], [24, 24, 1], [24, 28, 1], [24, 12, 1], [24, 16, 1], [24, 20, 1], [24, 24, 1], [24, 28, 1], [24, 12, 1], [24, 16, 1], [24, 20, 1], [24, 24, 1], [24, 28, 1], [24, 12, 1], [24, 16, 1], [24, 20, 1], [24, 24, 1], [24, 28, 1], [24, 12, 1], [24, 16, 1], [24, 20, 1], [24, 24, 1], [24, 28, 1], [24, 12, 1], [24, 16, 1], [24, 20, 1], [24, 24, 1], [24, 28, 1], [24, 12, 1], [24, 16, 1], [24, 20, 1], [24, 24, 1], [24, 28, 1], [24, 12, 1], [24, 16, 1], [24, 20, 1], [24, 24, 1], [24, 28, 1], [24, 12, 1], [24, 16, 1], [24, 20, 1], [24, 24, 1], [24, 28, 1], [24, 12, 1], [24, 16, 1], [24, 20, 1], [24, 24, 1], [24, 28, 1], [24, 12, 1], [24, 16, 1], [24, 20, 1], [24, 24, 1], [24, 28, 1], [24, 12, 1], [24, 16, 1], [24, 20, 1], [24, 24, 1], [24, 28, 1]]\n",
      "[150.17780233530772, 185.7226647728936, 198.87158140215473, 183.41618353148633, 243.47439515928963, 188.87588216420596, 205.13556209351603, 208.582880790772, 301.70383696901513, 230.64752535702536, 297.04385307757815, 184.4796903413164, 212.9879969180214, 223.73146722480163, 283.93413445558303, 158.67068257228178, 252.95827134105778, 285.138053354505, 261.835075431226, 231.6658507725647, 230.91947516475562, 202.99710094244864, 251.25688870393205, 192.6216456635261, 311.1308993479967, 66.50910594233581, 60.48837475037678, 54.74409590977094, 52.14382271124496, 48.71966059738533, 235.48790942592228, 197.47283406644067, 257.9498866928938, 267.8072887960646, 257.33097451484826, 252.56244845476755, 295.59908546672057, 244.2027975496937, 250.73479345968968, 292.95457284572336, 134.33926128170174, 194.62095765980652, 249.38343413040954, 330.5628795143968, 336.5321308952127, 166.13327581322784, 163.9133205436963, 219.30914768370835, 321.7282759858911, 317.9271906265123, 67.9043277058502, 59.660813290807866, 53.353904142399855, 50.25884362879719, 48.33071138143787, 188.11053951003888, 230.5188136323577, 241.97823358947124, 265.9209194840696, 271.76099688462494, 290.6231403114667, 254.7258566311448, 202.4953082662134, 240.6192943764827, 508.3378792020988, 337.18719298825266, 224.6552913192706, 293.92389986622743, 240.7849901868698, 357.19733528052217, 232.8645043649788, 188.99580502993055, 273.2668277414134, 233.81218869803007, 229.65108195001238, 65.22105992519899, 60.76356793191535, 57.21251619941768, 51.897157050228046, 47.63245994121218, 160.6951627093047, 263.1307919935698, 213.29802587198918, 246.77770863225993, 264.00686179206656, 183.49287575053845, 278.21779912831056, 347.5968262188292, 335.1495601067485, 343.88176172687145, 166.7399565741747, 190.8242216255543, 353.340834231623, 296.8950671258608, 290.526646918215, 192.05590411835485, 180.96113066179896, 167.223582774094, 268.833379090618, 266.9931326821848, 65.26026640028459, 60.668933988243275, 55.0478935090281, 51.59908834134932, 47.83848772414277, 168.4697803356551, 238.617550873027, 227.68037968491686, 247.69511587564784, 257.55616043770453, 192.92127735173483, 289.9315358959417, 241.3007642824679, 285.01938561950476, 383.8918516586717, 188.28990841564087, 268.9062465863185, 278.88637058836326, 249.09444857835487, 302.63370925232795, 187.26430223039372, 263.83265418189416, 233.7062418260651, 268.8154945453157, 193.15509783923198]\n",
      "47.63245994121218\n",
      "[24, 28, 1]\n",
      "[[24, 28, 1], [24, 28, 1], [24, 28, 1], [24, 28, 1], [24, 28, 1]]\n",
      "[47.63245994121218, 47.63245994121218, 47.63245994121218, 47.63245994121218, 47.63245994121218]\n",
      "[24, 12, 1]\n"
     ]
    }
   ],
   "source": [
    "import warnings \n",
    "warnings.filterwarnings('ignore')\n",
    "models = [[24,12,1],[24,16,1],[24,20,1], [24,24,1], [24,28,1]]\n",
    "\n",
    "bestAccuracy,bestParam = cross_validatation(np.array(d1), np.array(dt), models)"
   ]
  },
  {
   "cell_type": "code",
   "execution_count": 54,
   "metadata": {},
   "outputs": [
    {
     "name": "stdout",
     "output_type": "stream",
     "text": [
      "[157.42698492393208, 220.28612969243682, 159.90330988362115, 155.04835552875673, 196.0057607073249] [[24, 12, 1], [24, 12, 1], [24, 12, 1], [24, 12, 1], [24, 12, 1], [24, 12, 1], [24, 12, 1], [24, 12, 1], [24, 12, 1], [24, 12, 1]]\n"
     ]
    }
   ],
   "source": [
    "print(bestAccuracy,bestParam)\n",
    "from sklearn.model_selection import train_test_split\n",
    "from sklearn.metrics import mean_squared_error\n",
    "from sklearn.metrics import r2_score\n",
    "x_train, x_test, y_train, y_test = train_test_split(np.array(d1),np.array(dt), test_size=0.25, random_state=42)"
   ]
  },
  {
   "cell_type": "code",
   "execution_count": 72,
   "metadata": {},
   "outputs": [
    {
     "data": {
      "text/plain": [
       "{'w': array([ 2.28388415e-01,  4.77198358e-02, -3.89047330e-02, -4.56057160e-02,\n",
       "        -2.32863901e-02,  6.87657159e-02,  8.44214500e-02, -7.58010244e-02,\n",
       "         1.44431049e-02, -7.74141005e-02,  3.25242701e-02,  3.03622669e-03,\n",
       "         7.05831071e-02,  7.89003131e-02, -1.66330683e-02,  8.30579932e-02,\n",
       "         2.52761393e-01, -3.78112939e-01,  1.47131914e-01, -4.24710030e-01,\n",
       "        -1.68442515e-01,  3.97865048e-02,  7.72326722e-03, -8.88765052e-02,\n",
       "         1.78305016e-01, -1.89343290e-01,  3.17894112e-02,  1.37471498e-01,\n",
       "        -1.46944689e-01, -1.56607886e-01,  2.05076288e-01, -6.75604610e-02,\n",
       "         6.70489535e-02, -4.50991287e-02, -7.68772988e-02, -5.94726530e-02,\n",
       "        -1.09960865e-01,  2.25735350e-01,  1.51639023e-01,  3.09784473e-01,\n",
       "         1.76917382e-01, -6.71073519e-03, -3.34610195e-03, -1.08579819e-01,\n",
       "        -8.91170342e-02, -6.69025740e-02, -6.64486829e-02, -5.98428147e-03,\n",
       "        -1.34839858e-01, -1.03791387e-01, -7.54647335e-03,  1.03854554e-01,\n",
       "         1.33378481e-01, -7.52266354e-02, -6.98192899e-02, -1.56468317e-01,\n",
       "         8.43891913e-02,  2.66387967e-02,  3.27394915e-02,  3.12356606e-02,\n",
       "         1.09050822e-01,  5.92279022e-02, -2.30410280e-02,  9.19723814e-02,\n",
       "        -3.69897099e-01,  8.71378706e-02,  1.33976194e-01,  1.69395632e-01,\n",
       "        -6.00208629e-02, -1.59009213e-02,  1.12842835e-01,  2.64008125e-02,\n",
       "        -2.40867664e-02,  7.90334130e-02,  1.36098599e-01,  3.65522191e-01,\n",
       "        -1.01886698e-01, -2.09978965e-01, -9.47976731e-02, -2.30100599e-01,\n",
       "        -1.12179916e-01,  3.05135569e-02, -7.60888549e-02, -3.32902752e-02,\n",
       "        -7.35526736e-03,  1.42717688e-01,  1.16831022e-01,  2.98896533e-02,\n",
       "         4.01056461e-01, -5.59943365e-02,  7.30146169e-02,  2.27013652e-02,\n",
       "         5.33262704e-02, -6.26601238e-02, -1.79692702e-03, -9.17929355e-02,\n",
       "         1.75725866e-01, -2.89617322e-02,  5.15477730e-02,  6.87318541e-02,\n",
       "        -1.85804298e-01, -1.39753931e-01,  8.67325004e-02, -3.39376042e-01,\n",
       "         9.34199870e-02,  6.30776855e-02,  9.35377646e-02,  1.56617070e-01,\n",
       "        -1.41628655e-02, -9.26722739e-02, -3.73564715e-02, -2.75092542e-02,\n",
       "         1.03801756e-02, -1.28956039e-02,  1.70765411e-02,  1.42540654e-01,\n",
       "        -2.87326890e-02, -5.66604488e-02,  8.44735531e-02, -5.47912334e-02,\n",
       "         3.82878929e-02, -9.14816465e-02,  1.12813239e-01,  2.36515281e-02,\n",
       "        -2.32637840e-01, -5.28528425e-02,  3.27436198e-02, -3.99330714e-02,\n",
       "        -5.33011145e-03,  5.17531427e-02, -2.92855414e-02,  5.88826523e-02,\n",
       "         1.43362122e-02,  2.75879374e-02, -8.79312607e-02, -3.14509293e-02,\n",
       "         4.42364615e-02, -1.01796029e-01,  7.61208908e-02, -6.60111631e-02,\n",
       "        -7.87321927e-02,  4.16699358e-02, -5.87239187e-02, -7.70244149e-02,\n",
       "        -1.59578946e-01,  3.15415179e-02,  1.38874850e-01,  7.97114573e-02,\n",
       "         1.09292170e-02, -1.12137245e-01,  3.20966552e-02, -1.79351269e-01,\n",
       "         4.22718321e-02, -9.10084733e-02, -1.13634585e-02,  9.65124829e-02,\n",
       "        -4.23095218e-02, -1.79615548e-01, -1.25043055e-01, -1.64358073e-01,\n",
       "         1.33632698e-01,  5.74368172e-02,  2.41507019e-02,  1.30066006e-02,\n",
       "        -8.02634025e-02,  4.06480485e-02,  4.24744099e-02, -1.47389356e-01,\n",
       "         1.95569134e-02,  5.43635185e-03, -1.46469221e-02,  7.50599580e-02,\n",
       "        -1.40518599e-01,  1.89152360e-02,  1.65921616e-02, -8.58106973e-02,\n",
       "         2.00131341e-02,  5.29902089e-02,  8.39090020e-02, -3.54002549e-02,\n",
       "         4.48549637e-02, -1.69527222e-01, -3.25916924e-02, -8.20087999e-02,\n",
       "         1.40861096e-01,  1.17944090e-01,  4.87729922e-02, -1.00072393e-02,\n",
       "         1.78754102e-02, -3.40915075e-02,  3.18814783e-02,  8.18959179e-02,\n",
       "         4.25153231e-02,  1.20846562e-01, -3.92106966e-02,  1.55373639e-01,\n",
       "        -2.31033628e-01, -9.17573365e-02,  4.20936251e-02, -2.14309562e-01,\n",
       "        -3.32454480e-02, -4.91299030e-02, -5.82929279e-02, -1.11465988e-01,\n",
       "         4.43477257e-02, -8.38527306e-02,  1.26614606e-01,  3.51700110e-02,\n",
       "         1.26587189e-01,  1.61107912e-01,  2.12463222e-01,  2.44257169e-01,\n",
       "         3.25775272e-03,  2.79673300e-02,  7.08549192e-02, -1.61870232e-02,\n",
       "         8.66403116e-02, -1.11014376e-01,  4.53065373e-02,  2.14054020e-02,\n",
       "        -2.76152201e-01, -1.15200965e-01,  4.02723718e-02, -9.32084520e-02,\n",
       "         6.46163411e-02,  1.13831898e-02,  8.41485514e-02, -6.78390539e-02,\n",
       "        -6.13705735e-02,  1.02138290e-01,  8.92642551e-02,  6.21828682e-02,\n",
       "         1.32842298e-02,  9.12028802e-02,  3.79012172e-02,  1.95229532e-01,\n",
       "         1.21429923e-01, -5.51294342e-02,  1.49805540e-02,  4.04203301e-03,\n",
       "         8.43841902e-03,  7.95209375e-02, -8.95265891e-03,  1.59062442e-01,\n",
       "        -1.03318830e-01,  1.47957222e-01,  3.10243268e-02, -1.31591369e-01,\n",
       "         1.87496198e-01,  4.00824098e-02,  4.29577596e-04,  9.54757973e-03,\n",
       "         1.23819141e-01, -1.33603697e-01,  6.06935366e-02, -8.76497397e-02,\n",
       "         4.47396850e-02, -1.63005030e-01,  4.46341322e-02, -1.41609027e-01,\n",
       "        -1.08866099e-01,  9.12243223e-02, -2.07233614e-02, -5.16471055e-02,\n",
       "        -1.39471834e-01,  2.06841369e-03,  1.09766287e-02,  1.27827455e-01,\n",
       "         3.95961965e-02,  7.69755674e-02,  8.24633456e-02,  4.20433781e-03,\n",
       "        -6.36058489e-02,  6.94186819e-02,  1.21006024e-02, -6.04559035e-02,\n",
       "        -4.88484220e-02, -4.36277179e-02,  4.34927100e-02, -3.05985434e-02,\n",
       "        -8.50312539e-05, -1.86330729e-01,  9.93360167e-02,  2.23541136e-02,\n",
       "        -6.01369685e-02, -3.26726209e-02, -5.78985578e-02,  2.04758744e-02,\n",
       "         7.78555643e-02, -6.98630885e-02, -3.81423519e-02,  5.11468065e-02,\n",
       "        -9.34188428e-02,  7.59589534e-02, -6.49076587e-02, -2.76120225e-01,\n",
       "         3.09542733e-02,  7.02706441e-02,  8.66770984e-02,  2.44962204e-02,\n",
       "         3.04651694e-01, -6.23360373e-01,  5.68577358e-01,  3.02610137e-01,\n",
       "         4.22887293e-01,  4.29112116e-01, -2.75023074e-01, -7.22073308e-01,\n",
       "        -4.49741925e-01, -4.81744818e-01, -7.33252791e-02, -1.66166078e-01,\n",
       "        -3.74279133e-01]),\n",
       " 'f': 0.4083290264506432,\n",
       " 'reason': 'reached limit of nIterations',\n",
       " 'wtrace': None,\n",
       " 'ftrace': None}"
      ]
     },
     "execution_count": 72,
     "metadata": {},
     "output_type": "execute_result"
    }
   ],
   "source": [
    "import warnings \n",
    "warnings.filterwarnings('ignore')\n",
    "model=NeuralNet([24,12,1])  \n",
    "model.train(x_train,y_train,niter=1000)"
   ]
  },
  {
   "cell_type": "code",
   "execution_count": 73,
   "metadata": {},
   "outputs": [],
   "source": [
    "y_p=model.use(x_test)"
   ]
  },
  {
   "cell_type": "code",
   "execution_count": 74,
   "metadata": {},
   "outputs": [
    {
     "name": "stdout",
     "output_type": "stream",
     "text": [
      "RMSE: 91.03197592423614\n"
     ]
    }
   ],
   "source": [
    "print('RMSE:', np.sqrt(mean_squared_error(y_test, y_p)))"
   ]
  },
  {
   "cell_type": "markdown",
   "metadata": {},
   "source": [
    "# Sigmoid"
   ]
  },
  {
   "cell_type": "code",
   "execution_count": 58,
   "metadata": {},
   "outputs": [],
   "source": [
    "from grad import scg, steepest\n",
    "from copy import copy\n",
    "\n",
    "\n",
    "class NeuralNet:\n",
    "    \"\"\" neural network class for regression\n",
    "        \n",
    "        Parameters\n",
    "        ----------\n",
    "        nunits: list\n",
    "            the number of inputs, hidden units, and outputs\n",
    "\n",
    "        Methods\n",
    "        -------\n",
    "        set_hunit    \n",
    "            update/initiate weights\n",
    "\n",
    "        pack \n",
    "            pack multiple weights of each layer into one vector\n",
    "\n",
    "        forward\n",
    "            forward processing of neural network\n",
    "\n",
    "        backward\n",
    "            back-propagation of neural network\n",
    "\n",
    "        train\n",
    "            train the neural network\n",
    "\n",
    "        use\n",
    "            appply the trained network for prediction\n",
    "\n",
    "        Attributes\n",
    "        ----------\n",
    "        _nLayers\n",
    "            the number of hidden unit layers \n",
    "\n",
    "        rho\n",
    "            learning rate\n",
    "\n",
    "        _W\n",
    "            weights\n",
    "        _weights\n",
    "            weights in one dimension (_W is referencing _weight)\n",
    "\n",
    "        stdX\n",
    "            standardization class for data\n",
    "        stdT\n",
    "            standardization class for target\n",
    "\n",
    "        Notes\n",
    "        -----\n",
    "        \n",
    "    \"\"\"\n",
    "\n",
    "    def __init__(self, nunits):\n",
    "        self._nLayers=len(nunits)-1\n",
    "        self.rho = [1] * self._nLayers\n",
    "        self._W = []\n",
    "        wdims = []\n",
    "        lenweights = 0\n",
    "        for i in range(self._nLayers):\n",
    "            nwr = nunits[i] + 1\n",
    "            nwc = nunits[i+1]\n",
    "            wdims.append((nwr, nwc))\n",
    "            lenweights = lenweights + nwr * nwc\n",
    "\n",
    "        self._weights = np.random.uniform(-0.1,0.1, lenweights) \n",
    "        start = 0  # fixed index error 20110107\n",
    "        for i in range(self._nLayers):\n",
    "            end = start + wdims[i][0] * wdims[i][1] \n",
    "            self._W.append(self._weights[start:end])\n",
    "            self._W[i].resize(wdims[i])\n",
    "            start = end\n",
    "\n",
    "        self.stdX = None\n",
    "        self.stdT = None\n",
    "        self.stdTarget = True\n",
    "\n",
    "    def add_ones(self, w):\n",
    "        return np.hstack((np.ones((w.shape[0], 1)), w))\n",
    "\n",
    "    def get_nlayers(self):\n",
    "        return self._nLayers\n",
    "\n",
    "    def set_hunit(self, w):\n",
    "        for i in range(self._nLayers-1):\n",
    "            if w[i].shape != self._W[i].shape:\n",
    "                print(\"set_hunit: shapes do not match!\")\n",
    "                break\n",
    "            else:\n",
    "                self._W[i][:] = w[i][:]\n",
    "\n",
    "    def pack(self, w):\n",
    "        return np.hstack(map(np.ravel, w))\n",
    "\n",
    "    def unpack(self, weights):\n",
    "        self._weights[:] = weights[:]  # unpack\n",
    "\n",
    "    def cp_weight(self):\n",
    "        return copy(self._weights)\n",
    "\n",
    "    def RBF(self, X, m=None,s=None):\n",
    "        if m is None: m = np.mean(X)\n",
    "        if s is None: s = 2 #np.std(X)\n",
    "        r = 1. / (np.sqrt(2*np.pi)* s)  \n",
    "        return r * np.exp(-(X - m) ** 2 / (2 * s ** 2))\n",
    "    \n",
    "    def Sigma(self, X):\n",
    "        return (1/(1+(np.exp(-(X)))))\n",
    "    \n",
    "    def dSigma(self, X):\n",
    "        return ((np.exp(-x))/(1+(np.exp(-x)))^2)\n",
    "\n",
    "    def forward(self,X):\n",
    "        t = X \n",
    "        Z = []\n",
    "\n",
    "        for i in range(self._nLayers):\n",
    "            Z.append(t) \n",
    "            if i == self._nLayers - 1:\n",
    "                t = np.dot(self.add_ones(t), self._W[i])\n",
    "            else:\n",
    "                t = self.Sigma(np.dot(self.add_ones(t), self._W[i]))\n",
    "                \n",
    "        return (t, Z)\n",
    "        \n",
    "    def backward(self, error, Z, T, lmb=0):\n",
    "        delta = error\n",
    "        N = T.size\n",
    "        dws = []\n",
    "        for i in range(self._nLayers - 1, -1, -1):\n",
    "            rh = float(self.rho[i]) / N\n",
    "            if i==0:\n",
    "                lmbterm = 0\n",
    "            else:\n",
    "                lmbterm = lmb * np.vstack((np.zeros((1, self._W[i].shape[1])),\n",
    "                            self._W[i][1:,]))\n",
    "                \n",
    "            #print(Z[i].T.shape)\n",
    "            dws.insert(0,(-rh * np.dot(self.add_ones(Z[i]).T, delta) + lmbterm))\n",
    "            if i != 0:\n",
    "                delta = np.dot(delta, self._W[i][1:, :].T) * (np.exp(-Z[i])/(1+np.exp(-Z[i]))**2)\n",
    "        return self.pack(dws)\n",
    "\n",
    "    def _errorf(self, T, Y):\n",
    "        return T - Y\n",
    "        \n",
    "    def _objectf(self, T, Y, wpenalty):\n",
    "        return 0.5 * np.mean(np.square(T - Y)) + wpenalty\n",
    "\n",
    "    def train(self, X, T, **params):\n",
    "\n",
    "        verbose = params.pop('verbose', False)\n",
    "        # training parameters\n",
    "        _lambda = params.pop('Lambda', 0.)\n",
    "\n",
    "        #parameters for scg\n",
    "        niter = params.pop('niter', 1000)\n",
    "        wprecision = params.pop('wprecision', 1e-10)\n",
    "        fprecision = params.pop('fprecision', 1e-10)\n",
    "        wtracep = params.pop('wtracep', False)\n",
    "        ftracep = params.pop('ftracep', False)\n",
    "\n",
    "        # optimization\n",
    "        optim = params.pop('optim', 'scg')\n",
    "\n",
    "        if self.stdX == None:\n",
    "            explore = params.pop('explore', False)\n",
    "            self.stdX = Standardizer(X, explore)\n",
    "        Xs = self.stdX.standardize(X)\n",
    "        if self.stdT == None and self.stdTarget:\n",
    "            self.stdT = Standardizer(T)\n",
    "            T = self.stdT.standardize(T)\n",
    "        \n",
    "        def gradientf(weights):\n",
    "            self.unpack(weights)\n",
    "            Y,Z = self.forward(Xs)\n",
    "            \n",
    "            error = self._errorf(T, Y)\n",
    "            return self.backward(error, Z, T, _lambda)\n",
    "            \n",
    "        def optimtargetf(weights):\n",
    "            \"\"\" optimization target function : MSE \n",
    "            \"\"\"\n",
    "            self.unpack(weights)\n",
    "            #self._weights[:] = weights[:]  # unpack\n",
    "            Y,_ = self.forward(Xs)\n",
    "            Wnb=np.array([])\n",
    "            for i in range(self._nLayers):\n",
    "                if len(Wnb)==0: Wnb=self._W[i][1:,].reshape(self._W[i].size-self._W[i][0,].size,1)\n",
    "                else: Wnb = np.vstack((Wnb,self._W[i][1:,].reshape(self._W[i].size-self._W[i][0,].size,1)))\n",
    "            wpenalty = _lambda * np.dot(Wnb.flat ,Wnb.flat)\n",
    "            return self._objectf(T, Y, wpenalty)\n",
    "\n",
    "        if optim == 'scg':\n",
    "            result = scg(self.cp_weight(), gradientf, optimtargetf,\n",
    "                                        wPrecision=wprecision, fPrecision=fprecision, \n",
    "                                        nIterations=niter,\n",
    "                                        wtracep=wtracep, ftracep=ftracep,\n",
    "                                        verbose=False)\n",
    "            self.unpack(result['w'][:])\n",
    "            self.f = result['f']\n",
    "        elif optim == 'steepest':\n",
    "            result = steepest(self.cp_weight(), gradientf, optimtargetf,\n",
    "                                nIterations=niter,\n",
    "                                xPrecision=wprecision, fPrecision=fprecision,\n",
    "                                xtracep=wtracep, ftracep=ftracep )\n",
    "            self.unpack(result['w'][:])\n",
    "        if ftracep:\n",
    "            self.ftrace = result['ftrace']\n",
    "        if 'reason' in result.keys() and verbose:\n",
    "            print(result['reason'])\n",
    "\n",
    "        return result\n",
    "\n",
    "    def use(self, X, retZ=False):\n",
    "        if self.stdX:\n",
    "            Xs = self.stdX.standardize(X)\n",
    "        else:\n",
    "            Xs = X\n",
    "        Y, Z = self.forward(Xs)\n",
    "        if self.stdT is not None:\n",
    "            Y = self.stdT.unstandardize(Y)\n",
    "        if retZ:\n",
    "            return Y, Z\n",
    "        return Y"
   ]
  },
  {
   "cell_type": "code",
   "execution_count": 59,
   "metadata": {},
   "outputs": [],
   "source": [
    "K=5\n",
    "nfold=0\n",
    "res=[]\n",
    "testErrs=[]\n",
    "def partition(x):\n",
    "    partition= len (x)//K\n",
    "    a=x[0:partition]\n",
    "    b=x[partition:partition*2]\n",
    "    c=x[partition*2:partition*3]\n",
    "    d=x[partition*3:partition*4]\n",
    "    e=x[partition*4:partition*5]\n",
    "    partdata = [a,b,c,d,e]\n",
    "    return partdata\n",
    "\n",
    "best_parameter=[]\n",
    "final=[]\n",
    "best_paramlist=[]\n",
    "\n",
    "def cross_validatation(X, Y, parameters):\n",
    "    x_parti = partition(X)\n",
    "    y_parti = partition(Y)\n",
    " \n",
    "    for i in range(K): \n",
    "        x_test = x_parti[i]\n",
    "        y_test = y_parti[i]\n",
    "        rmse=[]\n",
    "        params=[] \n",
    "        \n",
    "        for j in range(K): \n",
    "            print(\"K is : \",j) \n",
    "            x_i = x_parti[j]\n",
    "            y_i = y_parti[j]\n",
    "            x_train = x_parti[not i and not j]\n",
    "            y_train = y_parti[not i and not j]\n",
    "\n",
    "            for param in parameters:\n",
    "                model = NeuralNet(param)\n",
    "                model.train(x_train, y_train)\n",
    "                predicted = model.use(x_i)\n",
    "                \n",
    "                err = np.sqrt(mean_squared_error(y_i, predicted))\n",
    "                testErrs.append(err)\n",
    "                res.append(param)\n",
    "                \n",
    "            print(res)\n",
    "            print(testErrs)\n",
    "            print(min(testErrs))\n",
    "            print(res[np.argmin(testErrs)])\n",
    "            rmse.append(min(testErrs))\n",
    "            params.append(res[np.argmin(testErrs)])\n",
    "         \n",
    "        print(params)\n",
    "        print(rmse)\n",
    "        print(res[np.argmin(rmse)])\n",
    "        bparameter=res[np.argmin(rmse)]\n",
    "        bmodel = NeuralNet(bparameter)\n",
    "        \n",
    "        x_train = x_parti[not i]\n",
    "        y_train = y_parti[not i]\n",
    "        bmodel.train(x_train, y_train)\n",
    "\n",
    "        fpred = bmodel.use(x_test)\n",
    "        ferr = np.sqrt(mean_squared_error(y_test,fpred))\n",
    "        final.append(ferr)\n",
    "        bparamlist.append(bparameter)\n",
    "\n",
    "    return final,bparamlist"
   ]
  },
  {
   "cell_type": "code",
   "execution_count": 60,
   "metadata": {
    "scrolled": false
   },
   "outputs": [
    {
     "name": "stdout",
     "output_type": "stream",
     "text": [
      "K is :  0\n",
      "[[24, 12, 1], [24, 16, 1], [24, 20, 1], [24, 24, 1], [24, 28, 1]]\n",
      "[114.03666644574369, 113.82229254250612, 116.64118361012743, 114.85054715949794, 114.01393532209599]\n",
      "113.82229254250612\n",
      "[24, 16, 1]\n",
      "K is :  1\n",
      "[[24, 12, 1], [24, 16, 1], [24, 20, 1], [24, 24, 1], [24, 28, 1], [24, 12, 1], [24, 16, 1], [24, 20, 1], [24, 24, 1], [24, 28, 1]]\n",
      "[114.03666644574369, 113.82229254250612, 116.64118361012743, 114.85054715949794, 114.01393532209599, 110.45978810175747, 104.7279557232795, 103.80744082604812, 105.29614460532635, 100.72540147394068]\n",
      "100.72540147394068\n",
      "[24, 28, 1]\n",
      "K is :  2\n",
      "[[24, 12, 1], [24, 16, 1], [24, 20, 1], [24, 24, 1], [24, 28, 1], [24, 12, 1], [24, 16, 1], [24, 20, 1], [24, 24, 1], [24, 28, 1], [24, 12, 1], [24, 16, 1], [24, 20, 1], [24, 24, 1], [24, 28, 1]]\n",
      "[114.03666644574369, 113.82229254250612, 116.64118361012743, 114.85054715949794, 114.01393532209599, 110.45978810175747, 104.7279557232795, 103.80744082604812, 105.29614460532635, 100.72540147394068, 136.99255088855455, 133.9192772131934, 151.4326609700163, 150.86865427467876, 139.86466417368794]\n",
      "100.72540147394068\n",
      "[24, 28, 1]\n",
      "K is :  3\n",
      "[[24, 12, 1], [24, 16, 1], [24, 20, 1], [24, 24, 1], [24, 28, 1], [24, 12, 1], [24, 16, 1], [24, 20, 1], [24, 24, 1], [24, 28, 1], [24, 12, 1], [24, 16, 1], [24, 20, 1], [24, 24, 1], [24, 28, 1], [24, 12, 1], [24, 16, 1], [24, 20, 1], [24, 24, 1], [24, 28, 1]]\n",
      "[114.03666644574369, 113.82229254250612, 116.64118361012743, 114.85054715949794, 114.01393532209599, 110.45978810175747, 104.7279557232795, 103.80744082604812, 105.29614460532635, 100.72540147394068, 136.99255088855455, 133.9192772131934, 151.4326609700163, 150.86865427467876, 139.86466417368794, 109.26199817411998, 133.60159300759793, 139.51352088493226, 149.22272130646718, 145.7813580128199]\n",
      "100.72540147394068\n",
      "[24, 28, 1]\n",
      "K is :  4\n",
      "[[24, 12, 1], [24, 16, 1], [24, 20, 1], [24, 24, 1], [24, 28, 1], [24, 12, 1], [24, 16, 1], [24, 20, 1], [24, 24, 1], [24, 28, 1], [24, 12, 1], [24, 16, 1], [24, 20, 1], [24, 24, 1], [24, 28, 1], [24, 12, 1], [24, 16, 1], [24, 20, 1], [24, 24, 1], [24, 28, 1], [24, 12, 1], [24, 16, 1], [24, 20, 1], [24, 24, 1], [24, 28, 1]]\n",
      "[114.03666644574369, 113.82229254250612, 116.64118361012743, 114.85054715949794, 114.01393532209599, 110.45978810175747, 104.7279557232795, 103.80744082604812, 105.29614460532635, 100.72540147394068, 136.99255088855455, 133.9192772131934, 151.4326609700163, 150.86865427467876, 139.86466417368794, 109.26199817411998, 133.60159300759793, 139.51352088493226, 149.22272130646718, 145.7813580128199, 112.82762931868432, 115.07942833733428, 116.99491813887947, 111.55279496516054, 108.65436016803415]\n",
      "100.72540147394068\n",
      "[24, 28, 1]\n",
      "[[24, 16, 1], [24, 28, 1], [24, 28, 1], [24, 28, 1], [24, 28, 1]]\n",
      "[113.82229254250612, 100.72540147394068, 100.72540147394068, 100.72540147394068, 100.72540147394068]\n",
      "[24, 16, 1]\n",
      "K is :  0\n",
      "[[24, 12, 1], [24, 16, 1], [24, 20, 1], [24, 24, 1], [24, 28, 1], [24, 12, 1], [24, 16, 1], [24, 20, 1], [24, 24, 1], [24, 28, 1], [24, 12, 1], [24, 16, 1], [24, 20, 1], [24, 24, 1], [24, 28, 1], [24, 12, 1], [24, 16, 1], [24, 20, 1], [24, 24, 1], [24, 28, 1], [24, 12, 1], [24, 16, 1], [24, 20, 1], [24, 24, 1], [24, 28, 1], [24, 12, 1], [24, 16, 1], [24, 20, 1], [24, 24, 1], [24, 28, 1]]\n",
      "[114.03666644574369, 113.82229254250612, 116.64118361012743, 114.85054715949794, 114.01393532209599, 110.45978810175747, 104.7279557232795, 103.80744082604812, 105.29614460532635, 100.72540147394068, 136.99255088855455, 133.9192772131934, 151.4326609700163, 150.86865427467876, 139.86466417368794, 109.26199817411998, 133.60159300759793, 139.51352088493226, 149.22272130646718, 145.7813580128199, 112.82762931868432, 115.07942833733428, 116.99491813887947, 111.55279496516054, 108.65436016803415, 101.25750430971958, 99.54367307888212, 100.61420069225044, 100.95105273327833, 98.31848675037219]\n",
      "98.31848675037219\n",
      "[24, 28, 1]\n",
      "K is :  1\n",
      "[[24, 12, 1], [24, 16, 1], [24, 20, 1], [24, 24, 1], [24, 28, 1], [24, 12, 1], [24, 16, 1], [24, 20, 1], [24, 24, 1], [24, 28, 1], [24, 12, 1], [24, 16, 1], [24, 20, 1], [24, 24, 1], [24, 28, 1], [24, 12, 1], [24, 16, 1], [24, 20, 1], [24, 24, 1], [24, 28, 1], [24, 12, 1], [24, 16, 1], [24, 20, 1], [24, 24, 1], [24, 28, 1], [24, 12, 1], [24, 16, 1], [24, 20, 1], [24, 24, 1], [24, 28, 1], [24, 12, 1], [24, 16, 1], [24, 20, 1], [24, 24, 1], [24, 28, 1]]\n",
      "[114.03666644574369, 113.82229254250612, 116.64118361012743, 114.85054715949794, 114.01393532209599, 110.45978810175747, 104.7279557232795, 103.80744082604812, 105.29614460532635, 100.72540147394068, 136.99255088855455, 133.9192772131934, 151.4326609700163, 150.86865427467876, 139.86466417368794, 109.26199817411998, 133.60159300759793, 139.51352088493226, 149.22272130646718, 145.7813580128199, 112.82762931868432, 115.07942833733428, 116.99491813887947, 111.55279496516054, 108.65436016803415, 101.25750430971958, 99.54367307888212, 100.61420069225044, 100.95105273327833, 98.31848675037219, 103.71279264456606, 107.79188330874354, 102.30693491072672, 109.51496894514656, 104.40410425841276]\n",
      "98.31848675037219\n",
      "[24, 28, 1]\n",
      "K is :  2\n",
      "[[24, 12, 1], [24, 16, 1], [24, 20, 1], [24, 24, 1], [24, 28, 1], [24, 12, 1], [24, 16, 1], [24, 20, 1], [24, 24, 1], [24, 28, 1], [24, 12, 1], [24, 16, 1], [24, 20, 1], [24, 24, 1], [24, 28, 1], [24, 12, 1], [24, 16, 1], [24, 20, 1], [24, 24, 1], [24, 28, 1], [24, 12, 1], [24, 16, 1], [24, 20, 1], [24, 24, 1], [24, 28, 1], [24, 12, 1], [24, 16, 1], [24, 20, 1], [24, 24, 1], [24, 28, 1], [24, 12, 1], [24, 16, 1], [24, 20, 1], [24, 24, 1], [24, 28, 1], [24, 12, 1], [24, 16, 1], [24, 20, 1], [24, 24, 1], [24, 28, 1]]\n",
      "[114.03666644574369, 113.82229254250612, 116.64118361012743, 114.85054715949794, 114.01393532209599, 110.45978810175747, 104.7279557232795, 103.80744082604812, 105.29614460532635, 100.72540147394068, 136.99255088855455, 133.9192772131934, 151.4326609700163, 150.86865427467876, 139.86466417368794, 109.26199817411998, 133.60159300759793, 139.51352088493226, 149.22272130646718, 145.7813580128199, 112.82762931868432, 115.07942833733428, 116.99491813887947, 111.55279496516054, 108.65436016803415, 101.25750430971958, 99.54367307888212, 100.61420069225044, 100.95105273327833, 98.31848675037219, 103.71279264456606, 107.79188330874354, 102.30693491072672, 109.51496894514656, 104.40410425841276, 139.68325862343684, 139.82154859690095, 159.12045783449008, 141.13834984825502, 149.28461939451134]\n",
      "98.31848675037219\n",
      "[24, 28, 1]\n",
      "K is :  3\n",
      "[[24, 12, 1], [24, 16, 1], [24, 20, 1], [24, 24, 1], [24, 28, 1], [24, 12, 1], [24, 16, 1], [24, 20, 1], [24, 24, 1], [24, 28, 1], [24, 12, 1], [24, 16, 1], [24, 20, 1], [24, 24, 1], [24, 28, 1], [24, 12, 1], [24, 16, 1], [24, 20, 1], [24, 24, 1], [24, 28, 1], [24, 12, 1], [24, 16, 1], [24, 20, 1], [24, 24, 1], [24, 28, 1], [24, 12, 1], [24, 16, 1], [24, 20, 1], [24, 24, 1], [24, 28, 1], [24, 12, 1], [24, 16, 1], [24, 20, 1], [24, 24, 1], [24, 28, 1], [24, 12, 1], [24, 16, 1], [24, 20, 1], [24, 24, 1], [24, 28, 1], [24, 12, 1], [24, 16, 1], [24, 20, 1], [24, 24, 1], [24, 28, 1]]\n",
      "[114.03666644574369, 113.82229254250612, 116.64118361012743, 114.85054715949794, 114.01393532209599, 110.45978810175747, 104.7279557232795, 103.80744082604812, 105.29614460532635, 100.72540147394068, 136.99255088855455, 133.9192772131934, 151.4326609700163, 150.86865427467876, 139.86466417368794, 109.26199817411998, 133.60159300759793, 139.51352088493226, 149.22272130646718, 145.7813580128199, 112.82762931868432, 115.07942833733428, 116.99491813887947, 111.55279496516054, 108.65436016803415, 101.25750430971958, 99.54367307888212, 100.61420069225044, 100.95105273327833, 98.31848675037219, 103.71279264456606, 107.79188330874354, 102.30693491072672, 109.51496894514656, 104.40410425841276, 139.68325862343684, 139.82154859690095, 159.12045783449008, 141.13834984825502, 149.28461939451134, 135.55771399329743, 134.15511009865406, 147.06674985528892, 139.88036863912023, 149.15340419824807]\n",
      "98.31848675037219\n",
      "[24, 28, 1]\n",
      "K is :  4\n",
      "[[24, 12, 1], [24, 16, 1], [24, 20, 1], [24, 24, 1], [24, 28, 1], [24, 12, 1], [24, 16, 1], [24, 20, 1], [24, 24, 1], [24, 28, 1], [24, 12, 1], [24, 16, 1], [24, 20, 1], [24, 24, 1], [24, 28, 1], [24, 12, 1], [24, 16, 1], [24, 20, 1], [24, 24, 1], [24, 28, 1], [24, 12, 1], [24, 16, 1], [24, 20, 1], [24, 24, 1], [24, 28, 1], [24, 12, 1], [24, 16, 1], [24, 20, 1], [24, 24, 1], [24, 28, 1], [24, 12, 1], [24, 16, 1], [24, 20, 1], [24, 24, 1], [24, 28, 1], [24, 12, 1], [24, 16, 1], [24, 20, 1], [24, 24, 1], [24, 28, 1], [24, 12, 1], [24, 16, 1], [24, 20, 1], [24, 24, 1], [24, 28, 1], [24, 12, 1], [24, 16, 1], [24, 20, 1], [24, 24, 1], [24, 28, 1]]\n",
      "[114.03666644574369, 113.82229254250612, 116.64118361012743, 114.85054715949794, 114.01393532209599, 110.45978810175747, 104.7279557232795, 103.80744082604812, 105.29614460532635, 100.72540147394068, 136.99255088855455, 133.9192772131934, 151.4326609700163, 150.86865427467876, 139.86466417368794, 109.26199817411998, 133.60159300759793, 139.51352088493226, 149.22272130646718, 145.7813580128199, 112.82762931868432, 115.07942833733428, 116.99491813887947, 111.55279496516054, 108.65436016803415, 101.25750430971958, 99.54367307888212, 100.61420069225044, 100.95105273327833, 98.31848675037219, 103.71279264456606, 107.79188330874354, 102.30693491072672, 109.51496894514656, 104.40410425841276, 139.68325862343684, 139.82154859690095, 159.12045783449008, 141.13834984825502, 149.28461939451134, 135.55771399329743, 134.15511009865406, 147.06674985528892, 139.88036863912023, 149.15340419824807, 114.08364584711312, 98.71357327224179, 106.94993432087652, 110.82898178551841, 108.66824155059332]\n",
      "98.31848675037219\n",
      "[24, 28, 1]\n",
      "[[24, 28, 1], [24, 28, 1], [24, 28, 1], [24, 28, 1], [24, 28, 1]]\n",
      "[98.31848675037219, 98.31848675037219, 98.31848675037219, 98.31848675037219, 98.31848675037219]\n",
      "[24, 12, 1]\n"
     ]
    },
    {
     "name": "stdout",
     "output_type": "stream",
     "text": [
      "K is :  0\n",
      "[[24, 12, 1], [24, 16, 1], [24, 20, 1], [24, 24, 1], [24, 28, 1], [24, 12, 1], [24, 16, 1], [24, 20, 1], [24, 24, 1], [24, 28, 1], [24, 12, 1], [24, 16, 1], [24, 20, 1], [24, 24, 1], [24, 28, 1], [24, 12, 1], [24, 16, 1], [24, 20, 1], [24, 24, 1], [24, 28, 1], [24, 12, 1], [24, 16, 1], [24, 20, 1], [24, 24, 1], [24, 28, 1], [24, 12, 1], [24, 16, 1], [24, 20, 1], [24, 24, 1], [24, 28, 1], [24, 12, 1], [24, 16, 1], [24, 20, 1], [24, 24, 1], [24, 28, 1], [24, 12, 1], [24, 16, 1], [24, 20, 1], [24, 24, 1], [24, 28, 1], [24, 12, 1], [24, 16, 1], [24, 20, 1], [24, 24, 1], [24, 28, 1], [24, 12, 1], [24, 16, 1], [24, 20, 1], [24, 24, 1], [24, 28, 1], [24, 12, 1], [24, 16, 1], [24, 20, 1], [24, 24, 1], [24, 28, 1]]\n",
      "[114.03666644574369, 113.82229254250612, 116.64118361012743, 114.85054715949794, 114.01393532209599, 110.45978810175747, 104.7279557232795, 103.80744082604812, 105.29614460532635, 100.72540147394068, 136.99255088855455, 133.9192772131934, 151.4326609700163, 150.86865427467876, 139.86466417368794, 109.26199817411998, 133.60159300759793, 139.51352088493226, 149.22272130646718, 145.7813580128199, 112.82762931868432, 115.07942833733428, 116.99491813887947, 111.55279496516054, 108.65436016803415, 101.25750430971958, 99.54367307888212, 100.61420069225044, 100.95105273327833, 98.31848675037219, 103.71279264456606, 107.79188330874354, 102.30693491072672, 109.51496894514656, 104.40410425841276, 139.68325862343684, 139.82154859690095, 159.12045783449008, 141.13834984825502, 149.28461939451134, 135.55771399329743, 134.15511009865406, 147.06674985528892, 139.88036863912023, 149.15340419824807, 114.08364584711312, 98.71357327224179, 106.94993432087652, 110.82898178551841, 108.66824155059332, 99.92163047607131, 101.61919266429639, 100.34431949807508, 100.87183716178417, 98.66162481821652]\n",
      "98.31848675037219\n",
      "[24, 28, 1]\n",
      "K is :  1\n",
      "[[24, 12, 1], [24, 16, 1], [24, 20, 1], [24, 24, 1], [24, 28, 1], [24, 12, 1], [24, 16, 1], [24, 20, 1], [24, 24, 1], [24, 28, 1], [24, 12, 1], [24, 16, 1], [24, 20, 1], [24, 24, 1], [24, 28, 1], [24, 12, 1], [24, 16, 1], [24, 20, 1], [24, 24, 1], [24, 28, 1], [24, 12, 1], [24, 16, 1], [24, 20, 1], [24, 24, 1], [24, 28, 1], [24, 12, 1], [24, 16, 1], [24, 20, 1], [24, 24, 1], [24, 28, 1], [24, 12, 1], [24, 16, 1], [24, 20, 1], [24, 24, 1], [24, 28, 1], [24, 12, 1], [24, 16, 1], [24, 20, 1], [24, 24, 1], [24, 28, 1], [24, 12, 1], [24, 16, 1], [24, 20, 1], [24, 24, 1], [24, 28, 1], [24, 12, 1], [24, 16, 1], [24, 20, 1], [24, 24, 1], [24, 28, 1], [24, 12, 1], [24, 16, 1], [24, 20, 1], [24, 24, 1], [24, 28, 1], [24, 12, 1], [24, 16, 1], [24, 20, 1], [24, 24, 1], [24, 28, 1]]\n",
      "[114.03666644574369, 113.82229254250612, 116.64118361012743, 114.85054715949794, 114.01393532209599, 110.45978810175747, 104.7279557232795, 103.80744082604812, 105.29614460532635, 100.72540147394068, 136.99255088855455, 133.9192772131934, 151.4326609700163, 150.86865427467876, 139.86466417368794, 109.26199817411998, 133.60159300759793, 139.51352088493226, 149.22272130646718, 145.7813580128199, 112.82762931868432, 115.07942833733428, 116.99491813887947, 111.55279496516054, 108.65436016803415, 101.25750430971958, 99.54367307888212, 100.61420069225044, 100.95105273327833, 98.31848675037219, 103.71279264456606, 107.79188330874354, 102.30693491072672, 109.51496894514656, 104.40410425841276, 139.68325862343684, 139.82154859690095, 159.12045783449008, 141.13834984825502, 149.28461939451134, 135.55771399329743, 134.15511009865406, 147.06674985528892, 139.88036863912023, 149.15340419824807, 114.08364584711312, 98.71357327224179, 106.94993432087652, 110.82898178551841, 108.66824155059332, 99.92163047607131, 101.61919266429639, 100.34431949807508, 100.87183716178417, 98.66162481821652, 100.84163287116883, 113.39685735362723, 109.11938446146328, 107.10253763493233, 102.2496406697052]\n",
      "98.31848675037219\n",
      "[24, 28, 1]\n",
      "K is :  2\n",
      "[[24, 12, 1], [24, 16, 1], [24, 20, 1], [24, 24, 1], [24, 28, 1], [24, 12, 1], [24, 16, 1], [24, 20, 1], [24, 24, 1], [24, 28, 1], [24, 12, 1], [24, 16, 1], [24, 20, 1], [24, 24, 1], [24, 28, 1], [24, 12, 1], [24, 16, 1], [24, 20, 1], [24, 24, 1], [24, 28, 1], [24, 12, 1], [24, 16, 1], [24, 20, 1], [24, 24, 1], [24, 28, 1], [24, 12, 1], [24, 16, 1], [24, 20, 1], [24, 24, 1], [24, 28, 1], [24, 12, 1], [24, 16, 1], [24, 20, 1], [24, 24, 1], [24, 28, 1], [24, 12, 1], [24, 16, 1], [24, 20, 1], [24, 24, 1], [24, 28, 1], [24, 12, 1], [24, 16, 1], [24, 20, 1], [24, 24, 1], [24, 28, 1], [24, 12, 1], [24, 16, 1], [24, 20, 1], [24, 24, 1], [24, 28, 1], [24, 12, 1], [24, 16, 1], [24, 20, 1], [24, 24, 1], [24, 28, 1], [24, 12, 1], [24, 16, 1], [24, 20, 1], [24, 24, 1], [24, 28, 1], [24, 12, 1], [24, 16, 1], [24, 20, 1], [24, 24, 1], [24, 28, 1]]\n",
      "[114.03666644574369, 113.82229254250612, 116.64118361012743, 114.85054715949794, 114.01393532209599, 110.45978810175747, 104.7279557232795, 103.80744082604812, 105.29614460532635, 100.72540147394068, 136.99255088855455, 133.9192772131934, 151.4326609700163, 150.86865427467876, 139.86466417368794, 109.26199817411998, 133.60159300759793, 139.51352088493226, 149.22272130646718, 145.7813580128199, 112.82762931868432, 115.07942833733428, 116.99491813887947, 111.55279496516054, 108.65436016803415, 101.25750430971958, 99.54367307888212, 100.61420069225044, 100.95105273327833, 98.31848675037219, 103.71279264456606, 107.79188330874354, 102.30693491072672, 109.51496894514656, 104.40410425841276, 139.68325862343684, 139.82154859690095, 159.12045783449008, 141.13834984825502, 149.28461939451134, 135.55771399329743, 134.15511009865406, 147.06674985528892, 139.88036863912023, 149.15340419824807, 114.08364584711312, 98.71357327224179, 106.94993432087652, 110.82898178551841, 108.66824155059332, 99.92163047607131, 101.61919266429639, 100.34431949807508, 100.87183716178417, 98.66162481821652, 100.84163287116883, 113.39685735362723, 109.11938446146328, 107.10253763493233, 102.2496406697052, 134.51616814139325, 154.91186241543292, 165.02663709921578, 148.65442413013213, 146.64495287556088]\n",
      "98.31848675037219\n",
      "[24, 28, 1]\n",
      "K is :  3\n",
      "[[24, 12, 1], [24, 16, 1], [24, 20, 1], [24, 24, 1], [24, 28, 1], [24, 12, 1], [24, 16, 1], [24, 20, 1], [24, 24, 1], [24, 28, 1], [24, 12, 1], [24, 16, 1], [24, 20, 1], [24, 24, 1], [24, 28, 1], [24, 12, 1], [24, 16, 1], [24, 20, 1], [24, 24, 1], [24, 28, 1], [24, 12, 1], [24, 16, 1], [24, 20, 1], [24, 24, 1], [24, 28, 1], [24, 12, 1], [24, 16, 1], [24, 20, 1], [24, 24, 1], [24, 28, 1], [24, 12, 1], [24, 16, 1], [24, 20, 1], [24, 24, 1], [24, 28, 1], [24, 12, 1], [24, 16, 1], [24, 20, 1], [24, 24, 1], [24, 28, 1], [24, 12, 1], [24, 16, 1], [24, 20, 1], [24, 24, 1], [24, 28, 1], [24, 12, 1], [24, 16, 1], [24, 20, 1], [24, 24, 1], [24, 28, 1], [24, 12, 1], [24, 16, 1], [24, 20, 1], [24, 24, 1], [24, 28, 1], [24, 12, 1], [24, 16, 1], [24, 20, 1], [24, 24, 1], [24, 28, 1], [24, 12, 1], [24, 16, 1], [24, 20, 1], [24, 24, 1], [24, 28, 1], [24, 12, 1], [24, 16, 1], [24, 20, 1], [24, 24, 1], [24, 28, 1]]\n",
      "[114.03666644574369, 113.82229254250612, 116.64118361012743, 114.85054715949794, 114.01393532209599, 110.45978810175747, 104.7279557232795, 103.80744082604812, 105.29614460532635, 100.72540147394068, 136.99255088855455, 133.9192772131934, 151.4326609700163, 150.86865427467876, 139.86466417368794, 109.26199817411998, 133.60159300759793, 139.51352088493226, 149.22272130646718, 145.7813580128199, 112.82762931868432, 115.07942833733428, 116.99491813887947, 111.55279496516054, 108.65436016803415, 101.25750430971958, 99.54367307888212, 100.61420069225044, 100.95105273327833, 98.31848675037219, 103.71279264456606, 107.79188330874354, 102.30693491072672, 109.51496894514656, 104.40410425841276, 139.68325862343684, 139.82154859690095, 159.12045783449008, 141.13834984825502, 149.28461939451134, 135.55771399329743, 134.15511009865406, 147.06674985528892, 139.88036863912023, 149.15340419824807, 114.08364584711312, 98.71357327224179, 106.94993432087652, 110.82898178551841, 108.66824155059332, 99.92163047607131, 101.61919266429639, 100.34431949807508, 100.87183716178417, 98.66162481821652, 100.84163287116883, 113.39685735362723, 109.11938446146328, 107.10253763493233, 102.2496406697052, 134.51616814139325, 154.91186241543292, 165.02663709921578, 148.65442413013213, 146.64495287556088, 146.56484419785508, 141.88222576949107, 131.7887672254849, 131.89346050073766, 151.13983543629473]\n",
      "98.31848675037219\n",
      "[24, 28, 1]\n",
      "K is :  4\n"
     ]
    },
    {
     "name": "stdout",
     "output_type": "stream",
     "text": [
      "[[24, 12, 1], [24, 16, 1], [24, 20, 1], [24, 24, 1], [24, 28, 1], [24, 12, 1], [24, 16, 1], [24, 20, 1], [24, 24, 1], [24, 28, 1], [24, 12, 1], [24, 16, 1], [24, 20, 1], [24, 24, 1], [24, 28, 1], [24, 12, 1], [24, 16, 1], [24, 20, 1], [24, 24, 1], [24, 28, 1], [24, 12, 1], [24, 16, 1], [24, 20, 1], [24, 24, 1], [24, 28, 1], [24, 12, 1], [24, 16, 1], [24, 20, 1], [24, 24, 1], [24, 28, 1], [24, 12, 1], [24, 16, 1], [24, 20, 1], [24, 24, 1], [24, 28, 1], [24, 12, 1], [24, 16, 1], [24, 20, 1], [24, 24, 1], [24, 28, 1], [24, 12, 1], [24, 16, 1], [24, 20, 1], [24, 24, 1], [24, 28, 1], [24, 12, 1], [24, 16, 1], [24, 20, 1], [24, 24, 1], [24, 28, 1], [24, 12, 1], [24, 16, 1], [24, 20, 1], [24, 24, 1], [24, 28, 1], [24, 12, 1], [24, 16, 1], [24, 20, 1], [24, 24, 1], [24, 28, 1], [24, 12, 1], [24, 16, 1], [24, 20, 1], [24, 24, 1], [24, 28, 1], [24, 12, 1], [24, 16, 1], [24, 20, 1], [24, 24, 1], [24, 28, 1], [24, 12, 1], [24, 16, 1], [24, 20, 1], [24, 24, 1], [24, 28, 1]]\n",
      "[114.03666644574369, 113.82229254250612, 116.64118361012743, 114.85054715949794, 114.01393532209599, 110.45978810175747, 104.7279557232795, 103.80744082604812, 105.29614460532635, 100.72540147394068, 136.99255088855455, 133.9192772131934, 151.4326609700163, 150.86865427467876, 139.86466417368794, 109.26199817411998, 133.60159300759793, 139.51352088493226, 149.22272130646718, 145.7813580128199, 112.82762931868432, 115.07942833733428, 116.99491813887947, 111.55279496516054, 108.65436016803415, 101.25750430971958, 99.54367307888212, 100.61420069225044, 100.95105273327833, 98.31848675037219, 103.71279264456606, 107.79188330874354, 102.30693491072672, 109.51496894514656, 104.40410425841276, 139.68325862343684, 139.82154859690095, 159.12045783449008, 141.13834984825502, 149.28461939451134, 135.55771399329743, 134.15511009865406, 147.06674985528892, 139.88036863912023, 149.15340419824807, 114.08364584711312, 98.71357327224179, 106.94993432087652, 110.82898178551841, 108.66824155059332, 99.92163047607131, 101.61919266429639, 100.34431949807508, 100.87183716178417, 98.66162481821652, 100.84163287116883, 113.39685735362723, 109.11938446146328, 107.10253763493233, 102.2496406697052, 134.51616814139325, 154.91186241543292, 165.02663709921578, 148.65442413013213, 146.64495287556088, 146.56484419785508, 141.88222576949107, 131.7887672254849, 131.89346050073766, 151.13983543629473, 104.82523770443274, 116.8579927162122, 114.14754993295475, 111.44668945101513, 111.38697693400191]\n",
      "98.31848675037219\n",
      "[24, 28, 1]\n",
      "[[24, 28, 1], [24, 28, 1], [24, 28, 1], [24, 28, 1], [24, 28, 1]]\n",
      "[98.31848675037219, 98.31848675037219, 98.31848675037219, 98.31848675037219, 98.31848675037219]\n",
      "[24, 12, 1]\n",
      "K is :  0\n",
      "[[24, 12, 1], [24, 16, 1], [24, 20, 1], [24, 24, 1], [24, 28, 1], [24, 12, 1], [24, 16, 1], [24, 20, 1], [24, 24, 1], [24, 28, 1], [24, 12, 1], [24, 16, 1], [24, 20, 1], [24, 24, 1], [24, 28, 1], [24, 12, 1], [24, 16, 1], [24, 20, 1], [24, 24, 1], [24, 28, 1], [24, 12, 1], [24, 16, 1], [24, 20, 1], [24, 24, 1], [24, 28, 1], [24, 12, 1], [24, 16, 1], [24, 20, 1], [24, 24, 1], [24, 28, 1], [24, 12, 1], [24, 16, 1], [24, 20, 1], [24, 24, 1], [24, 28, 1], [24, 12, 1], [24, 16, 1], [24, 20, 1], [24, 24, 1], [24, 28, 1], [24, 12, 1], [24, 16, 1], [24, 20, 1], [24, 24, 1], [24, 28, 1], [24, 12, 1], [24, 16, 1], [24, 20, 1], [24, 24, 1], [24, 28, 1], [24, 12, 1], [24, 16, 1], [24, 20, 1], [24, 24, 1], [24, 28, 1], [24, 12, 1], [24, 16, 1], [24, 20, 1], [24, 24, 1], [24, 28, 1], [24, 12, 1], [24, 16, 1], [24, 20, 1], [24, 24, 1], [24, 28, 1], [24, 12, 1], [24, 16, 1], [24, 20, 1], [24, 24, 1], [24, 28, 1], [24, 12, 1], [24, 16, 1], [24, 20, 1], [24, 24, 1], [24, 28, 1], [24, 12, 1], [24, 16, 1], [24, 20, 1], [24, 24, 1], [24, 28, 1]]\n",
      "[114.03666644574369, 113.82229254250612, 116.64118361012743, 114.85054715949794, 114.01393532209599, 110.45978810175747, 104.7279557232795, 103.80744082604812, 105.29614460532635, 100.72540147394068, 136.99255088855455, 133.9192772131934, 151.4326609700163, 150.86865427467876, 139.86466417368794, 109.26199817411998, 133.60159300759793, 139.51352088493226, 149.22272130646718, 145.7813580128199, 112.82762931868432, 115.07942833733428, 116.99491813887947, 111.55279496516054, 108.65436016803415, 101.25750430971958, 99.54367307888212, 100.61420069225044, 100.95105273327833, 98.31848675037219, 103.71279264456606, 107.79188330874354, 102.30693491072672, 109.51496894514656, 104.40410425841276, 139.68325862343684, 139.82154859690095, 159.12045783449008, 141.13834984825502, 149.28461939451134, 135.55771399329743, 134.15511009865406, 147.06674985528892, 139.88036863912023, 149.15340419824807, 114.08364584711312, 98.71357327224179, 106.94993432087652, 110.82898178551841, 108.66824155059332, 99.92163047607131, 101.61919266429639, 100.34431949807508, 100.87183716178417, 98.66162481821652, 100.84163287116883, 113.39685735362723, 109.11938446146328, 107.10253763493233, 102.2496406697052, 134.51616814139325, 154.91186241543292, 165.02663709921578, 148.65442413013213, 146.64495287556088, 146.56484419785508, 141.88222576949107, 131.7887672254849, 131.89346050073766, 151.13983543629473, 104.82523770443274, 116.8579927162122, 114.14754993295475, 111.44668945101513, 111.38697693400191, 100.80866038697523, 99.7753552316133, 99.49851615150409, 100.64914920571388, 101.03747607996256]\n",
      "98.31848675037219\n",
      "[24, 28, 1]\n",
      "K is :  1\n",
      "[[24, 12, 1], [24, 16, 1], [24, 20, 1], [24, 24, 1], [24, 28, 1], [24, 12, 1], [24, 16, 1], [24, 20, 1], [24, 24, 1], [24, 28, 1], [24, 12, 1], [24, 16, 1], [24, 20, 1], [24, 24, 1], [24, 28, 1], [24, 12, 1], [24, 16, 1], [24, 20, 1], [24, 24, 1], [24, 28, 1], [24, 12, 1], [24, 16, 1], [24, 20, 1], [24, 24, 1], [24, 28, 1], [24, 12, 1], [24, 16, 1], [24, 20, 1], [24, 24, 1], [24, 28, 1], [24, 12, 1], [24, 16, 1], [24, 20, 1], [24, 24, 1], [24, 28, 1], [24, 12, 1], [24, 16, 1], [24, 20, 1], [24, 24, 1], [24, 28, 1], [24, 12, 1], [24, 16, 1], [24, 20, 1], [24, 24, 1], [24, 28, 1], [24, 12, 1], [24, 16, 1], [24, 20, 1], [24, 24, 1], [24, 28, 1], [24, 12, 1], [24, 16, 1], [24, 20, 1], [24, 24, 1], [24, 28, 1], [24, 12, 1], [24, 16, 1], [24, 20, 1], [24, 24, 1], [24, 28, 1], [24, 12, 1], [24, 16, 1], [24, 20, 1], [24, 24, 1], [24, 28, 1], [24, 12, 1], [24, 16, 1], [24, 20, 1], [24, 24, 1], [24, 28, 1], [24, 12, 1], [24, 16, 1], [24, 20, 1], [24, 24, 1], [24, 28, 1], [24, 12, 1], [24, 16, 1], [24, 20, 1], [24, 24, 1], [24, 28, 1], [24, 12, 1], [24, 16, 1], [24, 20, 1], [24, 24, 1], [24, 28, 1]]\n",
      "[114.03666644574369, 113.82229254250612, 116.64118361012743, 114.85054715949794, 114.01393532209599, 110.45978810175747, 104.7279557232795, 103.80744082604812, 105.29614460532635, 100.72540147394068, 136.99255088855455, 133.9192772131934, 151.4326609700163, 150.86865427467876, 139.86466417368794, 109.26199817411998, 133.60159300759793, 139.51352088493226, 149.22272130646718, 145.7813580128199, 112.82762931868432, 115.07942833733428, 116.99491813887947, 111.55279496516054, 108.65436016803415, 101.25750430971958, 99.54367307888212, 100.61420069225044, 100.95105273327833, 98.31848675037219, 103.71279264456606, 107.79188330874354, 102.30693491072672, 109.51496894514656, 104.40410425841276, 139.68325862343684, 139.82154859690095, 159.12045783449008, 141.13834984825502, 149.28461939451134, 135.55771399329743, 134.15511009865406, 147.06674985528892, 139.88036863912023, 149.15340419824807, 114.08364584711312, 98.71357327224179, 106.94993432087652, 110.82898178551841, 108.66824155059332, 99.92163047607131, 101.61919266429639, 100.34431949807508, 100.87183716178417, 98.66162481821652, 100.84163287116883, 113.39685735362723, 109.11938446146328, 107.10253763493233, 102.2496406697052, 134.51616814139325, 154.91186241543292, 165.02663709921578, 148.65442413013213, 146.64495287556088, 146.56484419785508, 141.88222576949107, 131.7887672254849, 131.89346050073766, 151.13983543629473, 104.82523770443274, 116.8579927162122, 114.14754993295475, 111.44668945101513, 111.38697693400191, 100.80866038697523, 99.7753552316133, 99.49851615150409, 100.64914920571388, 101.03747607996256, 102.2114605298529, 105.99238902270537, 106.65474397160773, 102.37065494528278, 106.28728593650378]\n",
      "98.31848675037219\n",
      "[24, 28, 1]\n",
      "K is :  2\n",
      "[[24, 12, 1], [24, 16, 1], [24, 20, 1], [24, 24, 1], [24, 28, 1], [24, 12, 1], [24, 16, 1], [24, 20, 1], [24, 24, 1], [24, 28, 1], [24, 12, 1], [24, 16, 1], [24, 20, 1], [24, 24, 1], [24, 28, 1], [24, 12, 1], [24, 16, 1], [24, 20, 1], [24, 24, 1], [24, 28, 1], [24, 12, 1], [24, 16, 1], [24, 20, 1], [24, 24, 1], [24, 28, 1], [24, 12, 1], [24, 16, 1], [24, 20, 1], [24, 24, 1], [24, 28, 1], [24, 12, 1], [24, 16, 1], [24, 20, 1], [24, 24, 1], [24, 28, 1], [24, 12, 1], [24, 16, 1], [24, 20, 1], [24, 24, 1], [24, 28, 1], [24, 12, 1], [24, 16, 1], [24, 20, 1], [24, 24, 1], [24, 28, 1], [24, 12, 1], [24, 16, 1], [24, 20, 1], [24, 24, 1], [24, 28, 1], [24, 12, 1], [24, 16, 1], [24, 20, 1], [24, 24, 1], [24, 28, 1], [24, 12, 1], [24, 16, 1], [24, 20, 1], [24, 24, 1], [24, 28, 1], [24, 12, 1], [24, 16, 1], [24, 20, 1], [24, 24, 1], [24, 28, 1], [24, 12, 1], [24, 16, 1], [24, 20, 1], [24, 24, 1], [24, 28, 1], [24, 12, 1], [24, 16, 1], [24, 20, 1], [24, 24, 1], [24, 28, 1], [24, 12, 1], [24, 16, 1], [24, 20, 1], [24, 24, 1], [24, 28, 1], [24, 12, 1], [24, 16, 1], [24, 20, 1], [24, 24, 1], [24, 28, 1], [24, 12, 1], [24, 16, 1], [24, 20, 1], [24, 24, 1], [24, 28, 1]]\n",
      "[114.03666644574369, 113.82229254250612, 116.64118361012743, 114.85054715949794, 114.01393532209599, 110.45978810175747, 104.7279557232795, 103.80744082604812, 105.29614460532635, 100.72540147394068, 136.99255088855455, 133.9192772131934, 151.4326609700163, 150.86865427467876, 139.86466417368794, 109.26199817411998, 133.60159300759793, 139.51352088493226, 149.22272130646718, 145.7813580128199, 112.82762931868432, 115.07942833733428, 116.99491813887947, 111.55279496516054, 108.65436016803415, 101.25750430971958, 99.54367307888212, 100.61420069225044, 100.95105273327833, 98.31848675037219, 103.71279264456606, 107.79188330874354, 102.30693491072672, 109.51496894514656, 104.40410425841276, 139.68325862343684, 139.82154859690095, 159.12045783449008, 141.13834984825502, 149.28461939451134, 135.55771399329743, 134.15511009865406, 147.06674985528892, 139.88036863912023, 149.15340419824807, 114.08364584711312, 98.71357327224179, 106.94993432087652, 110.82898178551841, 108.66824155059332, 99.92163047607131, 101.61919266429639, 100.34431949807508, 100.87183716178417, 98.66162481821652, 100.84163287116883, 113.39685735362723, 109.11938446146328, 107.10253763493233, 102.2496406697052, 134.51616814139325, 154.91186241543292, 165.02663709921578, 148.65442413013213, 146.64495287556088, 146.56484419785508, 141.88222576949107, 131.7887672254849, 131.89346050073766, 151.13983543629473, 104.82523770443274, 116.8579927162122, 114.14754993295475, 111.44668945101513, 111.38697693400191, 100.80866038697523, 99.7753552316133, 99.49851615150409, 100.64914920571388, 101.03747607996256, 102.2114605298529, 105.99238902270537, 106.65474397160773, 102.37065494528278, 106.28728593650378, 149.78018058387036, 152.00466309058626, 155.8971472278315, 157.3182301968995, 151.33290915198216]\n",
      "98.31848675037219\n",
      "[24, 28, 1]\n",
      "K is :  3\n"
     ]
    },
    {
     "name": "stdout",
     "output_type": "stream",
     "text": [
      "[[24, 12, 1], [24, 16, 1], [24, 20, 1], [24, 24, 1], [24, 28, 1], [24, 12, 1], [24, 16, 1], [24, 20, 1], [24, 24, 1], [24, 28, 1], [24, 12, 1], [24, 16, 1], [24, 20, 1], [24, 24, 1], [24, 28, 1], [24, 12, 1], [24, 16, 1], [24, 20, 1], [24, 24, 1], [24, 28, 1], [24, 12, 1], [24, 16, 1], [24, 20, 1], [24, 24, 1], [24, 28, 1], [24, 12, 1], [24, 16, 1], [24, 20, 1], [24, 24, 1], [24, 28, 1], [24, 12, 1], [24, 16, 1], [24, 20, 1], [24, 24, 1], [24, 28, 1], [24, 12, 1], [24, 16, 1], [24, 20, 1], [24, 24, 1], [24, 28, 1], [24, 12, 1], [24, 16, 1], [24, 20, 1], [24, 24, 1], [24, 28, 1], [24, 12, 1], [24, 16, 1], [24, 20, 1], [24, 24, 1], [24, 28, 1], [24, 12, 1], [24, 16, 1], [24, 20, 1], [24, 24, 1], [24, 28, 1], [24, 12, 1], [24, 16, 1], [24, 20, 1], [24, 24, 1], [24, 28, 1], [24, 12, 1], [24, 16, 1], [24, 20, 1], [24, 24, 1], [24, 28, 1], [24, 12, 1], [24, 16, 1], [24, 20, 1], [24, 24, 1], [24, 28, 1], [24, 12, 1], [24, 16, 1], [24, 20, 1], [24, 24, 1], [24, 28, 1], [24, 12, 1], [24, 16, 1], [24, 20, 1], [24, 24, 1], [24, 28, 1], [24, 12, 1], [24, 16, 1], [24, 20, 1], [24, 24, 1], [24, 28, 1], [24, 12, 1], [24, 16, 1], [24, 20, 1], [24, 24, 1], [24, 28, 1], [24, 12, 1], [24, 16, 1], [24, 20, 1], [24, 24, 1], [24, 28, 1]]\n",
      "[114.03666644574369, 113.82229254250612, 116.64118361012743, 114.85054715949794, 114.01393532209599, 110.45978810175747, 104.7279557232795, 103.80744082604812, 105.29614460532635, 100.72540147394068, 136.99255088855455, 133.9192772131934, 151.4326609700163, 150.86865427467876, 139.86466417368794, 109.26199817411998, 133.60159300759793, 139.51352088493226, 149.22272130646718, 145.7813580128199, 112.82762931868432, 115.07942833733428, 116.99491813887947, 111.55279496516054, 108.65436016803415, 101.25750430971958, 99.54367307888212, 100.61420069225044, 100.95105273327833, 98.31848675037219, 103.71279264456606, 107.79188330874354, 102.30693491072672, 109.51496894514656, 104.40410425841276, 139.68325862343684, 139.82154859690095, 159.12045783449008, 141.13834984825502, 149.28461939451134, 135.55771399329743, 134.15511009865406, 147.06674985528892, 139.88036863912023, 149.15340419824807, 114.08364584711312, 98.71357327224179, 106.94993432087652, 110.82898178551841, 108.66824155059332, 99.92163047607131, 101.61919266429639, 100.34431949807508, 100.87183716178417, 98.66162481821652, 100.84163287116883, 113.39685735362723, 109.11938446146328, 107.10253763493233, 102.2496406697052, 134.51616814139325, 154.91186241543292, 165.02663709921578, 148.65442413013213, 146.64495287556088, 146.56484419785508, 141.88222576949107, 131.7887672254849, 131.89346050073766, 151.13983543629473, 104.82523770443274, 116.8579927162122, 114.14754993295475, 111.44668945101513, 111.38697693400191, 100.80866038697523, 99.7753552316133, 99.49851615150409, 100.64914920571388, 101.03747607996256, 102.2114605298529, 105.99238902270537, 106.65474397160773, 102.37065494528278, 106.28728593650378, 149.78018058387036, 152.00466309058626, 155.8971472278315, 157.3182301968995, 151.33290915198216, 111.69768743125222, 149.47028194316226, 137.4725954859333, 151.81161978172048, 156.43425913359735]\n",
      "98.31848675037219\n",
      "[24, 28, 1]\n",
      "K is :  4\n",
      "[[24, 12, 1], [24, 16, 1], [24, 20, 1], [24, 24, 1], [24, 28, 1], [24, 12, 1], [24, 16, 1], [24, 20, 1], [24, 24, 1], [24, 28, 1], [24, 12, 1], [24, 16, 1], [24, 20, 1], [24, 24, 1], [24, 28, 1], [24, 12, 1], [24, 16, 1], [24, 20, 1], [24, 24, 1], [24, 28, 1], [24, 12, 1], [24, 16, 1], [24, 20, 1], [24, 24, 1], [24, 28, 1], [24, 12, 1], [24, 16, 1], [24, 20, 1], [24, 24, 1], [24, 28, 1], [24, 12, 1], [24, 16, 1], [24, 20, 1], [24, 24, 1], [24, 28, 1], [24, 12, 1], [24, 16, 1], [24, 20, 1], [24, 24, 1], [24, 28, 1], [24, 12, 1], [24, 16, 1], [24, 20, 1], [24, 24, 1], [24, 28, 1], [24, 12, 1], [24, 16, 1], [24, 20, 1], [24, 24, 1], [24, 28, 1], [24, 12, 1], [24, 16, 1], [24, 20, 1], [24, 24, 1], [24, 28, 1], [24, 12, 1], [24, 16, 1], [24, 20, 1], [24, 24, 1], [24, 28, 1], [24, 12, 1], [24, 16, 1], [24, 20, 1], [24, 24, 1], [24, 28, 1], [24, 12, 1], [24, 16, 1], [24, 20, 1], [24, 24, 1], [24, 28, 1], [24, 12, 1], [24, 16, 1], [24, 20, 1], [24, 24, 1], [24, 28, 1], [24, 12, 1], [24, 16, 1], [24, 20, 1], [24, 24, 1], [24, 28, 1], [24, 12, 1], [24, 16, 1], [24, 20, 1], [24, 24, 1], [24, 28, 1], [24, 12, 1], [24, 16, 1], [24, 20, 1], [24, 24, 1], [24, 28, 1], [24, 12, 1], [24, 16, 1], [24, 20, 1], [24, 24, 1], [24, 28, 1], [24, 12, 1], [24, 16, 1], [24, 20, 1], [24, 24, 1], [24, 28, 1]]\n",
      "[114.03666644574369, 113.82229254250612, 116.64118361012743, 114.85054715949794, 114.01393532209599, 110.45978810175747, 104.7279557232795, 103.80744082604812, 105.29614460532635, 100.72540147394068, 136.99255088855455, 133.9192772131934, 151.4326609700163, 150.86865427467876, 139.86466417368794, 109.26199817411998, 133.60159300759793, 139.51352088493226, 149.22272130646718, 145.7813580128199, 112.82762931868432, 115.07942833733428, 116.99491813887947, 111.55279496516054, 108.65436016803415, 101.25750430971958, 99.54367307888212, 100.61420069225044, 100.95105273327833, 98.31848675037219, 103.71279264456606, 107.79188330874354, 102.30693491072672, 109.51496894514656, 104.40410425841276, 139.68325862343684, 139.82154859690095, 159.12045783449008, 141.13834984825502, 149.28461939451134, 135.55771399329743, 134.15511009865406, 147.06674985528892, 139.88036863912023, 149.15340419824807, 114.08364584711312, 98.71357327224179, 106.94993432087652, 110.82898178551841, 108.66824155059332, 99.92163047607131, 101.61919266429639, 100.34431949807508, 100.87183716178417, 98.66162481821652, 100.84163287116883, 113.39685735362723, 109.11938446146328, 107.10253763493233, 102.2496406697052, 134.51616814139325, 154.91186241543292, 165.02663709921578, 148.65442413013213, 146.64495287556088, 146.56484419785508, 141.88222576949107, 131.7887672254849, 131.89346050073766, 151.13983543629473, 104.82523770443274, 116.8579927162122, 114.14754993295475, 111.44668945101513, 111.38697693400191, 100.80866038697523, 99.7753552316133, 99.49851615150409, 100.64914920571388, 101.03747607996256, 102.2114605298529, 105.99238902270537, 106.65474397160773, 102.37065494528278, 106.28728593650378, 149.78018058387036, 152.00466309058626, 155.8971472278315, 157.3182301968995, 151.33290915198216, 111.69768743125222, 149.47028194316226, 137.4725954859333, 151.81161978172048, 156.43425913359735, 108.28856566205964, 105.24255691035356, 113.0087445837846, 109.77816208459868, 114.99741729713959]\n",
      "98.31848675037219\n",
      "[24, 28, 1]\n",
      "[[24, 28, 1], [24, 28, 1], [24, 28, 1], [24, 28, 1], [24, 28, 1]]\n",
      "[98.31848675037219, 98.31848675037219, 98.31848675037219, 98.31848675037219, 98.31848675037219]\n",
      "[24, 12, 1]\n",
      "K is :  0\n",
      "[[24, 12, 1], [24, 16, 1], [24, 20, 1], [24, 24, 1], [24, 28, 1], [24, 12, 1], [24, 16, 1], [24, 20, 1], [24, 24, 1], [24, 28, 1], [24, 12, 1], [24, 16, 1], [24, 20, 1], [24, 24, 1], [24, 28, 1], [24, 12, 1], [24, 16, 1], [24, 20, 1], [24, 24, 1], [24, 28, 1], [24, 12, 1], [24, 16, 1], [24, 20, 1], [24, 24, 1], [24, 28, 1], [24, 12, 1], [24, 16, 1], [24, 20, 1], [24, 24, 1], [24, 28, 1], [24, 12, 1], [24, 16, 1], [24, 20, 1], [24, 24, 1], [24, 28, 1], [24, 12, 1], [24, 16, 1], [24, 20, 1], [24, 24, 1], [24, 28, 1], [24, 12, 1], [24, 16, 1], [24, 20, 1], [24, 24, 1], [24, 28, 1], [24, 12, 1], [24, 16, 1], [24, 20, 1], [24, 24, 1], [24, 28, 1], [24, 12, 1], [24, 16, 1], [24, 20, 1], [24, 24, 1], [24, 28, 1], [24, 12, 1], [24, 16, 1], [24, 20, 1], [24, 24, 1], [24, 28, 1], [24, 12, 1], [24, 16, 1], [24, 20, 1], [24, 24, 1], [24, 28, 1], [24, 12, 1], [24, 16, 1], [24, 20, 1], [24, 24, 1], [24, 28, 1], [24, 12, 1], [24, 16, 1], [24, 20, 1], [24, 24, 1], [24, 28, 1], [24, 12, 1], [24, 16, 1], [24, 20, 1], [24, 24, 1], [24, 28, 1], [24, 12, 1], [24, 16, 1], [24, 20, 1], [24, 24, 1], [24, 28, 1], [24, 12, 1], [24, 16, 1], [24, 20, 1], [24, 24, 1], [24, 28, 1], [24, 12, 1], [24, 16, 1], [24, 20, 1], [24, 24, 1], [24, 28, 1], [24, 12, 1], [24, 16, 1], [24, 20, 1], [24, 24, 1], [24, 28, 1], [24, 12, 1], [24, 16, 1], [24, 20, 1], [24, 24, 1], [24, 28, 1]]\n",
      "[114.03666644574369, 113.82229254250612, 116.64118361012743, 114.85054715949794, 114.01393532209599, 110.45978810175747, 104.7279557232795, 103.80744082604812, 105.29614460532635, 100.72540147394068, 136.99255088855455, 133.9192772131934, 151.4326609700163, 150.86865427467876, 139.86466417368794, 109.26199817411998, 133.60159300759793, 139.51352088493226, 149.22272130646718, 145.7813580128199, 112.82762931868432, 115.07942833733428, 116.99491813887947, 111.55279496516054, 108.65436016803415, 101.25750430971958, 99.54367307888212, 100.61420069225044, 100.95105273327833, 98.31848675037219, 103.71279264456606, 107.79188330874354, 102.30693491072672, 109.51496894514656, 104.40410425841276, 139.68325862343684, 139.82154859690095, 159.12045783449008, 141.13834984825502, 149.28461939451134, 135.55771399329743, 134.15511009865406, 147.06674985528892, 139.88036863912023, 149.15340419824807, 114.08364584711312, 98.71357327224179, 106.94993432087652, 110.82898178551841, 108.66824155059332, 99.92163047607131, 101.61919266429639, 100.34431949807508, 100.87183716178417, 98.66162481821652, 100.84163287116883, 113.39685735362723, 109.11938446146328, 107.10253763493233, 102.2496406697052, 134.51616814139325, 154.91186241543292, 165.02663709921578, 148.65442413013213, 146.64495287556088, 146.56484419785508, 141.88222576949107, 131.7887672254849, 131.89346050073766, 151.13983543629473, 104.82523770443274, 116.8579927162122, 114.14754993295475, 111.44668945101513, 111.38697693400191, 100.80866038697523, 99.7753552316133, 99.49851615150409, 100.64914920571388, 101.03747607996256, 102.2114605298529, 105.99238902270537, 106.65474397160773, 102.37065494528278, 106.28728593650378, 149.78018058387036, 152.00466309058626, 155.8971472278315, 157.3182301968995, 151.33290915198216, 111.69768743125222, 149.47028194316226, 137.4725954859333, 151.81161978172048, 156.43425913359735, 108.28856566205964, 105.24255691035356, 113.0087445837846, 109.77816208459868, 114.99741729713959, 100.89926875763436, 100.33992918415176, 100.78066692109832, 100.45958084955562, 99.97633566087401]\n",
      "98.31848675037219\n",
      "[24, 28, 1]\n",
      "K is :  1\n"
     ]
    },
    {
     "name": "stdout",
     "output_type": "stream",
     "text": [
      "[[24, 12, 1], [24, 16, 1], [24, 20, 1], [24, 24, 1], [24, 28, 1], [24, 12, 1], [24, 16, 1], [24, 20, 1], [24, 24, 1], [24, 28, 1], [24, 12, 1], [24, 16, 1], [24, 20, 1], [24, 24, 1], [24, 28, 1], [24, 12, 1], [24, 16, 1], [24, 20, 1], [24, 24, 1], [24, 28, 1], [24, 12, 1], [24, 16, 1], [24, 20, 1], [24, 24, 1], [24, 28, 1], [24, 12, 1], [24, 16, 1], [24, 20, 1], [24, 24, 1], [24, 28, 1], [24, 12, 1], [24, 16, 1], [24, 20, 1], [24, 24, 1], [24, 28, 1], [24, 12, 1], [24, 16, 1], [24, 20, 1], [24, 24, 1], [24, 28, 1], [24, 12, 1], [24, 16, 1], [24, 20, 1], [24, 24, 1], [24, 28, 1], [24, 12, 1], [24, 16, 1], [24, 20, 1], [24, 24, 1], [24, 28, 1], [24, 12, 1], [24, 16, 1], [24, 20, 1], [24, 24, 1], [24, 28, 1], [24, 12, 1], [24, 16, 1], [24, 20, 1], [24, 24, 1], [24, 28, 1], [24, 12, 1], [24, 16, 1], [24, 20, 1], [24, 24, 1], [24, 28, 1], [24, 12, 1], [24, 16, 1], [24, 20, 1], [24, 24, 1], [24, 28, 1], [24, 12, 1], [24, 16, 1], [24, 20, 1], [24, 24, 1], [24, 28, 1], [24, 12, 1], [24, 16, 1], [24, 20, 1], [24, 24, 1], [24, 28, 1], [24, 12, 1], [24, 16, 1], [24, 20, 1], [24, 24, 1], [24, 28, 1], [24, 12, 1], [24, 16, 1], [24, 20, 1], [24, 24, 1], [24, 28, 1], [24, 12, 1], [24, 16, 1], [24, 20, 1], [24, 24, 1], [24, 28, 1], [24, 12, 1], [24, 16, 1], [24, 20, 1], [24, 24, 1], [24, 28, 1], [24, 12, 1], [24, 16, 1], [24, 20, 1], [24, 24, 1], [24, 28, 1], [24, 12, 1], [24, 16, 1], [24, 20, 1], [24, 24, 1], [24, 28, 1]]\n",
      "[114.03666644574369, 113.82229254250612, 116.64118361012743, 114.85054715949794, 114.01393532209599, 110.45978810175747, 104.7279557232795, 103.80744082604812, 105.29614460532635, 100.72540147394068, 136.99255088855455, 133.9192772131934, 151.4326609700163, 150.86865427467876, 139.86466417368794, 109.26199817411998, 133.60159300759793, 139.51352088493226, 149.22272130646718, 145.7813580128199, 112.82762931868432, 115.07942833733428, 116.99491813887947, 111.55279496516054, 108.65436016803415, 101.25750430971958, 99.54367307888212, 100.61420069225044, 100.95105273327833, 98.31848675037219, 103.71279264456606, 107.79188330874354, 102.30693491072672, 109.51496894514656, 104.40410425841276, 139.68325862343684, 139.82154859690095, 159.12045783449008, 141.13834984825502, 149.28461939451134, 135.55771399329743, 134.15511009865406, 147.06674985528892, 139.88036863912023, 149.15340419824807, 114.08364584711312, 98.71357327224179, 106.94993432087652, 110.82898178551841, 108.66824155059332, 99.92163047607131, 101.61919266429639, 100.34431949807508, 100.87183716178417, 98.66162481821652, 100.84163287116883, 113.39685735362723, 109.11938446146328, 107.10253763493233, 102.2496406697052, 134.51616814139325, 154.91186241543292, 165.02663709921578, 148.65442413013213, 146.64495287556088, 146.56484419785508, 141.88222576949107, 131.7887672254849, 131.89346050073766, 151.13983543629473, 104.82523770443274, 116.8579927162122, 114.14754993295475, 111.44668945101513, 111.38697693400191, 100.80866038697523, 99.7753552316133, 99.49851615150409, 100.64914920571388, 101.03747607996256, 102.2114605298529, 105.99238902270537, 106.65474397160773, 102.37065494528278, 106.28728593650378, 149.78018058387036, 152.00466309058626, 155.8971472278315, 157.3182301968995, 151.33290915198216, 111.69768743125222, 149.47028194316226, 137.4725954859333, 151.81161978172048, 156.43425913359735, 108.28856566205964, 105.24255691035356, 113.0087445837846, 109.77816208459868, 114.99741729713959, 100.89926875763436, 100.33992918415176, 100.78066692109832, 100.45958084955562, 99.97633566087401, 101.81655132120422, 101.92059213466926, 113.46956785057671, 112.87990137520195, 105.27302628816538]\n",
      "98.31848675037219\n",
      "[24, 28, 1]\n",
      "K is :  2\n",
      "[[24, 12, 1], [24, 16, 1], [24, 20, 1], [24, 24, 1], [24, 28, 1], [24, 12, 1], [24, 16, 1], [24, 20, 1], [24, 24, 1], [24, 28, 1], [24, 12, 1], [24, 16, 1], [24, 20, 1], [24, 24, 1], [24, 28, 1], [24, 12, 1], [24, 16, 1], [24, 20, 1], [24, 24, 1], [24, 28, 1], [24, 12, 1], [24, 16, 1], [24, 20, 1], [24, 24, 1], [24, 28, 1], [24, 12, 1], [24, 16, 1], [24, 20, 1], [24, 24, 1], [24, 28, 1], [24, 12, 1], [24, 16, 1], [24, 20, 1], [24, 24, 1], [24, 28, 1], [24, 12, 1], [24, 16, 1], [24, 20, 1], [24, 24, 1], [24, 28, 1], [24, 12, 1], [24, 16, 1], [24, 20, 1], [24, 24, 1], [24, 28, 1], [24, 12, 1], [24, 16, 1], [24, 20, 1], [24, 24, 1], [24, 28, 1], [24, 12, 1], [24, 16, 1], [24, 20, 1], [24, 24, 1], [24, 28, 1], [24, 12, 1], [24, 16, 1], [24, 20, 1], [24, 24, 1], [24, 28, 1], [24, 12, 1], [24, 16, 1], [24, 20, 1], [24, 24, 1], [24, 28, 1], [24, 12, 1], [24, 16, 1], [24, 20, 1], [24, 24, 1], [24, 28, 1], [24, 12, 1], [24, 16, 1], [24, 20, 1], [24, 24, 1], [24, 28, 1], [24, 12, 1], [24, 16, 1], [24, 20, 1], [24, 24, 1], [24, 28, 1], [24, 12, 1], [24, 16, 1], [24, 20, 1], [24, 24, 1], [24, 28, 1], [24, 12, 1], [24, 16, 1], [24, 20, 1], [24, 24, 1], [24, 28, 1], [24, 12, 1], [24, 16, 1], [24, 20, 1], [24, 24, 1], [24, 28, 1], [24, 12, 1], [24, 16, 1], [24, 20, 1], [24, 24, 1], [24, 28, 1], [24, 12, 1], [24, 16, 1], [24, 20, 1], [24, 24, 1], [24, 28, 1], [24, 12, 1], [24, 16, 1], [24, 20, 1], [24, 24, 1], [24, 28, 1], [24, 12, 1], [24, 16, 1], [24, 20, 1], [24, 24, 1], [24, 28, 1]]\n",
      "[114.03666644574369, 113.82229254250612, 116.64118361012743, 114.85054715949794, 114.01393532209599, 110.45978810175747, 104.7279557232795, 103.80744082604812, 105.29614460532635, 100.72540147394068, 136.99255088855455, 133.9192772131934, 151.4326609700163, 150.86865427467876, 139.86466417368794, 109.26199817411998, 133.60159300759793, 139.51352088493226, 149.22272130646718, 145.7813580128199, 112.82762931868432, 115.07942833733428, 116.99491813887947, 111.55279496516054, 108.65436016803415, 101.25750430971958, 99.54367307888212, 100.61420069225044, 100.95105273327833, 98.31848675037219, 103.71279264456606, 107.79188330874354, 102.30693491072672, 109.51496894514656, 104.40410425841276, 139.68325862343684, 139.82154859690095, 159.12045783449008, 141.13834984825502, 149.28461939451134, 135.55771399329743, 134.15511009865406, 147.06674985528892, 139.88036863912023, 149.15340419824807, 114.08364584711312, 98.71357327224179, 106.94993432087652, 110.82898178551841, 108.66824155059332, 99.92163047607131, 101.61919266429639, 100.34431949807508, 100.87183716178417, 98.66162481821652, 100.84163287116883, 113.39685735362723, 109.11938446146328, 107.10253763493233, 102.2496406697052, 134.51616814139325, 154.91186241543292, 165.02663709921578, 148.65442413013213, 146.64495287556088, 146.56484419785508, 141.88222576949107, 131.7887672254849, 131.89346050073766, 151.13983543629473, 104.82523770443274, 116.8579927162122, 114.14754993295475, 111.44668945101513, 111.38697693400191, 100.80866038697523, 99.7753552316133, 99.49851615150409, 100.64914920571388, 101.03747607996256, 102.2114605298529, 105.99238902270537, 106.65474397160773, 102.37065494528278, 106.28728593650378, 149.78018058387036, 152.00466309058626, 155.8971472278315, 157.3182301968995, 151.33290915198216, 111.69768743125222, 149.47028194316226, 137.4725954859333, 151.81161978172048, 156.43425913359735, 108.28856566205964, 105.24255691035356, 113.0087445837846, 109.77816208459868, 114.99741729713959, 100.89926875763436, 100.33992918415176, 100.78066692109832, 100.45958084955562, 99.97633566087401, 101.81655132120422, 101.92059213466926, 113.46956785057671, 112.87990137520195, 105.27302628816538, 146.9847057634347, 140.5887751116343, 138.1805232443377, 141.68405730167296, 141.32258645735456]\n",
      "98.31848675037219\n",
      "[24, 28, 1]\n",
      "K is :  3\n",
      "[[24, 12, 1], [24, 16, 1], [24, 20, 1], [24, 24, 1], [24, 28, 1], [24, 12, 1], [24, 16, 1], [24, 20, 1], [24, 24, 1], [24, 28, 1], [24, 12, 1], [24, 16, 1], [24, 20, 1], [24, 24, 1], [24, 28, 1], [24, 12, 1], [24, 16, 1], [24, 20, 1], [24, 24, 1], [24, 28, 1], [24, 12, 1], [24, 16, 1], [24, 20, 1], [24, 24, 1], [24, 28, 1], [24, 12, 1], [24, 16, 1], [24, 20, 1], [24, 24, 1], [24, 28, 1], [24, 12, 1], [24, 16, 1], [24, 20, 1], [24, 24, 1], [24, 28, 1], [24, 12, 1], [24, 16, 1], [24, 20, 1], [24, 24, 1], [24, 28, 1], [24, 12, 1], [24, 16, 1], [24, 20, 1], [24, 24, 1], [24, 28, 1], [24, 12, 1], [24, 16, 1], [24, 20, 1], [24, 24, 1], [24, 28, 1], [24, 12, 1], [24, 16, 1], [24, 20, 1], [24, 24, 1], [24, 28, 1], [24, 12, 1], [24, 16, 1], [24, 20, 1], [24, 24, 1], [24, 28, 1], [24, 12, 1], [24, 16, 1], [24, 20, 1], [24, 24, 1], [24, 28, 1], [24, 12, 1], [24, 16, 1], [24, 20, 1], [24, 24, 1], [24, 28, 1], [24, 12, 1], [24, 16, 1], [24, 20, 1], [24, 24, 1], [24, 28, 1], [24, 12, 1], [24, 16, 1], [24, 20, 1], [24, 24, 1], [24, 28, 1], [24, 12, 1], [24, 16, 1], [24, 20, 1], [24, 24, 1], [24, 28, 1], [24, 12, 1], [24, 16, 1], [24, 20, 1], [24, 24, 1], [24, 28, 1], [24, 12, 1], [24, 16, 1], [24, 20, 1], [24, 24, 1], [24, 28, 1], [24, 12, 1], [24, 16, 1], [24, 20, 1], [24, 24, 1], [24, 28, 1], [24, 12, 1], [24, 16, 1], [24, 20, 1], [24, 24, 1], [24, 28, 1], [24, 12, 1], [24, 16, 1], [24, 20, 1], [24, 24, 1], [24, 28, 1], [24, 12, 1], [24, 16, 1], [24, 20, 1], [24, 24, 1], [24, 28, 1], [24, 12, 1], [24, 16, 1], [24, 20, 1], [24, 24, 1], [24, 28, 1]]\n",
      "[114.03666644574369, 113.82229254250612, 116.64118361012743, 114.85054715949794, 114.01393532209599, 110.45978810175747, 104.7279557232795, 103.80744082604812, 105.29614460532635, 100.72540147394068, 136.99255088855455, 133.9192772131934, 151.4326609700163, 150.86865427467876, 139.86466417368794, 109.26199817411998, 133.60159300759793, 139.51352088493226, 149.22272130646718, 145.7813580128199, 112.82762931868432, 115.07942833733428, 116.99491813887947, 111.55279496516054, 108.65436016803415, 101.25750430971958, 99.54367307888212, 100.61420069225044, 100.95105273327833, 98.31848675037219, 103.71279264456606, 107.79188330874354, 102.30693491072672, 109.51496894514656, 104.40410425841276, 139.68325862343684, 139.82154859690095, 159.12045783449008, 141.13834984825502, 149.28461939451134, 135.55771399329743, 134.15511009865406, 147.06674985528892, 139.88036863912023, 149.15340419824807, 114.08364584711312, 98.71357327224179, 106.94993432087652, 110.82898178551841, 108.66824155059332, 99.92163047607131, 101.61919266429639, 100.34431949807508, 100.87183716178417, 98.66162481821652, 100.84163287116883, 113.39685735362723, 109.11938446146328, 107.10253763493233, 102.2496406697052, 134.51616814139325, 154.91186241543292, 165.02663709921578, 148.65442413013213, 146.64495287556088, 146.56484419785508, 141.88222576949107, 131.7887672254849, 131.89346050073766, 151.13983543629473, 104.82523770443274, 116.8579927162122, 114.14754993295475, 111.44668945101513, 111.38697693400191, 100.80866038697523, 99.7753552316133, 99.49851615150409, 100.64914920571388, 101.03747607996256, 102.2114605298529, 105.99238902270537, 106.65474397160773, 102.37065494528278, 106.28728593650378, 149.78018058387036, 152.00466309058626, 155.8971472278315, 157.3182301968995, 151.33290915198216, 111.69768743125222, 149.47028194316226, 137.4725954859333, 151.81161978172048, 156.43425913359735, 108.28856566205964, 105.24255691035356, 113.0087445837846, 109.77816208459868, 114.99741729713959, 100.89926875763436, 100.33992918415176, 100.78066692109832, 100.45958084955562, 99.97633566087401, 101.81655132120422, 101.92059213466926, 113.46956785057671, 112.87990137520195, 105.27302628816538, 146.9847057634347, 140.5887751116343, 138.1805232443377, 141.68405730167296, 141.32258645735456, 148.0640454513143, 136.16300671167795, 113.545202225603, 139.93684977112525, 150.89841879768744]\n",
      "98.31848675037219\n",
      "[24, 28, 1]\n",
      "K is :  4\n"
     ]
    },
    {
     "name": "stdout",
     "output_type": "stream",
     "text": [
      "[[24, 12, 1], [24, 16, 1], [24, 20, 1], [24, 24, 1], [24, 28, 1], [24, 12, 1], [24, 16, 1], [24, 20, 1], [24, 24, 1], [24, 28, 1], [24, 12, 1], [24, 16, 1], [24, 20, 1], [24, 24, 1], [24, 28, 1], [24, 12, 1], [24, 16, 1], [24, 20, 1], [24, 24, 1], [24, 28, 1], [24, 12, 1], [24, 16, 1], [24, 20, 1], [24, 24, 1], [24, 28, 1], [24, 12, 1], [24, 16, 1], [24, 20, 1], [24, 24, 1], [24, 28, 1], [24, 12, 1], [24, 16, 1], [24, 20, 1], [24, 24, 1], [24, 28, 1], [24, 12, 1], [24, 16, 1], [24, 20, 1], [24, 24, 1], [24, 28, 1], [24, 12, 1], [24, 16, 1], [24, 20, 1], [24, 24, 1], [24, 28, 1], [24, 12, 1], [24, 16, 1], [24, 20, 1], [24, 24, 1], [24, 28, 1], [24, 12, 1], [24, 16, 1], [24, 20, 1], [24, 24, 1], [24, 28, 1], [24, 12, 1], [24, 16, 1], [24, 20, 1], [24, 24, 1], [24, 28, 1], [24, 12, 1], [24, 16, 1], [24, 20, 1], [24, 24, 1], [24, 28, 1], [24, 12, 1], [24, 16, 1], [24, 20, 1], [24, 24, 1], [24, 28, 1], [24, 12, 1], [24, 16, 1], [24, 20, 1], [24, 24, 1], [24, 28, 1], [24, 12, 1], [24, 16, 1], [24, 20, 1], [24, 24, 1], [24, 28, 1], [24, 12, 1], [24, 16, 1], [24, 20, 1], [24, 24, 1], [24, 28, 1], [24, 12, 1], [24, 16, 1], [24, 20, 1], [24, 24, 1], [24, 28, 1], [24, 12, 1], [24, 16, 1], [24, 20, 1], [24, 24, 1], [24, 28, 1], [24, 12, 1], [24, 16, 1], [24, 20, 1], [24, 24, 1], [24, 28, 1], [24, 12, 1], [24, 16, 1], [24, 20, 1], [24, 24, 1], [24, 28, 1], [24, 12, 1], [24, 16, 1], [24, 20, 1], [24, 24, 1], [24, 28, 1], [24, 12, 1], [24, 16, 1], [24, 20, 1], [24, 24, 1], [24, 28, 1], [24, 12, 1], [24, 16, 1], [24, 20, 1], [24, 24, 1], [24, 28, 1], [24, 12, 1], [24, 16, 1], [24, 20, 1], [24, 24, 1], [24, 28, 1]]\n",
      "[114.03666644574369, 113.82229254250612, 116.64118361012743, 114.85054715949794, 114.01393532209599, 110.45978810175747, 104.7279557232795, 103.80744082604812, 105.29614460532635, 100.72540147394068, 136.99255088855455, 133.9192772131934, 151.4326609700163, 150.86865427467876, 139.86466417368794, 109.26199817411998, 133.60159300759793, 139.51352088493226, 149.22272130646718, 145.7813580128199, 112.82762931868432, 115.07942833733428, 116.99491813887947, 111.55279496516054, 108.65436016803415, 101.25750430971958, 99.54367307888212, 100.61420069225044, 100.95105273327833, 98.31848675037219, 103.71279264456606, 107.79188330874354, 102.30693491072672, 109.51496894514656, 104.40410425841276, 139.68325862343684, 139.82154859690095, 159.12045783449008, 141.13834984825502, 149.28461939451134, 135.55771399329743, 134.15511009865406, 147.06674985528892, 139.88036863912023, 149.15340419824807, 114.08364584711312, 98.71357327224179, 106.94993432087652, 110.82898178551841, 108.66824155059332, 99.92163047607131, 101.61919266429639, 100.34431949807508, 100.87183716178417, 98.66162481821652, 100.84163287116883, 113.39685735362723, 109.11938446146328, 107.10253763493233, 102.2496406697052, 134.51616814139325, 154.91186241543292, 165.02663709921578, 148.65442413013213, 146.64495287556088, 146.56484419785508, 141.88222576949107, 131.7887672254849, 131.89346050073766, 151.13983543629473, 104.82523770443274, 116.8579927162122, 114.14754993295475, 111.44668945101513, 111.38697693400191, 100.80866038697523, 99.7753552316133, 99.49851615150409, 100.64914920571388, 101.03747607996256, 102.2114605298529, 105.99238902270537, 106.65474397160773, 102.37065494528278, 106.28728593650378, 149.78018058387036, 152.00466309058626, 155.8971472278315, 157.3182301968995, 151.33290915198216, 111.69768743125222, 149.47028194316226, 137.4725954859333, 151.81161978172048, 156.43425913359735, 108.28856566205964, 105.24255691035356, 113.0087445837846, 109.77816208459868, 114.99741729713959, 100.89926875763436, 100.33992918415176, 100.78066692109832, 100.45958084955562, 99.97633566087401, 101.81655132120422, 101.92059213466926, 113.46956785057671, 112.87990137520195, 105.27302628816538, 146.9847057634347, 140.5887751116343, 138.1805232443377, 141.68405730167296, 141.32258645735456, 148.0640454513143, 136.16300671167795, 113.545202225603, 139.93684977112525, 150.89841879768744, 98.46481428249099, 107.91112641162707, 110.44856200306374, 118.65552352454921, 115.32808339692471]\n",
      "98.31848675037219\n",
      "[24, 28, 1]\n",
      "[[24, 28, 1], [24, 28, 1], [24, 28, 1], [24, 28, 1], [24, 28, 1]]\n",
      "[98.31848675037219, 98.31848675037219, 98.31848675037219, 98.31848675037219, 98.31848675037219]\n",
      "[24, 12, 1]\n"
     ]
    }
   ],
   "source": [
    "import warnings \n",
    "warnings.filterwarnings('ignore')\n",
    "models = [[24,12,1],[24,16,1],[24,20,1], [24,24,1], [24,28,1]]\n",
    "\n",
    "bestAccuracy,bestParam = cross_validatation(np.array(d1), np.array(dt), models)"
   ]
  },
  {
   "cell_type": "code",
   "execution_count": 61,
   "metadata": {},
   "outputs": [
    {
     "name": "stdout",
     "output_type": "stream",
     "text": [
      "[113.50525155250882, 103.70220482506318, 144.68469903221302, 137.55186097184904, 107.06347496590325] [[24, 12, 1], [24, 12, 1], [24, 12, 1], [24, 12, 1], [24, 12, 1], [24, 12, 1], [24, 12, 1], [24, 12, 1], [24, 12, 1], [24, 12, 1], [24, 16, 1], [24, 12, 1], [24, 12, 1], [24, 12, 1], [24, 12, 1]]\n"
     ]
    }
   ],
   "source": [
    "print(bestAccuracy,bestParam)\n",
    "from sklearn.model_selection import train_test_split\n",
    "from sklearn.metrics import mean_squared_error\n",
    "from sklearn.metrics import r2_score\n",
    "x_train, x_test, y_train, y_test = train_test_split(np.array(d1),np.array(dt), test_size=0.25, random_state=42)"
   ]
  },
  {
   "cell_type": "code",
   "execution_count": 75,
   "metadata": {},
   "outputs": [
    {
     "data": {
      "text/plain": [
       "{'w': array([-9.13821507e-02, -7.43196131e-02, -7.42934264e-02, -2.63324983e-02,\n",
       "        -1.70260659e-02, -8.22907557e-02, -6.01834897e-02,  1.72066370e-01,\n",
       "         6.12382072e-02,  4.07964468e-02,  1.63944551e-01, -1.03525471e-02,\n",
       "         2.61889655e-02, -4.19306200e-01,  5.50279775e-02, -1.01690439e-01,\n",
       "         2.17052181e-01, -1.15857490e-01,  2.11355631e-01,  5.06746216e-02,\n",
       "        -3.90839024e-01, -1.92919747e-03, -2.63322696e-02,  1.95098950e-01,\n",
       "         5.78862643e-03, -1.80351514e-01, -1.58266409e-02, -5.22738486e-02,\n",
       "        -1.42269674e-01,  2.48174082e-02,  3.77039383e-02, -2.97478851e-01,\n",
       "        -1.57491381e-01,  3.48294283e-03,  7.63839425e-02, -1.68791710e-01,\n",
       "        -3.10321755e-02,  1.06348975e-01, -2.69027183e-02,  2.33490842e-02,\n",
       "        -2.30711528e-02,  6.84147384e-02, -3.47341834e-02,  5.87614887e-01,\n",
       "         5.69066245e-02,  6.12122936e-02, -1.06994605e-01,  1.05049946e-02,\n",
       "         3.13368662e-02, -1.79295678e-01, -1.00282510e-01,  6.35998811e-02,\n",
       "        -9.48395036e-02, -5.28753605e-02, -1.50587181e-02, -9.29309772e-02,\n",
       "        -2.27649564e-01, -1.25499492e-02, -9.01874869e-02,  6.26444831e-02,\n",
       "        -5.62389985e-02,  1.53698639e-01,  3.09267861e-02, -7.69074542e-03,\n",
       "        -1.80248211e-01,  1.03477052e-02,  2.02955511e-01, -1.27576780e-01,\n",
       "         1.32423979e-01,  5.65201141e-02, -4.08239564e-02, -3.01188215e-01,\n",
       "        -5.65684636e-02, -2.01458559e-01, -6.29312273e-02, -7.21106598e-02,\n",
       "         3.33408456e-02, -5.40471650e-02,  2.98560050e-02,  9.13551454e-01,\n",
       "        -1.09030000e-01, -8.10277317e-02, -3.83438852e-02, -1.20705528e-01,\n",
       "         1.72213769e-02,  1.18663753e-01, -3.34304738e-03,  2.94263870e-02,\n",
       "         1.27555065e-01, -3.29691903e-03,  1.42950301e-01,  3.86248555e-01,\n",
       "         6.39101264e-02, -4.60252466e-02, -2.41378985e-02,  2.28627377e-01,\n",
       "         8.65437130e-02, -2.30784253e-01,  3.09072956e-02, -7.29920903e-03,\n",
       "         4.45227048e-02, -5.13101752e-02,  1.50896627e-01, -1.90531001e-01,\n",
       "        -3.04972031e-01, -6.32636238e-02,  6.61043987e-02, -1.54053747e-01,\n",
       "        -1.22148893e-02,  1.75714359e-01, -9.44220466e-02,  5.45463765e-02,\n",
       "        -1.03021878e-01,  5.03082355e-02, -1.57725552e-02, -1.34428732e-01,\n",
       "         1.08569236e-01, -7.50747529e-02, -1.00634413e-01,  1.34327600e-01,\n",
       "         1.43354648e-02, -1.03914943e-01,  8.88367090e-02, -1.87368566e-02,\n",
       "        -5.99240613e-02, -2.15774388e-02,  1.12820430e-01, -3.31952303e-01,\n",
       "        -8.63117480e-02, -1.99655613e-03, -5.19418209e-02, -1.70671747e-02,\n",
       "         4.62083764e-02, -1.50927681e-01,  2.02980489e-02,  7.50640006e-02,\n",
       "        -7.63636971e-02,  3.76961953e-02,  4.00367461e-02, -9.17579315e-02,\n",
       "        -8.77835850e-02, -5.40784114e-02,  5.75834785e-03,  1.38091195e-01,\n",
       "         1.01875726e-02,  4.52454452e-02, -2.27754340e-02, -2.91335545e-02,\n",
       "        -3.06636517e-02,  9.36701580e-02, -2.02917448e-02,  1.48247087e-01,\n",
       "        -1.90047853e-01,  9.01950581e-02, -1.32104267e-01, -3.73572231e-02,\n",
       "        -4.61926524e-02, -2.87972278e-02, -7.94288197e-02,  9.38000115e-02,\n",
       "         7.66369214e-03, -3.53012672e-03,  9.85933471e-02, -2.14764829e-01,\n",
       "         2.00063156e-02,  2.98361592e-02, -4.77085222e-02,  2.02688272e-01,\n",
       "         9.63478995e-02, -1.21971401e-01, -7.13624970e-02, -8.39088869e-02,\n",
       "         1.83145525e-02, -2.85970672e-02,  1.74336245e-02, -1.62972594e-02,\n",
       "        -6.09284976e-02, -4.76435151e-02, -2.61623827e-02, -2.02605382e-01,\n",
       "        -5.49520107e-02,  1.06885509e-01,  8.98354544e-02, -1.78725430e-02,\n",
       "         2.36432395e-02,  1.11932875e-02,  1.34059466e-01, -2.29819223e-01,\n",
       "         1.23748112e-01, -8.96652567e-02, -1.94620254e-02,  1.54205804e-01,\n",
       "         2.63863516e-02, -3.16883085e-01,  5.10401532e-02, -2.44602003e-02,\n",
       "        -1.34776546e-01, -8.15489169e-02,  7.55148038e-02,  1.47017263e-01,\n",
       "        -2.16991378e-01,  9.10503440e-02,  9.92722341e-03, -1.18937058e-01,\n",
       "        -6.73608673e-02,  1.72875870e-01, -6.26509310e-02,  3.34772107e-02,\n",
       "         1.36949554e-02,  3.13308914e-02,  9.48200081e-02, -1.43723987e-01,\n",
       "         2.04522958e-01, -1.01118052e-01,  1.47312369e-01,  7.16372138e-02,\n",
       "        -2.12077095e-02, -1.59884431e-01,  1.80135362e-03,  7.32872058e-03,\n",
       "        -1.76458575e-01, -1.04121153e-01, -2.50526764e-02, -2.34509462e-01,\n",
       "        -5.91550891e-02,  7.36587150e-02,  4.14186670e-02, -2.79030951e-01,\n",
       "         2.58229587e-02,  8.20694146e-02, -4.17758954e-02,  8.79377645e-02,\n",
       "        -3.03920730e-03, -5.64338246e-03,  3.41052975e-02,  4.68151105e-02,\n",
       "         2.62082046e-01,  9.00968904e-02,  6.89567536e-02,  3.91326943e-02,\n",
       "        -5.69075099e-03,  1.31705336e-02, -4.39827409e-02,  9.26226209e-02,\n",
       "         5.55205699e-02, -1.59995446e-02, -4.53744893e-02, -4.81670715e-02,\n",
       "        -8.09187814e-02, -8.01654514e-02, -1.87733003e-02,  3.57497281e-02,\n",
       "         7.19566320e-02, -1.45279570e-01, -2.88118695e-02, -8.97367004e-02,\n",
       "        -4.24425934e-02, -9.57176909e-02,  3.77709982e-02, -1.58320513e-01,\n",
       "        -1.73186261e-01,  7.94721178e-02,  6.39703496e-02,  1.99444388e-01,\n",
       "         4.59929092e-02,  2.14161134e-01, -2.95729876e-02,  2.09446066e-02,\n",
       "         7.45776956e-02, -6.02290689e-02, -8.22969164e-02,  8.92968352e-02,\n",
       "         1.58348439e-01, -6.64654033e-02, -8.32004500e-02, -2.51981930e-02,\n",
       "        -6.96307959e-02, -1.42847137e-02, -7.89232279e-02,  7.71088283e-02,\n",
       "        -3.47381646e-02,  1.23877352e-02,  1.36001248e-01,  2.73252453e-02,\n",
       "         6.65253661e-02,  1.76209584e-02, -6.85849238e-02,  7.42969850e-02,\n",
       "        -8.05385353e-02, -6.23232637e-02, -3.69050878e-02,  2.44310639e-04,\n",
       "        -1.29911215e-01,  5.09687828e-02,  1.00497438e-01, -3.21960743e-02,\n",
       "        -1.51749516e-01,  8.56291976e-02,  2.71611066e-02, -3.23697733e-02,\n",
       "        -9.47934501e-02,  1.93417850e-02, -1.28616150e-01, -5.48465217e-02,\n",
       "        -2.81595797e-02,  3.37460123e-01, -9.56953103e-02, -3.14083756e-01,\n",
       "         6.35290929e-01, -2.84488572e-01,  1.65410747e-01, -4.66582608e-01,\n",
       "         3.61935526e-01]),\n",
       " 'f': 0.4073769979196283,\n",
       " 'reason': 'reached limit of nIterations',\n",
       " 'wtrace': None,\n",
       " 'ftrace': None}"
      ]
     },
     "execution_count": 75,
     "metadata": {},
     "output_type": "execute_result"
    }
   ],
   "source": [
    "import warnings \n",
    "warnings.filterwarnings('ignore')\n",
    "model=NeuralNet([24,12,1])  \n",
    "model.train(x_train,y_train,niter=1000)"
   ]
  },
  {
   "cell_type": "code",
   "execution_count": 76,
   "metadata": {},
   "outputs": [],
   "source": [
    "y_p=model.use(x_test)"
   ]
  },
  {
   "cell_type": "code",
   "execution_count": 77,
   "metadata": {},
   "outputs": [
    {
     "name": "stdout",
     "output_type": "stream",
     "text": [
      "RMSE: 91.00218282373179\n"
     ]
    }
   ],
   "source": [
    "print('RMSE:', np.sqrt(mean_squared_error(y_test, y_p)))"
   ]
  },
  {
   "cell_type": "markdown",
   "metadata": {},
   "source": [
    "# Relu"
   ]
  },
  {
   "cell_type": "code",
   "execution_count": 65,
   "metadata": {},
   "outputs": [],
   "source": [
    "from grad import scg, steepest\n",
    "from copy import copy\n",
    "\n",
    "\n",
    "class NeuralNet:\n",
    "    \"\"\" neural network class for regression\n",
    "        \n",
    "        Parameters\n",
    "        ----------\n",
    "        nunits: list\n",
    "            the number of inputs, hidden units, and outputs\n",
    "\n",
    "        Methods\n",
    "        -------\n",
    "        set_hunit    \n",
    "            update/initiate weights\n",
    "\n",
    "        pack \n",
    "            pack multiple weights of each layer into one vector\n",
    "\n",
    "        forward\n",
    "            forward processing of neural network\n",
    "\n",
    "        backward\n",
    "            back-propagation of neural network\n",
    "\n",
    "        train\n",
    "            train the neural network\n",
    "\n",
    "        use\n",
    "            appply the trained network for prediction\n",
    "\n",
    "        Attributes\n",
    "        ----------\n",
    "        _nLayers\n",
    "            the number of hidden unit layers \n",
    "\n",
    "        rho\n",
    "            learning rate\n",
    "\n",
    "        _W\n",
    "            weights\n",
    "        _weights\n",
    "            weights in one dimension (_W is referencing _weight)\n",
    "\n",
    "        stdX\n",
    "            standardization class for data\n",
    "        stdT\n",
    "            standardization class for target\n",
    "\n",
    "        Notes\n",
    "        -----\n",
    "        \n",
    "    \"\"\"\n",
    "\n",
    "    def __init__(self, nunits):\n",
    "        self._nLayers=len(nunits)-1\n",
    "        self.rho = [1] * self._nLayers\n",
    "        self._W = []\n",
    "        wdims = []\n",
    "        lenweights = 0\n",
    "        for i in range(self._nLayers):\n",
    "            nwr = nunits[i] + 1\n",
    "            nwc = nunits[i+1]\n",
    "            wdims.append((nwr, nwc))\n",
    "            lenweights = lenweights + nwr * nwc\n",
    "\n",
    "        self._weights = np.random.uniform(-0.1,0.1, lenweights) \n",
    "        start = 0  # fixed index error 20110107\n",
    "        for i in range(self._nLayers):\n",
    "            end = start + wdims[i][0] * wdims[i][1] \n",
    "            self._W.append(self._weights[start:end])\n",
    "            self._W[i].resize(wdims[i])\n",
    "            start = end\n",
    "\n",
    "        self.stdX = None\n",
    "        self.stdT = None\n",
    "        self.stdTarget = True\n",
    "\n",
    "    def add_ones(self, w):\n",
    "        return np.hstack((np.ones((w.shape[0], 1)), w))\n",
    "\n",
    "    def get_nlayers(self):\n",
    "        return self._nLayers\n",
    "\n",
    "    def set_hunit(self, w):\n",
    "        for i in range(self._nLayers-1):\n",
    "            if w[i].shape != self._W[i].shape:\n",
    "                print(\"set_hunit: shapes do not match!\")\n",
    "                break\n",
    "            else:\n",
    "                self._W[i][:] = w[i][:]\n",
    "\n",
    "    def pack(self, w):\n",
    "        return np.hstack(map(np.ravel, w))\n",
    "\n",
    "    def unpack(self, weights):\n",
    "        self._weights[:] = weights[:]  # unpack\n",
    "\n",
    "    def cp_weight(self):\n",
    "        return copy(self._weights)\n",
    "\n",
    "    def RBF(self, X, m=None,s=None):\n",
    "        if m is None: m = np.mean(X)\n",
    "        if s is None: s = 2 #np.std(X)\n",
    "        r = 1. / (np.sqrt(2*np.pi)* s)  \n",
    "        return r * np.exp(-(X - m) ** 2 / (2 * s ** 2))\n",
    "    \n",
    "    def Sigma(self, X):\n",
    "        return (1/(1+(np.exp(-(X)))))\n",
    "    \n",
    "    def dSigma(self, X):\n",
    "        return ((np.exp(-x))/(1+(np.exp(-x)))^2)\n",
    "    \n",
    "    def ReLU(self, x):\n",
    "        return x * (x > 0)\n",
    "\n",
    "    def dReLU(self, x):\n",
    "        return 1. * (x > 0)\n",
    "\n",
    "    def forward(self,X):\n",
    "        t = X \n",
    "        Z = []\n",
    "\n",
    "        for i in range(self._nLayers):\n",
    "            Z.append(t) \n",
    "            if i == self._nLayers - 1:\n",
    "                t = np.dot(self.add_ones(t), self._W[i])\n",
    "            else:\n",
    "                t = self.ReLU(np.dot(self.add_ones(t), self._W[i]))\n",
    "                \n",
    "        return (t, Z)\n",
    "        \n",
    "    def backward(self, error, Z, T, lmb=0):\n",
    "        delta = error\n",
    "        N = T.size\n",
    "        dws = []\n",
    "        for i in range(self._nLayers - 1, -1, -1):\n",
    "            rh = float(self.rho[i]) / N\n",
    "            if i==0:\n",
    "                lmbterm = 0\n",
    "            else:\n",
    "                lmbterm = lmb * np.vstack((np.zeros((1, self._W[i].shape[1])),\n",
    "                            self._W[i][1:,]))\n",
    "                \n",
    "            #print(Z[i].T.shape)\n",
    "            dws.insert(0,(-rh * np.dot(self.add_ones(Z[i]).T, delta) + lmbterm))\n",
    "            if i != 0:\n",
    "                delta = np.dot(delta, self._W[i][1:, :].T) * (1. * Z[i])\n",
    "        return self.pack(dws)\n",
    "\n",
    "    def _errorf(self, T, Y):\n",
    "        return T - Y\n",
    "        \n",
    "    def _objectf(self, T, Y, wpenalty):\n",
    "        return 0.5 * np.mean(np.square(T - Y)) + wpenalty\n",
    "\n",
    "    def train(self, X, T, **params):\n",
    "\n",
    "        verbose = params.pop('verbose', False)\n",
    "        # training parameters\n",
    "        _lambda = params.pop('Lambda', 0.)\n",
    "\n",
    "        #parameters for scg\n",
    "        niter = params.pop('niter', 1000)\n",
    "        wprecision = params.pop('wprecision', 1e-10)\n",
    "        fprecision = params.pop('fprecision', 1e-10)\n",
    "        wtracep = params.pop('wtracep', False)\n",
    "        ftracep = params.pop('ftracep', False)\n",
    "\n",
    "        # optimization\n",
    "        optim = params.pop('optim', 'scg')\n",
    "\n",
    "        if self.stdX == None:\n",
    "            explore = params.pop('explore', False)\n",
    "            self.stdX = Standardizer(X, explore)\n",
    "        Xs = self.stdX.standardize(X)\n",
    "        if self.stdT == None and self.stdTarget:\n",
    "            self.stdT = Standardizer(T)\n",
    "            T = self.stdT.standardize(T)\n",
    "        \n",
    "        def gradientf(weights):\n",
    "            self.unpack(weights)\n",
    "            Y,Z = self.forward(Xs)\n",
    "            \n",
    "            error = self._errorf(T, Y)\n",
    "            return self.backward(error, Z, T, _lambda)\n",
    "            \n",
    "        def optimtargetf(weights):\n",
    "            \"\"\" optimization target function : MSE \n",
    "            \"\"\"\n",
    "            self.unpack(weights)\n",
    "            #self._weights[:] = weights[:]  # unpack\n",
    "            Y,_ = self.forward(Xs)\n",
    "            Wnb=np.array([])\n",
    "            for i in range(self._nLayers):\n",
    "                if len(Wnb)==0: Wnb=self._W[i][1:,].reshape(self._W[i].size-self._W[i][0,].size,1)\n",
    "                else: Wnb = np.vstack((Wnb,self._W[i][1:,].reshape(self._W[i].size-self._W[i][0,].size,1)))\n",
    "            wpenalty = _lambda * np.dot(Wnb.flat ,Wnb.flat)\n",
    "            return self._objectf(T, Y, wpenalty)\n",
    "\n",
    "        if optim == 'scg':\n",
    "            result = scg(self.cp_weight(), gradientf, optimtargetf,\n",
    "                                        wPrecision=wprecision, fPrecision=fprecision, \n",
    "                                        nIterations=niter,\n",
    "                                        wtracep=wtracep, ftracep=ftracep,\n",
    "                                        verbose=False)\n",
    "            self.unpack(result['w'][:])\n",
    "            self.f = result['f']\n",
    "        elif optim == 'steepest':\n",
    "            result = steepest(self.cp_weight(), gradientf, optimtargetf,\n",
    "                                nIterations=niter,\n",
    "                                xPrecision=wprecision, fPrecision=fprecision,\n",
    "                                xtracep=wtracep, ftracep=ftracep )\n",
    "            self.unpack(result['w'][:])\n",
    "        if ftracep:\n",
    "            self.ftrace = result['ftrace']\n",
    "        if 'reason' in result.keys() and verbose:\n",
    "            print(result['reason'])\n",
    "\n",
    "        return result\n",
    "\n",
    "    def use(self, X, retZ=False):\n",
    "        if self.stdX:\n",
    "            Xs = self.stdX.standardize(X)\n",
    "        else:\n",
    "            Xs = X\n",
    "        Y, Z = self.forward(Xs)\n",
    "        if self.stdT is not None:\n",
    "            Y = self.stdT.unstandardize(Y)\n",
    "        if retZ:\n",
    "            return Y, Z\n",
    "        return Y"
   ]
  },
  {
   "cell_type": "code",
   "execution_count": 66,
   "metadata": {},
   "outputs": [],
   "source": [
    "K=5\n",
    "nfold=0\n",
    "res=[]\n",
    "testErrs=[]\n",
    "def partition(x):\n",
    "    partition= len (x)//K\n",
    "    a=x[0:partition]\n",
    "    b=x[partition:partition*2]\n",
    "    c=x[partition*2:partition*3]\n",
    "    d=x[partition*3:partition*4]\n",
    "    e=x[partition*4:partition*5]\n",
    "    partdata = [a,b,c,d,e]\n",
    "    return partdata\n",
    "\n",
    "best_parameter=[]\n",
    "final=[]\n",
    "best_paramlist=[]\n",
    "\n",
    "def cross_validatation(X, Y, parameters):\n",
    "    x_parti = partition(X)\n",
    "    y_parti = partition(Y)\n",
    " \n",
    "    for i in range(K): \n",
    "        x_test = x_parti[i]\n",
    "        y_test = y_parti[i]\n",
    "        rmse=[]\n",
    "        params=[] \n",
    "        \n",
    "        for j in range(K): \n",
    "            print(\"K is : \",j) \n",
    "            x_i = x_parti[j]\n",
    "            y_i = y_parti[j]\n",
    "            x_train = x_parti[not i and not j]\n",
    "            y_train = y_parti[not i and not j]\n",
    "            \n",
    "            for param in parameters:\n",
    "                model = NeuralNet(param)\n",
    "                model.train(x_train, y_train)\n",
    "                predicted = model.use(x_i)\n",
    "                \n",
    "                err = np.sqrt(mean_squared_error(y_i, predicted))\n",
    "                testErrs.append(err)\n",
    "                res.append(param)\n",
    "                \n",
    "            print(res)\n",
    "            print(testErrs)\n",
    "            print(min(testErrs))\n",
    "            print(res[np.argmin(testErrs)])\n",
    "            rmse.append(min(testErrs))\n",
    "            params.append(res[np.argmin(testErrs)])\n",
    "         \n",
    "        print(params)\n",
    "        print(rmse)\n",
    "        print(res[np.argmin(rmse)])\n",
    "        bparameter=res[np.argmin(rmse)]\n",
    "        bmodel = NeuralNet(bparameter)\n",
    "        \n",
    "        x_train = x_parti[not i]\n",
    "        y_train = y_parti[not i]\n",
    "        bmodel.train(x_train, y_train)\n",
    "\n",
    "        fpred = bmodel.use(x_test)\n",
    "        ferr = np.sqrt(mean_squared_error(y_test,fpred))\n",
    "        final.append(ferr)\n",
    "        bparamlist.append(bparameter)\n",
    "\n",
    "    return final,bparamlist"
   ]
  },
  {
   "cell_type": "code",
   "execution_count": 67,
   "metadata": {
    "scrolled": false
   },
   "outputs": [
    {
     "name": "stdout",
     "output_type": "stream",
     "text": [
      "K is :  0\n",
      "[[24, 12, 1], [24, 16, 1], [24, 20, 1], [24, 24, 1], [24, 28, 1]]\n",
      "[142.88005934186586, 131.3975440657034, 138.83238905439646, 157.13663344921716, 154.8784330379361]\n",
      "131.3975440657034\n",
      "[24, 16, 1]\n",
      "K is :  1\n",
      "[[24, 12, 1], [24, 16, 1], [24, 20, 1], [24, 24, 1], [24, 28, 1], [24, 12, 1], [24, 16, 1], [24, 20, 1], [24, 24, 1], [24, 28, 1]]\n",
      "[142.88005934186586, 131.3975440657034, 138.83238905439646, 157.13663344921716, 154.8784330379361, 132.3117823805211, 116.04742804971852, 105.70569111698323, 100.259666131895, 118.74737819335147]\n",
      "100.259666131895\n",
      "[24, 24, 1]\n",
      "K is :  2\n",
      "[[24, 12, 1], [24, 16, 1], [24, 20, 1], [24, 24, 1], [24, 28, 1], [24, 12, 1], [24, 16, 1], [24, 20, 1], [24, 24, 1], [24, 28, 1], [24, 12, 1], [24, 16, 1], [24, 20, 1], [24, 24, 1], [24, 28, 1]]\n",
      "[142.88005934186586, 131.3975440657034, 138.83238905439646, 157.13663344921716, 154.8784330379361, 132.3117823805211, 116.04742804971852, 105.70569111698323, 100.259666131895, 118.74737819335147, 124.26433922180166, 102.1295985938467, 123.22113514400574, 148.14246152434268, 115.90463814758087]\n",
      "100.259666131895\n",
      "[24, 24, 1]\n",
      "K is :  3\n",
      "[[24, 12, 1], [24, 16, 1], [24, 20, 1], [24, 24, 1], [24, 28, 1], [24, 12, 1], [24, 16, 1], [24, 20, 1], [24, 24, 1], [24, 28, 1], [24, 12, 1], [24, 16, 1], [24, 20, 1], [24, 24, 1], [24, 28, 1], [24, 12, 1], [24, 16, 1], [24, 20, 1], [24, 24, 1], [24, 28, 1]]\n",
      "[142.88005934186586, 131.3975440657034, 138.83238905439646, 157.13663344921716, 154.8784330379361, 132.3117823805211, 116.04742804971852, 105.70569111698323, 100.259666131895, 118.74737819335147, 124.26433922180166, 102.1295985938467, 123.22113514400574, 148.14246152434268, 115.90463814758087, 125.80247217883907, 134.57957176998474, 157.91983915098984, 175.30496987867335, 150.15900805817373]\n",
      "100.259666131895\n",
      "[24, 24, 1]\n",
      "K is :  4\n",
      "[[24, 12, 1], [24, 16, 1], [24, 20, 1], [24, 24, 1], [24, 28, 1], [24, 12, 1], [24, 16, 1], [24, 20, 1], [24, 24, 1], [24, 28, 1], [24, 12, 1], [24, 16, 1], [24, 20, 1], [24, 24, 1], [24, 28, 1], [24, 12, 1], [24, 16, 1], [24, 20, 1], [24, 24, 1], [24, 28, 1], [24, 12, 1], [24, 16, 1], [24, 20, 1], [24, 24, 1], [24, 28, 1]]\n",
      "[142.88005934186586, 131.3975440657034, 138.83238905439646, 157.13663344921716, 154.8784330379361, 132.3117823805211, 116.04742804971852, 105.70569111698323, 100.259666131895, 118.74737819335147, 124.26433922180166, 102.1295985938467, 123.22113514400574, 148.14246152434268, 115.90463814758087, 125.80247217883907, 134.57957176998474, 157.91983915098984, 175.30496987867335, 150.15900805817373, 133.91236092533197, 170.0346691047059, 307.72989153537395, 200.1095509962998, 293.84271426496394]\n",
      "100.259666131895\n",
      "[24, 24, 1]\n",
      "[[24, 16, 1], [24, 24, 1], [24, 24, 1], [24, 24, 1], [24, 24, 1]]\n",
      "[131.3975440657034, 100.259666131895, 100.259666131895, 100.259666131895, 100.259666131895]\n",
      "[24, 16, 1]\n",
      "K is :  0\n",
      "[[24, 12, 1], [24, 16, 1], [24, 20, 1], [24, 24, 1], [24, 28, 1], [24, 12, 1], [24, 16, 1], [24, 20, 1], [24, 24, 1], [24, 28, 1], [24, 12, 1], [24, 16, 1], [24, 20, 1], [24, 24, 1], [24, 28, 1], [24, 12, 1], [24, 16, 1], [24, 20, 1], [24, 24, 1], [24, 28, 1], [24, 12, 1], [24, 16, 1], [24, 20, 1], [24, 24, 1], [24, 28, 1], [24, 12, 1], [24, 16, 1], [24, 20, 1], [24, 24, 1], [24, 28, 1]]\n",
      "[142.88005934186586, 131.3975440657034, 138.83238905439646, 157.13663344921716, 154.8784330379361, 132.3117823805211, 116.04742804971852, 105.70569111698323, 100.259666131895, 118.74737819335147, 124.26433922180166, 102.1295985938467, 123.22113514400574, 148.14246152434268, 115.90463814758087, 125.80247217883907, 134.57957176998474, 157.91983915098984, 175.30496987867335, 150.15900805817373, 133.91236092533197, 170.0346691047059, 307.72989153537395, 200.1095509962998, 293.84271426496394, 93.60704800125066, 99.09112297358335, 94.23145757070895, 105.04919723215417, 94.92894124375503]\n",
      "93.60704800125066\n",
      "[24, 12, 1]\n",
      "K is :  1\n",
      "[[24, 12, 1], [24, 16, 1], [24, 20, 1], [24, 24, 1], [24, 28, 1], [24, 12, 1], [24, 16, 1], [24, 20, 1], [24, 24, 1], [24, 28, 1], [24, 12, 1], [24, 16, 1], [24, 20, 1], [24, 24, 1], [24, 28, 1], [24, 12, 1], [24, 16, 1], [24, 20, 1], [24, 24, 1], [24, 28, 1], [24, 12, 1], [24, 16, 1], [24, 20, 1], [24, 24, 1], [24, 28, 1], [24, 12, 1], [24, 16, 1], [24, 20, 1], [24, 24, 1], [24, 28, 1], [24, 12, 1], [24, 16, 1], [24, 20, 1], [24, 24, 1], [24, 28, 1]]\n",
      "[142.88005934186586, 131.3975440657034, 138.83238905439646, 157.13663344921716, 154.8784330379361, 132.3117823805211, 116.04742804971852, 105.70569111698323, 100.259666131895, 118.74737819335147, 124.26433922180166, 102.1295985938467, 123.22113514400574, 148.14246152434268, 115.90463814758087, 125.80247217883907, 134.57957176998474, 157.91983915098984, 175.30496987867335, 150.15900805817373, 133.91236092533197, 170.0346691047059, 307.72989153537395, 200.1095509962998, 293.84271426496394, 93.60704800125066, 99.09112297358335, 94.23145757070895, 105.04919723215417, 94.92894124375503, 108.86318056416809, 105.28176310620877, 106.21853488048731, 107.88007460931365, 133.55795448328567]\n",
      "93.60704800125066\n",
      "[24, 12, 1]\n",
      "K is :  2\n",
      "[[24, 12, 1], [24, 16, 1], [24, 20, 1], [24, 24, 1], [24, 28, 1], [24, 12, 1], [24, 16, 1], [24, 20, 1], [24, 24, 1], [24, 28, 1], [24, 12, 1], [24, 16, 1], [24, 20, 1], [24, 24, 1], [24, 28, 1], [24, 12, 1], [24, 16, 1], [24, 20, 1], [24, 24, 1], [24, 28, 1], [24, 12, 1], [24, 16, 1], [24, 20, 1], [24, 24, 1], [24, 28, 1], [24, 12, 1], [24, 16, 1], [24, 20, 1], [24, 24, 1], [24, 28, 1], [24, 12, 1], [24, 16, 1], [24, 20, 1], [24, 24, 1], [24, 28, 1], [24, 12, 1], [24, 16, 1], [24, 20, 1], [24, 24, 1], [24, 28, 1]]\n",
      "[142.88005934186586, 131.3975440657034, 138.83238905439646, 157.13663344921716, 154.8784330379361, 132.3117823805211, 116.04742804971852, 105.70569111698323, 100.259666131895, 118.74737819335147, 124.26433922180166, 102.1295985938467, 123.22113514400574, 148.14246152434268, 115.90463814758087, 125.80247217883907, 134.57957176998474, 157.91983915098984, 175.30496987867335, 150.15900805817373, 133.91236092533197, 170.0346691047059, 307.72989153537395, 200.1095509962998, 293.84271426496394, 93.60704800125066, 99.09112297358335, 94.23145757070895, 105.04919723215417, 94.92894124375503, 108.86318056416809, 105.28176310620877, 106.21853488048731, 107.88007460931365, 133.55795448328567, 128.4221645279152, 97.3092609851085, 101.51818032206073, 126.98169683678668, 187.62913383764283]\n",
      "93.60704800125066\n",
      "[24, 12, 1]\n",
      "K is :  3\n",
      "[[24, 12, 1], [24, 16, 1], [24, 20, 1], [24, 24, 1], [24, 28, 1], [24, 12, 1], [24, 16, 1], [24, 20, 1], [24, 24, 1], [24, 28, 1], [24, 12, 1], [24, 16, 1], [24, 20, 1], [24, 24, 1], [24, 28, 1], [24, 12, 1], [24, 16, 1], [24, 20, 1], [24, 24, 1], [24, 28, 1], [24, 12, 1], [24, 16, 1], [24, 20, 1], [24, 24, 1], [24, 28, 1], [24, 12, 1], [24, 16, 1], [24, 20, 1], [24, 24, 1], [24, 28, 1], [24, 12, 1], [24, 16, 1], [24, 20, 1], [24, 24, 1], [24, 28, 1], [24, 12, 1], [24, 16, 1], [24, 20, 1], [24, 24, 1], [24, 28, 1], [24, 12, 1], [24, 16, 1], [24, 20, 1], [24, 24, 1], [24, 28, 1]]\n",
      "[142.88005934186586, 131.3975440657034, 138.83238905439646, 157.13663344921716, 154.8784330379361, 132.3117823805211, 116.04742804971852, 105.70569111698323, 100.259666131895, 118.74737819335147, 124.26433922180166, 102.1295985938467, 123.22113514400574, 148.14246152434268, 115.90463814758087, 125.80247217883907, 134.57957176998474, 157.91983915098984, 175.30496987867335, 150.15900805817373, 133.91236092533197, 170.0346691047059, 307.72989153537395, 200.1095509962998, 293.84271426496394, 93.60704800125066, 99.09112297358335, 94.23145757070895, 105.04919723215417, 94.92894124375503, 108.86318056416809, 105.28176310620877, 106.21853488048731, 107.88007460931365, 133.55795448328567, 128.4221645279152, 97.3092609851085, 101.51818032206073, 126.98169683678668, 187.62913383764283, 150.73599592278075, 100.26228954174758, 119.93122528282487, 179.81441102943617, 268.2019161758634]\n",
      "93.60704800125066\n",
      "[24, 12, 1]\n",
      "K is :  4\n",
      "[[24, 12, 1], [24, 16, 1], [24, 20, 1], [24, 24, 1], [24, 28, 1], [24, 12, 1], [24, 16, 1], [24, 20, 1], [24, 24, 1], [24, 28, 1], [24, 12, 1], [24, 16, 1], [24, 20, 1], [24, 24, 1], [24, 28, 1], [24, 12, 1], [24, 16, 1], [24, 20, 1], [24, 24, 1], [24, 28, 1], [24, 12, 1], [24, 16, 1], [24, 20, 1], [24, 24, 1], [24, 28, 1], [24, 12, 1], [24, 16, 1], [24, 20, 1], [24, 24, 1], [24, 28, 1], [24, 12, 1], [24, 16, 1], [24, 20, 1], [24, 24, 1], [24, 28, 1], [24, 12, 1], [24, 16, 1], [24, 20, 1], [24, 24, 1], [24, 28, 1], [24, 12, 1], [24, 16, 1], [24, 20, 1], [24, 24, 1], [24, 28, 1], [24, 12, 1], [24, 16, 1], [24, 20, 1], [24, 24, 1], [24, 28, 1]]\n",
      "[142.88005934186586, 131.3975440657034, 138.83238905439646, 157.13663344921716, 154.8784330379361, 132.3117823805211, 116.04742804971852, 105.70569111698323, 100.259666131895, 118.74737819335147, 124.26433922180166, 102.1295985938467, 123.22113514400574, 148.14246152434268, 115.90463814758087, 125.80247217883907, 134.57957176998474, 157.91983915098984, 175.30496987867335, 150.15900805817373, 133.91236092533197, 170.0346691047059, 307.72989153537395, 200.1095509962998, 293.84271426496394, 93.60704800125066, 99.09112297358335, 94.23145757070895, 105.04919723215417, 94.92894124375503, 108.86318056416809, 105.28176310620877, 106.21853488048731, 107.88007460931365, 133.55795448328567, 128.4221645279152, 97.3092609851085, 101.51818032206073, 126.98169683678668, 187.62913383764283, 150.73599592278075, 100.26228954174758, 119.93122528282487, 179.81441102943617, 268.2019161758634, 111.94401604006903, 207.95279458110966, 133.90604018880387, 302.7885555000764, 238.99095496017375]\n",
      "93.60704800125066\n",
      "[24, 12, 1]\n",
      "[[24, 12, 1], [24, 12, 1], [24, 12, 1], [24, 12, 1], [24, 12, 1]]\n",
      "[93.60704800125066, 93.60704800125066, 93.60704800125066, 93.60704800125066, 93.60704800125066]\n",
      "[24, 12, 1]\n"
     ]
    },
    {
     "name": "stdout",
     "output_type": "stream",
     "text": [
      "K is :  0\n",
      "[[24, 12, 1], [24, 16, 1], [24, 20, 1], [24, 24, 1], [24, 28, 1], [24, 12, 1], [24, 16, 1], [24, 20, 1], [24, 24, 1], [24, 28, 1], [24, 12, 1], [24, 16, 1], [24, 20, 1], [24, 24, 1], [24, 28, 1], [24, 12, 1], [24, 16, 1], [24, 20, 1], [24, 24, 1], [24, 28, 1], [24, 12, 1], [24, 16, 1], [24, 20, 1], [24, 24, 1], [24, 28, 1], [24, 12, 1], [24, 16, 1], [24, 20, 1], [24, 24, 1], [24, 28, 1], [24, 12, 1], [24, 16, 1], [24, 20, 1], [24, 24, 1], [24, 28, 1], [24, 12, 1], [24, 16, 1], [24, 20, 1], [24, 24, 1], [24, 28, 1], [24, 12, 1], [24, 16, 1], [24, 20, 1], [24, 24, 1], [24, 28, 1], [24, 12, 1], [24, 16, 1], [24, 20, 1], [24, 24, 1], [24, 28, 1], [24, 12, 1], [24, 16, 1], [24, 20, 1], [24, 24, 1], [24, 28, 1]]\n",
      "[142.88005934186586, 131.3975440657034, 138.83238905439646, 157.13663344921716, 154.8784330379361, 132.3117823805211, 116.04742804971852, 105.70569111698323, 100.259666131895, 118.74737819335147, 124.26433922180166, 102.1295985938467, 123.22113514400574, 148.14246152434268, 115.90463814758087, 125.80247217883907, 134.57957176998474, 157.91983915098984, 175.30496987867335, 150.15900805817373, 133.91236092533197, 170.0346691047059, 307.72989153537395, 200.1095509962998, 293.84271426496394, 93.60704800125066, 99.09112297358335, 94.23145757070895, 105.04919723215417, 94.92894124375503, 108.86318056416809, 105.28176310620877, 106.21853488048731, 107.88007460931365, 133.55795448328567, 128.4221645279152, 97.3092609851085, 101.51818032206073, 126.98169683678668, 187.62913383764283, 150.73599592278075, 100.26228954174758, 119.93122528282487, 179.81441102943617, 268.2019161758634, 111.94401604006903, 207.95279458110966, 133.90604018880387, 302.7885555000764, 238.99095496017375, 95.3600699978421, 94.47777724509999, 99.50651892253111, 95.23933199771777, 97.22106335811196]\n",
      "93.60704800125066\n",
      "[24, 12, 1]\n",
      "K is :  1\n",
      "[[24, 12, 1], [24, 16, 1], [24, 20, 1], [24, 24, 1], [24, 28, 1], [24, 12, 1], [24, 16, 1], [24, 20, 1], [24, 24, 1], [24, 28, 1], [24, 12, 1], [24, 16, 1], [24, 20, 1], [24, 24, 1], [24, 28, 1], [24, 12, 1], [24, 16, 1], [24, 20, 1], [24, 24, 1], [24, 28, 1], [24, 12, 1], [24, 16, 1], [24, 20, 1], [24, 24, 1], [24, 28, 1], [24, 12, 1], [24, 16, 1], [24, 20, 1], [24, 24, 1], [24, 28, 1], [24, 12, 1], [24, 16, 1], [24, 20, 1], [24, 24, 1], [24, 28, 1], [24, 12, 1], [24, 16, 1], [24, 20, 1], [24, 24, 1], [24, 28, 1], [24, 12, 1], [24, 16, 1], [24, 20, 1], [24, 24, 1], [24, 28, 1], [24, 12, 1], [24, 16, 1], [24, 20, 1], [24, 24, 1], [24, 28, 1], [24, 12, 1], [24, 16, 1], [24, 20, 1], [24, 24, 1], [24, 28, 1], [24, 12, 1], [24, 16, 1], [24, 20, 1], [24, 24, 1], [24, 28, 1]]\n",
      "[142.88005934186586, 131.3975440657034, 138.83238905439646, 157.13663344921716, 154.8784330379361, 132.3117823805211, 116.04742804971852, 105.70569111698323, 100.259666131895, 118.74737819335147, 124.26433922180166, 102.1295985938467, 123.22113514400574, 148.14246152434268, 115.90463814758087, 125.80247217883907, 134.57957176998474, 157.91983915098984, 175.30496987867335, 150.15900805817373, 133.91236092533197, 170.0346691047059, 307.72989153537395, 200.1095509962998, 293.84271426496394, 93.60704800125066, 99.09112297358335, 94.23145757070895, 105.04919723215417, 94.92894124375503, 108.86318056416809, 105.28176310620877, 106.21853488048731, 107.88007460931365, 133.55795448328567, 128.4221645279152, 97.3092609851085, 101.51818032206073, 126.98169683678668, 187.62913383764283, 150.73599592278075, 100.26228954174758, 119.93122528282487, 179.81441102943617, 268.2019161758634, 111.94401604006903, 207.95279458110966, 133.90604018880387, 302.7885555000764, 238.99095496017375, 95.3600699978421, 94.47777724509999, 99.50651892253111, 95.23933199771777, 97.22106335811196, 124.21021349087037, 116.85608018327979, 103.93347666819506, 116.76351213092543, 115.4161684583512]\n",
      "93.60704800125066\n",
      "[24, 12, 1]\n",
      "K is :  2\n",
      "[[24, 12, 1], [24, 16, 1], [24, 20, 1], [24, 24, 1], [24, 28, 1], [24, 12, 1], [24, 16, 1], [24, 20, 1], [24, 24, 1], [24, 28, 1], [24, 12, 1], [24, 16, 1], [24, 20, 1], [24, 24, 1], [24, 28, 1], [24, 12, 1], [24, 16, 1], [24, 20, 1], [24, 24, 1], [24, 28, 1], [24, 12, 1], [24, 16, 1], [24, 20, 1], [24, 24, 1], [24, 28, 1], [24, 12, 1], [24, 16, 1], [24, 20, 1], [24, 24, 1], [24, 28, 1], [24, 12, 1], [24, 16, 1], [24, 20, 1], [24, 24, 1], [24, 28, 1], [24, 12, 1], [24, 16, 1], [24, 20, 1], [24, 24, 1], [24, 28, 1], [24, 12, 1], [24, 16, 1], [24, 20, 1], [24, 24, 1], [24, 28, 1], [24, 12, 1], [24, 16, 1], [24, 20, 1], [24, 24, 1], [24, 28, 1], [24, 12, 1], [24, 16, 1], [24, 20, 1], [24, 24, 1], [24, 28, 1], [24, 12, 1], [24, 16, 1], [24, 20, 1], [24, 24, 1], [24, 28, 1], [24, 12, 1], [24, 16, 1], [24, 20, 1], [24, 24, 1], [24, 28, 1]]\n",
      "[142.88005934186586, 131.3975440657034, 138.83238905439646, 157.13663344921716, 154.8784330379361, 132.3117823805211, 116.04742804971852, 105.70569111698323, 100.259666131895, 118.74737819335147, 124.26433922180166, 102.1295985938467, 123.22113514400574, 148.14246152434268, 115.90463814758087, 125.80247217883907, 134.57957176998474, 157.91983915098984, 175.30496987867335, 150.15900805817373, 133.91236092533197, 170.0346691047059, 307.72989153537395, 200.1095509962998, 293.84271426496394, 93.60704800125066, 99.09112297358335, 94.23145757070895, 105.04919723215417, 94.92894124375503, 108.86318056416809, 105.28176310620877, 106.21853488048731, 107.88007460931365, 133.55795448328567, 128.4221645279152, 97.3092609851085, 101.51818032206073, 126.98169683678668, 187.62913383764283, 150.73599592278075, 100.26228954174758, 119.93122528282487, 179.81441102943617, 268.2019161758634, 111.94401604006903, 207.95279458110966, 133.90604018880387, 302.7885555000764, 238.99095496017375, 95.3600699978421, 94.47777724509999, 99.50651892253111, 95.23933199771777, 97.22106335811196, 124.21021349087037, 116.85608018327979, 103.93347666819506, 116.76351213092543, 115.4161684583512, 155.5484260458424, 107.64679115882181, 165.04190693612668, 107.82131297436979, 102.34871140133562]\n",
      "93.60704800125066\n",
      "[24, 12, 1]\n",
      "K is :  3\n",
      "[[24, 12, 1], [24, 16, 1], [24, 20, 1], [24, 24, 1], [24, 28, 1], [24, 12, 1], [24, 16, 1], [24, 20, 1], [24, 24, 1], [24, 28, 1], [24, 12, 1], [24, 16, 1], [24, 20, 1], [24, 24, 1], [24, 28, 1], [24, 12, 1], [24, 16, 1], [24, 20, 1], [24, 24, 1], [24, 28, 1], [24, 12, 1], [24, 16, 1], [24, 20, 1], [24, 24, 1], [24, 28, 1], [24, 12, 1], [24, 16, 1], [24, 20, 1], [24, 24, 1], [24, 28, 1], [24, 12, 1], [24, 16, 1], [24, 20, 1], [24, 24, 1], [24, 28, 1], [24, 12, 1], [24, 16, 1], [24, 20, 1], [24, 24, 1], [24, 28, 1], [24, 12, 1], [24, 16, 1], [24, 20, 1], [24, 24, 1], [24, 28, 1], [24, 12, 1], [24, 16, 1], [24, 20, 1], [24, 24, 1], [24, 28, 1], [24, 12, 1], [24, 16, 1], [24, 20, 1], [24, 24, 1], [24, 28, 1], [24, 12, 1], [24, 16, 1], [24, 20, 1], [24, 24, 1], [24, 28, 1], [24, 12, 1], [24, 16, 1], [24, 20, 1], [24, 24, 1], [24, 28, 1], [24, 12, 1], [24, 16, 1], [24, 20, 1], [24, 24, 1], [24, 28, 1]]\n",
      "[142.88005934186586, 131.3975440657034, 138.83238905439646, 157.13663344921716, 154.8784330379361, 132.3117823805211, 116.04742804971852, 105.70569111698323, 100.259666131895, 118.74737819335147, 124.26433922180166, 102.1295985938467, 123.22113514400574, 148.14246152434268, 115.90463814758087, 125.80247217883907, 134.57957176998474, 157.91983915098984, 175.30496987867335, 150.15900805817373, 133.91236092533197, 170.0346691047059, 307.72989153537395, 200.1095509962998, 293.84271426496394, 93.60704800125066, 99.09112297358335, 94.23145757070895, 105.04919723215417, 94.92894124375503, 108.86318056416809, 105.28176310620877, 106.21853488048731, 107.88007460931365, 133.55795448328567, 128.4221645279152, 97.3092609851085, 101.51818032206073, 126.98169683678668, 187.62913383764283, 150.73599592278075, 100.26228954174758, 119.93122528282487, 179.81441102943617, 268.2019161758634, 111.94401604006903, 207.95279458110966, 133.90604018880387, 302.7885555000764, 238.99095496017375, 95.3600699978421, 94.47777724509999, 99.50651892253111, 95.23933199771777, 97.22106335811196, 124.21021349087037, 116.85608018327979, 103.93347666819506, 116.76351213092543, 115.4161684583512, 155.5484260458424, 107.64679115882181, 165.04190693612668, 107.82131297436979, 102.34871140133562, 128.93760025932679, 165.8309304005707, 151.14832333274975, 144.85619063991737, 119.43794272353257]\n",
      "93.60704800125066\n",
      "[24, 12, 1]\n",
      "K is :  4\n"
     ]
    },
    {
     "name": "stdout",
     "output_type": "stream",
     "text": [
      "[[24, 12, 1], [24, 16, 1], [24, 20, 1], [24, 24, 1], [24, 28, 1], [24, 12, 1], [24, 16, 1], [24, 20, 1], [24, 24, 1], [24, 28, 1], [24, 12, 1], [24, 16, 1], [24, 20, 1], [24, 24, 1], [24, 28, 1], [24, 12, 1], [24, 16, 1], [24, 20, 1], [24, 24, 1], [24, 28, 1], [24, 12, 1], [24, 16, 1], [24, 20, 1], [24, 24, 1], [24, 28, 1], [24, 12, 1], [24, 16, 1], [24, 20, 1], [24, 24, 1], [24, 28, 1], [24, 12, 1], [24, 16, 1], [24, 20, 1], [24, 24, 1], [24, 28, 1], [24, 12, 1], [24, 16, 1], [24, 20, 1], [24, 24, 1], [24, 28, 1], [24, 12, 1], [24, 16, 1], [24, 20, 1], [24, 24, 1], [24, 28, 1], [24, 12, 1], [24, 16, 1], [24, 20, 1], [24, 24, 1], [24, 28, 1], [24, 12, 1], [24, 16, 1], [24, 20, 1], [24, 24, 1], [24, 28, 1], [24, 12, 1], [24, 16, 1], [24, 20, 1], [24, 24, 1], [24, 28, 1], [24, 12, 1], [24, 16, 1], [24, 20, 1], [24, 24, 1], [24, 28, 1], [24, 12, 1], [24, 16, 1], [24, 20, 1], [24, 24, 1], [24, 28, 1], [24, 12, 1], [24, 16, 1], [24, 20, 1], [24, 24, 1], [24, 28, 1]]\n",
      "[142.88005934186586, 131.3975440657034, 138.83238905439646, 157.13663344921716, 154.8784330379361, 132.3117823805211, 116.04742804971852, 105.70569111698323, 100.259666131895, 118.74737819335147, 124.26433922180166, 102.1295985938467, 123.22113514400574, 148.14246152434268, 115.90463814758087, 125.80247217883907, 134.57957176998474, 157.91983915098984, 175.30496987867335, 150.15900805817373, 133.91236092533197, 170.0346691047059, 307.72989153537395, 200.1095509962998, 293.84271426496394, 93.60704800125066, 99.09112297358335, 94.23145757070895, 105.04919723215417, 94.92894124375503, 108.86318056416809, 105.28176310620877, 106.21853488048731, 107.88007460931365, 133.55795448328567, 128.4221645279152, 97.3092609851085, 101.51818032206073, 126.98169683678668, 187.62913383764283, 150.73599592278075, 100.26228954174758, 119.93122528282487, 179.81441102943617, 268.2019161758634, 111.94401604006903, 207.95279458110966, 133.90604018880387, 302.7885555000764, 238.99095496017375, 95.3600699978421, 94.47777724509999, 99.50651892253111, 95.23933199771777, 97.22106335811196, 124.21021349087037, 116.85608018327979, 103.93347666819506, 116.76351213092543, 115.4161684583512, 155.5484260458424, 107.64679115882181, 165.04190693612668, 107.82131297436979, 102.34871140133562, 128.93760025932679, 165.8309304005707, 151.14832333274975, 144.85619063991737, 119.43794272353257, 167.71954555049467, 284.0888786445647, 216.27114345344884, 206.19907490967864, 152.6671241496024]\n",
      "93.60704800125066\n",
      "[24, 12, 1]\n",
      "[[24, 12, 1], [24, 12, 1], [24, 12, 1], [24, 12, 1], [24, 12, 1]]\n",
      "[93.60704800125066, 93.60704800125066, 93.60704800125066, 93.60704800125066, 93.60704800125066]\n",
      "[24, 12, 1]\n",
      "K is :  0\n",
      "[[24, 12, 1], [24, 16, 1], [24, 20, 1], [24, 24, 1], [24, 28, 1], [24, 12, 1], [24, 16, 1], [24, 20, 1], [24, 24, 1], [24, 28, 1], [24, 12, 1], [24, 16, 1], [24, 20, 1], [24, 24, 1], [24, 28, 1], [24, 12, 1], [24, 16, 1], [24, 20, 1], [24, 24, 1], [24, 28, 1], [24, 12, 1], [24, 16, 1], [24, 20, 1], [24, 24, 1], [24, 28, 1], [24, 12, 1], [24, 16, 1], [24, 20, 1], [24, 24, 1], [24, 28, 1], [24, 12, 1], [24, 16, 1], [24, 20, 1], [24, 24, 1], [24, 28, 1], [24, 12, 1], [24, 16, 1], [24, 20, 1], [24, 24, 1], [24, 28, 1], [24, 12, 1], [24, 16, 1], [24, 20, 1], [24, 24, 1], [24, 28, 1], [24, 12, 1], [24, 16, 1], [24, 20, 1], [24, 24, 1], [24, 28, 1], [24, 12, 1], [24, 16, 1], [24, 20, 1], [24, 24, 1], [24, 28, 1], [24, 12, 1], [24, 16, 1], [24, 20, 1], [24, 24, 1], [24, 28, 1], [24, 12, 1], [24, 16, 1], [24, 20, 1], [24, 24, 1], [24, 28, 1], [24, 12, 1], [24, 16, 1], [24, 20, 1], [24, 24, 1], [24, 28, 1], [24, 12, 1], [24, 16, 1], [24, 20, 1], [24, 24, 1], [24, 28, 1], [24, 12, 1], [24, 16, 1], [24, 20, 1], [24, 24, 1], [24, 28, 1]]\n",
      "[142.88005934186586, 131.3975440657034, 138.83238905439646, 157.13663344921716, 154.8784330379361, 132.3117823805211, 116.04742804971852, 105.70569111698323, 100.259666131895, 118.74737819335147, 124.26433922180166, 102.1295985938467, 123.22113514400574, 148.14246152434268, 115.90463814758087, 125.80247217883907, 134.57957176998474, 157.91983915098984, 175.30496987867335, 150.15900805817373, 133.91236092533197, 170.0346691047059, 307.72989153537395, 200.1095509962998, 293.84271426496394, 93.60704800125066, 99.09112297358335, 94.23145757070895, 105.04919723215417, 94.92894124375503, 108.86318056416809, 105.28176310620877, 106.21853488048731, 107.88007460931365, 133.55795448328567, 128.4221645279152, 97.3092609851085, 101.51818032206073, 126.98169683678668, 187.62913383764283, 150.73599592278075, 100.26228954174758, 119.93122528282487, 179.81441102943617, 268.2019161758634, 111.94401604006903, 207.95279458110966, 133.90604018880387, 302.7885555000764, 238.99095496017375, 95.3600699978421, 94.47777724509999, 99.50651892253111, 95.23933199771777, 97.22106335811196, 124.21021349087037, 116.85608018327979, 103.93347666819506, 116.76351213092543, 115.4161684583512, 155.5484260458424, 107.64679115882181, 165.04190693612668, 107.82131297436979, 102.34871140133562, 128.93760025932679, 165.8309304005707, 151.14832333274975, 144.85619063991737, 119.43794272353257, 167.71954555049467, 284.0888786445647, 216.27114345344884, 206.19907490967864, 152.6671241496024, 105.69941854499275, 96.07937682138537, 96.21172700368095, 102.5493419742826, 100.42205431625786]\n",
      "93.60704800125066\n",
      "[24, 12, 1]\n",
      "K is :  1\n",
      "[[24, 12, 1], [24, 16, 1], [24, 20, 1], [24, 24, 1], [24, 28, 1], [24, 12, 1], [24, 16, 1], [24, 20, 1], [24, 24, 1], [24, 28, 1], [24, 12, 1], [24, 16, 1], [24, 20, 1], [24, 24, 1], [24, 28, 1], [24, 12, 1], [24, 16, 1], [24, 20, 1], [24, 24, 1], [24, 28, 1], [24, 12, 1], [24, 16, 1], [24, 20, 1], [24, 24, 1], [24, 28, 1], [24, 12, 1], [24, 16, 1], [24, 20, 1], [24, 24, 1], [24, 28, 1], [24, 12, 1], [24, 16, 1], [24, 20, 1], [24, 24, 1], [24, 28, 1], [24, 12, 1], [24, 16, 1], [24, 20, 1], [24, 24, 1], [24, 28, 1], [24, 12, 1], [24, 16, 1], [24, 20, 1], [24, 24, 1], [24, 28, 1], [24, 12, 1], [24, 16, 1], [24, 20, 1], [24, 24, 1], [24, 28, 1], [24, 12, 1], [24, 16, 1], [24, 20, 1], [24, 24, 1], [24, 28, 1], [24, 12, 1], [24, 16, 1], [24, 20, 1], [24, 24, 1], [24, 28, 1], [24, 12, 1], [24, 16, 1], [24, 20, 1], [24, 24, 1], [24, 28, 1], [24, 12, 1], [24, 16, 1], [24, 20, 1], [24, 24, 1], [24, 28, 1], [24, 12, 1], [24, 16, 1], [24, 20, 1], [24, 24, 1], [24, 28, 1], [24, 12, 1], [24, 16, 1], [24, 20, 1], [24, 24, 1], [24, 28, 1], [24, 12, 1], [24, 16, 1], [24, 20, 1], [24, 24, 1], [24, 28, 1]]\n",
      "[142.88005934186586, 131.3975440657034, 138.83238905439646, 157.13663344921716, 154.8784330379361, 132.3117823805211, 116.04742804971852, 105.70569111698323, 100.259666131895, 118.74737819335147, 124.26433922180166, 102.1295985938467, 123.22113514400574, 148.14246152434268, 115.90463814758087, 125.80247217883907, 134.57957176998474, 157.91983915098984, 175.30496987867335, 150.15900805817373, 133.91236092533197, 170.0346691047059, 307.72989153537395, 200.1095509962998, 293.84271426496394, 93.60704800125066, 99.09112297358335, 94.23145757070895, 105.04919723215417, 94.92894124375503, 108.86318056416809, 105.28176310620877, 106.21853488048731, 107.88007460931365, 133.55795448328567, 128.4221645279152, 97.3092609851085, 101.51818032206073, 126.98169683678668, 187.62913383764283, 150.73599592278075, 100.26228954174758, 119.93122528282487, 179.81441102943617, 268.2019161758634, 111.94401604006903, 207.95279458110966, 133.90604018880387, 302.7885555000764, 238.99095496017375, 95.3600699978421, 94.47777724509999, 99.50651892253111, 95.23933199771777, 97.22106335811196, 124.21021349087037, 116.85608018327979, 103.93347666819506, 116.76351213092543, 115.4161684583512, 155.5484260458424, 107.64679115882181, 165.04190693612668, 107.82131297436979, 102.34871140133562, 128.93760025932679, 165.8309304005707, 151.14832333274975, 144.85619063991737, 119.43794272353257, 167.71954555049467, 284.0888786445647, 216.27114345344884, 206.19907490967864, 152.6671241496024, 105.69941854499275, 96.07937682138537, 96.21172700368095, 102.5493419742826, 100.42205431625786, 124.04964794696305, 117.23708559813105, 126.27162388213212, 123.77832953660048, 137.62996835448808]\n",
      "93.60704800125066\n",
      "[24, 12, 1]\n",
      "K is :  2\n",
      "[[24, 12, 1], [24, 16, 1], [24, 20, 1], [24, 24, 1], [24, 28, 1], [24, 12, 1], [24, 16, 1], [24, 20, 1], [24, 24, 1], [24, 28, 1], [24, 12, 1], [24, 16, 1], [24, 20, 1], [24, 24, 1], [24, 28, 1], [24, 12, 1], [24, 16, 1], [24, 20, 1], [24, 24, 1], [24, 28, 1], [24, 12, 1], [24, 16, 1], [24, 20, 1], [24, 24, 1], [24, 28, 1], [24, 12, 1], [24, 16, 1], [24, 20, 1], [24, 24, 1], [24, 28, 1], [24, 12, 1], [24, 16, 1], [24, 20, 1], [24, 24, 1], [24, 28, 1], [24, 12, 1], [24, 16, 1], [24, 20, 1], [24, 24, 1], [24, 28, 1], [24, 12, 1], [24, 16, 1], [24, 20, 1], [24, 24, 1], [24, 28, 1], [24, 12, 1], [24, 16, 1], [24, 20, 1], [24, 24, 1], [24, 28, 1], [24, 12, 1], [24, 16, 1], [24, 20, 1], [24, 24, 1], [24, 28, 1], [24, 12, 1], [24, 16, 1], [24, 20, 1], [24, 24, 1], [24, 28, 1], [24, 12, 1], [24, 16, 1], [24, 20, 1], [24, 24, 1], [24, 28, 1], [24, 12, 1], [24, 16, 1], [24, 20, 1], [24, 24, 1], [24, 28, 1], [24, 12, 1], [24, 16, 1], [24, 20, 1], [24, 24, 1], [24, 28, 1], [24, 12, 1], [24, 16, 1], [24, 20, 1], [24, 24, 1], [24, 28, 1], [24, 12, 1], [24, 16, 1], [24, 20, 1], [24, 24, 1], [24, 28, 1], [24, 12, 1], [24, 16, 1], [24, 20, 1], [24, 24, 1], [24, 28, 1]]\n",
      "[142.88005934186586, 131.3975440657034, 138.83238905439646, 157.13663344921716, 154.8784330379361, 132.3117823805211, 116.04742804971852, 105.70569111698323, 100.259666131895, 118.74737819335147, 124.26433922180166, 102.1295985938467, 123.22113514400574, 148.14246152434268, 115.90463814758087, 125.80247217883907, 134.57957176998474, 157.91983915098984, 175.30496987867335, 150.15900805817373, 133.91236092533197, 170.0346691047059, 307.72989153537395, 200.1095509962998, 293.84271426496394, 93.60704800125066, 99.09112297358335, 94.23145757070895, 105.04919723215417, 94.92894124375503, 108.86318056416809, 105.28176310620877, 106.21853488048731, 107.88007460931365, 133.55795448328567, 128.4221645279152, 97.3092609851085, 101.51818032206073, 126.98169683678668, 187.62913383764283, 150.73599592278075, 100.26228954174758, 119.93122528282487, 179.81441102943617, 268.2019161758634, 111.94401604006903, 207.95279458110966, 133.90604018880387, 302.7885555000764, 238.99095496017375, 95.3600699978421, 94.47777724509999, 99.50651892253111, 95.23933199771777, 97.22106335811196, 124.21021349087037, 116.85608018327979, 103.93347666819506, 116.76351213092543, 115.4161684583512, 155.5484260458424, 107.64679115882181, 165.04190693612668, 107.82131297436979, 102.34871140133562, 128.93760025932679, 165.8309304005707, 151.14832333274975, 144.85619063991737, 119.43794272353257, 167.71954555049467, 284.0888786445647, 216.27114345344884, 206.19907490967864, 152.6671241496024, 105.69941854499275, 96.07937682138537, 96.21172700368095, 102.5493419742826, 100.42205431625786, 124.04964794696305, 117.23708559813105, 126.27162388213212, 123.77832953660048, 137.62996835448808, 107.5008619965919, 113.75711210004667, 184.3120476520645, 129.5506379857857, 138.63217589561182]\n",
      "93.60704800125066\n",
      "[24, 12, 1]\n",
      "K is :  3\n"
     ]
    },
    {
     "name": "stdout",
     "output_type": "stream",
     "text": [
      "[[24, 12, 1], [24, 16, 1], [24, 20, 1], [24, 24, 1], [24, 28, 1], [24, 12, 1], [24, 16, 1], [24, 20, 1], [24, 24, 1], [24, 28, 1], [24, 12, 1], [24, 16, 1], [24, 20, 1], [24, 24, 1], [24, 28, 1], [24, 12, 1], [24, 16, 1], [24, 20, 1], [24, 24, 1], [24, 28, 1], [24, 12, 1], [24, 16, 1], [24, 20, 1], [24, 24, 1], [24, 28, 1], [24, 12, 1], [24, 16, 1], [24, 20, 1], [24, 24, 1], [24, 28, 1], [24, 12, 1], [24, 16, 1], [24, 20, 1], [24, 24, 1], [24, 28, 1], [24, 12, 1], [24, 16, 1], [24, 20, 1], [24, 24, 1], [24, 28, 1], [24, 12, 1], [24, 16, 1], [24, 20, 1], [24, 24, 1], [24, 28, 1], [24, 12, 1], [24, 16, 1], [24, 20, 1], [24, 24, 1], [24, 28, 1], [24, 12, 1], [24, 16, 1], [24, 20, 1], [24, 24, 1], [24, 28, 1], [24, 12, 1], [24, 16, 1], [24, 20, 1], [24, 24, 1], [24, 28, 1], [24, 12, 1], [24, 16, 1], [24, 20, 1], [24, 24, 1], [24, 28, 1], [24, 12, 1], [24, 16, 1], [24, 20, 1], [24, 24, 1], [24, 28, 1], [24, 12, 1], [24, 16, 1], [24, 20, 1], [24, 24, 1], [24, 28, 1], [24, 12, 1], [24, 16, 1], [24, 20, 1], [24, 24, 1], [24, 28, 1], [24, 12, 1], [24, 16, 1], [24, 20, 1], [24, 24, 1], [24, 28, 1], [24, 12, 1], [24, 16, 1], [24, 20, 1], [24, 24, 1], [24, 28, 1], [24, 12, 1], [24, 16, 1], [24, 20, 1], [24, 24, 1], [24, 28, 1]]\n",
      "[142.88005934186586, 131.3975440657034, 138.83238905439646, 157.13663344921716, 154.8784330379361, 132.3117823805211, 116.04742804971852, 105.70569111698323, 100.259666131895, 118.74737819335147, 124.26433922180166, 102.1295985938467, 123.22113514400574, 148.14246152434268, 115.90463814758087, 125.80247217883907, 134.57957176998474, 157.91983915098984, 175.30496987867335, 150.15900805817373, 133.91236092533197, 170.0346691047059, 307.72989153537395, 200.1095509962998, 293.84271426496394, 93.60704800125066, 99.09112297358335, 94.23145757070895, 105.04919723215417, 94.92894124375503, 108.86318056416809, 105.28176310620877, 106.21853488048731, 107.88007460931365, 133.55795448328567, 128.4221645279152, 97.3092609851085, 101.51818032206073, 126.98169683678668, 187.62913383764283, 150.73599592278075, 100.26228954174758, 119.93122528282487, 179.81441102943617, 268.2019161758634, 111.94401604006903, 207.95279458110966, 133.90604018880387, 302.7885555000764, 238.99095496017375, 95.3600699978421, 94.47777724509999, 99.50651892253111, 95.23933199771777, 97.22106335811196, 124.21021349087037, 116.85608018327979, 103.93347666819506, 116.76351213092543, 115.4161684583512, 155.5484260458424, 107.64679115882181, 165.04190693612668, 107.82131297436979, 102.34871140133562, 128.93760025932679, 165.8309304005707, 151.14832333274975, 144.85619063991737, 119.43794272353257, 167.71954555049467, 284.0888786445647, 216.27114345344884, 206.19907490967864, 152.6671241496024, 105.69941854499275, 96.07937682138537, 96.21172700368095, 102.5493419742826, 100.42205431625786, 124.04964794696305, 117.23708559813105, 126.27162388213212, 123.77832953660048, 137.62996835448808, 107.5008619965919, 113.75711210004667, 184.3120476520645, 129.5506379857857, 138.63217589561182, 147.7678471845682, 181.37689711701432, 214.9540662751495, 120.13983198919595, 178.11371361272975]\n",
      "93.60704800125066\n",
      "[24, 12, 1]\n",
      "K is :  4\n",
      "[[24, 12, 1], [24, 16, 1], [24, 20, 1], [24, 24, 1], [24, 28, 1], [24, 12, 1], [24, 16, 1], [24, 20, 1], [24, 24, 1], [24, 28, 1], [24, 12, 1], [24, 16, 1], [24, 20, 1], [24, 24, 1], [24, 28, 1], [24, 12, 1], [24, 16, 1], [24, 20, 1], [24, 24, 1], [24, 28, 1], [24, 12, 1], [24, 16, 1], [24, 20, 1], [24, 24, 1], [24, 28, 1], [24, 12, 1], [24, 16, 1], [24, 20, 1], [24, 24, 1], [24, 28, 1], [24, 12, 1], [24, 16, 1], [24, 20, 1], [24, 24, 1], [24, 28, 1], [24, 12, 1], [24, 16, 1], [24, 20, 1], [24, 24, 1], [24, 28, 1], [24, 12, 1], [24, 16, 1], [24, 20, 1], [24, 24, 1], [24, 28, 1], [24, 12, 1], [24, 16, 1], [24, 20, 1], [24, 24, 1], [24, 28, 1], [24, 12, 1], [24, 16, 1], [24, 20, 1], [24, 24, 1], [24, 28, 1], [24, 12, 1], [24, 16, 1], [24, 20, 1], [24, 24, 1], [24, 28, 1], [24, 12, 1], [24, 16, 1], [24, 20, 1], [24, 24, 1], [24, 28, 1], [24, 12, 1], [24, 16, 1], [24, 20, 1], [24, 24, 1], [24, 28, 1], [24, 12, 1], [24, 16, 1], [24, 20, 1], [24, 24, 1], [24, 28, 1], [24, 12, 1], [24, 16, 1], [24, 20, 1], [24, 24, 1], [24, 28, 1], [24, 12, 1], [24, 16, 1], [24, 20, 1], [24, 24, 1], [24, 28, 1], [24, 12, 1], [24, 16, 1], [24, 20, 1], [24, 24, 1], [24, 28, 1], [24, 12, 1], [24, 16, 1], [24, 20, 1], [24, 24, 1], [24, 28, 1], [24, 12, 1], [24, 16, 1], [24, 20, 1], [24, 24, 1], [24, 28, 1]]\n",
      "[142.88005934186586, 131.3975440657034, 138.83238905439646, 157.13663344921716, 154.8784330379361, 132.3117823805211, 116.04742804971852, 105.70569111698323, 100.259666131895, 118.74737819335147, 124.26433922180166, 102.1295985938467, 123.22113514400574, 148.14246152434268, 115.90463814758087, 125.80247217883907, 134.57957176998474, 157.91983915098984, 175.30496987867335, 150.15900805817373, 133.91236092533197, 170.0346691047059, 307.72989153537395, 200.1095509962998, 293.84271426496394, 93.60704800125066, 99.09112297358335, 94.23145757070895, 105.04919723215417, 94.92894124375503, 108.86318056416809, 105.28176310620877, 106.21853488048731, 107.88007460931365, 133.55795448328567, 128.4221645279152, 97.3092609851085, 101.51818032206073, 126.98169683678668, 187.62913383764283, 150.73599592278075, 100.26228954174758, 119.93122528282487, 179.81441102943617, 268.2019161758634, 111.94401604006903, 207.95279458110966, 133.90604018880387, 302.7885555000764, 238.99095496017375, 95.3600699978421, 94.47777724509999, 99.50651892253111, 95.23933199771777, 97.22106335811196, 124.21021349087037, 116.85608018327979, 103.93347666819506, 116.76351213092543, 115.4161684583512, 155.5484260458424, 107.64679115882181, 165.04190693612668, 107.82131297436979, 102.34871140133562, 128.93760025932679, 165.8309304005707, 151.14832333274975, 144.85619063991737, 119.43794272353257, 167.71954555049467, 284.0888786445647, 216.27114345344884, 206.19907490967864, 152.6671241496024, 105.69941854499275, 96.07937682138537, 96.21172700368095, 102.5493419742826, 100.42205431625786, 124.04964794696305, 117.23708559813105, 126.27162388213212, 123.77832953660048, 137.62996835448808, 107.5008619965919, 113.75711210004667, 184.3120476520645, 129.5506379857857, 138.63217589561182, 147.7678471845682, 181.37689711701432, 214.9540662751495, 120.13983198919595, 178.11371361272975, 219.43415054832784, 173.6705169069663, 243.05101393706505, 258.82922521348365, 194.61358678950847]\n",
      "93.60704800125066\n",
      "[24, 12, 1]\n",
      "[[24, 12, 1], [24, 12, 1], [24, 12, 1], [24, 12, 1], [24, 12, 1]]\n",
      "[93.60704800125066, 93.60704800125066, 93.60704800125066, 93.60704800125066, 93.60704800125066]\n",
      "[24, 12, 1]\n",
      "K is :  0\n",
      "[[24, 12, 1], [24, 16, 1], [24, 20, 1], [24, 24, 1], [24, 28, 1], [24, 12, 1], [24, 16, 1], [24, 20, 1], [24, 24, 1], [24, 28, 1], [24, 12, 1], [24, 16, 1], [24, 20, 1], [24, 24, 1], [24, 28, 1], [24, 12, 1], [24, 16, 1], [24, 20, 1], [24, 24, 1], [24, 28, 1], [24, 12, 1], [24, 16, 1], [24, 20, 1], [24, 24, 1], [24, 28, 1], [24, 12, 1], [24, 16, 1], [24, 20, 1], [24, 24, 1], [24, 28, 1], [24, 12, 1], [24, 16, 1], [24, 20, 1], [24, 24, 1], [24, 28, 1], [24, 12, 1], [24, 16, 1], [24, 20, 1], [24, 24, 1], [24, 28, 1], [24, 12, 1], [24, 16, 1], [24, 20, 1], [24, 24, 1], [24, 28, 1], [24, 12, 1], [24, 16, 1], [24, 20, 1], [24, 24, 1], [24, 28, 1], [24, 12, 1], [24, 16, 1], [24, 20, 1], [24, 24, 1], [24, 28, 1], [24, 12, 1], [24, 16, 1], [24, 20, 1], [24, 24, 1], [24, 28, 1], [24, 12, 1], [24, 16, 1], [24, 20, 1], [24, 24, 1], [24, 28, 1], [24, 12, 1], [24, 16, 1], [24, 20, 1], [24, 24, 1], [24, 28, 1], [24, 12, 1], [24, 16, 1], [24, 20, 1], [24, 24, 1], [24, 28, 1], [24, 12, 1], [24, 16, 1], [24, 20, 1], [24, 24, 1], [24, 28, 1], [24, 12, 1], [24, 16, 1], [24, 20, 1], [24, 24, 1], [24, 28, 1], [24, 12, 1], [24, 16, 1], [24, 20, 1], [24, 24, 1], [24, 28, 1], [24, 12, 1], [24, 16, 1], [24, 20, 1], [24, 24, 1], [24, 28, 1], [24, 12, 1], [24, 16, 1], [24, 20, 1], [24, 24, 1], [24, 28, 1], [24, 12, 1], [24, 16, 1], [24, 20, 1], [24, 24, 1], [24, 28, 1]]\n",
      "[142.88005934186586, 131.3975440657034, 138.83238905439646, 157.13663344921716, 154.8784330379361, 132.3117823805211, 116.04742804971852, 105.70569111698323, 100.259666131895, 118.74737819335147, 124.26433922180166, 102.1295985938467, 123.22113514400574, 148.14246152434268, 115.90463814758087, 125.80247217883907, 134.57957176998474, 157.91983915098984, 175.30496987867335, 150.15900805817373, 133.91236092533197, 170.0346691047059, 307.72989153537395, 200.1095509962998, 293.84271426496394, 93.60704800125066, 99.09112297358335, 94.23145757070895, 105.04919723215417, 94.92894124375503, 108.86318056416809, 105.28176310620877, 106.21853488048731, 107.88007460931365, 133.55795448328567, 128.4221645279152, 97.3092609851085, 101.51818032206073, 126.98169683678668, 187.62913383764283, 150.73599592278075, 100.26228954174758, 119.93122528282487, 179.81441102943617, 268.2019161758634, 111.94401604006903, 207.95279458110966, 133.90604018880387, 302.7885555000764, 238.99095496017375, 95.3600699978421, 94.47777724509999, 99.50651892253111, 95.23933199771777, 97.22106335811196, 124.21021349087037, 116.85608018327979, 103.93347666819506, 116.76351213092543, 115.4161684583512, 155.5484260458424, 107.64679115882181, 165.04190693612668, 107.82131297436979, 102.34871140133562, 128.93760025932679, 165.8309304005707, 151.14832333274975, 144.85619063991737, 119.43794272353257, 167.71954555049467, 284.0888786445647, 216.27114345344884, 206.19907490967864, 152.6671241496024, 105.69941854499275, 96.07937682138537, 96.21172700368095, 102.5493419742826, 100.42205431625786, 124.04964794696305, 117.23708559813105, 126.27162388213212, 123.77832953660048, 137.62996835448808, 107.5008619965919, 113.75711210004667, 184.3120476520645, 129.5506379857857, 138.63217589561182, 147.7678471845682, 181.37689711701432, 214.9540662751495, 120.13983198919595, 178.11371361272975, 219.43415054832784, 173.6705169069663, 243.05101393706505, 258.82922521348365, 194.61358678950847, 94.66478478046693, 102.33610154052485, 96.76944739229616, 99.98311878512492, 94.70773863734024]\n",
      "93.60704800125066\n",
      "[24, 12, 1]\n",
      "K is :  1\n"
     ]
    },
    {
     "name": "stdout",
     "output_type": "stream",
     "text": [
      "[[24, 12, 1], [24, 16, 1], [24, 20, 1], [24, 24, 1], [24, 28, 1], [24, 12, 1], [24, 16, 1], [24, 20, 1], [24, 24, 1], [24, 28, 1], [24, 12, 1], [24, 16, 1], [24, 20, 1], [24, 24, 1], [24, 28, 1], [24, 12, 1], [24, 16, 1], [24, 20, 1], [24, 24, 1], [24, 28, 1], [24, 12, 1], [24, 16, 1], [24, 20, 1], [24, 24, 1], [24, 28, 1], [24, 12, 1], [24, 16, 1], [24, 20, 1], [24, 24, 1], [24, 28, 1], [24, 12, 1], [24, 16, 1], [24, 20, 1], [24, 24, 1], [24, 28, 1], [24, 12, 1], [24, 16, 1], [24, 20, 1], [24, 24, 1], [24, 28, 1], [24, 12, 1], [24, 16, 1], [24, 20, 1], [24, 24, 1], [24, 28, 1], [24, 12, 1], [24, 16, 1], [24, 20, 1], [24, 24, 1], [24, 28, 1], [24, 12, 1], [24, 16, 1], [24, 20, 1], [24, 24, 1], [24, 28, 1], [24, 12, 1], [24, 16, 1], [24, 20, 1], [24, 24, 1], [24, 28, 1], [24, 12, 1], [24, 16, 1], [24, 20, 1], [24, 24, 1], [24, 28, 1], [24, 12, 1], [24, 16, 1], [24, 20, 1], [24, 24, 1], [24, 28, 1], [24, 12, 1], [24, 16, 1], [24, 20, 1], [24, 24, 1], [24, 28, 1], [24, 12, 1], [24, 16, 1], [24, 20, 1], [24, 24, 1], [24, 28, 1], [24, 12, 1], [24, 16, 1], [24, 20, 1], [24, 24, 1], [24, 28, 1], [24, 12, 1], [24, 16, 1], [24, 20, 1], [24, 24, 1], [24, 28, 1], [24, 12, 1], [24, 16, 1], [24, 20, 1], [24, 24, 1], [24, 28, 1], [24, 12, 1], [24, 16, 1], [24, 20, 1], [24, 24, 1], [24, 28, 1], [24, 12, 1], [24, 16, 1], [24, 20, 1], [24, 24, 1], [24, 28, 1], [24, 12, 1], [24, 16, 1], [24, 20, 1], [24, 24, 1], [24, 28, 1]]\n",
      "[142.88005934186586, 131.3975440657034, 138.83238905439646, 157.13663344921716, 154.8784330379361, 132.3117823805211, 116.04742804971852, 105.70569111698323, 100.259666131895, 118.74737819335147, 124.26433922180166, 102.1295985938467, 123.22113514400574, 148.14246152434268, 115.90463814758087, 125.80247217883907, 134.57957176998474, 157.91983915098984, 175.30496987867335, 150.15900805817373, 133.91236092533197, 170.0346691047059, 307.72989153537395, 200.1095509962998, 293.84271426496394, 93.60704800125066, 99.09112297358335, 94.23145757070895, 105.04919723215417, 94.92894124375503, 108.86318056416809, 105.28176310620877, 106.21853488048731, 107.88007460931365, 133.55795448328567, 128.4221645279152, 97.3092609851085, 101.51818032206073, 126.98169683678668, 187.62913383764283, 150.73599592278075, 100.26228954174758, 119.93122528282487, 179.81441102943617, 268.2019161758634, 111.94401604006903, 207.95279458110966, 133.90604018880387, 302.7885555000764, 238.99095496017375, 95.3600699978421, 94.47777724509999, 99.50651892253111, 95.23933199771777, 97.22106335811196, 124.21021349087037, 116.85608018327979, 103.93347666819506, 116.76351213092543, 115.4161684583512, 155.5484260458424, 107.64679115882181, 165.04190693612668, 107.82131297436979, 102.34871140133562, 128.93760025932679, 165.8309304005707, 151.14832333274975, 144.85619063991737, 119.43794272353257, 167.71954555049467, 284.0888786445647, 216.27114345344884, 206.19907490967864, 152.6671241496024, 105.69941854499275, 96.07937682138537, 96.21172700368095, 102.5493419742826, 100.42205431625786, 124.04964794696305, 117.23708559813105, 126.27162388213212, 123.77832953660048, 137.62996835448808, 107.5008619965919, 113.75711210004667, 184.3120476520645, 129.5506379857857, 138.63217589561182, 147.7678471845682, 181.37689711701432, 214.9540662751495, 120.13983198919595, 178.11371361272975, 219.43415054832784, 173.6705169069663, 243.05101393706505, 258.82922521348365, 194.61358678950847, 94.66478478046693, 102.33610154052485, 96.76944739229616, 99.98311878512492, 94.70773863734024, 124.73115937680896, 116.6638751745571, 111.20398241123206, 117.41134182180812, 112.73556056213332]\n",
      "93.60704800125066\n",
      "[24, 12, 1]\n",
      "K is :  2\n",
      "[[24, 12, 1], [24, 16, 1], [24, 20, 1], [24, 24, 1], [24, 28, 1], [24, 12, 1], [24, 16, 1], [24, 20, 1], [24, 24, 1], [24, 28, 1], [24, 12, 1], [24, 16, 1], [24, 20, 1], [24, 24, 1], [24, 28, 1], [24, 12, 1], [24, 16, 1], [24, 20, 1], [24, 24, 1], [24, 28, 1], [24, 12, 1], [24, 16, 1], [24, 20, 1], [24, 24, 1], [24, 28, 1], [24, 12, 1], [24, 16, 1], [24, 20, 1], [24, 24, 1], [24, 28, 1], [24, 12, 1], [24, 16, 1], [24, 20, 1], [24, 24, 1], [24, 28, 1], [24, 12, 1], [24, 16, 1], [24, 20, 1], [24, 24, 1], [24, 28, 1], [24, 12, 1], [24, 16, 1], [24, 20, 1], [24, 24, 1], [24, 28, 1], [24, 12, 1], [24, 16, 1], [24, 20, 1], [24, 24, 1], [24, 28, 1], [24, 12, 1], [24, 16, 1], [24, 20, 1], [24, 24, 1], [24, 28, 1], [24, 12, 1], [24, 16, 1], [24, 20, 1], [24, 24, 1], [24, 28, 1], [24, 12, 1], [24, 16, 1], [24, 20, 1], [24, 24, 1], [24, 28, 1], [24, 12, 1], [24, 16, 1], [24, 20, 1], [24, 24, 1], [24, 28, 1], [24, 12, 1], [24, 16, 1], [24, 20, 1], [24, 24, 1], [24, 28, 1], [24, 12, 1], [24, 16, 1], [24, 20, 1], [24, 24, 1], [24, 28, 1], [24, 12, 1], [24, 16, 1], [24, 20, 1], [24, 24, 1], [24, 28, 1], [24, 12, 1], [24, 16, 1], [24, 20, 1], [24, 24, 1], [24, 28, 1], [24, 12, 1], [24, 16, 1], [24, 20, 1], [24, 24, 1], [24, 28, 1], [24, 12, 1], [24, 16, 1], [24, 20, 1], [24, 24, 1], [24, 28, 1], [24, 12, 1], [24, 16, 1], [24, 20, 1], [24, 24, 1], [24, 28, 1], [24, 12, 1], [24, 16, 1], [24, 20, 1], [24, 24, 1], [24, 28, 1], [24, 12, 1], [24, 16, 1], [24, 20, 1], [24, 24, 1], [24, 28, 1]]\n",
      "[142.88005934186586, 131.3975440657034, 138.83238905439646, 157.13663344921716, 154.8784330379361, 132.3117823805211, 116.04742804971852, 105.70569111698323, 100.259666131895, 118.74737819335147, 124.26433922180166, 102.1295985938467, 123.22113514400574, 148.14246152434268, 115.90463814758087, 125.80247217883907, 134.57957176998474, 157.91983915098984, 175.30496987867335, 150.15900805817373, 133.91236092533197, 170.0346691047059, 307.72989153537395, 200.1095509962998, 293.84271426496394, 93.60704800125066, 99.09112297358335, 94.23145757070895, 105.04919723215417, 94.92894124375503, 108.86318056416809, 105.28176310620877, 106.21853488048731, 107.88007460931365, 133.55795448328567, 128.4221645279152, 97.3092609851085, 101.51818032206073, 126.98169683678668, 187.62913383764283, 150.73599592278075, 100.26228954174758, 119.93122528282487, 179.81441102943617, 268.2019161758634, 111.94401604006903, 207.95279458110966, 133.90604018880387, 302.7885555000764, 238.99095496017375, 95.3600699978421, 94.47777724509999, 99.50651892253111, 95.23933199771777, 97.22106335811196, 124.21021349087037, 116.85608018327979, 103.93347666819506, 116.76351213092543, 115.4161684583512, 155.5484260458424, 107.64679115882181, 165.04190693612668, 107.82131297436979, 102.34871140133562, 128.93760025932679, 165.8309304005707, 151.14832333274975, 144.85619063991737, 119.43794272353257, 167.71954555049467, 284.0888786445647, 216.27114345344884, 206.19907490967864, 152.6671241496024, 105.69941854499275, 96.07937682138537, 96.21172700368095, 102.5493419742826, 100.42205431625786, 124.04964794696305, 117.23708559813105, 126.27162388213212, 123.77832953660048, 137.62996835448808, 107.5008619965919, 113.75711210004667, 184.3120476520645, 129.5506379857857, 138.63217589561182, 147.7678471845682, 181.37689711701432, 214.9540662751495, 120.13983198919595, 178.11371361272975, 219.43415054832784, 173.6705169069663, 243.05101393706505, 258.82922521348365, 194.61358678950847, 94.66478478046693, 102.33610154052485, 96.76944739229616, 99.98311878512492, 94.70773863734024, 124.73115937680896, 116.6638751745571, 111.20398241123206, 117.41134182180812, 112.73556056213332, 122.30754256243435, 124.96253562938725, 147.23308894997993, 123.8759595796655, 148.39642420025214]\n",
      "93.60704800125066\n",
      "[24, 12, 1]\n",
      "K is :  3\n",
      "[[24, 12, 1], [24, 16, 1], [24, 20, 1], [24, 24, 1], [24, 28, 1], [24, 12, 1], [24, 16, 1], [24, 20, 1], [24, 24, 1], [24, 28, 1], [24, 12, 1], [24, 16, 1], [24, 20, 1], [24, 24, 1], [24, 28, 1], [24, 12, 1], [24, 16, 1], [24, 20, 1], [24, 24, 1], [24, 28, 1], [24, 12, 1], [24, 16, 1], [24, 20, 1], [24, 24, 1], [24, 28, 1], [24, 12, 1], [24, 16, 1], [24, 20, 1], [24, 24, 1], [24, 28, 1], [24, 12, 1], [24, 16, 1], [24, 20, 1], [24, 24, 1], [24, 28, 1], [24, 12, 1], [24, 16, 1], [24, 20, 1], [24, 24, 1], [24, 28, 1], [24, 12, 1], [24, 16, 1], [24, 20, 1], [24, 24, 1], [24, 28, 1], [24, 12, 1], [24, 16, 1], [24, 20, 1], [24, 24, 1], [24, 28, 1], [24, 12, 1], [24, 16, 1], [24, 20, 1], [24, 24, 1], [24, 28, 1], [24, 12, 1], [24, 16, 1], [24, 20, 1], [24, 24, 1], [24, 28, 1], [24, 12, 1], [24, 16, 1], [24, 20, 1], [24, 24, 1], [24, 28, 1], [24, 12, 1], [24, 16, 1], [24, 20, 1], [24, 24, 1], [24, 28, 1], [24, 12, 1], [24, 16, 1], [24, 20, 1], [24, 24, 1], [24, 28, 1], [24, 12, 1], [24, 16, 1], [24, 20, 1], [24, 24, 1], [24, 28, 1], [24, 12, 1], [24, 16, 1], [24, 20, 1], [24, 24, 1], [24, 28, 1], [24, 12, 1], [24, 16, 1], [24, 20, 1], [24, 24, 1], [24, 28, 1], [24, 12, 1], [24, 16, 1], [24, 20, 1], [24, 24, 1], [24, 28, 1], [24, 12, 1], [24, 16, 1], [24, 20, 1], [24, 24, 1], [24, 28, 1], [24, 12, 1], [24, 16, 1], [24, 20, 1], [24, 24, 1], [24, 28, 1], [24, 12, 1], [24, 16, 1], [24, 20, 1], [24, 24, 1], [24, 28, 1], [24, 12, 1], [24, 16, 1], [24, 20, 1], [24, 24, 1], [24, 28, 1], [24, 12, 1], [24, 16, 1], [24, 20, 1], [24, 24, 1], [24, 28, 1]]\n",
      "[142.88005934186586, 131.3975440657034, 138.83238905439646, 157.13663344921716, 154.8784330379361, 132.3117823805211, 116.04742804971852, 105.70569111698323, 100.259666131895, 118.74737819335147, 124.26433922180166, 102.1295985938467, 123.22113514400574, 148.14246152434268, 115.90463814758087, 125.80247217883907, 134.57957176998474, 157.91983915098984, 175.30496987867335, 150.15900805817373, 133.91236092533197, 170.0346691047059, 307.72989153537395, 200.1095509962998, 293.84271426496394, 93.60704800125066, 99.09112297358335, 94.23145757070895, 105.04919723215417, 94.92894124375503, 108.86318056416809, 105.28176310620877, 106.21853488048731, 107.88007460931365, 133.55795448328567, 128.4221645279152, 97.3092609851085, 101.51818032206073, 126.98169683678668, 187.62913383764283, 150.73599592278075, 100.26228954174758, 119.93122528282487, 179.81441102943617, 268.2019161758634, 111.94401604006903, 207.95279458110966, 133.90604018880387, 302.7885555000764, 238.99095496017375, 95.3600699978421, 94.47777724509999, 99.50651892253111, 95.23933199771777, 97.22106335811196, 124.21021349087037, 116.85608018327979, 103.93347666819506, 116.76351213092543, 115.4161684583512, 155.5484260458424, 107.64679115882181, 165.04190693612668, 107.82131297436979, 102.34871140133562, 128.93760025932679, 165.8309304005707, 151.14832333274975, 144.85619063991737, 119.43794272353257, 167.71954555049467, 284.0888786445647, 216.27114345344884, 206.19907490967864, 152.6671241496024, 105.69941854499275, 96.07937682138537, 96.21172700368095, 102.5493419742826, 100.42205431625786, 124.04964794696305, 117.23708559813105, 126.27162388213212, 123.77832953660048, 137.62996835448808, 107.5008619965919, 113.75711210004667, 184.3120476520645, 129.5506379857857, 138.63217589561182, 147.7678471845682, 181.37689711701432, 214.9540662751495, 120.13983198919595, 178.11371361272975, 219.43415054832784, 173.6705169069663, 243.05101393706505, 258.82922521348365, 194.61358678950847, 94.66478478046693, 102.33610154052485, 96.76944739229616, 99.98311878512492, 94.70773863734024, 124.73115937680896, 116.6638751745571, 111.20398241123206, 117.41134182180812, 112.73556056213332, 122.30754256243435, 124.96253562938725, 147.23308894997993, 123.8759595796655, 148.39642420025214, 152.53415458871524, 156.30065493142382, 175.10776768394712, 180.81181955787838, 149.32101725329412]\n",
      "93.60704800125066\n",
      "[24, 12, 1]\n",
      "K is :  4\n"
     ]
    },
    {
     "name": "stdout",
     "output_type": "stream",
     "text": [
      "[[24, 12, 1], [24, 16, 1], [24, 20, 1], [24, 24, 1], [24, 28, 1], [24, 12, 1], [24, 16, 1], [24, 20, 1], [24, 24, 1], [24, 28, 1], [24, 12, 1], [24, 16, 1], [24, 20, 1], [24, 24, 1], [24, 28, 1], [24, 12, 1], [24, 16, 1], [24, 20, 1], [24, 24, 1], [24, 28, 1], [24, 12, 1], [24, 16, 1], [24, 20, 1], [24, 24, 1], [24, 28, 1], [24, 12, 1], [24, 16, 1], [24, 20, 1], [24, 24, 1], [24, 28, 1], [24, 12, 1], [24, 16, 1], [24, 20, 1], [24, 24, 1], [24, 28, 1], [24, 12, 1], [24, 16, 1], [24, 20, 1], [24, 24, 1], [24, 28, 1], [24, 12, 1], [24, 16, 1], [24, 20, 1], [24, 24, 1], [24, 28, 1], [24, 12, 1], [24, 16, 1], [24, 20, 1], [24, 24, 1], [24, 28, 1], [24, 12, 1], [24, 16, 1], [24, 20, 1], [24, 24, 1], [24, 28, 1], [24, 12, 1], [24, 16, 1], [24, 20, 1], [24, 24, 1], [24, 28, 1], [24, 12, 1], [24, 16, 1], [24, 20, 1], [24, 24, 1], [24, 28, 1], [24, 12, 1], [24, 16, 1], [24, 20, 1], [24, 24, 1], [24, 28, 1], [24, 12, 1], [24, 16, 1], [24, 20, 1], [24, 24, 1], [24, 28, 1], [24, 12, 1], [24, 16, 1], [24, 20, 1], [24, 24, 1], [24, 28, 1], [24, 12, 1], [24, 16, 1], [24, 20, 1], [24, 24, 1], [24, 28, 1], [24, 12, 1], [24, 16, 1], [24, 20, 1], [24, 24, 1], [24, 28, 1], [24, 12, 1], [24, 16, 1], [24, 20, 1], [24, 24, 1], [24, 28, 1], [24, 12, 1], [24, 16, 1], [24, 20, 1], [24, 24, 1], [24, 28, 1], [24, 12, 1], [24, 16, 1], [24, 20, 1], [24, 24, 1], [24, 28, 1], [24, 12, 1], [24, 16, 1], [24, 20, 1], [24, 24, 1], [24, 28, 1], [24, 12, 1], [24, 16, 1], [24, 20, 1], [24, 24, 1], [24, 28, 1], [24, 12, 1], [24, 16, 1], [24, 20, 1], [24, 24, 1], [24, 28, 1], [24, 12, 1], [24, 16, 1], [24, 20, 1], [24, 24, 1], [24, 28, 1]]\n",
      "[142.88005934186586, 131.3975440657034, 138.83238905439646, 157.13663344921716, 154.8784330379361, 132.3117823805211, 116.04742804971852, 105.70569111698323, 100.259666131895, 118.74737819335147, 124.26433922180166, 102.1295985938467, 123.22113514400574, 148.14246152434268, 115.90463814758087, 125.80247217883907, 134.57957176998474, 157.91983915098984, 175.30496987867335, 150.15900805817373, 133.91236092533197, 170.0346691047059, 307.72989153537395, 200.1095509962998, 293.84271426496394, 93.60704800125066, 99.09112297358335, 94.23145757070895, 105.04919723215417, 94.92894124375503, 108.86318056416809, 105.28176310620877, 106.21853488048731, 107.88007460931365, 133.55795448328567, 128.4221645279152, 97.3092609851085, 101.51818032206073, 126.98169683678668, 187.62913383764283, 150.73599592278075, 100.26228954174758, 119.93122528282487, 179.81441102943617, 268.2019161758634, 111.94401604006903, 207.95279458110966, 133.90604018880387, 302.7885555000764, 238.99095496017375, 95.3600699978421, 94.47777724509999, 99.50651892253111, 95.23933199771777, 97.22106335811196, 124.21021349087037, 116.85608018327979, 103.93347666819506, 116.76351213092543, 115.4161684583512, 155.5484260458424, 107.64679115882181, 165.04190693612668, 107.82131297436979, 102.34871140133562, 128.93760025932679, 165.8309304005707, 151.14832333274975, 144.85619063991737, 119.43794272353257, 167.71954555049467, 284.0888786445647, 216.27114345344884, 206.19907490967864, 152.6671241496024, 105.69941854499275, 96.07937682138537, 96.21172700368095, 102.5493419742826, 100.42205431625786, 124.04964794696305, 117.23708559813105, 126.27162388213212, 123.77832953660048, 137.62996835448808, 107.5008619965919, 113.75711210004667, 184.3120476520645, 129.5506379857857, 138.63217589561182, 147.7678471845682, 181.37689711701432, 214.9540662751495, 120.13983198919595, 178.11371361272975, 219.43415054832784, 173.6705169069663, 243.05101393706505, 258.82922521348365, 194.61358678950847, 94.66478478046693, 102.33610154052485, 96.76944739229616, 99.98311878512492, 94.70773863734024, 124.73115937680896, 116.6638751745571, 111.20398241123206, 117.41134182180812, 112.73556056213332, 122.30754256243435, 124.96253562938725, 147.23308894997993, 123.8759595796655, 148.39642420025214, 152.53415458871524, 156.30065493142382, 175.10776768394712, 180.81181955787838, 149.32101725329412, 233.45704705123853, 287.7295050704482, 168.95310093025847, 186.7462628611645, 110.96029172838861]\n",
      "93.60704800125066\n",
      "[24, 12, 1]\n",
      "[[24, 12, 1], [24, 12, 1], [24, 12, 1], [24, 12, 1], [24, 12, 1]]\n",
      "[93.60704800125066, 93.60704800125066, 93.60704800125066, 93.60704800125066, 93.60704800125066]\n",
      "[24, 12, 1]\n"
     ]
    }
   ],
   "source": [
    "import warnings \n",
    "warnings.filterwarnings('ignore')\n",
    "models = [[24,12,1],[24,16,1],[24,20,1], [24,24,1], [24,28,1]]\n",
    "\n",
    "bestAccuracy,bestParam = cross_validatation(np.array(d1), np.array(dt), models)"
   ]
  },
  {
   "cell_type": "code",
   "execution_count": 68,
   "metadata": {},
   "outputs": [
    {
     "name": "stdout",
     "output_type": "stream",
     "text": [
      "[143.696585424182, 109.70376593204213, 107.74416327322163, 124.99323895010656, 172.63779470117908] [[24, 12, 1], [24, 12, 1], [24, 12, 1], [24, 12, 1], [24, 12, 1], [24, 12, 1], [24, 12, 1], [24, 12, 1], [24, 12, 1], [24, 12, 1], [24, 16, 1], [24, 12, 1], [24, 12, 1], [24, 12, 1], [24, 12, 1], [24, 16, 1], [24, 12, 1], [24, 12, 1], [24, 12, 1], [24, 12, 1]]\n"
     ]
    }
   ],
   "source": [
    "print(bestAccuracy,bestParam)\n",
    "from sklearn.model_selection import train_test_split\n",
    "from sklearn.metrics import mean_squared_error\n",
    "from sklearn.metrics import r2_score\n",
    "x_train, x_test, y_train, y_test = train_test_split(np.array(d1),np.array(dt), test_size=0.25, random_state=42)"
   ]
  },
  {
   "cell_type": "code",
   "execution_count": 78,
   "metadata": {},
   "outputs": [
    {
     "data": {
      "text/plain": [
       "{'w': array([-9.58347879e-02,  1.41093281e-01, -1.97228497e-02, -1.08572733e-02,\n",
       "        -1.92307270e-04, -4.00095680e-02,  3.37424640e-02, -7.58209775e-02,\n",
       "        -1.50724554e-02,  1.62919214e-01,  9.37686790e-02, -1.01168813e-01,\n",
       "         2.78437689e-02, -1.59942600e-01, -3.61077735e-01, -3.45969934e-02,\n",
       "         1.56558945e-01, -3.02036811e-02, -3.27783657e-02,  4.77944629e-02,\n",
       "        -5.83016598e-02,  4.02813741e-02,  9.89372271e-02, -2.95737829e-01,\n",
       "        -7.07818922e-03,  9.70748668e-02, -9.55268336e-02,  1.37672904e-02,\n",
       "        -9.97088790e-02, -7.65497569e-02, -3.34581984e-02,  1.58848202e-02,\n",
       "        -7.74905497e-02, -1.67440543e-01, -2.15210997e-01, -7.40525313e-02,\n",
       "        -5.73679551e-02, -8.35547280e-02, -1.23835032e-01, -3.72238972e-03,\n",
       "         2.48406793e-01, -1.03818884e-02,  1.88156459e-01,  1.84725367e-03,\n",
       "        -7.56146664e-03,  4.60065755e-01,  1.15981224e-01,  3.47230597e-02,\n",
       "        -4.00503747e-02,  1.15276096e-01, -1.25871597e-01,  7.47722456e-02,\n",
       "         5.74039998e-02,  1.09613769e-02,  6.68430278e-02, -2.70366869e-02,\n",
       "        -7.17109406e-02, -8.20716595e-03,  1.01893380e-01, -1.45700671e-01,\n",
       "        -2.35905853e-02, -3.14470704e-02,  1.23887797e-01, -7.91598856e-02,\n",
       "        -3.57566544e-01, -7.58663037e-02, -1.09425651e-01,  6.06459377e-02,\n",
       "        -5.13774617e-02, -4.05265912e-02, -2.32843793e-01,  5.10399576e-02,\n",
       "         2.59791470e-02, -1.52033500e-01, -1.98187700e-01,  5.51855181e-02,\n",
       "        -2.03081372e-02,  9.53247568e-02,  3.26016723e-01,  1.00640305e-02,\n",
       "        -9.31671131e-02,  6.56535995e-01, -2.41708305e-02, -1.26092029e-01,\n",
       "        -5.39074758e-02,  1.09696144e-01,  5.64351582e-02, -6.12711115e-02,\n",
       "         3.84897716e-01,  8.52539610e-02,  8.67790871e-02,  1.71249006e-03,\n",
       "         8.55054888e-02,  8.91155657e-02,  2.30334695e-01,  1.74367018e-02,\n",
       "        -9.06531725e-02,  1.34955085e-01, -2.49476287e-01,  6.30292952e-02,\n",
       "        -1.22796677e-01,  5.37663834e-02, -9.45235942e-02, -1.89559507e-02,\n",
       "         4.00222784e-03, -1.76055750e-01, -2.19041055e-02, -2.06452029e-01,\n",
       "         2.32788547e-02,  7.90182120e-02,  1.13785406e-01,  3.03938607e-02,\n",
       "         4.73177537e-03, -5.17832707e-02,  3.53322885e-02, -9.96447739e-02,\n",
       "         5.31806812e-02,  2.91480577e-02, -6.34434751e-02,  2.71712223e-02,\n",
       "        -1.42861745e-02,  5.72899162e-02, -5.70172572e-02, -4.02274273e-04,\n",
       "        -2.39954251e-01, -6.73392265e-02, -2.02552657e-02, -1.33478632e-02,\n",
       "         7.53439896e-02, -1.97726392e-01, -2.08910743e-01, -1.64565262e-01,\n",
       "        -1.79418827e-02, -1.11012189e-01, -1.11908700e-01,  2.17065469e-02,\n",
       "        -4.65004883e-02, -8.35082679e-02, -1.26641840e-02,  1.26884635e-02,\n",
       "        -9.27117590e-02, -1.35296344e-01,  2.17236506e-02, -6.28816205e-02,\n",
       "         9.14362964e-02,  8.22857876e-02, -1.76617707e-01,  5.74909604e-02,\n",
       "        -2.70675820e-02, -5.28632791e-03,  7.73535117e-02,  6.66776693e-03,\n",
       "         9.64538193e-02,  1.76397486e-01,  2.77698021e-02, -1.37458300e-01,\n",
       "        -1.15712230e-02, -1.29030590e-01,  1.21953048e-01,  6.48710287e-02,\n",
       "         1.05277774e-01, -6.76008043e-02, -1.65008235e-01, -9.92491821e-03,\n",
       "        -3.24505759e-02, -3.21843730e-01,  1.38567397e-01, -3.54262489e-02,\n",
       "         3.04841720e-02,  9.72142038e-02, -1.35461949e-01, -5.77046413e-02,\n",
       "        -5.74725486e-02,  6.01636463e-02,  1.47506007e-02, -8.23895708e-02,\n",
       "         2.26512386e-02,  9.11998135e-02, -7.25466223e-02, -1.41152012e-01,\n",
       "        -2.94800630e-02,  4.62297581e-02,  3.52369511e-02, -5.84319939e-02,\n",
       "        -1.37734003e-01, -8.11720920e-02, -9.42804192e-02, -1.28295865e-01,\n",
       "         2.32221155e-02, -2.64167978e-01, -5.46274060e-02,  7.74947674e-03,\n",
       "        -1.77552868e-03, -5.83394464e-02, -1.00986495e-01, -3.19951247e-02,\n",
       "        -4.12436522e-02, -1.36916343e-02,  4.93928537e-02,  6.12669203e-03,\n",
       "        -8.65196463e-02,  1.46393301e-01, -4.63479682e-02, -2.01026241e-01,\n",
       "         5.03669060e-02, -9.36964724e-02,  2.54116299e-01,  3.37295924e-02,\n",
       "        -6.92620579e-02, -2.11307680e-02, -3.96723702e-02, -7.53867908e-02,\n",
       "         3.31483652e-02, -1.02917519e-01, -2.20667979e-02,  1.44624221e-01,\n",
       "        -6.62074764e-02,  1.78451890e-01, -8.41783581e-02, -3.12659564e-02,\n",
       "        -2.17832125e-01, -8.25981834e-02, -6.11335253e-02, -9.06844132e-03,\n",
       "         5.99816364e-02, -5.15891143e-02, -1.43077111e-01, -1.18574340e-01,\n",
       "         4.94657032e-02, -1.67578873e-02,  2.02139031e-01,  1.10484054e-02,\n",
       "        -3.83859557e-02,  9.46751410e-02, -1.33852725e-02,  6.21022808e-03,\n",
       "        -6.36087765e-02, -8.58333287e-02,  2.12227925e-02,  1.56675099e-01,\n",
       "         7.29298185e-02,  2.09719254e-01, -8.98122230e-02,  4.52396232e-02,\n",
       "         4.52647545e-04, -7.89853138e-02, -5.26350536e-03,  2.67657500e-02,\n",
       "        -3.91224919e-02,  1.00108081e-01, -8.40246099e-03, -3.34156404e-02,\n",
       "         4.92689071e-02, -1.81723778e-01, -4.80471657e-02,  9.50702437e-02,\n",
       "         3.54623371e-02,  6.44827576e-02, -1.60013875e-01, -1.28773489e-01,\n",
       "        -1.27794541e-01, -2.87625918e-01,  2.72344155e-02, -1.34668875e-01,\n",
       "         3.96630024e-02, -5.23110374e-02,  1.42407848e-02, -4.75921571e-02,\n",
       "         3.32881804e-02,  5.56185533e-02,  9.78964074e-02,  1.51038854e-02,\n",
       "         2.58161054e-02,  1.25019451e-01,  1.15020462e-02,  8.10550549e-02,\n",
       "         4.36974883e-02, -1.16325916e-02, -3.96604511e-02, -6.36089944e-02,\n",
       "        -1.87645597e-02,  2.69275657e-02,  6.61356131e-02,  4.07239393e-02,\n",
       "         6.53615263e-02, -2.33949750e-02,  4.10697394e-02,  5.01763262e-03,\n",
       "         4.46710131e-02,  1.10830325e-01, -1.01135689e-01, -6.68080036e-02,\n",
       "        -4.33686883e-03, -5.90835863e-03,  7.46964432e-02, -4.59666523e-02,\n",
       "        -6.84464523e-02,  4.33740786e-02,  2.00506066e-02,  3.01777983e-02,\n",
       "        -2.45620919e-01,  1.73422109e-02, -4.65992766e-01, -2.69477883e-01,\n",
       "        -4.33390570e-03,  4.52926245e-01,  1.42835384e-01,  3.55069913e-01,\n",
       "         9.07462970e-02, -1.81437507e-01,  5.09520657e-01,  3.92601700e-01,\n",
       "        -2.20599171e-01]),\n",
       " 'f': 0.41098319200360983,\n",
       " 'reason': 'reached limit of nIterations',\n",
       " 'wtrace': None,\n",
       " 'ftrace': None}"
      ]
     },
     "execution_count": 78,
     "metadata": {},
     "output_type": "execute_result"
    }
   ],
   "source": [
    "import warnings \n",
    "warnings.filterwarnings('ignore')\n",
    "model=NeuralNet([24,12,1])  \n",
    "model.train(x_train,y_train,niter=1000)"
   ]
  },
  {
   "cell_type": "code",
   "execution_count": 79,
   "metadata": {},
   "outputs": [],
   "source": [
    "y_p=model.use(x_test)"
   ]
  },
  {
   "cell_type": "code",
   "execution_count": 80,
   "metadata": {},
   "outputs": [
    {
     "name": "stdout",
     "output_type": "stream",
     "text": [
      "RMSE: 91.12886608093287\n"
     ]
    }
   ],
   "source": [
    "print('RMSE:', np.sqrt(mean_squared_error(y_test, y_p)))"
   ]
  },
  {
   "cell_type": "markdown",
   "metadata": {},
   "source": [
    "<b>Tanh:</b><br>\n",
    "RMSE: 91.03197592423614<br>\n",
    "<b>Sigmoid:</b><br>\n",
    "RMSE: 91.00218282373179<br>\n",
    "<b>Relu:</b><br> \n",
    "RMSE: 91.12886608093287 <br>"
   ]
  }
 ],
 "metadata": {
  "kernelspec": {
   "display_name": "Python [conda env:root]",
   "language": "python",
   "name": "conda-root-py"
  },
  "language_info": {
   "codemirror_mode": {
    "name": "ipython",
    "version": 3
   },
   "file_extension": ".py",
   "mimetype": "text/x-python",
   "name": "python",
   "nbconvert_exporter": "python",
   "pygments_lexer": "ipython3",
   "version": "3.7.3"
  }
 },
 "nbformat": 4,
 "nbformat_minor": 2
}
